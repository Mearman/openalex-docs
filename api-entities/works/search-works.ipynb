{
  "cells": [
    {
      "cell_type": "markdown",
      "metadata": {},
      "source": [
        "[![Open All Collab](https://colab.research.google.com/assets/colab-badge.svg)](https://colab.research.google.com/github/Mearman/openalex-docs/blob/main/api-entities/works/search-works.ipynb)\n",
        "\n"
      ]
    },
    {
      "cell_type": "code",
      "metadata": {},
      "source": [
        "%pip install --upgrade \"git+https://github.com/Mearman/openalex-python.git\"\n",
        "\n"
      ],
      "outputs": []
    },
    {
      "cell_type": "code",
      "metadata": {},
      "source": [
        "import json\n",
        "from openalex_api import Configuration, ApiClient,AuthorsApi, ConceptsApi, FundersApi, InstitutionsApi, PublishersApi, SourcesApi, WorksApi\n",
        "\n",
        "configuration = Configuration(host=\"https://api.openalex.org\")\n",
        "authors_api = AuthorsApi(ApiClient(configuration))\n",
        "concepts_api = ConceptsApi(ApiClient(configuration))\n",
        "funders_api = FundersApi(ApiClient(configuration))\n",
        "institutions_api = InstitutionsApi(ApiClient(configuration))\n",
        "publishers_api = PublishersApi(ApiClient(configuration))\n",
        "sources_api = SourcesApi(ApiClient(configuration))\n",
        "works_api = WorksApi(ApiClient(configuration))\n",
        "\n"
      ],
      "outputs": []
    },
    {
      "cell_type": "markdown",
      "metadata": {},
      "source": [
        "\n",
        "# Search works\n",
        "\n",
        "The best way to search for works is to use the `search` query parameter, which searches across [titles](work-object/#title), [abstracts](work-object/#abstract\\_inverted\\_index), and [fulltext](work-object/README.md#has_fulltext). Example:\n",
        "\n",
        "* Get works with search term \"dna\" in the title, abstract, or fulltext:\\\n",
        "  [`https://api.openalex.org/works?search=dna`](https://api.openalex.org/works?search=dna)\n",
        "\n"
      ]
    },
    {
      "cell_type": "code",
      "metadata": {},
      "source": [
        "response = works_api.get_works(\n",
        "\tsearch=\"dna\"\n",
        ")\n",
        "\n",
        "print(json.dumps(response.to_dict(), indent=2))\n",
        "\n"
      ],
      "outputs": []
    },
    {
      "cell_type": "markdown",
      "metadata": {},
      "source": [
        "\n",
        "\n",
        "Fulltext search is available for a subset of works, see [`Work.has_fulltext`](./work-object/README.md#has_fulltext) for more details.\n",
        "\n",
        "{% hint style=\"info\" %}\n",
        "You can read more about search [here](../../how-to-use-the-api/get-lists-of-entities/search-entities.md). It will show you how relevance score is calculated, how words are stemmed to improve search results, and how to do complex boolean searches.\n",
        "{% endhint %}\n",
        "\n",
        "\n"
      ]
    },
    {
      "cell_type": "code",
      "metadata": {},
      "source": [
        "response = works_api.get_works(\n",
        "\tfilter=\"title.search:cubist\"\n",
        ")\n",
        "\n",
        "print(json.dumps(response.to_dict(), indent=2))\n",
        "\n"
      ],
      "outputs": []
    },
    {
      "cell_type": "markdown",
      "metadata": {},
      "source": [
        "\n",
        "## Search a specific field\n",
        "\n",
        "You can use search as a [filter](../../how-to-use-the-api/get-lists-of-entities/filter-entity-lists.md), allowing you to fine-tune the fields you're searching over. To do this, you append `.search` to the end of the property you are filtering for:\n",
        "\n",
        "* Get works with \"cubist\" in the title:\\\n",
        "  [`https://api.openalex.org/works?filter=title.search:cubist`](https://api.openalex.org/works?filter=title.search:cubist)\n",
        "\n",
        "The following fields can be searched within works:\n",
        "\n",
        "| Search filter                                                                        | Field that is searched                                                  |\n",
        "| ------------------------------------------------------------------------------------ | ----------------------------------------------------------------------- |\n",
        "| [`abstract.search`](filter-works.md#abstract.search)                                 | [`abstract_inverted_index`](work-object/#abstract\\_inverted\\_index)     |\n",
        "| [`display_name.search`](filter-works.md#display\\_name.search-alias-title.search)     | [`display_name`](work-object/#display\\_name)                            |\n",
        "| [`fulltext.search`](filter-works.md#fulltext.search)                                 | fulltext via [`n-grams`](get-n-grams.md)                                |\n",
        "| [`title.search`](filter-works.md#display\\_name.search-alias-title.search)            | [`display_name`](work-object/#display\\_name)                            |\n",
        "| [`title_and_abstract.search`](filter-works.md#title_and_abstractsearch)            | [`display_name`](work-object/#display\\_name) and [`abstract_inverted_index`](work-object/#abstract\\_inverted\\_index)  |\n",
        "\n",
        "You can also use the filter `default.search`, which works the same as using the [`search` parameter](#search-works).\n",
        "\n",
        "### Why can't I search by name of related entity (author name, institution name, etc.)?\n",
        "\n"
      ]
    },
    {
      "cell_type": "code",
      "metadata": {},
      "source": [
        "response = works_api.get_works(\n",
        "\tfilter=\"title.search:cubist\"\n",
        ")\n",
        "\n",
        "print(json.dumps(response.to_dict(), indent=2))\n",
        "\n"
      ],
      "outputs": []
    },
    {
      "cell_type": "markdown",
      "metadata": {},
      "source": [
        "\n",
        "\n",
        "Rather than searching for the _names_ of entities related to works—such as authors, institutions, and sources—you need to search by a more unique identifier for that entity, like the OpenAlex ID. This means that there is a 2 step process:\n",
        "\n",
        "1. Find the ID of the related entity. For example, if you're interested in works associated with NYU, you could search the `/institutions` endpoint for that name: [`https://api.openalex.org/institutions?search=nyu`](https://api.openalex.org/institutions?search=nyu). Looking at the first result, you'll see that the OpenAlex ID for NYU is `I57206974`.\n",
        "2. Use a [filter ](filter-works.md)with the `/works` endpoint to get all of the works: [`https://api.openalex.org/works?filter=institutions.id:I57206974`](https://api.openalex.org/works?filter=institutions.id:I57206974).\n",
        "\n",
        "Why can't you do this in just one step? Well, if you use the search term, \"NYU,\" you might end up missing the ones that use the full name \"New York University,\" rather than the initials. Sure, you could try to think of all possible variants and search for all of them, but you might miss some, and you risk putting in search terms that let in works that you're not interested in. Figuring out which works are actually associated with the \"NYU\" you're interested shouldn't be your responsibility—that's our job! We've done that work for you, so all the relevant works should be associated with one unique ID.\n",
        "\n",
        "## Autocomplete works\n",
        "\n",
        "You can autocomplete works to create a very fast type-ahead style search function:\n",
        "\n",
        "* Autocomplete works with \"tigers\" in the title:\\\n",
        "  [`https://api.openalex.org/autocomplete/works?q=tigers`](https://api.openalex.org/autocomplete/works?q=tigers)\n",
        "\n",
        "This returns a list of works titles with the author of each work set as the hint:\n",
        "\n",
        "<pre class=\"language-json\"><code class=\"lang-json\">{ \n",
        "  \"results\": [\n",
        "    {\n",
        "      \"id\": \"https://openalex.org/W2125098916\",\n",
        "      \"display_name\": \"Crouching tigers, hidden prey: Sumatran tiger and prey populations in a tropical forest landscape\",\n",
        "      \"hint\": \"Timothy G. O'Brien, Margaret F. Kinnaird, Hariyo T. Wibisono\",\n",
        "      \"cited_by_count\": 620,\n",
        "      \"works_count\": null,\n",
        "\n"
      ]
    },
    {
      "cell_type": "code",
      "metadata": {},
      "source": [
        "response = institutions_api.get_institutions(\n",
        "\tsearch=\"nyu\"\n",
        ")\n",
        "\n",
        "print(json.dumps(response.to_dict(), indent=2))\n",
        "\n"
      ],
      "outputs": []
    },
    {
      "cell_type": "markdown",
      "metadata": {},
      "source": [
        "\n",
        "      \"entity_type\": \"work\",\n",
        "\n"
      ]
    },
    {
      "cell_type": "code",
      "metadata": {},
      "source": [
        "response = works_api.get_works(\n",
        "\tfilter=\"institutions.id:I57206974\"\n",
        ")\n",
        "\n",
        "print(json.dumps(response.to_dict(), indent=2))\n",
        "\n"
      ],
      "outputs": []
    },
    {
      "cell_type": "markdown",
      "metadata": {},
      "source": [
        "\n",
        "      \"external_id\": \"https://doi.org/10.1017/s1367943003003172\"\n",
        "    },\n",
        "    ...\n",
        "<strong>  ]\n",
        "</strong><strong>}\n",
        "</strong></code></pre>\n",
        "\n",
        "{% hint style=\"info\" %}\n",
        "Read more about [autocomplete](../../how-to-use-the-api/get-lists-of-entities/autocomplete-entities.md).\n",
        "\n"
      ]
    },
    {
      "cell_type": "code",
      "metadata": {},
      "source": [
        "response = autocomplete_api.get_autocomplet(\n",
        "\tq=\"tigers\",\n",
        "\tid=\"works\"\n",
        ")\n",
        "\n",
        "print(json.dumps(response.to_dict(), indent=2))\n",
        "\n"
      ],
      "outputs": []
    },
    {
      "cell_type": "markdown",
      "metadata": {},
      "source": [
        "\n",
        "{% endhint %}\n"
      ]
    }
  ],
  "metadata": {
    "kernelspec": {
      "display_name": "Python 3",
      "language": "python",
      "name": "python3"
    },
    "language_info": {
      "codemirror_mode": {
        "name": "ipython",
        "version": 3
      },
      "file_extension": ".py",
      "mimetype": "text/x-python",
      "name": "python",
      "pygments_lexer": "ipython3",
      "version": "3.8.5"
    }
  },
  "nbformat": 4,
  "nbformat_minor": 4
}