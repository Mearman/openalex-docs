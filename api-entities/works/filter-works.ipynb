{
  "cells": [
    {
      "cell_type": "markdown",
      "metadata": {},
      "source": [
        "[![Open All Collab](https://colab.research.google.com/assets/colab-badge.svg)](https://colab.research.google.com/github/Mearman/openalex-docs/blob/main/api-entities/works/filter-works.ipynb)"
      ]
    },
    {
      "cell_type": "code",
      "metadata": {},
      "source": [
        "%pip install --upgrade \"git+https://github.com/Mearman/openalex-python.git\""
      ],
      "outputs": [],
      "execution_count": null
    },
    {
      "cell_type": "code",
      "metadata": {},
      "source": [
        "import json",
        "from openalex_api import Configuration, ApiClient,AuthorsApi, ConceptsApi, FundersApi, InstitutionsApi, PublishersApi, SourcesApi, WorksApi",
        "",
        "configuration = Configuration(host=\"https://api.openalex.org\")",
        "authors_api = AuthorsApi(ApiClient(configuration))",
        "concepts_api = ConceptsApi(ApiClient(configuration))",
        "funders_api = FundersApi(ApiClient(configuration))",
        "institutions_api = InstitutionsApi(ApiClient(configuration))",
        "publishers_api = PublishersApi(ApiClient(configuration))",
        "sources_api = SourcesApi(ApiClient(configuration))",
        "works_api = WorksApi(ApiClient(configuration))"
      ],
      "outputs": [],
      "execution_count": null
    },
    {
      "cell_type": "markdown",
      "metadata": {},
      "source": [
        "# Filter works",
        "",
        "It's easy to filter works with the `filter` parameter:",
        "",
        "* Get works where the publication year is 2020\\",
        "  [`https://api.openalex.org/works?filter=publication\\_year:2020`](https://api.openalex.org/works?filter=publication\\_year:2020)"
      ]
    },
    {
      "cell_type": "code",
      "metadata": {},
      "source": [
        "response = works_api.get_works(",
        "\tfilter=\"publication_year:2020\"",
        ")",
        "",
        "print(json.dumps(response.to_dict(), indent=2))"
      ],
      "outputs": [],
      "execution_count": null
    },
    {
      "cell_type": "markdown",
      "metadata": {},
      "source": [
        "In this example the filter is `publication_year` and the value is 2020.",
        "",
        "{% hint style=\"info\" %}",
        "It's best to [read about filters](./../../how-to-use-the-api/get-lists-of-entities/filter-entity-lists.ipynb) before trying these out. It will show you how to combine filters and build an AND, OR, or negation query.",
        "{% endhint %}"
      ]
    },
    {
      "cell_type": "code",
      "metadata": {},
      "source": [
        "response = works_api.get_works(",
        "\tfilter=\"abstract.search:artificial intelligence\"",
        ")",
        "",
        "print(json.dumps(response.to_dict(), indent=2))"
      ],
      "outputs": [],
      "execution_count": null
    },
    {
      "cell_type": "markdown",
      "metadata": {},
      "source": [
        "## `/works` attribute filters",
        "",
        "You can filter using these attributes of the [`Work`](./work-object/README.ipynb) object (click each one to view their documentation on the `Work` object page):",
        "",
        "{% hint style=\"danger\" %}",
        "The `host_venue` and `alternate_host_venues` properties have been deprecated in favor of [`primary_location`](./work-object/README.md#primary\\_location) and [`locations`](./work-object/README.md#locations). The attributes `host_venue` and `alternate_host_venues` are no longer available in the Work object, and trying to access them in filters or group-bys will return an error.",
        "{% endhint %}",
        "",
        "* [`authorships.author.id`](./work-object/authorship-object.md#author) (alias: `author.id`) — Authors for a work (OpenAlex ID)",
        "* [`authorships.author.orcid`](./work-object/authorship-object.md#author) (alias: `author.orcid`) — Authors for a work (ORCID)",
        "* [`authorships.countries`](./work-object/authorship-object.md#countries)",
        "* [`authorships.institutions.country_code`](./work-object/authorship-object.md#institutions) (alias: `institutions.country_code`)",
        "* [`authorships.institutions.id`](./work-object/authorship-object.md#institutions) (alias: `institutions.id`) — Institutions affiliated with the authors of a work (OpenAlex ID)",
        "* [`authorships.institutions.lineage`](./work-object/authorship-object.md#institutions)",
        "* [`authorships.institutions.ror`](./work-object/authorship-object.md#institutions) (alias: `institutions.ror`) — Institutions affiliated with the authors of a work (ROR ID)",
        "* [`authorships.institutions.type`](./work-object/authorship-object.md#institutions)",
        "* [`authorships.is_corresponding`](./work-object/authorship-object.md#is\\_corresponding) (alias: `is_corresponding`) — This filter marks whether or not we have corresponding author information for a given work",
        "* [`apc_list.value`](./work-object/README.md#apc\\_list)",
        "* [`apc_list.currency`](./work-object/README.md#apc\\_list)",
        "* [`apc_list.provenance`](./work-object/README.md#apc\\_list)",
        "* [`apc_list.value_usd`](./work-object/README.md#apc\\_list)",
        "* [`apc_paid.value`](./work-object/README.md#apc\\_paid)",
        "* [`apc_paid.currency`](./work-object/README.md#apc\\_paid)",
        "* [`apc_paid.provenance`](./work-object/README.md#apc\\_paid)",
        "* [`apc_paid.value_usd`](./work-object/README.md#apc\\_paid)",
        "* [`best_oa_location.is_accepted`](./work-object/README.md#best\\_oa\\_location)",
        "* [`best_oa_location.is_published`](./work-object/README.md#best\\_oa\\_location)",
        "* [`best_oa_location.license`](./work-object/README.md#best\\_oa\\_location) — The Open Acess license for a work",
        "* [`best_oa_location.source.id`](./work-object/README.md#best\\_oa\\_location)",
        "* [`best_oa_location.source.is_in_doaj`](./work-object/README.md#best\\_oa\\_location)",
        "* [`best_oa_location.source.issn`](./work-object/README.md#best\\_oa\\_location)",
        "* [`best_oa_location.source.host_organization`](./work-object/README.md#best\\_oa\\_location)",
        "* [`best_oa_location.source.type`](./work-object/README.md#best\\_oa\\_location)",
        "* [`best_oa_location.version`](./work-object/README.md#best\\_oa\\_location)",
        "* [`cited_by_count`](./work-object/README.md#cited\\_by\\_count)",
        "* [`concepts.id`](./work-object/README.md#concepts) (alias: `concept.id`) — The concepts associated with a work",
        "* [`concepts.wikidata`](./work-object/README.md#concepts)",
        "* [`corresponding_author_ids`](./work-object/README.md#corresponding\\_author\\_ids) — Corresponding authors for a work (OpenAlex ID)",
        "* [`corresponding_institution_ids`](./work-object/README.md#corresponding\\_institution\\_ids)",
        "* [`countries_distinct_count`](./work-object/README.md#countries\\_distinct\\_count)",
        "* [`doi`](./work-object/README.md#doi) — The DOI (Digital Object Identifier) of a work",
        "* [`fulltext_origin`](./work-object/README.md#fulltext\\_origin)",
        "* [`grants.award_id`](./work-object/README.md#grants) — Award IDs for grants",
        "* [`grants.funder`](./work-object/README.md#grants) — Funding organizations linked to grants for a work",
        "* [`has_fulltext`](./work-object/README.md#has\\_fulltext)",
        "* [`ids.pmcid`](./work-object/README.md#ids)",
        "* [`ids.pmid`](./work-object/README.md#ids) (alias: `pmid`)",
        "* [`ids.openalex`](./work-object/README.md#ids) (alias: `openalex`) — The OpenAlex ID for a work",
        "* [`ids.mag`](./work-object/README.md#ids) (alias: `mag`)",
        "* [`institutions_distinct_count`](./work-object/README.md#institutions\\_distinct\\_count)",
        "* [`is_paratext`](./work-object/README.md#is\\_paratext)",
        "* [`is_retracted`](./work-object/README.md#is\\_retracted)",
        "* [`keywords.keyword`](./work-object/README.md#keywords)",
        "* [`language`](./work-object/README.md#language)",
        "* [`locations.is_accepted`](./work-object/README.md#locations)",
        "* [`locations.is_oa`](./work-object/README.md#locations)",
        "* [`locations.is_published`](./work-object/README.md#locations)",
        "* [`locations.license`](./work-object/README.md#locations)",
        "* [`locations.source.id`](./work-object/README.md#locations)",
        "* [`locations.source.is_in_doaj`](./work-object/README.md#locations)",
        "* [`locations.source.issn`](./work-object/README.md#locations)",
        "* [`locations.source.host_organization`](./work-object/README.md#locations)",
        "* [`locations.source.type`](./work-object/README.md#locations)",
        "* [`locations.version`](./work-object/README.md#locations)",
        "* [`locations_count`](./work-object/README.md#locations\\_count)",
        "* [`open_access.any_repository_has_fulltext`](./work-object/README.md#open\\_access)",
        "* [`open_access.is_oa`](./work-object/README.md#open\\_access) (alias: `is_oa`) — Whether a work is Open Access",
        "* [`open_access.oa_status`](./work-object/README.md#open\\_access) (alias: `oa_status`) — The Open Access status for a work (e.g., gold, green, hybrid, etc.)",
        "* [`primary_location.is_accepted`](./work-object/README.md#primary\\_location)",
        "* [`primary_location.is_oa`](./work-object/README.md#primary\\_location)",
        "* [`primary_location.is_published`](./work-object/README.md#primary\\_location)",
        "* [`primary_location.license`](./work-object/README.md#primary\\_location)",
        "* [`primary_location.source.id`](./work-object/README.md#primary\\_location)",
        "* [`primary_location.source.is_in_doaj`](./work-object/README.md#primary\\_location)",
        "* [`primary_location.source.issn`](./work-object/README.md#primary\\_location)",
        "* [`primary_location.source.host_organization`](./work-object/README.md#primary\\_location)",
        "* [`primary_location.source.type`](./work-object/README.md#primary\\_location)",
        "* [`primary_location.version`](./work-object/README.md#primary\\_location)",
        "* [`publication_year`](./work-object/README.md#publication\\_year)",
        "* [`publication_date`](./work-object/README.md#publication\\_date)",
        "* [`sustainable_development_goals.id`](./work-object/README.md#sustainable\\_development\\_goals)",
        "* [`type`](./work-object/README.md#type)",
        "* [`type_crossref`](./work-object/README.md#type\\_crossref)",
        "",
        "{% hint style=\"info\" %}",
        "Want to filter by the `display_name` of an associated entity (author, institution, source, etc.)? [See here.](./search-works.md#why-cant-i-search-by-name-of-related-entity-author-name-institution-name-etc.)",
        "{% endhint %}",
        "",
        "## `/works` convenience filters",
        "",
        "These filters aren't attributes of the [`Work`](./work-object/README.ipynb) object, but they're handy for solving some common use cases:",
        "",
        "#### `abstract.search`",
        "",
        "Text search using abstracts",
        "",
        "Value: a search string",
        "",
        "Returns: works whose abstract includes the given string. See the [search page](./../../how-to-use-the-api/get-lists-of-entities/search-entities.ipynb) for details on the search algorithm used.",
        "",
        "* Get works with abstracts that mention \"artificial intelligence\": [`https://api.openalex.org/works?filter=abstract.search:artificial%20intelligence`](https://api.openalex.org/works?filter=abstract.search:artificial%20intelligence)",
        "",
        "#### `authors_count`",
        "",
        "Number of authors for a work",
        "",
        "Value: an Integer",
        "",
        "Returns: works with the chosen number of [`authorships`](./work-object/README.md#authorships) objects (authors). You can use the inequality filter to select a range, such as `authors_count:>5`_._",
        "",
        "* Get works that have exactly one author\\",
        "  [`https://api.openalex.org/works?filter=authors\\_count:1`](https://api.openalex.org/works?filter=authors\\_count:1)"
      ]
    },
    {
      "cell_type": "code",
      "metadata": {},
      "source": [
        "response = works_api.get_works(",
        "\tfilter=\"authors_count:1\"",
        ")",
        "",
        "print(json.dumps(response.to_dict(), indent=2))"
      ],
      "outputs": [],
      "execution_count": null
    },
    {
      "cell_type": "markdown",
      "metadata": {},
      "source": [
        "#### `authorships.institutions.continent` (alias: `institutions.continent`)",
        "",
        "Value: a String with a valid [continent filter](./../geo/continents.md#filter-by-continent)",
        "",
        "Returns: works where at least _one_ of the author's institutions is in the chosen continent.",
        "",
        "* Get works where at least one author's institution in each work is located in Europe\\",
        "  [`https://api.openalex.org/works?filter=authorships.institutions.continent:europe`](https://api.openalex.org/works?filter=authorships.institutions.continent:europe)"
      ]
    },
    {
      "cell_type": "code",
      "metadata": {},
      "source": [
        "response = works_api.get_works(",
        "\tfilter=\"authorships.institutions.continent:europe\"",
        ")",
        "",
        "print(json.dumps(response.to_dict(), indent=2))"
      ],
      "outputs": [],
      "execution_count": null
    },
    {
      "cell_type": "markdown",
      "metadata": {},
      "source": [
        "#### `authorships.institutions.is_global_south` (alias: `institutions.is_global_south`)",
        "",
        "Value: a Boolean (`true` or `false`)",
        "",
        "Returns: works where at least _one_ of the author's institutions is in the Global South ([read more](./../geo/regions.md#global-south)).",
        "",
        "* Get works where at least one author's institution is in the Global South\\",
        "  [`https://api.openalex.org/works?filter=authorships.institutions.is\\_global\\_south:true`](https://api.openalex.org/works?filter=authorships.institutions.is\\_global\\_south:true)"
      ]
    },
    {
      "cell_type": "code",
      "metadata": {},
      "source": [
        "response = works_api.get_works(",
        "\tfilter=\"authorships.institutions.is_global_south:true\"",
        ")",
        "",
        "print(json.dumps(response.to_dict(), indent=2))"
      ],
      "outputs": [],
      "execution_count": null
    },
    {
      "cell_type": "markdown",
      "metadata": {},
      "source": [
        "#### `best_open_version`",
        "",
        "Value: a String with one of the following values:",
        "",
        "* **`any`**: This means that `best_oa_location.version` = `submittedVersion`, `acceptedVersion`, or `publishedVersion`",
        "* **`acceptedOrPublished`**: This means that `best_oa_location.version` can be `acceptedVersion` or `publishedVersion`",
        "* **`published`**: This means that `best_oa_location.version` = `publishedVersion`",
        "",
        "Returns: works that meet the above criteria for [`best_oa_location`](./work-object/README.md#best\\_oa\\_location).",
        "",
        "* Get works whose `best_oa_location` is a submitted, accepted, or published version: [`https://api.openalex.org/works?filter=best_open_version:any`](https://api.openalex.org/works?filter=best\\_open\\_version:any)\\`\\`"
      ]
    },
    {
      "cell_type": "code",
      "metadata": {},
      "source": [
        "response = works_api.get_works(",
        "\tfilter=\"best_open_version:any\"",
        ")",
        "",
        "print(json.dumps(response.to_dict(), indent=2))"
      ],
      "outputs": [],
      "execution_count": null
    },
    {
      "cell_type": "markdown",
      "metadata": {},
      "source": [
        "#### `cited_by`",
        "",
        "Value: the [OpenAlex ID](./../../how-to-use-the-api/get-single-entities/README.md#the-openalex-id) for a given work",
        "",
        "Returns: works found in the given work's [`referenced_works`](./work-object/README.md#referenced\\_works) section. You can think of this as **outgoing citations**.",
        "",
        "* Get works cited by [`https://openalex.org/W2766808518`](https://openalex.org/W2766808518):\\",
        "  [`https://api.openalex.org/works?filter=cited_by:W2766808518`](https://api.openalex.org/works?filter=cited\\_by:W2766808518)"
      ]
    },
    {
      "cell_type": "code",
      "metadata": {},
      "source": [
        "response = works_api.get_works(",
        "\tfilter=\"cited_by:W2766808518\"",
        ")",
        "",
        "print(json.dumps(response.to_dict(), indent=2))"
      ],
      "outputs": [],
      "execution_count": null
    },
    {
      "cell_type": "markdown",
      "metadata": {},
      "source": [
        "#### `cites`",
        "",
        "Value: the [OpenAlex ID](./../../how-to-use-the-api/get-single-entities/README.md#the-openalex-id) for a given work",
        "",
        "Returns: works that cite the given work. This is works that have the given OpenAlex ID in the [`referenced_works`](./work-object/README.md#referenced\\_works) section. You can think of this as **incoming citations**.",
        "",
        "* Get works that cite [`https://openalex.org/W2741809807`](https://openalex.org/W2741809807): [`https://api.openalex.org/works?filter=cites:W2741809807`](https://api.openalex.org/works?filter=cites:W2741809807)\\`\\`"
      ]
    },
    {
      "cell_type": "code",
      "metadata": {},
      "source": [
        "response = works_api.get_works(",
        "\tfilter=\"cites:W2741809807\"",
        ")",
        "",
        "print(json.dumps(response.to_dict(), indent=2))"
      ],
      "outputs": [],
      "execution_count": null
    },
    {
      "cell_type": "markdown",
      "metadata": {},
      "source": [
        "{% hint style=\"info\" %}",
        "The number of results returned by this filter may be slightly higher than the work's[`cited_by_count`](./work-object/README.md#cited\\_by\\_count)due to a timing lag in updating that field.",
        "{% endhint %}",
        "",
        "#### `concepts_count`",
        "",
        "Value: an Integer",
        "",
        "Returns: works with the chosen number of [`concepts`](./work-object/README.md#concepts).",
        "",
        "* Get works with at least three concepts assigned\\",
        "  [`https://api.openalex.org/works?filter=concepts\\_count:>2`](https://api.openalex.org/works?filter=concepts\\_count:%3E2)"
      ]
    },
    {
      "cell_type": "code",
      "metadata": {},
      "source": [
        "response = works_api.get_works(",
        "\tfilter=\"concepts_count:>2\"",
        ")",
        "",
        "print(json.dumps(response.to_dict(), indent=2))"
      ],
      "outputs": [],
      "execution_count": null
    },
    {
      "cell_type": "code",
      "metadata": {},
      "source": [
        "response = works_api.get_works(",
        "\tfilter=\"concepts_count:>2\"",
        ")",
        "",
        "print(json.dumps(response.to_dict(), indent=2))"
      ],
      "outputs": [],
      "execution_count": null
    },
    {
      "cell_type": "markdown",
      "metadata": {},
      "source": [
        "#### `default.search`",
        "",
        "Text search across titles, abstracts, and full text of works",
        "",
        "Value: a search string",
        "",
        "This works the same as using the [`search` parameter](./search-works.md#search-works) for Works.",
        "",
        "#### `display_name.search` (alias: `title.search`)",
        "",
        "Text search across titles for works",
        "",
        "Value: a search string",
        "",
        "Returns: works whose[`display_name`](./work-object/README.md#display\\_name) (title) includes the given string; see the [search page](./../../how-to-use-the-api/get-lists-of-entities/search-entities.ipynb) for details.",
        "",
        "* Get works with titles that mention the word \"wombat\":\\",
        "  [`https://api.openalex.org/works?filter=title.search:wombat`](https://api.openalex.org/works?filter=title.search:wombat)"
      ]
    },
    {
      "cell_type": "code",
      "metadata": {},
      "source": [
        "response = works_api.get_works(",
        "\tfilter=\"title.search:wombat\"",
        ")",
        "",
        "print(json.dumps(response.to_dict(), indent=2))"
      ],
      "outputs": [],
      "execution_count": null
    },
    {
      "cell_type": "markdown",
      "metadata": {},
      "source": [
        "{% hint style=\"info\" %}",
        "For most cases, you should use the [`search`](./search-works.md#works-full-search) parameter instead of this filter, because it uses a better search algorithm and searches over abstracts as well as titles.",
        "{% endhint %}",
        "",
        "#### `from_created_date`",
        "",
        "Value: a date, formatted as `yyyy-mm-dd`",
        "",
        "Returns: works with [`created_date`](./work-object/README.md#created\\_date) greater than or equal to the given date.",
        "",
        "This field requires an [OpenAlex Premium subscription to access. Click here to learn more.](https://openalex.org/pricing)",
        "",
        "* Get works created on or _after_ January 12th, 2023 (does not work without valid API key):\\",
        "  [`https://api.openalex.org/works?filter=from_created_date:2023-01-12&api_key=myapikey`](https://api.openalex.org/works?filter=from\\_created\\_date:2023-01-12\\&api\\_key=myapikey)\\`\\`"
      ]
    },
    {
      "cell_type": "code",
      "metadata": {},
      "source": [
        "response = works_api.get_works(",
        "\tfilter=\"from_created_date:2023-01-12\",",
        "\tapi_key=\"myapikey\"",
        ")",
        "",
        "print(json.dumps(response.to_dict(), indent=2))"
      ],
      "outputs": [],
      "execution_count": null
    },
    {
      "cell_type": "markdown",
      "metadata": {},
      "source": [
        "#### `from_publication_date`",
        "",
        "Value: a date, formatted as `yyyy-mm-dd`",
        "",
        "Returns: works with [`publication_date`](./work-object/README.md#publication\\_date) greater than or equal to the given date.",
        "",
        "* Get works published on or _after_ March 14th, 2001:\\",
        "  [`https://api.openalex.org/works?filter=from_publication_date:2001-03-14`](https://api.openalex.org/works?filter=from\\_publication\\_date:2001-03-14)"
      ]
    },
    {
      "cell_type": "code",
      "metadata": {},
      "source": [
        "response = works_api.get_works(",
        "\tfilter=\"from_publication_date:2001-03-14\"",
        ")",
        "",
        "print(json.dumps(response.to_dict(), indent=2))"
      ],
      "outputs": [],
      "execution_count": null
    },
    {
      "cell_type": "markdown",
      "metadata": {},
      "source": [
        "{% hint style=\"info\" %}",
        "Filtering by publication date is not a reliable way to retrieve recently updated and created works, due to the way publishers assign publication dates. Use `from_created_date` or `from_updated_date` to get the latest changes in OpenAlex.",
        "{% endhint %}",
        "",
        "#### `from_updated_date`",
        "",
        "Value: a date, formatted as an [ISO 8601](https://en.wikipedia.org/wiki/ISO\\_8601) date or date-time string (for example: \"2020-05-17\", \"2020-05-17T15:30\", or \"2020-01-02T00:22:35.180390\").",
        "",
        "Returns: works with [`updated_date`](./work-object/README.md#updated\\_date) greater than or equal to the given date.",
        "",
        "This field requires an [OpenAlex Premium subscription to access. Click here to learn more.](https://openalex.org/pricing)",
        "",
        "* Get works updated on or _after_ January 12th, 2023 (does not work without valid API key):\\",
        "  [`https://api.openalex.org/works?filter=from_updated_date:2023-01-12&api_key=myapikey`](https://api.openalex.org/works?filter=from\\_updated\\_date:2023-01-12\\&api\\_key=myapikey)"
      ]
    },
    {
      "cell_type": "code",
      "metadata": {},
      "source": [
        "response = works_api.get_works(",
        "\tfilter=\"from_updated_date:2023-01-12\",",
        "\tapi_key=\"myapikey\"",
        ")",
        "",
        "print(json.dumps(response.to_dict(), indent=2))"
      ],
      "outputs": [],
      "execution_count": null
    },
    {
      "cell_type": "markdown",
      "metadata": {},
      "source": [
        "{% hint style=\"info\" %}",
        "Learn more about using this filter to get the freshest data possible with our [Premium How-To](https://github.com/ourresearch/openalex-api-tutorials/blob/main/notebooks/getting-started/premium.ipynb).",
        "{% endhint %}",
        "",
        "#### **`fulltext.search`**",
        "",
        "Value: a search string",
        "",
        "Returns: works whose fulltext includes the given string. Fulltext search is available for a subset of works, obtained either from PDFs or [n-grams](./get-n-grams.ipynb), see [`Work.has_fulltext`](./work-object/README.md#has\\_fulltext) for more details.",
        "",
        "* Get works with fulltext that mention \"climate change\": [`https://api.openalex.org/works?filter=fulltext.search:climate%20change`](https://api.openalex.org/works?filter=fulltext.search:climate%20change)"
      ]
    },
    {
      "cell_type": "code",
      "metadata": {},
      "source": [
        "response = works_api.get_works(",
        "\tfilter=\"fulltext.search:climate change\"",
        ")",
        "",
        "print(json.dumps(response.to_dict(), indent=2))"
      ],
      "outputs": [],
      "execution_count": null
    },
    {
      "cell_type": "markdown",
      "metadata": {},
      "source": [
        "{% hint style=\"info\" %}",
        "We combined some n-grams before storing them in our search database, so querying for an exact phrase using quotes does not always work well.",
        "{% endhint %}",
        "",
        "#### `has_abstract`",
        "",
        "Works that have an abstract available",
        "",
        "Value: a Boolean (`true` or `false`)",
        "",
        "Returns: works that have or lack an abstract, depending on the given value.",
        "",
        "* Get the works that have abstracts:\\",
        "  [`https://api.openalex.org/works?filter=has_abstract:true`](https://api.openalex.org/works?filter=has\\_abstract:true)"
      ]
    },
    {
      "cell_type": "code",
      "metadata": {},
      "source": [
        "response = works_api.get_works(",
        "\tfilter=\"has_abstract:true\"",
        ")",
        "",
        "print(json.dumps(response.to_dict(), indent=2))"
      ],
      "outputs": [],
      "execution_count": null
    },
    {
      "cell_type": "markdown",
      "metadata": {},
      "source": [
        "#### `has_doi`",
        "",
        "Value: a Boolean (`true` or `false`)",
        "",
        "Returns: works that have or lack a DOI, depending on the given value. It's especially useful for [grouping](./group-works.ipynb).",
        "",
        "* Get the works that have no DOI assigned:\\",
        "  [`https://api.openalex.org/works?filter=has_doi:false`](https://api.openalex.org/works?filter=has\\_doi:false) \\`\\`"
      ]
    },
    {
      "cell_type": "code",
      "metadata": {},
      "source": [
        "response = works_api.get_works(",
        "\tfilter=\"has_doi:false\"",
        ")",
        "",
        "print(json.dumps(response.to_dict(), indent=2))"
      ],
      "outputs": [],
      "execution_count": null
    },
    {
      "cell_type": "markdown",
      "metadata": {},
      "source": [
        "#### `has_oa_accepted_or_published_version`",
        "",
        "Value: a Boolean (`true` or `false`)",
        "",
        "Returns: works with at least one of the [`locations`](./work-object/README.md#locations) has [`is_oa`](./work-object/location-object.md#is\\_oa)= true and [`version`](./work-object/README.md#version) is acceptedVersion or publishedVersion. For Works that undergo peer review, like journal articles, this means there is a peer-reviewed OA copy somewhere. For some items, like books, a published version doesn't imply peer review, so they aren't quite synonymous.",
        "",
        "* Get works with an OA accepted or published copy\\",
        "  [`https://api.openalex.org/works?filter=has_oa_accepted_or_published_version:true`](https://api.openalex.org/works?filter=has\\_oa\\_accepted\\_or\\_published\\_version:true)"
      ]
    },
    {
      "cell_type": "code",
      "metadata": {},
      "source": [
        "response = works_api.get_works(",
        "\tfilter=\"has_oa_accepted_or_published_version:true\"",
        ")",
        "",
        "print(json.dumps(response.to_dict(), indent=2))"
      ],
      "outputs": [],
      "execution_count": null
    },
    {
      "cell_type": "markdown",
      "metadata": {},
      "source": [
        "#### `has_oa_submitted_version`",
        "",
        "Value: a Boolean (`true` or `false`)",
        "",
        "Returns: works with at least one of the [`locations`](./work-object/README.md#locations) has [`is_oa`](./work-object/location-object.md#is\\_oa)= true and [`version`](./work-object/README.md#version) is submittedVersion. This is useful for finding works with preprints deposited somewhere.",
        "",
        "* Get works with an OA submitted copy:\\",
        "  [`https://api.openalex.org/works?filter=has_oa_submitted_version:true`](https://api.openalex.org/works?filter=has\\_oa\\_submitted\\_version:true)\\`\\`"
      ]
    },
    {
      "cell_type": "code",
      "metadata": {},
      "source": [
        "response = works_api.get_works(",
        "\tfilter=\"has_oa_submitted_version:true\"",
        ")",
        "",
        "print(json.dumps(response.to_dict(), indent=2))"
      ],
      "outputs": [],
      "execution_count": null
    },
    {
      "cell_type": "markdown",
      "metadata": {},
      "source": [
        "#### `has_orcid`",
        "",
        "Value: a Boolean (`true` or `false`)",
        "",
        "Returns: if `true` it returns works where at least one author or has an [ORCID ID](./work-object/README.md#ids). If `false`, it returns works where no authors have an ORCID ID. This is based on the `orcid` field within [`authorships.author`](./work-object/authorship-object.md#author). Note that, sometimes, we assign ORCID using [author disambiguation](./../authors/author-disambiguation.md), so this does not necessarily mean that the work itself has ORCID information.",
        "",
        "* Get the works where at least one author has an ORCID ID:\\",
        "  [`https://api.openalex.org/works?filter=has_orcid:true`](https://api.openalex.org/works?filter=has\\_orcid:true)&#x20;"
      ]
    },
    {
      "cell_type": "code",
      "metadata": {},
      "source": [
        "response = works_api.get_works(",
        "\tfilter=\"has_orcid:true\"",
        ")",
        "",
        "print(json.dumps(response.to_dict(), indent=2))"
      ],
      "outputs": [],
      "execution_count": null
    },
    {
      "cell_type": "markdown",
      "metadata": {},
      "source": [
        "#### `has_pmcid`",
        "",
        "Value: a Boolean (`true` or `false`)",
        "",
        "Returns: works that have or lack a PubMed Central identifier ([`pmcid`](./work-object/README.md#ids)) depending on the given value.",
        "",
        "* Get the works that have a `pmcid`:\\",
        "  [`https://api.openalex.org/works?filter=has_pmcid:true`](https://api.openalex.org/works?filter=has\\_pmcid:true)\\`\\`"
      ]
    },
    {
      "cell_type": "code",
      "metadata": {},
      "source": [
        "response = works_api.get_works(",
        "\tfilter=\"has_pmcid:true\"",
        ")",
        "",
        "print(json.dumps(response.to_dict(), indent=2))"
      ],
      "outputs": [],
      "execution_count": null
    },
    {
      "cell_type": "markdown",
      "metadata": {},
      "source": [
        "#### `has_pmid`",
        "",
        "Value: a Boolean (`true` or `false`)",
        "",
        "Returns: works that have or lack a PubMed identifier ([`pmid`](./work-object/README.md#ids)), depending on the given value.",
        "",
        "* Get the works that have a `pmid`:\\",
        "  [`https://api.openalex.org/works?filter=has_pmid:true`](https://api.openalex.org/works?filter=has\\_pmid:true)\\`\\`"
      ]
    },
    {
      "cell_type": "code",
      "metadata": {},
      "source": [
        "response = works_api.get_works(",
        "\tfilter=\"has_pmid:true\"",
        ")",
        "",
        "print(json.dumps(response.to_dict(), indent=2))"
      ],
      "outputs": [],
      "execution_count": null
    },
    {
      "cell_type": "markdown",
      "metadata": {},
      "source": [
        "#### `has_ngrams` (DEPRECATED)",
        "",
        "Works that have n-grams available to enable full-text search in OpenAlex.",
        "",
        "This filter has been deprecated. See instead: [`has_fulltext`](./work-object/README.md#has\\_fulltext).",
        "",
        "Value: a Boolean (`true` or `false`)",
        "",
        "Returns: works for which n-grams are available or unavailable, depending on the given value. N-grams power fulltext searches through the [`fulltext.search`](./filter-works.md#fulltext.search) filter and the [`search`](./search-works.md#works-full-search) parameter.",
        "",
        "* Get the works that have n-grams:\\",
        "  [`https://api.openalex.org/works?filter=has_ngrams:true`](https://api.openalex.org/works?filter=has\\_ngrams:true)"
      ]
    },
    {
      "cell_type": "code",
      "metadata": {},
      "source": [
        "response = works_api.get_works(",
        "\tfilter=\"has_ngrams:true\"",
        ")",
        "",
        "print(json.dumps(response.to_dict(), indent=2))"
      ],
      "outputs": [],
      "execution_count": null
    },
    {
      "cell_type": "markdown",
      "metadata": {},
      "source": [
        "#### `has_references`",
        "",
        "Value: a Boolean (`true` or `false`)",
        "",
        "Returns: works that have or lack [`referenced_works`](./work-object/README.md#referenced\\_works), depending on the given value.",
        "",
        "* Get the works that have references:\\",
        "  [`https://api.openalex.org/works?filter=has_references:true`](https://api.openalex.org/works?filter=has\\_references:true)"
      ]
    },
    {
      "cell_type": "code",
      "metadata": {},
      "source": [
        "response = works_api.get_works(",
        "\tfilter=\"has_references:true\"",
        ")",
        "",
        "print(json.dumps(response.to_dict(), indent=2))"
      ],
      "outputs": [],
      "execution_count": null
    },
    {
      "cell_type": "markdown",
      "metadata": {},
      "source": [
        "#### `journal`",
        "",
        "Value: the [OpenAlex ID](./../../how-to-use-the-api/get-single-entities/README.md#the-openalex-id) for a given [source](./../sources/source-object.ipynb), where the source is [`type: journal`](./../sources/source-object.md#type)",
        "",
        "Returns: works where the chosen [source ID](./../sources/source-object.md#id) is the [`primary_location.source`](./work-object/README.md#primary\\_location).",
        "",
        "#### `locations.source.host_institution_lineage`",
        "",
        "Value: the [OpenAlex ID](./../../how-to-use-the-api/get-single-entities/README.md#the-openalex-id) for an [`Institution`](./../institutions/README.ipynb)",
        "",
        "Returns: works where the given institution ID is in [`locations.source.host_organization_lineage`](./../sources/source-object.md#host\\_organization\\_lineage)",
        "",
        "* Get the works that have `https://openalex.org/I205783295` in their `host_organization_lineage`:\\",
        "  [`https://api.openalex.org/works?filter=locations.source.host_institution_lineage:https://openalex.org/I205783295`](https://api.openalex.org/works?filter=locations.source.host\\_institution\\_lineage:https://openalex.org/I205783295)"
      ]
    },
    {
      "cell_type": "code",
      "metadata": {},
      "source": [
        "response = works_api.get_works(",
        "\tfilter=\"locations.source.host_institution_lineage:https://openalex.org/I205783295\"",
        ")",
        "",
        "print(json.dumps(response.to_dict(), indent=2))"
      ],
      "outputs": [],
      "execution_count": null
    },
    {
      "cell_type": "markdown",
      "metadata": {},
      "source": [
        "#### `locations.source.publisher_lineage`",
        "",
        "Value: the [OpenAlex ID](./../../how-to-use-the-api/get-single-entities/README.md#the-openalex-id) for a [`Publisher`](./../publishers/README.ipynb)",
        "",
        "Returns: works where the given publisher ID is in [`locations.source.host_organization_lineage`](./../sources/source-object.md#host\\_organization\\_lineage)",
        "",
        "* Get the works that have `https://openalex.org/P4310320547` in their `publisher_lineage`:\\",
        "  [`https://api.openalex.org/works?filter=locations.source.publisher_lineage:https://openalex.org/P4310320547`](https://api.openalex.org/works?filter=locations.source.publisher\\_lineage:https://openalex.org/P4310320547)"
      ]
    },
    {
      "cell_type": "code",
      "metadata": {},
      "source": [
        "response = works_api.get_works(",
        "\tfilter=\"locations.source.publisher_lineage:https://openalex.org/P4310320547\"",
        ")",
        "",
        "print(json.dumps(response.to_dict(), indent=2))"
      ],
      "outputs": [],
      "execution_count": null
    },
    {
      "cell_type": "markdown",
      "metadata": {},
      "source": [
        "#### `primary_location.source.has_issn`",
        "",
        "Value: a Boolean (`true` or `false`)",
        "",
        "Returns: works where the [`primary_location`](./work-object/README.md#primary\\_location) has at least one ISSN assigned.",
        "",
        "* Get the works that have an ISSN within the primary location:\\",
        "  [`https://api.openalex.org/works?filter=primary_location.source.has_issn:true`](https://api.openalex.org/works?filter=primary\\_location.source.has\\_issn:true)"
      ]
    },
    {
      "cell_type": "code",
      "metadata": {},
      "source": [
        "response = works_api.get_works(",
        "\tfilter=\"primary_location.source.has_issn:true\"",
        ")",
        "",
        "print(json.dumps(response.to_dict(), indent=2))"
      ],
      "outputs": [],
      "execution_count": null
    },
    {
      "cell_type": "markdown",
      "metadata": {},
      "source": [
        "#### `primary_location.source.publisher_lineage`",
        "",
        "Value: the [OpenAlex ID](./../../how-to-use-the-api/get-single-entities/README.md#the-openalex-id) for a [`Publisher`](./../publishers/README.ipynb)",
        "",
        "Returns: works where the given publisher ID is in [`primary_location.source.host_organization_lineage`](./../sources/source-object.md#host\\_organization\\_lineage)",
        "",
        "* Get the works that have `https://openalex.org/P4310320547` in their `publisher_lineage`:\\",
        "  [`https://api.openalex.org/works?filter=primary_location.source.publisher_lineage:https://openalex.org/P4310320547`](https://api.openalex.org/works?filter=primary\\_location.source.publisher\\_lineage:https://openalex.org/P4310320547)"
      ]
    },
    {
      "cell_type": "code",
      "metadata": {},
      "source": [
        "response = works_api.get_works(",
        "\tfilter=\"primary_location.source.publisher_lineage:https://openalex.org/P4310320547\"",
        ")",
        "",
        "print(json.dumps(response.to_dict(), indent=2))"
      ],
      "outputs": [],
      "execution_count": null
    },
    {
      "cell_type": "markdown",
      "metadata": {},
      "source": [
        "#### `raw_affiliation_string.search`",
        "",
        "Value: a search string",
        "",
        "Returns: works that have at least one [`raw_affiliation_string`](./work-object/README.md#raw\\_affiliation\\_string) which includes the given string. See the [search page](./../../how-to-use-the-api/get-lists-of-entities/search-entities.ipynb) for details on the search algorithm used.",
        "",
        "* Get works with the words _Department of Political Science, University of Amsterdam_ somewhere in at least one author's `raw_affiliation_string`: [`https://api.openalex.org/works?filter=raw_affiliation_string.search:department%20of%20political%20science%20university%20of%amsterdam`](https://api.openalex.org/works?filter=raw\\_affiliation\\_string.search:department%20of%20political%20science%20university%20of%20amsterdam)\\`\\`"
      ]
    },
    {
      "cell_type": "code",
      "metadata": {},
      "source": [
        "response = works_api.get_works(",
        "\tfilter=\"raw_affiliation_string.search:department of political science university of%amsterdam\"",
        ")",
        "",
        "print(json.dumps(response.to_dict(), indent=2))"
      ],
      "outputs": [],
      "execution_count": null
    },
    {
      "cell_type": "code",
      "metadata": {},
      "source": [
        "response = works_api.get_works(",
        "\tfilter=\"raw_affiliation_string.search:department of political science university of amsterdam\"",
        ")",
        "",
        "print(json.dumps(response.to_dict(), indent=2))"
      ],
      "outputs": [],
      "execution_count": null
    },
    {
      "cell_type": "markdown",
      "metadata": {},
      "source": [
        "#### `related_to`",
        "",
        "Value: the [OpenAlex ID](./../../how-to-use-the-api/get-single-entities/README.md#the-openalex-id) for a given work",
        "",
        "Returns: works found in the given work's [`related_works`](./work-object/README.md#related\\_works) section.",
        "",
        "* Get works related to [https://openalex.org/W2486144666](https://openalex.org/W2486144666):\\",
        "  [`https://api.openalex.org/works?filter=related_to:W2486144666`](https://api.openalex.org/works?filter=related\\_to:W2486144666)"
      ]
    },
    {
      "cell_type": "code",
      "metadata": {},
      "source": [
        "response = works_api.get_works(",
        "\tfilter=\"related_to:W2486144666\"",
        ")",
        "",
        "print(json.dumps(response.to_dict(), indent=2))"
      ],
      "outputs": [],
      "execution_count": null
    },
    {
      "cell_type": "markdown",
      "metadata": {},
      "source": [
        "#### `repository`",
        "",
        "Value: the [OpenAlex ID](./../../how-to-use-the-api/get-single-entities/README.md#the-openalex-id) for a given [source](./../sources/source-object.ipynb), where the source is [`type: repository`](./../sources/source-object.md#type)",
        "",
        "Returns: works where the chosen [source ID](./../sources/source-object.md#id) exists within the [`locations`](./work-object/README.md#locations).",
        "",
        "You can use this to find works where authors are associated with your university, but the work is not part of the university's repository. :clap:",
        "",
        "* Get works that are available in the University of Michigan Deep Blue repository (OpenAlex ID: `https://openalex.org/S4306400393`)\\",
        "  [`https://api.openalex.org/works?filter=repository:S4306400393`](https://api.openalex.org/works?filter=repository:S4306400393)"
      ]
    },
    {
      "cell_type": "code",
      "metadata": {},
      "source": [
        "response = works_api.get_works(",
        "\tfilter=\"repository:S4306400393\"",
        ")",
        "",
        "print(json.dumps(response.to_dict(), indent=2))"
      ],
      "outputs": [],
      "execution_count": null
    },
    {
      "cell_type": "markdown",
      "metadata": {},
      "source": [
        "* Get works where at least one author is associated with the University of Michigan, but the works are not found in the University of Michigan Deep Blue repository\\",
        "  [`https://api.openalex.org/works?filter=institutions.id:I27837315,repository:!S4306400393`](https://api.openalex.org/works?filter=institutions.id:I27837315,repository:!S4306400393)"
      ]
    },
    {
      "cell_type": "code",
      "metadata": {},
      "source": [
        "response = works_api.get_works(",
        "\tfilter=\"institutions.id:I27837315,repository:!S4306400393\"",
        ")",
        "",
        "print(json.dumps(response.to_dict(), indent=2))"
      ],
      "outputs": [],
      "execution_count": null
    },
    {
      "cell_type": "markdown",
      "metadata": {},
      "source": [
        "You can also use this as a `group_by` to learn things about repositories:",
        "",
        "* Learn which repositories have the most open access works [`https://api.openalex.org/works?filter=is_oa:true&group_by=repository`](https://api.openalex.org/works?filter=is\\_oa:true\\&group\\_by=repository)"
      ]
    },
    {
      "cell_type": "code",
      "metadata": {},
      "source": [
        "response = works_api.get_works(",
        "\tfilter=\"is_oa:true\",",
        "\tgroup_by=\"repository\"",
        ")",
        "",
        "print(json.dumps(response.to_dict(), indent=2))"
      ],
      "outputs": [],
      "execution_count": null
    },
    {
      "cell_type": "markdown",
      "metadata": {},
      "source": [
        "#### `title_and_abstract.search`",
        "",
        "Text search across titles and abstracts for works",
        "",
        "Value: a search string",
        "",
        "Returns: works whose [`display_name`](./work-object/README.md#display\\_name) (title) or abstract includes the given string; see the [search page](./../../how-to-use-the-api/get-lists-of-entities/search-entities.ipynb) for details.",
        "",
        "* Get works with title or abstract mentioning \"gum disease\": [`https://api.openalex.org/works?filter=title_and_abstract.search:gum%20disease`](https://api.openalex.org/works?filter=title\\_and\\_abstract.search:gum%20disease)"
      ]
    },
    {
      "cell_type": "code",
      "metadata": {},
      "source": [
        "response = works_api.get_works(",
        "\tfilter=\"title_and_abstract.search:gum disease\"",
        ")",
        "",
        "print(json.dumps(response.to_dict(), indent=2))"
      ],
      "outputs": [],
      "execution_count": null
    },
    {
      "cell_type": "markdown",
      "metadata": {},
      "source": [
        "#### `to_publication_date`",
        "",
        "Value: a date, formatted as `yyyy-mm-dd`",
        "",
        "Returns: works with [`publication_date`](./work-object/README.md#publication\\_date) less than or equal to the given date.",
        "",
        "* Get works published on or _before_ March 14th, 2001:\\",
        "  [`https://api.openalex.org/works?filter=to_publication_date:2001-03-14`](https://api.openalex.org/works?filter=to\\_publication\\_date:2001-03-14)\\`\\`"
      ]
    },
    {
      "cell_type": "code",
      "metadata": {},
      "source": [
        "response = works_api.get_works(",
        "\tfilter=\"to_publication_date:2001-03-14\"",
        ")",
        "",
        "print(json.dumps(response.to_dict(), indent=2))"
      ],
      "outputs": [],
      "execution_count": null
    },
    {
      "cell_type": "markdown",
      "metadata": {},
      "source": [
        "#### `version`",
        "",
        "Value: a String with value `publishedVersion`, `submittedVersion`, `acceptedVersion`, or `null`",
        "",
        "Returns: works where the chosen version exists within the [`locations`](./work-object/README.md#locations). If `null`, it returns works where no version is found in any of the locations.",
        "",
        "* Get works where a published version is available in at least one of the locations:\\",
        "  ``[`https://api.openalex.org/works?filter=version:publishedVersion`](https://api.openalex.org/works?filter=version:publishedVersion)``"
      ]
    },
    {
      "cell_type": "code",
      "metadata": {},
      "source": [
        "response = works_api.get_works(",
        "\tfilter=\"version:publishedVersion\"",
        ")",
        "",
        "print(json.dumps(response.to_dict(), indent=2))"
      ],
      "outputs": [],
      "execution_count": null
    }
  ],
  "metadata": {
    "kernelspec": {
      "display_name": "Python 3",
      "language": "python",
      "name": "python3"
    },
    "language_info": {
      "codemirror_mode": {
        "name": "ipython",
        "version": 3
      },
      "file_extension": ".py",
      "mimetype": "text/x-python",
      "name": "python",
      "pygments_lexer": "ipython3",
      "version": "3.8.5"
    }
  },
  "nbformat": 4,
  "nbformat_minor": 4
}