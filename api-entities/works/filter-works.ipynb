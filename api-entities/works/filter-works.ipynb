{
  "cells": [
    {
      "cell_type": "markdown",
      "metadata": {},
      "source": [
        "[![Open All Collab](https://colab.research.google.com/assets/colab-badge.svg)](https://colab.research.google.com/github/Mearman/openalex-docs/blob/main/api-entities/works/filter-works.ipynb)\n",
        "\n"
      ]
    },
    {
      "cell_type": "code",
      "metadata": {},
      "source": [
        "%pip install --upgrade \"git+https://github.com/Mearman/openalex-python.git\"\n",
        "\n"
      ],
      "outputs": [],
      "execution_count": null
    },
    {
      "cell_type": "code",
      "metadata": {},
      "source": [
        "import json\n",
        "from openalex_api import Configuration, ApiClient,AuthorsApi, ConceptsApi, FundersApi, InstitutionsApi, PublishersApi, SourcesApi, WorksApi\n",
        "\n",
        "configuration = Configuration(host=\"https://api.openalex.org\")\n",
        "authors_api = AuthorsApi(ApiClient(configuration))\n",
        "concepts_api = ConceptsApi(ApiClient(configuration))\n",
        "funders_api = FundersApi(ApiClient(configuration))\n",
        "institutions_api = InstitutionsApi(ApiClient(configuration))\n",
        "publishers_api = PublishersApi(ApiClient(configuration))\n",
        "sources_api = SourcesApi(ApiClient(configuration))\n",
        "works_api = WorksApi(ApiClient(configuration))\n",
        "\n"
      ],
      "outputs": [],
      "execution_count": null
    },
    {
      "cell_type": "markdown",
      "metadata": {},
      "source": [
        "\n",
        "# Filter works\n",
        "\n",
        "It's easy to filter works with the `filter` parameter:\n",
        "\n",
        "* Get works where the publication year is 2020\\\n",
        "  [`https://api.openalex.org/works?filter=publication\\_year:2020`](https://api.openalex.org/works?filter=publication\\_year:2020)\n",
        "\n"
      ]
    },
    {
      "cell_type": "code",
      "metadata": {},
      "source": [
        "response = works_api.get_works(\n",
        "\tfilter=\"publication_year:2020\"\n",
        ")\n",
        "\n",
        "print(json.dumps(response.to_dict(), indent=2))\n",
        "\n"
      ],
      "outputs": [],
      "execution_count": null
    },
    {
      "cell_type": "markdown",
      "metadata": {},
      "source": [
        "\n",
        "\n",
        "In this example the filter is `publication_year` and the value is 2020.\n",
        "\n",
        "{% hint style=\"info\" %}\n",
        "It's best to [read about filters](./../../how-to-use-the-api/get-lists-of-entities/filter-entity-lists.ipynb) before trying these out. It will show you how to combine filters and build an AND, OR, or negation query.\n",
        "{% endhint %}\n",
        "\n",
        "\n"
      ]
    },
    {
      "cell_type": "code",
      "metadata": {},
      "source": [
        "response = works_api.get_works(\n",
        "\tfilter=\"abstract.search:artificial intelligence\"\n",
        ")\n",
        "\n",
        "print(json.dumps(response.to_dict(), indent=2))\n",
        "\n"
      ],
      "outputs": [],
      "execution_count": null
    },
    {
      "cell_type": "markdown",
      "metadata": {},
      "source": [
        "\n",
        "## `/works` attribute filters\n",
        "\n",
        "You can filter using these attributes of the [`Work`](./work-object/README.ipynb) object (click each one to view their documentation on the `Work` object page):\n",
        "\n",
        "{% hint style=\"danger\" %}\n",
        "The `host_venue` and `alternate_host_venues` properties have been deprecated in favor of [`primary_location`](./work-object/README.md#primary\\_location) and [`locations`](./work-object/README.md#locations). The attributes `host_venue` and `alternate_host_venues` are no longer available in the Work object, and trying to access them in filters or group-bys will return an error.\n",
        "{% endhint %}\n",
        "\n",
        "* [`authorships.author.id`](./work-object/authorship-object.md#author) (alias: `author.id`) — Authors for a work (OpenAlex ID)\n",
        "* [`authorships.author.orcid`](./work-object/authorship-object.md#author) (alias: `author.orcid`) — Authors for a work (ORCID)\n",
        "* [`authorships.countries`](./work-object/authorship-object.md#countries)\n",
        "* [`authorships.institutions.country_code`](./work-object/authorship-object.md#institutions) (alias: `institutions.country_code`)\n",
        "* [`authorships.institutions.id`](./work-object/authorship-object.md#institutions) (alias: `institutions.id`) — Institutions affiliated with the authors of a work (OpenAlex ID)\n",
        "* [`authorships.institutions.lineage`](./work-object/authorship-object.md#institutions)\n",
        "* [`authorships.institutions.ror`](./work-object/authorship-object.md#institutions) (alias: `institutions.ror`) — Institutions affiliated with the authors of a work (ROR ID)\n",
        "* [`authorships.institutions.type`](./work-object/authorship-object.md#institutions)\n",
        "* [`authorships.is_corresponding`](./work-object/authorship-object.md#is\\_corresponding) (alias: `is_corresponding`) — This filter marks whether or not we have corresponding author information for a given work\n",
        "* [`apc_list.value`](./work-object/README.md#apc\\_list)\n",
        "* [`apc_list.currency`](./work-object/README.md#apc\\_list)\n",
        "* [`apc_list.provenance`](./work-object/README.md#apc\\_list)\n",
        "* [`apc_list.value_usd`](./work-object/README.md#apc\\_list)\n",
        "* [`apc_paid.value`](./work-object/README.md#apc\\_paid)\n",
        "* [`apc_paid.currency`](./work-object/README.md#apc\\_paid)\n",
        "* [`apc_paid.provenance`](./work-object/README.md#apc\\_paid)\n",
        "* [`apc_paid.value_usd`](./work-object/README.md#apc\\_paid)\n",
        "* [`best_oa_location.is_accepted`](./work-object/README.md#best\\_oa\\_location)\n",
        "* [`best_oa_location.is_published`](./work-object/README.md#best\\_oa\\_location)\n",
        "* [`best_oa_location.license`](./work-object/README.md#best\\_oa\\_location) — The Open Acess license for a work\n",
        "* [`best_oa_location.source.id`](./work-object/README.md#best\\_oa\\_location)\n",
        "* [`best_oa_location.source.is_in_doaj`](./work-object/README.md#best\\_oa\\_location)\n",
        "* [`best_oa_location.source.issn`](./work-object/README.md#best\\_oa\\_location)\n",
        "* [`best_oa_location.source.host_organization`](./work-object/README.md#best\\_oa\\_location)\n",
        "* [`best_oa_location.source.type`](./work-object/README.md#best\\_oa\\_location)\n",
        "* [`best_oa_location.version`](./work-object/README.md#best\\_oa\\_location)\n",
        "* [`cited_by_count`](./work-object/README.md#cited\\_by\\_count)\n",
        "* [`concepts.id`](./work-object/README.md#concepts) (alias: `concept.id`) — The concepts associated with a work\n",
        "* [`concepts.wikidata`](./work-object/README.md#concepts)\n",
        "* [`corresponding_author_ids`](./work-object/README.md#corresponding\\_author\\_ids) — Corresponding authors for a work (OpenAlex ID)\n",
        "* [`corresponding_institution_ids`](./work-object/README.md#corresponding\\_institution\\_ids)\n",
        "* [`countries_distinct_count`](./work-object/README.md#countries\\_distinct\\_count)\n",
        "* [`doi`](./work-object/README.md#doi) — The DOI (Digital Object Identifier) of a work\n",
        "* [`fulltext_origin`](./work-object/README.md#fulltext\\_origin)\n",
        "* [`grants.award_id`](./work-object/README.md#grants) — Award IDs for grants\n",
        "* [`grants.funder`](./work-object/README.md#grants) — Funding organizations linked to grants for a work\n",
        "* [`has_fulltext`](./work-object/README.md#has\\_fulltext)\n",
        "* [`ids.pmcid`](./work-object/README.md#ids)\n",
        "* [`ids.pmid`](./work-object/README.md#ids) (alias: `pmid`)\n",
        "* [`ids.openalex`](./work-object/README.md#ids) (alias: `openalex`) — The OpenAlex ID for a work\n",
        "* [`ids.mag`](./work-object/README.md#ids) (alias: `mag`)\n",
        "* [`institutions_distinct_count`](./work-object/README.md#institutions\\_distinct\\_count)\n",
        "* [`is_paratext`](./work-object/README.md#is\\_paratext)\n",
        "* [`is_retracted`](./work-object/README.md#is\\_retracted)\n",
        "* [`keywords.keyword`](./work-object/README.md#keywords)\n",
        "* [`language`](./work-object/README.md#language)\n",
        "* [`locations.is_accepted`](./work-object/README.md#locations)\n",
        "* [`locations.is_oa`](./work-object/README.md#locations)\n",
        "* [`locations.is_published`](./work-object/README.md#locations)\n",
        "* [`locations.license`](./work-object/README.md#locations)\n",
        "* [`locations.source.id`](./work-object/README.md#locations)\n",
        "* [`locations.source.is_in_doaj`](./work-object/README.md#locations)\n",
        "* [`locations.source.issn`](./work-object/README.md#locations)\n",
        "* [`locations.source.host_organization`](./work-object/README.md#locations)\n",
        "* [`locations.source.type`](./work-object/README.md#locations)\n",
        "* [`locations.version`](./work-object/README.md#locations)\n",
        "* [`locations_count`](./work-object/README.md#locations\\_count)\n",
        "* [`open_access.any_repository_has_fulltext`](./work-object/README.md#open\\_access)\n",
        "* [`open_access.is_oa`](./work-object/README.md#open\\_access) (alias: `is_oa`) — Whether a work is Open Access\n",
        "* [`open_access.oa_status`](./work-object/README.md#open\\_access) (alias: `oa_status`) — The Open Access status for a work (e.g., gold, green, hybrid, etc.)\n",
        "* [`primary_location.is_accepted`](./work-object/README.md#primary\\_location)\n",
        "* [`primary_location.is_oa`](./work-object/README.md#primary\\_location)\n",
        "* [`primary_location.is_published`](./work-object/README.md#primary\\_location)\n",
        "* [`primary_location.license`](./work-object/README.md#primary\\_location)\n",
        "* [`primary_location.source.id`](./work-object/README.md#primary\\_location)\n",
        "* [`primary_location.source.is_in_doaj`](./work-object/README.md#primary\\_location)\n",
        "* [`primary_location.source.issn`](./work-object/README.md#primary\\_location)\n",
        "* [`primary_location.source.host_organization`](./work-object/README.md#primary\\_location)\n",
        "* [`primary_location.source.type`](./work-object/README.md#primary\\_location)\n",
        "* [`primary_location.version`](./work-object/README.md#primary\\_location)\n",
        "* [`publication_year`](./work-object/README.md#publication\\_year)\n",
        "* [`publication_date`](./work-object/README.md#publication\\_date)\n",
        "* [`sustainable_development_goals.id`](./work-object/README.md#sustainable\\_development\\_goals)\n",
        "* [`type`](./work-object/README.md#type)\n",
        "* [`type_crossref`](./work-object/README.md#type\\_crossref)\n",
        "\n",
        "{% hint style=\"info\" %}\n",
        "Want to filter by the `display_name` of an associated entity (author, institution, source, etc.)? [See here.](./search-works.md#why-cant-i-search-by-name-of-related-entity-author-name-institution-name-etc.)\n",
        "{% endhint %}\n",
        "\n",
        "## `/works` convenience filters\n",
        "\n",
        "These filters aren't attributes of the [`Work`](./work-object/README.ipynb) object, but they're handy for solving some common use cases:\n",
        "\n",
        "#### `abstract.search`\n",
        "\n",
        "Text search using abstracts\n",
        "\n",
        "Value: a search string\n",
        "\n",
        "Returns: works whose abstract includes the given string. See the [search page](./../../how-to-use-the-api/get-lists-of-entities/search-entities.ipynb) for details on the search algorithm used.\n",
        "\n",
        "* Get works with abstracts that mention \"artificial intelligence\": [`https://api.openalex.org/works?filter=abstract.search:artificial%20intelligence`](https://api.openalex.org/works?filter=abstract.search:artificial%20intelligence)\n",
        "\n",
        "#### `authors_count`\n",
        "\n",
        "Number of authors for a work\n",
        "\n",
        "Value: an Integer\n",
        "\n",
        "Returns: works with the chosen number of [`authorships`](./work-object/README.md#authorships) objects (authors). You can use the inequality filter to select a range, such as `authors_count:>5`_._\n",
        "\n",
        "* Get works that have exactly one author\\\n",
        "  [`https://api.openalex.org/works?filter=authors\\_count:1`](https://api.openalex.org/works?filter=authors\\_count:1)\n",
        "\n"
      ]
    },
    {
      "cell_type": "code",
      "metadata": {},
      "source": [
        "response = works_api.get_works(\n",
        "\tfilter=\"authors_count:1\"\n",
        ")\n",
        "\n",
        "print(json.dumps(response.to_dict(), indent=2))\n",
        "\n"
      ],
      "outputs": [],
      "execution_count": null
    },
    {
      "cell_type": "markdown",
      "metadata": {},
      "source": [
        "\n",
        "\n",
        "#### `authorships.institutions.continent` (alias: `institutions.continent`)\n",
        "\n",
        "Value: a String with a valid [continent filter](./../geo/continents.md#filter-by-continent)\n",
        "\n",
        "Returns: works where at least _one_ of the author's institutions is in the chosen continent.\n",
        "\n",
        "* Get works where at least one author's institution in each work is located in Europe\\\n",
        "  [`https://api.openalex.org/works?filter=authorships.institutions.continent:europe`](https://api.openalex.org/works?filter=authorships.institutions.continent:europe)\n",
        "\n"
      ]
    },
    {
      "cell_type": "code",
      "metadata": {},
      "source": [
        "response = works_api.get_works(\n",
        "\tfilter=\"authorships.institutions.continent:europe\"\n",
        ")\n",
        "\n",
        "print(json.dumps(response.to_dict(), indent=2))\n",
        "\n"
      ],
      "outputs": [],
      "execution_count": null
    },
    {
      "cell_type": "markdown",
      "metadata": {},
      "source": [
        "\n",
        "\n",
        "#### `authorships.institutions.is_global_south` (alias: `institutions.is_global_south`)\n",
        "\n",
        "Value: a Boolean (`true` or `false`)\n",
        "\n",
        "Returns: works where at least _one_ of the author's institutions is in the Global South ([read more](./../geo/regions.md#global-south)).\n",
        "\n",
        "* Get works where at least one author's institution is in the Global South\\\n",
        "  [`https://api.openalex.org/works?filter=authorships.institutions.is\\_global\\_south:true`](https://api.openalex.org/works?filter=authorships.institutions.is\\_global\\_south:true)\n",
        "\n"
      ]
    },
    {
      "cell_type": "code",
      "metadata": {},
      "source": [
        "response = works_api.get_works(\n",
        "\tfilter=\"authorships.institutions.is_global_south:true\"\n",
        ")\n",
        "\n",
        "print(json.dumps(response.to_dict(), indent=2))\n",
        "\n"
      ],
      "outputs": [],
      "execution_count": null
    },
    {
      "cell_type": "markdown",
      "metadata": {},
      "source": [
        "\n",
        "\n",
        "#### `best_open_version`\n",
        "\n",
        "Value: a String with one of the following values:\n",
        "\n",
        "* **`any`**: This means that `best_oa_location.version` = `submittedVersion`, `acceptedVersion`, or `publishedVersion`\n",
        "* **`acceptedOrPublished`**: This means that `best_oa_location.version` can be `acceptedVersion` or `publishedVersion`\n",
        "* **`published`**: This means that `best_oa_location.version` = `publishedVersion`\n",
        "\n",
        "Returns: works that meet the above criteria for [`best_oa_location`](./work-object/README.md#best\\_oa\\_location).\n",
        "\n",
        "* Get works whose `best_oa_location` is a submitted, accepted, or published version: [`https://api.openalex.org/works?filter=best_open_version:any`](https://api.openalex.org/works?filter=best\\_open\\_version:any)\\`\\`\n",
        "\n"
      ]
    },
    {
      "cell_type": "code",
      "metadata": {},
      "source": [
        "response = works_api.get_works(\n",
        "\tfilter=\"best_open_version:any\"\n",
        ")\n",
        "\n",
        "print(json.dumps(response.to_dict(), indent=2))\n",
        "\n"
      ],
      "outputs": [],
      "execution_count": null
    },
    {
      "cell_type": "markdown",
      "metadata": {},
      "source": [
        "\n",
        "\n",
        "#### `cited_by`\n",
        "\n",
        "Value: the [OpenAlex ID](./../../how-to-use-the-api/get-single-entities/README.md#the-openalex-id) for a given work\n",
        "\n",
        "Returns: works found in the given work's [`referenced_works`](./work-object/README.md#referenced\\_works) section. You can think of this as **outgoing citations**.\n",
        "\n",
        "* Get works cited by [`https://openalex.org/W2766808518`](https://openalex.org/W2766808518):\\\n",
        "  [`https://api.openalex.org/works?filter=cited_by:W2766808518`](https://api.openalex.org/works?filter=cited\\_by:W2766808518)\n",
        "\n"
      ]
    },
    {
      "cell_type": "code",
      "metadata": {},
      "source": [
        "response = works_api.get_works(\n",
        "\tfilter=\"cited_by:W2766808518\"\n",
        ")\n",
        "\n",
        "print(json.dumps(response.to_dict(), indent=2))\n",
        "\n"
      ],
      "outputs": [],
      "execution_count": null
    },
    {
      "cell_type": "markdown",
      "metadata": {},
      "source": [
        "\n",
        "\n",
        "#### `cites`\n",
        "\n",
        "Value: the [OpenAlex ID](./../../how-to-use-the-api/get-single-entities/README.md#the-openalex-id) for a given work\n",
        "\n",
        "Returns: works that cite the given work. This is works that have the given OpenAlex ID in the [`referenced_works`](./work-object/README.md#referenced\\_works) section. You can think of this as **incoming citations**.\n",
        "\n",
        "* Get works that cite [`https://openalex.org/W2741809807`](https://openalex.org/W2741809807): [`https://api.openalex.org/works?filter=cites:W2741809807`](https://api.openalex.org/works?filter=cites:W2741809807)\\`\\`\n",
        "\n"
      ]
    },
    {
      "cell_type": "code",
      "metadata": {},
      "source": [
        "response = works_api.get_works(\n",
        "\tfilter=\"cites:W2741809807\"\n",
        ")\n",
        "\n",
        "print(json.dumps(response.to_dict(), indent=2))\n",
        "\n"
      ],
      "outputs": [],
      "execution_count": null
    },
    {
      "cell_type": "markdown",
      "metadata": {},
      "source": [
        "\n",
        "\n",
        "{% hint style=\"info\" %}\n",
        "The number of results returned by this filter may be slightly higher than the work's[`cited_by_count`](./work-object/README.md#cited\\_by\\_count)due to a timing lag in updating that field.\n",
        "{% endhint %}\n",
        "\n",
        "#### `concepts_count`\n",
        "\n",
        "Value: an Integer\n",
        "\n",
        "Returns: works with the chosen number of [`concepts`](./work-object/README.md#concepts).\n",
        "\n",
        "* Get works with at least three concepts assigned\\\n",
        "  [`https://api.openalex.org/works?filter=concepts\\_count:>2`](https://api.openalex.org/works?filter=concepts\\_count:%3E2)\n",
        "\n"
      ]
    },
    {
      "cell_type": "code",
      "metadata": {},
      "source": [
        "response = works_api.get_works(\n",
        "\tfilter=\"concepts_count:>2\"\n",
        ")\n",
        "\n",
        "print(json.dumps(response.to_dict(), indent=2))\n",
        "\n"
      ],
      "outputs": [],
      "execution_count": null
    },
    {
      "cell_type": "code",
      "metadata": {},
      "source": [
        "response = works_api.get_works(\n",
        "\tfilter=\"concepts_count:>2\"\n",
        ")\n",
        "\n",
        "print(json.dumps(response.to_dict(), indent=2))\n",
        "\n"
      ],
      "outputs": [],
      "execution_count": null
    },
    {
      "cell_type": "markdown",
      "metadata": {},
      "source": [
        "\n",
        "\n",
        "#### `default.search`\n",
        "\n",
        "Text search across titles, abstracts, and full text of works\n",
        "\n",
        "Value: a search string\n",
        "\n",
        "This works the same as using the [`search` parameter](./search-works.md#search-works) for Works.\n",
        "\n",
        "#### `display_name.search` (alias: `title.search`)\n",
        "\n",
        "Text search across titles for works\n",
        "\n",
        "Value: a search string\n",
        "\n",
        "Returns: works whose[`display_name`](./work-object/README.md#display\\_name) (title) includes the given string; see the [search page](./../../how-to-use-the-api/get-lists-of-entities/search-entities.ipynb) for details.\n",
        "\n",
        "* Get works with titles that mention the word \"wombat\":\\\n",
        "  [`https://api.openalex.org/works?filter=title.search:wombat`](https://api.openalex.org/works?filter=title.search:wombat)\n",
        "\n"
      ]
    },
    {
      "cell_type": "code",
      "metadata": {},
      "source": [
        "response = works_api.get_works(\n",
        "\tfilter=\"title.search:wombat\"\n",
        ")\n",
        "\n",
        "print(json.dumps(response.to_dict(), indent=2))\n",
        "\n"
      ],
      "outputs": [],
      "execution_count": null
    },
    {
      "cell_type": "markdown",
      "metadata": {},
      "source": [
        "\n",
        "\n",
        "{% hint style=\"info\" %}\n",
        "For most cases, you should use the [`search`](./search-works.md#works-full-search) parameter instead of this filter, because it uses a better search algorithm and searches over abstracts as well as titles.\n",
        "{% endhint %}\n",
        "\n",
        "#### `from_created_date`\n",
        "\n",
        "Value: a date, formatted as `yyyy-mm-dd`\n",
        "\n",
        "Returns: works with [`created_date`](./work-object/README.md#created\\_date) greater than or equal to the given date.\n",
        "\n",
        "This field requires an [OpenAlex Premium subscription to access. Click here to learn more.](https://openalex.org/pricing)\n",
        "\n",
        "* Get works created on or _after_ January 12th, 2023 (does not work without valid API key):\\\n",
        "  [`https://api.openalex.org/works?filter=from_created_date:2023-01-12&api_key=myapikey`](https://api.openalex.org/works?filter=from\\_created\\_date:2023-01-12\\&api\\_key=myapikey)\\`\\`\n",
        "\n"
      ]
    },
    {
      "cell_type": "code",
      "metadata": {},
      "source": [
        "response = works_api.get_works(\n",
        "\tfilter=\"from_created_date:2023-01-12\",\n",
        "\tapi_key=\"myapikey\"\n",
        ")\n",
        "\n",
        "print(json.dumps(response.to_dict(), indent=2))\n",
        "\n"
      ],
      "outputs": [],
      "execution_count": null
    },
    {
      "cell_type": "markdown",
      "metadata": {},
      "source": [
        "\n",
        "\n",
        "#### `from_publication_date`\n",
        "\n",
        "Value: a date, formatted as `yyyy-mm-dd`\n",
        "\n",
        "Returns: works with [`publication_date`](./work-object/README.md#publication\\_date) greater than or equal to the given date.\n",
        "\n",
        "* Get works published on or _after_ March 14th, 2001:\\\n",
        "  [`https://api.openalex.org/works?filter=from_publication_date:2001-03-14`](https://api.openalex.org/works?filter=from\\_publication\\_date:2001-03-14)\n",
        "\n"
      ]
    },
    {
      "cell_type": "code",
      "metadata": {},
      "source": [
        "response = works_api.get_works(\n",
        "\tfilter=\"from_publication_date:2001-03-14\"\n",
        ")\n",
        "\n",
        "print(json.dumps(response.to_dict(), indent=2))\n",
        "\n"
      ],
      "outputs": [],
      "execution_count": null
    },
    {
      "cell_type": "markdown",
      "metadata": {},
      "source": [
        "\n",
        "\n",
        "{% hint style=\"info\" %}\n",
        "Filtering by publication date is not a reliable way to retrieve recently updated and created works, due to the way publishers assign publication dates. Use `from_created_date` or `from_updated_date` to get the latest changes in OpenAlex.\n",
        "{% endhint %}\n",
        "\n",
        "#### `from_updated_date`\n",
        "\n",
        "Value: a date, formatted as an [ISO 8601](https://en.wikipedia.org/wiki/ISO\\_8601) date or date-time string (for example: \"2020-05-17\", \"2020-05-17T15:30\", or \"2020-01-02T00:22:35.180390\").\n",
        "\n",
        "Returns: works with [`updated_date`](./work-object/README.md#updated\\_date) greater than or equal to the given date.\n",
        "\n",
        "This field requires an [OpenAlex Premium subscription to access. Click here to learn more.](https://openalex.org/pricing)\n",
        "\n",
        "* Get works updated on or _after_ January 12th, 2023 (does not work without valid API key):\\\n",
        "  [`https://api.openalex.org/works?filter=from_updated_date:2023-01-12&api_key=myapikey`](https://api.openalex.org/works?filter=from\\_updated\\_date:2023-01-12\\&api\\_key=myapikey)\n",
        "\n"
      ]
    },
    {
      "cell_type": "code",
      "metadata": {},
      "source": [
        "response = works_api.get_works(\n",
        "\tfilter=\"from_updated_date:2023-01-12\",\n",
        "\tapi_key=\"myapikey\"\n",
        ")\n",
        "\n",
        "print(json.dumps(response.to_dict(), indent=2))\n",
        "\n"
      ],
      "outputs": [],
      "execution_count": null
    },
    {
      "cell_type": "markdown",
      "metadata": {},
      "source": [
        "\n",
        "\n",
        "{% hint style=\"info\" %}\n",
        "Learn more about using this filter to get the freshest data possible with our [Premium How-To](https://github.com/ourresearch/openalex-api-tutorials/blob/main/notebooks/getting-started/premium.ipynb).\n",
        "{% endhint %}\n",
        "\n",
        "#### **`fulltext.search`**\n",
        "\n",
        "Value: a search string\n",
        "\n",
        "Returns: works whose fulltext includes the given string. Fulltext search is available for a subset of works, obtained either from PDFs or [n-grams](./get-n-grams.ipynb), see [`Work.has_fulltext`](./work-object/README.md#has\\_fulltext) for more details.\n",
        "\n",
        "* Get works with fulltext that mention \"climate change\": [`https://api.openalex.org/works?filter=fulltext.search:climate%20change`](https://api.openalex.org/works?filter=fulltext.search:climate%20change)\n",
        "\n"
      ]
    },
    {
      "cell_type": "code",
      "metadata": {},
      "source": [
        "response = works_api.get_works(\n",
        "\tfilter=\"fulltext.search:climate change\"\n",
        ")\n",
        "\n",
        "print(json.dumps(response.to_dict(), indent=2))\n",
        "\n"
      ],
      "outputs": [],
      "execution_count": null
    },
    {
      "cell_type": "markdown",
      "metadata": {},
      "source": [
        "\n",
        "\n",
        "{% hint style=\"info\" %}\n",
        "We combined some n-grams before storing them in our search database, so querying for an exact phrase using quotes does not always work well.\n",
        "{% endhint %}\n",
        "\n",
        "#### `has_abstract`\n",
        "\n",
        "Works that have an abstract available\n",
        "\n",
        "Value: a Boolean (`true` or `false`)\n",
        "\n",
        "Returns: works that have or lack an abstract, depending on the given value.\n",
        "\n",
        "* Get the works that have abstracts:\\\n",
        "  [`https://api.openalex.org/works?filter=has_abstract:true`](https://api.openalex.org/works?filter=has\\_abstract:true)\n",
        "\n"
      ]
    },
    {
      "cell_type": "code",
      "metadata": {},
      "source": [
        "response = works_api.get_works(\n",
        "\tfilter=\"has_abstract:true\"\n",
        ")\n",
        "\n",
        "print(json.dumps(response.to_dict(), indent=2))\n",
        "\n"
      ],
      "outputs": [],
      "execution_count": null
    },
    {
      "cell_type": "markdown",
      "metadata": {},
      "source": [
        "\n",
        "\n",
        "#### `has_doi`\n",
        "\n",
        "Value: a Boolean (`true` or `false`)\n",
        "\n",
        "Returns: works that have or lack a DOI, depending on the given value. It's especially useful for [grouping](./group-works.ipynb).\n",
        "\n",
        "* Get the works that have no DOI assigned:\\\n",
        "  [`https://api.openalex.org/works?filter=has_doi:false`](https://api.openalex.org/works?filter=has\\_doi:false) \\`\\`\n",
        "\n"
      ]
    },
    {
      "cell_type": "code",
      "metadata": {},
      "source": [
        "response = works_api.get_works(\n",
        "\tfilter=\"has_doi:false\"\n",
        ")\n",
        "\n",
        "print(json.dumps(response.to_dict(), indent=2))\n",
        "\n"
      ],
      "outputs": [],
      "execution_count": null
    },
    {
      "cell_type": "markdown",
      "metadata": {},
      "source": [
        "\n",
        "\n",
        "#### `has_oa_accepted_or_published_version`\n",
        "\n",
        "Value: a Boolean (`true` or `false`)\n",
        "\n",
        "Returns: works with at least one of the [`locations`](./work-object/README.md#locations) has [`is_oa`](./work-object/location-object.md#is\\_oa)= true and [`version`](./work-object/README.md#version) is acceptedVersion or publishedVersion. For Works that undergo peer review, like journal articles, this means there is a peer-reviewed OA copy somewhere. For some items, like books, a published version doesn't imply peer review, so they aren't quite synonymous.\n",
        "\n",
        "* Get works with an OA accepted or published copy\\\n",
        "  [`https://api.openalex.org/works?filter=has_oa_accepted_or_published_version:true`](https://api.openalex.org/works?filter=has\\_oa\\_accepted\\_or\\_published\\_version:true)\n",
        "\n"
      ]
    },
    {
      "cell_type": "code",
      "metadata": {},
      "source": [
        "response = works_api.get_works(\n",
        "\tfilter=\"has_oa_accepted_or_published_version:true\"\n",
        ")\n",
        "\n",
        "print(json.dumps(response.to_dict(), indent=2))\n",
        "\n"
      ],
      "outputs": [],
      "execution_count": null
    },
    {
      "cell_type": "markdown",
      "metadata": {},
      "source": [
        "\n",
        "\n",
        "#### `has_oa_submitted_version`\n",
        "\n",
        "Value: a Boolean (`true` or `false`)\n",
        "\n",
        "Returns: works with at least one of the [`locations`](./work-object/README.md#locations) has [`is_oa`](./work-object/location-object.md#is\\_oa)= true and [`version`](./work-object/README.md#version) is submittedVersion. This is useful for finding works with preprints deposited somewhere.\n",
        "\n",
        "* Get works with an OA submitted copy:\\\n",
        "  [`https://api.openalex.org/works?filter=has_oa_submitted_version:true`](https://api.openalex.org/works?filter=has\\_oa\\_submitted\\_version:true)\\`\\`\n",
        "\n"
      ]
    },
    {
      "cell_type": "code",
      "metadata": {},
      "source": [
        "response = works_api.get_works(\n",
        "\tfilter=\"has_oa_submitted_version:true\"\n",
        ")\n",
        "\n",
        "print(json.dumps(response.to_dict(), indent=2))\n",
        "\n"
      ],
      "outputs": [],
      "execution_count": null
    },
    {
      "cell_type": "markdown",
      "metadata": {},
      "source": [
        "\n",
        "\n",
        "#### `has_orcid`\n",
        "\n",
        "Value: a Boolean (`true` or `false`)\n",
        "\n",
        "Returns: if `true` it returns works where at least one author or has an [ORCID ID](./work-object/README.md#ids). If `false`, it returns works where no authors have an ORCID ID. This is based on the `orcid` field within [`authorships.author`](./work-object/authorship-object.md#author). Note that, sometimes, we assign ORCID using [author disambiguation](./../authors/author-disambiguation.md), so this does not necessarily mean that the work itself has ORCID information.\n",
        "\n",
        "* Get the works where at least one author has an ORCID ID:\\\n",
        "  [`https://api.openalex.org/works?filter=has_orcid:true`](https://api.openalex.org/works?filter=has\\_orcid:true)&#x20;\n",
        "\n"
      ]
    },
    {
      "cell_type": "code",
      "metadata": {},
      "source": [
        "response = works_api.get_works(\n",
        "\tfilter=\"has_orcid:true\"\n",
        ")\n",
        "\n",
        "print(json.dumps(response.to_dict(), indent=2))\n",
        "\n"
      ],
      "outputs": [],
      "execution_count": null
    },
    {
      "cell_type": "markdown",
      "metadata": {},
      "source": [
        "\n",
        "\n",
        "#### `has_pmcid`\n",
        "\n",
        "Value: a Boolean (`true` or `false`)\n",
        "\n",
        "Returns: works that have or lack a PubMed Central identifier ([`pmcid`](./work-object/README.md#ids)) depending on the given value.\n",
        "\n",
        "* Get the works that have a `pmcid`:\\\n",
        "  [`https://api.openalex.org/works?filter=has_pmcid:true`](https://api.openalex.org/works?filter=has\\_pmcid:true)\\`\\`\n",
        "\n"
      ]
    },
    {
      "cell_type": "code",
      "metadata": {},
      "source": [
        "response = works_api.get_works(\n",
        "\tfilter=\"has_pmcid:true\"\n",
        ")\n",
        "\n",
        "print(json.dumps(response.to_dict(), indent=2))\n",
        "\n"
      ],
      "outputs": [],
      "execution_count": null
    },
    {
      "cell_type": "markdown",
      "metadata": {},
      "source": [
        "\n",
        "\n",
        "#### `has_pmid`\n",
        "\n",
        "Value: a Boolean (`true` or `false`)\n",
        "\n",
        "Returns: works that have or lack a PubMed identifier ([`pmid`](./work-object/README.md#ids)), depending on the given value.\n",
        "\n",
        "* Get the works that have a `pmid`:\\\n",
        "  [`https://api.openalex.org/works?filter=has_pmid:true`](https://api.openalex.org/works?filter=has\\_pmid:true)\\`\\`\n",
        "\n"
      ]
    },
    {
      "cell_type": "code",
      "metadata": {},
      "source": [
        "response = works_api.get_works(\n",
        "\tfilter=\"has_pmid:true\"\n",
        ")\n",
        "\n",
        "print(json.dumps(response.to_dict(), indent=2))\n",
        "\n"
      ],
      "outputs": [],
      "execution_count": null
    },
    {
      "cell_type": "markdown",
      "metadata": {},
      "source": [
        "\n",
        "\n",
        "#### `has_ngrams` (DEPRECATED)\n",
        "\n",
        "Works that have n-grams available to enable full-text search in OpenAlex.\n",
        "\n",
        "This filter has been deprecated. See instead: [`has_fulltext`](./work-object/README.md#has\\_fulltext).\n",
        "\n",
        "Value: a Boolean (`true` or `false`)\n",
        "\n",
        "Returns: works for which n-grams are available or unavailable, depending on the given value. N-grams power fulltext searches through the [`fulltext.search`](./filter-works.md#fulltext.search) filter and the [`search`](./search-works.md#works-full-search) parameter.\n",
        "\n",
        "* Get the works that have n-grams:\\\n",
        "  [`https://api.openalex.org/works?filter=has_ngrams:true`](https://api.openalex.org/works?filter=has\\_ngrams:true)\n",
        "\n"
      ]
    },
    {
      "cell_type": "code",
      "metadata": {},
      "source": [
        "response = works_api.get_works(\n",
        "\tfilter=\"has_ngrams:true\"\n",
        ")\n",
        "\n",
        "print(json.dumps(response.to_dict(), indent=2))\n",
        "\n"
      ],
      "outputs": [],
      "execution_count": null
    },
    {
      "cell_type": "markdown",
      "metadata": {},
      "source": [
        "\n",
        "\n",
        "#### `has_references`\n",
        "\n",
        "Value: a Boolean (`true` or `false`)\n",
        "\n",
        "Returns: works that have or lack [`referenced_works`](./work-object/README.md#referenced\\_works), depending on the given value.\n",
        "\n",
        "* Get the works that have references:\\\n",
        "  [`https://api.openalex.org/works?filter=has_references:true`](https://api.openalex.org/works?filter=has\\_references:true)\n",
        "\n"
      ]
    },
    {
      "cell_type": "code",
      "metadata": {},
      "source": [
        "response = works_api.get_works(\n",
        "\tfilter=\"has_references:true\"\n",
        ")\n",
        "\n",
        "print(json.dumps(response.to_dict(), indent=2))\n",
        "\n"
      ],
      "outputs": [],
      "execution_count": null
    },
    {
      "cell_type": "markdown",
      "metadata": {},
      "source": [
        "\n",
        "\n",
        "#### `journal`\n",
        "\n",
        "Value: the [OpenAlex ID](./../../how-to-use-the-api/get-single-entities/README.md#the-openalex-id) for a given [source](./../sources/source-object.ipynb), where the source is [`type: journal`](./../sources/source-object.md#type)\n",
        "\n",
        "Returns: works where the chosen [source ID](./../sources/source-object.md#id) is the [`primary_location.source`](./work-object/README.md#primary\\_location).\n",
        "\n",
        "#### `locations.source.host_institution_lineage`\n",
        "\n",
        "Value: the [OpenAlex ID](./../../how-to-use-the-api/get-single-entities/README.md#the-openalex-id) for an [`Institution`](./../institutions/README.ipynb)\n",
        "\n",
        "Returns: works where the given institution ID is in [`locations.source.host_organization_lineage`](./../sources/source-object.md#host\\_organization\\_lineage)\n",
        "\n",
        "* Get the works that have `https://openalex.org/I205783295` in their `host_organization_lineage`:\\\n",
        "  [`https://api.openalex.org/works?filter=locations.source.host_institution_lineage:https://openalex.org/I205783295`](https://api.openalex.org/works?filter=locations.source.host\\_institution\\_lineage:https://openalex.org/I205783295)\n",
        "\n"
      ]
    },
    {
      "cell_type": "code",
      "metadata": {},
      "source": [
        "response = works_api.get_works(\n",
        "\tfilter=\"locations.source.host_institution_lineage:https://openalex.org/I205783295\"\n",
        ")\n",
        "\n",
        "print(json.dumps(response.to_dict(), indent=2))\n",
        "\n"
      ],
      "outputs": [],
      "execution_count": null
    },
    {
      "cell_type": "markdown",
      "metadata": {},
      "source": [
        "\n",
        "\n",
        "#### `locations.source.publisher_lineage`\n",
        "\n",
        "Value: the [OpenAlex ID](./../../how-to-use-the-api/get-single-entities/README.md#the-openalex-id) for a [`Publisher`](./../publishers/README.ipynb)\n",
        "\n",
        "Returns: works where the given publisher ID is in [`locations.source.host_organization_lineage`](./../sources/source-object.md#host\\_organization\\_lineage)\n",
        "\n",
        "* Get the works that have `https://openalex.org/P4310320547` in their `publisher_lineage`:\\\n",
        "  [`https://api.openalex.org/works?filter=locations.source.publisher_lineage:https://openalex.org/P4310320547`](https://api.openalex.org/works?filter=locations.source.publisher\\_lineage:https://openalex.org/P4310320547)\n",
        "\n"
      ]
    },
    {
      "cell_type": "code",
      "metadata": {},
      "source": [
        "response = works_api.get_works(\n",
        "\tfilter=\"locations.source.publisher_lineage:https://openalex.org/P4310320547\"\n",
        ")\n",
        "\n",
        "print(json.dumps(response.to_dict(), indent=2))\n",
        "\n"
      ],
      "outputs": [],
      "execution_count": null
    },
    {
      "cell_type": "markdown",
      "metadata": {},
      "source": [
        "\n",
        "\n",
        "#### `primary_location.source.has_issn`\n",
        "\n",
        "Value: a Boolean (`true` or `false`)\n",
        "\n",
        "Returns: works where the [`primary_location`](./work-object/README.md#primary\\_location) has at least one ISSN assigned.\n",
        "\n",
        "* Get the works that have an ISSN within the primary location:\\\n",
        "  [`https://api.openalex.org/works?filter=primary_location.source.has_issn:true`](https://api.openalex.org/works?filter=primary\\_location.source.has\\_issn:true)\n",
        "\n"
      ]
    },
    {
      "cell_type": "code",
      "metadata": {},
      "source": [
        "response = works_api.get_works(\n",
        "\tfilter=\"primary_location.source.has_issn:true\"\n",
        ")\n",
        "\n",
        "print(json.dumps(response.to_dict(), indent=2))\n",
        "\n"
      ],
      "outputs": [],
      "execution_count": null
    },
    {
      "cell_type": "markdown",
      "metadata": {},
      "source": [
        "\n",
        "\n",
        "#### `primary_location.source.publisher_lineage`\n",
        "\n",
        "Value: the [OpenAlex ID](./../../how-to-use-the-api/get-single-entities/README.md#the-openalex-id) for a [`Publisher`](./../publishers/README.ipynb)\n",
        "\n",
        "Returns: works where the given publisher ID is in [`primary_location.source.host_organization_lineage`](./../sources/source-object.md#host\\_organization\\_lineage)\n",
        "\n",
        "* Get the works that have `https://openalex.org/P4310320547` in their `publisher_lineage`:\\\n",
        "  [`https://api.openalex.org/works?filter=primary_location.source.publisher_lineage:https://openalex.org/P4310320547`](https://api.openalex.org/works?filter=primary\\_location.source.publisher\\_lineage:https://openalex.org/P4310320547)\n",
        "\n"
      ]
    },
    {
      "cell_type": "code",
      "metadata": {},
      "source": [
        "response = works_api.get_works(\n",
        "\tfilter=\"primary_location.source.publisher_lineage:https://openalex.org/P4310320547\"\n",
        ")\n",
        "\n",
        "print(json.dumps(response.to_dict(), indent=2))\n",
        "\n"
      ],
      "outputs": [],
      "execution_count": null
    },
    {
      "cell_type": "markdown",
      "metadata": {},
      "source": [
        "\n",
        "\n",
        "#### `raw_affiliation_string.search`\n",
        "\n",
        "Value: a search string\n",
        "\n",
        "Returns: works that have at least one [`raw_affiliation_string`](./work-object/README.md#raw\\_affiliation\\_string) which includes the given string. See the [search page](./../../how-to-use-the-api/get-lists-of-entities/search-entities.ipynb) for details on the search algorithm used.\n",
        "\n",
        "* Get works with the words _Department of Political Science, University of Amsterdam_ somewhere in at least one author's `raw_affiliation_string`: [`https://api.openalex.org/works?filter=raw_affiliation_string.search:department%20of%20political%20science%20university%20of%amsterdam`](https://api.openalex.org/works?filter=raw\\_affiliation\\_string.search:department%20of%20political%20science%20university%20of%20amsterdam)\\`\\`\n",
        "\n"
      ]
    },
    {
      "cell_type": "code",
      "metadata": {},
      "source": [
        "response = works_api.get_works(\n",
        "\tfilter=\"raw_affiliation_string.search:department of political science university of%amsterdam\"\n",
        ")\n",
        "\n",
        "print(json.dumps(response.to_dict(), indent=2))\n",
        "\n"
      ],
      "outputs": [],
      "execution_count": null
    },
    {
      "cell_type": "code",
      "metadata": {},
      "source": [
        "response = works_api.get_works(\n",
        "\tfilter=\"raw_affiliation_string.search:department of political science university of amsterdam\"\n",
        ")\n",
        "\n",
        "print(json.dumps(response.to_dict(), indent=2))\n",
        "\n"
      ],
      "outputs": [],
      "execution_count": null
    },
    {
      "cell_type": "markdown",
      "metadata": {},
      "source": [
        "\n",
        "\n",
        "#### `related_to`\n",
        "\n",
        "Value: the [OpenAlex ID](./../../how-to-use-the-api/get-single-entities/README.md#the-openalex-id) for a given work\n",
        "\n",
        "Returns: works found in the given work's [`related_works`](./work-object/README.md#related\\_works) section.\n",
        "\n",
        "* Get works related to [https://openalex.org/W2486144666](https://openalex.org/W2486144666):\\\n",
        "  [`https://api.openalex.org/works?filter=related_to:W2486144666`](https://api.openalex.org/works?filter=related\\_to:W2486144666)\n",
        "\n"
      ]
    },
    {
      "cell_type": "code",
      "metadata": {},
      "source": [
        "response = works_api.get_works(\n",
        "\tfilter=\"related_to:W2486144666\"\n",
        ")\n",
        "\n",
        "print(json.dumps(response.to_dict(), indent=2))\n",
        "\n"
      ],
      "outputs": [],
      "execution_count": null
    },
    {
      "cell_type": "markdown",
      "metadata": {},
      "source": [
        "\n",
        "\n",
        "#### `repository`\n",
        "\n",
        "Value: the [OpenAlex ID](./../../how-to-use-the-api/get-single-entities/README.md#the-openalex-id) for a given [source](./../sources/source-object.ipynb), where the source is [`type: repository`](./../sources/source-object.md#type)\n",
        "\n",
        "Returns: works where the chosen [source ID](./../sources/source-object.md#id) exists within the [`locations`](./work-object/README.md#locations).\n",
        "\n",
        "You can use this to find works where authors are associated with your university, but the work is not part of the university's repository. :clap:\n",
        "\n",
        "* Get works that are available in the University of Michigan Deep Blue repository (OpenAlex ID: `https://openalex.org/S4306400393`)\\\n",
        "  [`https://api.openalex.org/works?filter=repository:S4306400393`](https://api.openalex.org/works?filter=repository:S4306400393)\n",
        "\n"
      ]
    },
    {
      "cell_type": "code",
      "metadata": {},
      "source": [
        "response = works_api.get_works(\n",
        "\tfilter=\"repository:S4306400393\"\n",
        ")\n",
        "\n",
        "print(json.dumps(response.to_dict(), indent=2))\n",
        "\n"
      ],
      "outputs": [],
      "execution_count": null
    },
    {
      "cell_type": "markdown",
      "metadata": {},
      "source": [
        "\n",
        "* Get works where at least one author is associated with the University of Michigan, but the works are not found in the University of Michigan Deep Blue repository\\\n",
        "  [`https://api.openalex.org/works?filter=institutions.id:I27837315,repository:!S4306400393`](https://api.openalex.org/works?filter=institutions.id:I27837315,repository:!S4306400393)\n",
        "\n"
      ]
    },
    {
      "cell_type": "code",
      "metadata": {},
      "source": [
        "response = works_api.get_works(\n",
        "\tfilter=\"institutions.id:I27837315,repository:!S4306400393\"\n",
        ")\n",
        "\n",
        "print(json.dumps(response.to_dict(), indent=2))\n",
        "\n"
      ],
      "outputs": [],
      "execution_count": null
    },
    {
      "cell_type": "markdown",
      "metadata": {},
      "source": [
        "\n",
        "\n",
        "You can also use this as a `group_by` to learn things about repositories:\n",
        "\n",
        "* Learn which repositories have the most open access works [`https://api.openalex.org/works?filter=is_oa:true&group_by=repository`](https://api.openalex.org/works?filter=is\\_oa:true\\&group\\_by=repository)\n",
        "\n"
      ]
    },
    {
      "cell_type": "code",
      "metadata": {},
      "source": [
        "response = works_api.get_works(\n",
        "\tfilter=\"is_oa:true\",\n",
        "\tgroup_by=\"repository\"\n",
        ")\n",
        "\n",
        "print(json.dumps(response.to_dict(), indent=2))\n",
        "\n"
      ],
      "outputs": [],
      "execution_count": null
    },
    {
      "cell_type": "markdown",
      "metadata": {},
      "source": [
        "\n",
        "\n",
        "#### `title_and_abstract.search`\n",
        "\n",
        "Text search across titles and abstracts for works\n",
        "\n",
        "Value: a search string\n",
        "\n",
        "Returns: works whose [`display_name`](./work-object/README.md#display\\_name) (title) or abstract includes the given string; see the [search page](./../../how-to-use-the-api/get-lists-of-entities/search-entities.ipynb) for details.\n",
        "\n",
        "* Get works with title or abstract mentioning \"gum disease\": [`https://api.openalex.org/works?filter=title_and_abstract.search:gum%20disease`](https://api.openalex.org/works?filter=title\\_and\\_abstract.search:gum%20disease)\n",
        "\n"
      ]
    },
    {
      "cell_type": "code",
      "metadata": {},
      "source": [
        "response = works_api.get_works(\n",
        "\tfilter=\"title_and_abstract.search:gum disease\"\n",
        ")\n",
        "\n",
        "print(json.dumps(response.to_dict(), indent=2))\n",
        "\n"
      ],
      "outputs": [],
      "execution_count": null
    },
    {
      "cell_type": "markdown",
      "metadata": {},
      "source": [
        "\n",
        "\n",
        "#### `to_publication_date`\n",
        "\n",
        "Value: a date, formatted as `yyyy-mm-dd`\n",
        "\n",
        "Returns: works with [`publication_date`](./work-object/README.md#publication\\_date) less than or equal to the given date.\n",
        "\n",
        "* Get works published on or _before_ March 14th, 2001:\\\n",
        "  [`https://api.openalex.org/works?filter=to_publication_date:2001-03-14`](https://api.openalex.org/works?filter=to\\_publication\\_date:2001-03-14)\\`\\`\n",
        "\n"
      ]
    },
    {
      "cell_type": "code",
      "metadata": {},
      "source": [
        "response = works_api.get_works(\n",
        "\tfilter=\"to_publication_date:2001-03-14\"\n",
        ")\n",
        "\n",
        "print(json.dumps(response.to_dict(), indent=2))\n",
        "\n"
      ],
      "outputs": [],
      "execution_count": null
    },
    {
      "cell_type": "markdown",
      "metadata": {},
      "source": [
        "\n",
        "\n",
        "#### `version`\n",
        "\n",
        "Value: a String with value `publishedVersion`, `submittedVersion`, `acceptedVersion`, or `null`\n",
        "\n",
        "Returns: works where the chosen version exists within the [`locations`](./work-object/README.md#locations). If `null`, it returns works where no version is found in any of the locations.\n",
        "\n",
        "* Get works where a published version is available in at least one of the locations:\\\n",
        "  ``[`https://api.openalex.org/works?filter=version:publishedVersion`](https://api.openalex.org/works?filter=version:publishedVersion)``\n",
        "\n"
      ]
    },
    {
      "cell_type": "code",
      "metadata": {},
      "source": [
        "response = works_api.get_works(\n",
        "\tfilter=\"version:publishedVersion\"\n",
        ")\n",
        "\n",
        "print(json.dumps(response.to_dict(), indent=2))\n",
        "\n"
      ],
      "outputs": [],
      "execution_count": null
    }
  ],
  "metadata": {
    "kernelspec": {
      "display_name": "Python 3",
      "language": "python",
      "name": "python3"
    },
    "language_info": {
      "codemirror_mode": {
        "name": "ipython",
        "version": 3
      },
      "file_extension": ".py",
      "mimetype": "text/x-python",
      "name": "python",
      "pygments_lexer": "ipython3",
      "version": "3.8.5"
    }
  },
  "nbformat": 4,
  "nbformat_minor": 4
}