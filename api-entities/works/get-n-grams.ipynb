{
  "cells": [
    {
      "cell_type": "markdown",
      "metadata": {},
      "source": [
        "[![GitHub Repository](https://img.shields.io/badge/GitHub-Repository-181717?style=for-the-badge&logo=GitHub&link=https://github.com/Mearman/openalex-docs)](https://github.com/Mearman/openalex-docs)[![Open in GitHub](https://img.shields.io/badge/Open%20in-GitHub-181717?style=for-the-badge&logo=github&link=https://github.com/Mearman/openalex-docs/blob/main/api-entities/works/get-n-grams.ipynb)](https://github.com/Mearman/openalex-docs/blob/main/api-entities/works/get-n-grams.ipynb)[![Open in Colab](https://img.shields.io/badge/Open%20in-Colab-F9AB00?style=for-the-badge&logo=Google%20Colab&link=https://colab.research.google.com/github/Mearman/openalex-docs/blob/main/api-entities/works/get-n-grams.ipynb)](https://colab.research.google.com/github/Mearman/openalex-docs/blob/main/api-entities/works/get-n-grams.ipynb)"
      ]
    },
    {
      "cell_type": "code",
      "metadata": {},
      "source": [
        "%pip install --upgrade \"git+https://github.com/Mearman/openalex-python-pydantic-v1.git\"\n",
        "%pip install pandasai"
      ],
      "outputs": [],
      "execution_count": null
    },
    {
      "cell_type": "code",
      "metadata": {},
      "source": [
        "import json\n",
        "import pandas as pd\n",
        "from openalex_api_pydantic_v1 import Configuration, ApiClient,AuthorsApi, ConceptsApi, FundersApi, InstitutionsApi, PublishersApi, SourcesApi, WorksApi\n",
        "\n",
        "configuration = Configuration(host=\"https://api.openalex.org\")\n",
        "authors_api = AuthorsApi(ApiClient(configuration))\n",
        "concepts_api = ConceptsApi(ApiClient(configuration))\n",
        "funders_api = FundersApi(ApiClient(configuration))\n",
        "institutions_api = InstitutionsApi(ApiClient(configuration))\n",
        "publishers_api = PublishersApi(ApiClient(configuration))\n",
        "sources_api = SourcesApi(ApiClient(configuration))\n",
        "works_api = WorksApi(ApiClient(configuration))"
      ],
      "outputs": [],
      "execution_count": null
    },
    {
      "cell_type": "code",
      "metadata": {},
      "source": [
        "from pandasai import SmartDataframe\n",
        "from pandasai.llm import OpenAI"
      ],
      "outputs": [],
      "execution_count": null
    },
    {
      "cell_type": "code",
      "metadata": {},
      "source": [
        "openapi_token = \"\" # @param {type:\"string\"}"
      ],
      "outputs": [],
      "execution_count": null
    },
    {
      "cell_type": "markdown",
      "metadata": {},
      "source": [
        "# Get N-grams\n",
        "\n",
        "N-grams list the words and phrases that occur in the full text of a [`Work`](./work-object/README.ipynb). We obtain them from Internet Archive's publicly (and generously :clap:) available [General Index](https://archive.org/details/GeneralIndex) and use them to enable fulltext searches on the Works that have them, through both the [`fulltext.search`](./filter-works.md#fulltext.search) _filter_, and as an element of the more holistic [`search`](./search-works.md#works-full-search) _parameter_.\n",
        "\n",
        "Note that while n-grams are derived from the fulltext of a Work, the presence of n-grams for a given Work doesn't imply that the fulltext is available to you, the reader. It only means the fulltext was available to Internet Archive for indexing. [`Work.open_access`](./work-object/README.md#open\\_access) is the place to go for information on public fulltext availability.\n",
        "\n",
        "## API Endpoint\n",
        "\n",
        "In addition to enabling fulltext search capabilities, a Work's n-grams are viewable directly through an endpoint that accepts either an [OpenAlex ID](./../../how-to-use-the-api/get-single-entities/README.md#the-openalex-id) or a DOI.\n",
        "\n",
        "Unlike other API endpoints, n-grams are cached via CDN, which means this one is super fast, and you can call it as fast as you want - [rate limits](./../../how-to-use-the-api/rate-limits-and-authentication.ipynb) don't apply.\n",
        "\n",
        "* Get n-grams for [W2023271753](https://openalex.org/W2023271753):\\\n",
        "  [`https://api.openalex.org/works/W2023271753/ngrams`](https://api.openalex.org/works/W2023271753/ngrams)\\\n",
        "  [`https://api.openalex.org/works/10.1103/physrevb.37.785/ngrams`](https://api.openalex.org/works/10.1103/physrevb.37.785/ngrams)"
      ]
    },
    {
      "cell_type": "code",
      "metadata": {},
      "source": [
        "response = works_api.get_work(\n",
        "\tid=\"W2023271753\"\n",
        ")\n",
        "\n",
        "display(pd.DataFrame(response.results))"
      ],
      "outputs": [],
      "execution_count": null
    },
    {
      "cell_type": "code",
      "metadata": {},
      "source": [
        "try:\n",
        "\topenapi_token\n",
        "\tif openapi_token:\n",
        "\t\tllm = OpenAI(token=openapi_token)\n",
        "\tdf = pd.DataFrame(response.results)\n",
        "\tsdf = SmartDataframe(df, config={\"llm\": llm})\n",
        "\tsdf.chat(\"Plot a chart of this data\")\n",
        "except:\n",
        "\traise Exception(\"Please provide an openapi_token\")"
      ],
      "outputs": [],
      "execution_count": null
    },
    {
      "cell_type": "code",
      "metadata": {},
      "source": [
        "response = works_api.get_work(\n",
        "\tid=\"10.1103\"\n",
        ")\n",
        "\n",
        "display(pd.DataFrame(response.results))"
      ],
      "outputs": [],
      "execution_count": null
    },
    {
      "cell_type": "code",
      "metadata": {},
      "source": [
        "try:\n",
        "\topenapi_token\n",
        "\tif openapi_token:\n",
        "\t\tllm = OpenAI(token=openapi_token)\n",
        "\tdf = pd.DataFrame(response.results)\n",
        "\tsdf = SmartDataframe(df, config={\"llm\": llm})\n",
        "\tsdf.chat(\"Plot a chart of this data\")\n",
        "except:\n",
        "\traise Exception(\"Please provide an openapi_token\")"
      ],
      "outputs": [],
      "execution_count": null
    },
    {
      "cell_type": "markdown",
      "metadata": {},
      "source": [
        "The response is a list of [Ngram objects](./get-n-grams.md#the-ngram-object), sorted from 5-grams down to unigrams:\n",
        "\n",
        "```\n",
        "{\n",
        "  meta: {\n",
        "    count: 1068,\n",
        "    doi: \"https://doi.org/10.1103/physrevb.37.785\",\n",
        "    openalex_id: \"https://openalex.org/W2023271753\"\n",
        "  },\n",
        "  ngrams: [\n",
        "    {\n",
        "      ngram: \"energy formula into a functional\",\n",
        "      ngram_tokens: 5,\n",
        "      ngram_count: 1,\n",
        "      term_frequency: 0.0005452562704471102\n",
        "    },\n",
        "    {\n",
        "      ngram: \"functional of the electron density\",\n",
        "      ngram_tokens: 5,\n",
        "      ngram_count: 1,\n",
        "      term_frequency: 0.0005452562704471102\n",
        "    },\n",
        "    ...\n",
        "  ]\n",
        "}\n",
        "```\n",
        "\n",
        "The ID-based link is provided in [`Work.ngrams_url`](./work-object/README.md#ngrams\\_url) if n-grams are available. Works with n-grams can be found using the [`Work.has_ngrams`](./filter-works.md#has\\_ngrams) filter, which can be [combined with other filters](./../../how-to-use-the-api/get-lists-of-entities/filter-entity-lists.ipynb) using logical expressions.\n",
        "\n",
        "## Fulltext Coverage\n",
        "\n",
        "About 57 million works have n-grams coverage through [Internet Archive](https://archive.org/details/GeneralIndex). OurResearch is the first organization to host this data in a highly usable way, and we are proud to integrate it into OpenAlex!\n",
        "\n",
        "Curious about n-grams used in search? [Browse them all](./work-object/README.md#ngrams\\_url) via the API. Highly-cited works and less recent works are more likely to have n-grams, as shown by the coverage charts below:\n",
        "\n",
        "<figure><img src=\"../../.gitbook/assets/OpenAlex works w_ cited count _ 50 and fulltext (percentage).svg\" alt=\"\"><figcaption></figcaption></figure>\n",
        "\n",
        "<figure><img src=\"../../.gitbook/assets/OpenAlex total works w_ fulltext (percentage).svg\" alt=\"\"><figcaption></figcaption></figure>\n",
        "\n",
        "<figure><img src=\"../../.gitbook/assets/OpenAlex total works w_ fulltext (count).svg\" alt=\"\"><figcaption></figcaption></figure>"
      ]
    }
  ],
  "metadata": {
    "kernelspec": {
      "display_name": "Python 3",
      "language": "python",
      "name": "python3"
    },
    "language_info": {
      "codemirror_mode": {
        "name": "ipython",
        "version": 3
      },
      "file_extension": ".py",
      "mimetype": "text/x-python",
      "name": "python",
      "pygments_lexer": "ipython3",
      "version": "3.8.5"
    }
  },
  "nbformat": 4,
  "nbformat_minor": 4
}