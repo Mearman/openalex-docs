{
  "cells": [
    {
      "cell_type": "markdown",
      "metadata": {},
      "source": [
        "[![Open All Collab](https://colab.research.google.com/assets/colab-badge.svg)](https://colab.research.google.com/github/Mearman/openalex-docs/blob/main/api-entities/works/get-a-single-work.ipynb)\n",
        "\n"
      ]
    },
    {
      "cell_type": "code",
      "metadata": {},
      "source": [
        "%pip install --upgrade \"git+https://github.com/Mearman/openalex-python.git\"\n",
        "\n"
      ]
    },
    {
      "cell_type": "code",
      "metadata": {},
      "source": [
        "import json\n",
        "from openalex_api import Configuration, ApiClient,AuthorsApi, ConceptsApi, FundersApi, InstitutionsApi, PublishersApi, SourcesApi, WorksApi\n",
        "\n",
        "configuration = Configuration(host=\"https://api.openalex.org\")\n",
        "authors_api = AuthorsApi(ApiClient(configuration))\n",
        "concepts_api = ConceptsApi(ApiClient(configuration))\n",
        "funders_api = FundersApi(ApiClient(configuration))\n",
        "institutions_api = InstitutionsApi(ApiClient(configuration))\n",
        "publishers_api = PublishersApi(ApiClient(configuration))\n",
        "sources_api = SourcesApi(ApiClient(configuration))\n",
        "works_api = WorksApi(ApiClient(configuration))\n",
        "\n"
      ]
    },
    {
      "cell_type": "markdown",
      "metadata": {},
      "source": [
        "\n",
        "# Get a single work\n",
        "\n",
        "It's easy to get a work from from the API with: `/works/<entity_id>` Here's an example:\n",
        "\n",
        "* Get the work with the [OpenAlex ID](../../how-to-use-the-api/get-single-entities/#the-openalex-id) `W2741809807`: [`https://api.openalex.org/works/W2741809807`](https://api.openalex.org/works/W2741809807)\n",
        "\n"
      ]
    },
    {
      "cell_type": "code",
      "metadata": {},
      "source": [
        "response = works_api.get_work(\n",
        "\tid=\"W2741809807\"\n",
        ")\n",
        "\n",
        "print(json.dumps(response.to_dict(), indent=2))\n",
        "\n"
      ]
    },
    {
      "cell_type": "markdown",
      "metadata": {},
      "source": [
        "\n",
        "\n",
        "That will return a [`Work`](work-object/) object, describing everything OpenAlex knows about the work with that ID.\n",
        "\n",
        "```json\n",
        "{\n",
        "    \"id\": \"https://openalex.org/W2741809807\",\n",
        "    \"doi\": \"https://doi.org/10.7717/peerj.4375\",\n",
        "    \"title\": \"The state of OA: a large-scale analysis of the prevalence and impact of Open Access articles\",\n",
        "    \"display_name\": \"The state of OA: a large-scale analysis of the prevalence and impact of Open Access articles\",\n",
        "    \"publication_year\": 2018,\n",
        "    \"publication_date\": \"2018-02-13\",\n",
        "    // other fields removed for brevity\n",
        "}\n",
        "```\n",
        "\n",
        "{% hint style=\"info\" %}\n",
        "You can make up to 50 of these queries at once by requesting a list of entities and filtering on IDs [using OR syntax](../../how-to-use-the-api/get-lists-of-entities/filter-entity-lists.md#addition-or) ([tutorial](https://blog.ourresearch.org/fetch-multiple-dois-in-one-openalex-api-request/)).\n",
        "{% endhint %}\n",
        "\n",
        "## External IDs\n",
        "\n",
        "You can look up works using external IDs such as a DOI:\n",
        "\n",
        "* Get the work with this DOI: `https://doi.org/10.7717/peerj.4375`:\\\n",
        "  [https://api.openalex.org/works/https://doi.org/10.7717/peerj.4375](https://api.openalex.org/works/https://doi.org/10.7717/peerj.4375)\n",
        "\n",
        "You can use the full ID or a shorter Uniform Resource Name (URN) format like so:\n",
        "\n",
        "* Get the work with PubMed ID: `https://pubmed.ncbi.nlm.nih.gov/14907713`:\\\n",
        "  [https://api.openalex.org/works/pmid:14907713](https://api.openalex.org/works/pmid:14907713)\n",
        "\n",
        "Available external IDs for works are:\n",
        "\n"
      ]
    },
    {
      "cell_type": "code",
      "metadata": {},
      "source": [
        "response = works_api.get_work(\n",
        "\tid=\"https:\"\n",
        ")\n",
        "\n",
        "print(json.dumps(response.to_dict(), indent=2))\n",
        "\n"
      ]
    },
    {
      "cell_type": "markdown",
      "metadata": {},
      "source": [
        "\n",
        "\n",
        "| External ID                    | URN     |\n",
        "| ------------------------------ | ------- |\n",
        "| DOI                            | `doi`   |\n",
        "| Microsoft Academic Graph (MAG) | `mag`   |\n",
        "\n"
      ]
    },
    {
      "cell_type": "code",
      "metadata": {},
      "source": [
        "response = works_api.get_work(\n",
        "\tid=\"pmid:14907713\"\n",
        ")\n",
        "\n",
        "print(json.dumps(response.to_dict(), indent=2))\n",
        "\n"
      ]
    },
    {
      "cell_type": "markdown",
      "metadata": {},
      "source": [
        "\n",
        "| PubMed ID (PMID)               | `pmid`  |\n",
        "| PubMed Central ID (PMCID)      | `pmcid` |\n",
        "\n",
        "{% hint style=\"warning\" %}\n",
        "You must make sure that the ID(s) you supply are valid and correct. If an ID you request is incorrect, you will get no result. If you request an illegal ID—such as one containing a `,` or `&`, the query will fail and you will get a 403 error.\n",
        "{% endhint %}\n",
        "\n",
        "### Select fields\n",
        "\n",
        "You can use `select` to limit the fields that are returned in a work object. More details are [here](../../how-to-use-the-api/get-lists-of-entities/select-fields.md).\n",
        "\n",
        "* Display only the `id` and `display_name` for a work object\\\n",
        "  [https://api.openalex.org/works/W2741809807?select=id,display\\_name](https://api.openalex.org/works/W2741809807?select=id,display\\_name)\n"
      ]
    }
  ],
  "metadata": {
    "kernelspec": {
      "display_name": "Python 3",
      "language": "python",
      "name": "python3"
    },
    "language_info": {
      "codemirror_mode": {
        "name": "ipython",
        "version": 3
      },
      "file_extension": ".py",
      "mimetype": "text/x-python",
      "name": "python",
      "pygments_lexer": "ipython3",
      "version": "3.8.5"
    }
  },
  "nbformat": 4,
  "nbformat_minor": 4
}