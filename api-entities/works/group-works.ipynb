{
  "cells": [
    {
      "cell_type": "markdown",
      "metadata": {},
      "source": [
        "[![GitHub Repository](https://img.shields.io/badge/GitHub-Repository-181717?style=for-the-badge&logo=GitHub&link=https://github.com/Mearman/openalex-docs)](https://github.com/Mearman/openalex-docs)[![Open in GitHub](https://img.shields.io/badge/Open%20in-GitHub-181717?style=for-the-badge&logo=github&link=https://github.com/Mearman/openalex-docs/blob/main/api-entities/works/group-works.ipynb)](https://github.com/Mearman/openalex-docs/blob/main/api-entities/works/group-works.ipynb)[![Open in Colab](https://img.shields.io/badge/Open%20in-Colab-F9AB00?style=for-the-badge&logo=Google%20Colab&link=https://colab.research.google.com/github/Mearman/openalex-docs/blob/main/api-entities/works/group-works.ipynb)](https://colab.research.google.com/github/Mearman/openalex-docs/blob/main/api-entities/works/group-works.ipynb)"
      ]
    },
    {
      "cell_type": "code",
      "metadata": {},
      "source": [
        "%pip install --upgrade \"git+https://github.com/Mearman/openalex-python-pydantic-v1.git\"\n",
        "%pip install pandasai"
      ],
      "outputs": [],
      "execution_count": null
    },
    {
      "cell_type": "code",
      "metadata": {},
      "source": [
        "import json\n",
        "import pandas as pd\n",
        "import numpy as np\n",
        "from openalex_api import Configuration, ApiClient,AuthorsApi, ConceptsApi, FundersApi, InstitutionsApi, PublishersApi, SourcesApi, WorksApi\n",
        "\n",
        "configuration = Configuration(host=\"https://api.openalex.org\")\n",
        "authors_api = AuthorsApi(ApiClient(configuration))\n",
        "concepts_api = ConceptsApi(ApiClient(configuration))\n",
        "funders_api = FundersApi(ApiClient(configuration))\n",
        "institutions_api = InstitutionsApi(ApiClient(configuration))\n",
        "publishers_api = PublishersApi(ApiClient(configuration))\n",
        "sources_api = SourcesApi(ApiClient(configuration))\n",
        "works_api = WorksApi(ApiClient(configuration))"
      ],
      "outputs": [],
      "execution_count": null
    },
    {
      "cell_type": "code",
      "metadata": {},
      "source": [
        "from pandasai import SmartDataframe\n",
        "from pandasai.llm import OpenAI"
      ],
      "outputs": [],
      "execution_count": null
    },
    {
      "cell_type": "code",
      "metadata": {},
      "source": [
        "openapi_token = \"\" # @param {type:\"string\"}"
      ],
      "outputs": [],
      "execution_count": null
    },
    {
      "cell_type": "markdown",
      "metadata": {},
      "source": [
        "# Group works\n",
        "\n",
        "You can group works with the `group_by` parameter:\n",
        "\n",
        "* Get counts of works by Open Access status:\\\n",
        "  [`https://api.openalex.org/works?group_by=oa_status`](https://api.openalex.org/works?group\\_by=oa\\_status)"
      ]
    },
    {
      "cell_type": "code",
      "metadata": {},
      "source": [
        "response = works_api.get_works(\n",
        "\tgroup_by=\"oa_status\"\n",
        ")\n",
        "\n",
        "display(pd.DataFrame(response.results))"
      ],
      "outputs": [],
      "execution_count": null
    },
    {
      "cell_type": "code",
      "metadata": {},
      "source": [
        "try:\n",
        "\tprint(openapi_token)\n",
        "except:\n",
        "\traise Exception(\"Please provide an openapi_token\")\n",
        "\n",
        "df = pd.DataFrame(response.results)\n",
        "numeric_df = df.select_dtypes(include=[np.number])\n",
        "display(numeric_df)\n",
        "\n",
        "llm = OpenAI(api_token=openapi_token)\n",
        "sdf = SmartDataframe(numeric_df, config={\"llm\": llm})\n",
        "sdf.chat(\"Plot a chart of this data\")"
      ],
      "outputs": [],
      "execution_count": null
    },
    {
      "cell_type": "markdown",
      "metadata": {},
      "source": [
        "Or you can group using one the attributes below.\n",
        "\n",
        "{% hint style=\"info\" %}\n",
        "It's best to [read about group by](./../../how-to-use-the-api/get-groups-of-entities.ipynb) before trying these out. It will show you how results are formatted, the number of results returned, and how to sort results.\n",
        "{% endhint %}\n",
        "\n",
        "### `/works` group\\_by attributes\n",
        "\n",
        "{% hint style=\"danger\" %}\n",
        "The `host_venue` and `alternate_host_venues` properties have been deprecated in favor of [`primary_location`](./work-object/README.md#primary\\_location) and [`locations`](./work-object/README.md#locations). The attributes `host_venue` and `alternate_host_venues` are no longer available in the Work object, and trying to access them in filters or group-bys will return an error.\n",
        "{% endhint %}\n",
        "\n",
        "* [`authors_count`](./filter-works.md#authors\\_count)\n",
        "* [`authorships.author.id`](./work-object/README.md#author) (alias `author.id`)\n",
        "* [`authorships.author.orcid`](./work-object/README.md#author) (alias `author.orcid`)\n",
        "* [`authorships.countries`](./work-object/authorship-object.md#countries)\n",
        "* [`authorships.institutions.country_code`](./work-object/README.md#institutions) (alias `institutions.country_code`)\n",
        "* [`authorships.institutions.continent`](./filter-works.md#authorships.institutions.continent-alias-institutions.continent) (alias `institutions.continent`)\n",
        "* [`authorships.institutions.is_global_south`](./filter-works.md#authorships.institutions.is\\_global\\_south-alias-institutions.is\\_global\\_south)\n",
        "* [`authorships.institutions.id`](./work-object/README.md#institutions) (alias `institutions.id`)\n",
        "* [`authorships.institutions.lineage`](./work-object/authorship-object.md#institutions)\n",
        "* [`authorships.institutions.ror`](./work-object/README.md#institutions) (alias `institutions.ror`)\n",
        "* [`authorships.institutions.type`](./work-object/README.md#institutions) (alias `institutions.type`)\n",
        "* [`authorships.is_corresponding`](./work-object/authorship-object.md#is\\_corresponding) (alias: `is_corresponding`): this marks whether or not we have corresponding author information for a given work\n",
        "* [`apc_list.value`](./work-object/README.md#apc\\_list)\n",
        "* [`apc_list.currency`](./work-object/README.md#apc\\_list)\n",
        "* [`apc_list.provenance`](./work-object/README.md#apc\\_list)\n",
        "* [`apc_list.value_usd`](./work-object/README.md#apc\\_list)\n",
        "* [`apc_paid.value`](./work-object/README.md#apc\\_paid)\n",
        "* [`apc_paid.currency`](./work-object/README.md#apc\\_paid)\n",
        "* [`apc_paid.provenance`](./work-object/README.md#apc\\_paid)\n",
        "* [`apc_paid.value_usd`](./work-object/README.md#apc\\_paid)\n",
        "* [`best_oa_location.is_accepted`](./work-object/README.md#best\\_oa\\_location)\n",
        "* [`best_oa_location.is_published`](./work-object/README.md#best\\_oa\\_location)\n",
        "* [`best_oa_location.license`](./work-object/README.md#best\\_oa\\_location)\n",
        "* [`best_oa_location.source.host_organization`](./work-object/README.md#best\\_oa\\_location)\n",
        "* [`best_oa_location.source.id`](./work-object/README.md#best\\_oa\\_location)\n",
        "* [`best_oa_location.source.is_in_doaj`](./work-object/README.md#best\\_oa\\_location)\n",
        "* [`best_oa_location.source.issn`](./work-object/README.md#best\\_oa\\_location)\n",
        "* [`best_oa_location.source.type`](./work-object/README.md#best\\_oa\\_location)\n",
        "* [`best_oa_location.version`](./work-object/README.md#best\\_oa\\_location)\n",
        "* [`best_open_version`](./filter-works.md#best\\_open\\_version)\n",
        "* [`cited_by_count`](./work-object/README.md#cited\\_by\\_count)\n",
        "* [`cites`](./filter-works.md#cites)\n",
        "* [`concepts_count`](./filter-works.md#concepts\\_count)\n",
        "* [`concepts.id`](./work-object/README.md#concepts)\n",
        "* [`concepts.wikidata`](./work-object/README.md#concepts)\n",
        "* [`corresponding_author_ids`](./work-object/README.md#corresponding\\_author\\_ids)\n",
        "* [`corresponding_institution_ids`](./work-object/README.md#corresponding\\_institution\\_ids)\n",
        "* [`countries_distinct_count`](./work-object/README.md#countries_distinct_count)\n",
        "* [`fulltext_origin`](./work-object/README.md#fulltext_origin)\n",
        "* [`grants.award_id`](./work-object/README.md#grants)\n",
        "* [`grants.funder`](./work-object/README.md#grants)\n",
        "* [`has_abstract`](./filter-works.md#has\\_abstract)\n",
        "* [`has_doi`](./filter-works.md#has\\_doi)\n",
        "* [`has_fulltext`](./work-object/README.md#has_fulltext)\n",
        "* [`has_orcid`](./filter-works.md#has\\_orcid)\n",
        "* [`has_pmid`](./filter-works.md#has\\_pmid)\n",
        "* [`has_pmcid`](./filter-works.md#has\\_pmcid)\n",
        "* [`has_ngrams`](./filter-works.md#has\\_ngrams) (DEPRECATED)\n",
        "* [`has_references`](./filter-works.md#has\\_references)\n",
        "* [`is_retracted`](./work-object/README.md#is\\_retracted)\n",
        "* [`is_paratext`](./work-object/README.md#is\\_paratext)\n",
        "* [`journal`](./filter-works.md#journal)\n",
        "* [`keywords.keyword`](./work-object/README.md#keywords)\n",
        "* [`language`](./work-object/README.md#language)\n",
        "* [`locations.is_accepted`](./work-object/README.md#locations)\n",
        "* [`locations.is_published`](./work-object/README.md#locations)\n",
        "* [`locations.source.host_institutions_lineage`](./filter-works.md#locations.source.host\\_institution\\_lineage)\n",
        "* [`locations.source.is_in_doaj`](./work-object/README.md#locations)\n",
        "* [`locations.source.publisher_lineage`](./filter-works.md#locations.source.publisher\\_lineage)\n",
        "* [`locations_count`](./work-object/README.md#locations\\_count)\n",
        "* [`open_access.any_repository_has_fulltext`](./work-object/README.md#open\\_access)\n",
        "* [`open_access.is_oa`](./work-object/README.md#is\\_oa-1) (alias `is_oa`)\n",
        "* [`open_access.oa_status`](./work-object/README.md#oa\\_status) (alias `oa_status`)\n",
        "* [`primary_location.is_accepted`](./work-object/README.md#primary\\_location)\n",
        "* [`primary_location.is_oa`](./work-object/README.md#primary\\_location)\n",
        "* [`primary_location.is_published`](./work-object/README.md#primary\\_location)\n",
        "* [`primary_location.license`](./work-object/README.md#primary\\_location)\n",
        "* [`primary_location.source.has_issn`](./work-object/README.md#primary\\_location)\n",
        "* [`primary_location.source.host_organization`](./work-object/README.md#primary\\_location)\n",
        "* [`primary_location.source.id`](./work-object/README.md#primary\\_location)\n",
        "* [`primary_location.source.is_in_doaj`](./work-object/README.md#primary\\_location)\n",
        "* [`primary_location.source.issn`](./work-object/README.md#primary\\_location)\n",
        "* [`locations.source.publisher_lineage`](./filter-works.md#primary_location.source.publisher\\_lineage)\n",
        "* [`primary_location.source.type`](./work-object/README.md#primary\\_location)\n",
        "* [`primary_location.version`](./work-object/README.md#primary\\_location)\n",
        "* [`publication_year`](./work-object/README.md#publication\\_year)\n",
        "* [`repository`](./filter-works.md#repository)\n",
        "* [`sustainable_development_goals.id`](./work-object/README.md#sustainable_development_goals)\n",
        "* [`type`](./work-object/README.md#type)\n",
        "* [`type_crossref`](./work-object/README.md#type_crossref)"
      ]
    }
  ],
  "metadata": {
    "kernelspec": {
      "display_name": "Python 3",
      "language": "python",
      "name": "python3"
    },
    "language_info": {
      "codemirror_mode": {
        "name": "ipython",
        "version": 3
      },
      "file_extension": ".py",
      "mimetype": "text/x-python",
      "name": "python",
      "pygments_lexer": "ipython3",
      "version": "3.8.5"
    }
  },
  "nbformat": 4,
  "nbformat_minor": 4
}