{
  "cells": [
    {
      "cell_type": "markdown",
      "metadata": {},
      "source": [
        "[![GitHub Repository](https://img.shields.io/badge/GitHub-Repository-181717?style=for-the-badge&logo=GitHub&link=https://github.com/Mearman/openalex-docs/tree/main)](https://github.com/Mearman/openalex-docs/tree/main)[![Open in GitHub](https://img.shields.io/badge/Open%20in-GitHub-181717?style=for-the-badge&logo=github&link=https://github.com/Mearman/openalex-docs/blob/main/api-entities/works/group-works.ipynb)](https://github.com/Mearman/openalex-docs/blob/main/api-entities/works/group-works.ipynb)[![Open in Colab](https://img.shields.io/badge/Open%20in-Colab-F9AB00?style=for-the-badge&logo=Google%20Colab&link=https://colab.research.google.com/github/Mearman/openalex-docs/blob/main/api-entities/works/group-works.ipynb)](https://colab.research.google.com/github/Mearman/openalex-docs/blob/main/api-entities/works/group-works.ipynb)"
      ]
    },
    {
      "cell_type": "code",
      "metadata": {},
      "source": [
        "%pip install --upgrade \"git+https://github.com/Mearman/openalex-python-pydantic-v1.git\"\n",
        "%pip install pandasai"
      ],
      "outputs": [],
      "execution_count": null
    },
    {
      "cell_type": "code",
      "metadata": {},
      "source": [
        "import json\n",
        "import pandas as pd\n",
        "import numpy as np\n",
        "from openalex_api import Configuration, ApiClient, AutocompleteApi, AuthorsApi, ConceptsApi, FundersApi, InstitutionsApi, PublishersApi, SourcesApi, WorksApi\n",
        "\n",
        "configuration = Configuration(host=\"https://api.openalex.org\")\n",
        "autocomplete_api = AutocompleteApi(ApiClient(configuration))\n",
        "authors_api = AuthorsApi(ApiClient(configuration))\n",
        "concepts_api = ConceptsApi(ApiClient(configuration))\n",
        "funders_api = FundersApi(ApiClient(configuration))\n",
        "institutions_api = InstitutionsApi(ApiClient(configuration))\n",
        "publishers_api = PublishersApi(ApiClient(configuration))\n",
        "sources_api = SourcesApi(ApiClient(configuration))\n",
        "works_api = WorksApi(ApiClient(configuration))\n",
        "\n",
        "from pandasai import SmartDataframe\n",
        "from pandasai.llm import OpenAI"
      ],
      "outputs": [],
      "execution_count": null
    },
    {
      "cell_type": "code",
      "metadata": {},
      "source": [
        "# @title  { run: \"auto\", display-mode: \"form\" }\n",
        "openapi_token = \"\" # @param {type:\"string\"}"
      ],
      "outputs": [],
      "execution_count": null
    },
    {
      "cell_type": "markdown",
      "metadata": {},
      "source": [
        "# Group works\n",
        "\n",
        "You can group works with the `group_by` parameter:\n",
        "\n",
        "* Get counts of works by Open Access status:\n",
        "  [`https://api.openalex.org/works?group_by=oa_status`](https://api.openalex.org/works?group_by=oa_status)"
      ]
    },
    {
      "cell_type": "code",
      "metadata": {},
      "source": [
        "# @title { run: \"auto\", vertical-output: false }\n",
        "# https://api.openalex.org/works?group_by=oa_status\n",
        "group_by=\"oa_status\" # @param {type: \"string\"}\n",
        "\n",
        "response = works_api.get_works(\n",
        "\tgroup_by=group_by\n",
        ")\n",
        "\n",
        "df = pd.DataFrame(response.group_by)\n",
        "display(df)"
      ],
      "outputs": [],
      "execution_count": null
    },
    {
      "cell_type": "code",
      "metadata": {},
      "source": [
        "numeric_df = df.set_index('key')\n",
        "display(numeric_df)"
      ],
      "outputs": [],
      "execution_count": null
    },
    {
      "cell_type": "code",
      "metadata": {},
      "source": [
        "try:\n",
        "\tprompt = \"Visualize this data\" # @param {type:\"string\"}\n",
        "\tSmartDataframe(\n",
        "\t\tnumeric_df,\n",
        "\t\tconfig={\"llm\": (OpenAI(api_token=openapi_token))},\n",
        "\t).chat(prompt)\n",
        "except:\n",
        "\tif not openapi_token:\n",
        "\t\tprint(\"Error: openapi_token not set\")\n",
        "\telse:\n",
        "\t\tprint(\"Error when creating SmartDataframe\")"
      ],
      "outputs": [],
      "execution_count": null
    },
    {
      "cell_type": "markdown",
      "metadata": {},
      "source": [
        "Or you can group using one the attributes below.\n",
        "\n",
        "{% hint style=\"info\" %}\n",
        "It's best to [read about group by](./../../how-to-use-the-api/get-groups-of-entities.ipynb) before trying these out. It will show you how results are formatted, the number of results returned, and how to sort results.\n",
        "{% endhint %}\n",
        "\n",
        "### `/works` group_by attributes\n",
        "\n",
        "{% hint style=\"danger\" %}\n",
        "The `host_venue` and `alternate_host_venues` properties have been deprecated in favor of [`primary_location`](./work-object/README.md#primary_location) and [`locations`](./work-object/README.md#locations). The attributes `host_venue` and `alternate_host_venues` are no longer available in the Work object, and trying to access them in filters or group-bys will return an error.\n",
        "{% endhint %}\n",
        "\n",
        "* [`authors_count`](./filter-works.md#authors_count)\n",
        "* [`authorships.author.id`](./work-object/README.md#author) (alias `author.id`)\n",
        "* [`authorships.author.orcid`](./work-object/README.md#author) (alias `author.orcid`)\n",
        "* [`authorships.countries`](./work-object/authorship-object.md#countries)\n",
        "* [`authorships.institutions.country_code`](./work-object/README.md#institutions) (alias `institutions.country_code`)\n",
        "* [`authorships.institutions.continent`](./filter-works.md#authorships.institutions.continent-alias-institutions.continent) (alias `institutions.continent`)\n",
        "* [`authorships.institutions.is_global_south`](./filter-works.md#authorships.institutions.is_global_south-alias-institutions.is_global_south)\n",
        "* [`authorships.institutions.id`](./work-object/README.md#institutions) (alias `institutions.id`)\n",
        "* [`authorships.institutions.lineage`](./work-object/authorship-object.md#institutions)\n",
        "* [`authorships.institutions.ror`](./work-object/README.md#institutions) (alias `institutions.ror`)\n",
        "* [`authorships.institutions.type`](./work-object/README.md#institutions) (alias `institutions.type`)\n",
        "* [`authorships.is_corresponding`](./work-object/authorship-object.md#is_corresponding) (alias: `is_corresponding`): this marks whether or not we have corresponding author information for a given work\n",
        "* [`apc_list.value`](./work-object/README.md#apc_list)\n",
        "* [`apc_list.currency`](./work-object/README.md#apc_list)\n",
        "* [`apc_list.provenance`](./work-object/README.md#apc_list)\n",
        "* [`apc_list.value_usd`](./work-object/README.md#apc_list)\n",
        "* [`apc_paid.value`](./work-object/README.md#apc_paid)\n",
        "* [`apc_paid.currency`](./work-object/README.md#apc_paid)\n",
        "* [`apc_paid.provenance`](./work-object/README.md#apc_paid)\n",
        "* [`apc_paid.value_usd`](./work-object/README.md#apc_paid)\n",
        "* [`best_oa_location.is_accepted`](./work-object/README.md#best_oa_location)\n",
        "* [`best_oa_location.is_published`](./work-object/README.md#best_oa_location)\n",
        "* [`best_oa_location.license`](./work-object/README.md#best_oa_location)\n",
        "* [`best_oa_location.source.host_organization`](./work-object/README.md#best_oa_location)\n",
        "* [`best_oa_location.source.id`](./work-object/README.md#best_oa_location)\n",
        "* [`best_oa_location.source.is_in_doaj`](./work-object/README.md#best_oa_location)\n",
        "* [`best_oa_location.source.issn`](./work-object/README.md#best_oa_location)\n",
        "* [`best_oa_location.source.type`](./work-object/README.md#best_oa_location)\n",
        "* [`best_oa_location.version`](./work-object/README.md#best_oa_location)\n",
        "* [`best_open_version`](./filter-works.md#best_open_version)\n",
        "* [`cited_by_count`](./work-object/README.md#cited_by_count)\n",
        "* [`cites`](./filter-works.md#cites)\n",
        "* [`concepts_count`](./filter-works.md#concepts_count)\n",
        "* [`concepts.id`](./work-object/README.md#concepts)\n",
        "* [`concepts.wikidata`](./work-object/README.md#concepts)\n",
        "* [`corresponding_author_ids`](./work-object/README.md#corresponding_author_ids)\n",
        "* [`corresponding_institution_ids`](./work-object/README.md#corresponding_institution_ids)\n",
        "* [`countries_distinct_count`](./work-object/README.md#countries_distinct_count)\n",
        "* [`fulltext_origin`](./work-object/README.md#fulltext_origin)\n",
        "* [`grants.award_id`](./work-object/README.md#grants)\n",
        "* [`grants.funder`](./work-object/README.md#grants)\n",
        "* [`has_abstract`](./filter-works.md#has_abstract)\n",
        "* [`has_doi`](./filter-works.md#has_doi)\n",
        "* [`has_fulltext`](./work-object/README.md#has_fulltext)\n",
        "* [`has_orcid`](./filter-works.md#has_orcid)\n",
        "* [`has_pmid`](./filter-works.md#has_pmid)\n",
        "* [`has_pmcid`](./filter-works.md#has_pmcid)\n",
        "* [`has_ngrams`](./filter-works.md#has_ngrams) (DEPRECATED)\n",
        "* [`has_references`](./filter-works.md#has_references)\n",
        "* [`is_retracted`](./work-object/README.md#is_retracted)\n",
        "* [`is_paratext`](./work-object/README.md#is_paratext)\n",
        "* [`journal`](./filter-works.md#journal)\n",
        "* [`keywords.keyword`](./work-object/README.md#keywords)\n",
        "* [`language`](./work-object/README.md#language)\n",
        "* [`locations.is_accepted`](./work-object/README.md#locations)\n",
        "* [`locations.is_published`](./work-object/README.md#locations)\n",
        "* [`locations.source.host_institutions_lineage`](./filter-works.md#locations.source.host_institution_lineage)\n",
        "* [`locations.source.is_in_doaj`](./work-object/README.md#locations)\n",
        "* [`locations.source.publisher_lineage`](./filter-works.md#locations.source.publisher_lineage)\n",
        "* [`locations_count`](./work-object/README.md#locations_count)\n",
        "* [`open_access.any_repository_has_fulltext`](./work-object/README.md#open_access)\n",
        "* [`open_access.is_oa`](./work-object/README.md#is_oa-1) (alias `is_oa`)\n",
        "* [`open_access.oa_status`](./work-object/README.md#oa_status) (alias `oa_status`)\n",
        "* [`primary_location.is_accepted`](./work-object/README.md#primary_location)\n",
        "* [`primary_location.is_oa`](./work-object/README.md#primary_location)\n",
        "* [`primary_location.is_published`](./work-object/README.md#primary_location)\n",
        "* [`primary_location.license`](./work-object/README.md#primary_location)\n",
        "* [`primary_location.source.has_issn`](./work-object/README.md#primary_location)\n",
        "* [`primary_location.source.host_organization`](./work-object/README.md#primary_location)\n",
        "* [`primary_location.source.id`](./work-object/README.md#primary_location)\n",
        "* [`primary_location.source.is_in_doaj`](./work-object/README.md#primary_location)\n",
        "* [`primary_location.source.issn`](./work-object/README.md#primary_location)\n",
        "* [`locations.source.publisher_lineage`](./filter-works.md#primary_location.source.publisher_lineage)\n",
        "* [`primary_location.source.type`](./work-object/README.md#primary_location)\n",
        "* [`primary_location.version`](./work-object/README.md#primary_location)\n",
        "* [`publication_year`](./work-object/README.md#publication_year)\n",
        "* [`repository`](./filter-works.md#repository)\n",
        "* [`sustainable_development_goals.id`](./work-object/README.md#sustainable_development_goals)\n",
        "* [`type`](./work-object/README.md#type)\n",
        "* [`type_crossref`](./work-object/README.md#type_crossref)"
      ]
    }
  ],
  "metadata": {
    "kernelspec": {
      "display_name": "Python 3",
      "language": "python",
      "name": "python3"
    },
    "language_info": {
      "codemirror_mode": {
        "name": "ipython",
        "version": 3
      },
      "file_extension": ".py",
      "mimetype": "text/x-python",
      "name": "python",
      "pygments_lexer": "ipython3",
      "version": "3.8.5"
    }
  },
  "nbformat": 4,
  "nbformat_minor": 4
}