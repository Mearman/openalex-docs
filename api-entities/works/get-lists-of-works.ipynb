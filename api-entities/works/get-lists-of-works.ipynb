{
  "cells": [
    {
      "cell_type": "markdown",
      "metadata": {},
      "source": [
        "[![GitHub Repository](https://img.shields.io/badge/GitHub-Repository-181717?style=for-the-badge&logo=GitHub&link=https://github.com/Mearman/openalex-docs)](https://github.com/Mearman/openalex-docs)[![Open in GitHub](https://img.shields.io/badge/Open%20in-GitHub-181717?style=for-the-badge&logo=github&link=https://github.com/Mearman/openalex-docs/blob/main/api-entities/works/get-lists-of-works.ipynb)](https://github.com/Mearman/openalex-docs/blob/main/api-entities/works/get-lists-of-works.ipynb)[![Open in Colab](https://img.shields.io/badge/Open%20in-Colab-F9AB00?style=for-the-badge&logo=Google%20Colab&link=https://colab.research.google.com/github/Mearman/openalex-docs/blob/main/api-entities/works/get-lists-of-works.ipynb)](https://colab.research.google.com/github/Mearman/openalex-docs/blob/main/api-entities/works/get-lists-of-works.ipynb)"
      ]
    },
    {
      "cell_type": "code",
      "metadata": {},
      "source": [
        "%pip install --upgrade \"git+https://github.com/Mearman/openalex-python-pydantic-v1.git\"\n",
        "%pip install pandasai"
      ],
      "outputs": [],
      "execution_count": null
    },
    {
      "cell_type": "code",
      "metadata": {},
      "source": [
        "import json\n",
        "import pandas as pd\n",
        "import numpy as np\n",
        "from openalex_api import Configuration, ApiClient, AutocompleteApi, AuthorsApi, ConceptsApi, FundersApi, InstitutionsApi, PublishersApi, SourcesApi, WorksApi\n",
        "\n",
        "configuration = Configuration(host=\"https://api.openalex.org\")\n",
        "autocomplete_api = AutocompleteApi(ApiClient(configuration))\n",
        "authors_api = AuthorsApi(ApiClient(configuration))\n",
        "concepts_api = ConceptsApi(ApiClient(configuration))\n",
        "funders_api = FundersApi(ApiClient(configuration))\n",
        "institutions_api = InstitutionsApi(ApiClient(configuration))\n",
        "publishers_api = PublishersApi(ApiClient(configuration))\n",
        "sources_api = SourcesApi(ApiClient(configuration))\n",
        "works_api = WorksApi(ApiClient(configuration))\n",
        "\n",
        "from pandasai import SmartDataframe\n",
        "from pandasai.llm import OpenAI"
      ],
      "outputs": [],
      "execution_count": null
    },
    {
      "cell_type": "code",
      "metadata": {},
      "source": [
        "# @title  { run: \"auto\", display-mode: \"form\" }\n",
        "openapi_token = \"\" # @param {type:\"string\"}"
      ],
      "outputs": [],
      "execution_count": null
    },
    {
      "cell_type": "markdown",
      "metadata": {},
      "source": [
        "# Get lists of works\n",
        "\n",
        "You can get lists of works:\n",
        "\n",
        "* Get _all_ of the works in OpenAlex\\\n",
        "  [https://api.openalex.org/works](https://api.openalex.org/works)"
      ]
    },
    {
      "cell_type": "code",
      "metadata": {},
      "source": [
        "# @title { run: \"auto\", vertical-output: false }\n",
        "# https://api.openalex.org/works\n",
        "\n",
        "\n",
        "response = works_api.get_works(\n",
        "\t\n",
        ")\n",
        "\n",
        "df = pd.DataFrame(response.results)\n",
        "display(df)"
      ],
      "outputs": [],
      "execution_count": null
    },
    {
      "cell_type": "code",
      "metadata": {},
      "source": [
        "numeric_df = df[['id', 'display_name'] +\n",
        "\t[col for col in df.columns if df[col].dtype in ['int64', 'float64'] and col != 'relevance_score']]\n",
        "display(numeric_df)\n",
        "\n",
        "try:\n",
        "\tllm = OpenAI(api_token = openapi_token)\n",
        "\tsdf = SmartDataframe(numeric_df, config = { \"llm\": llm })\n",
        "\tsdf.chat(\"Plot a chart of this data\")\n",
        "except:\n",
        "\tif not openapi_token:\n",
        "\t\tprint(\"Error: openapi_token not set\")\n",
        "\telse:\n",
        "\t\tprint(\"Error when creating SmartDataframe\")"
      ],
      "outputs": [],
      "execution_count": null
    },
    {
      "cell_type": "markdown",
      "metadata": {},
      "source": [
        "Which returns a response like this:\n",
        "\n",
        "```json\n",
        "{\n",
        "    \"meta\": {\n",
        "        \"count\": 245684392,\n",
        "        \"db_response_time_ms\": 929,\n",
        "        \"page\": 1,\n",
        "        \"per_page\": 25\n",
        "    },\n",
        "    \"results\": [\n",
        "        {\n",
        "            \"id\": \"https://openalex.org/W1775749144\",\n",
        "            \"doi\": \"https://doi.org/10.1016/s0021-9258(19)52451-6\",\n",
        "            \"title\": \"PROTEIN MEASUREMENT WITH THE FOLIN PHENOL REAGENT\",\n",
        "            // more fields (removed to save space)\n",
        "        },\n",
        "        {\n",
        "            \"id\": \"https://openalex.org/W2100837269\",\n",
        "            \"doi\": \"https://doi.org/10.1038/227680a0\",\n",
        "            \"title\": \"Cleavage of Structural Proteins during the Assembly of the Head of Bacteriophage T4\",\n",
        "            // more fields (removed to save space)\n",
        "        },\n",
        "        // more results (removed to save space)\n",
        "    ],\n",
        "    \"group_by\": []\n",
        "}\n",
        "```\n",
        "\n",
        "## Page and sort works\n",
        "\n",
        "You can [page through](./../../how-to-use-the-api/get-lists-of-entities/paging.ipynb) works and change the default number of results returned with the `page` and `per-page` parameters:\n",
        "\n",
        "* Get a second page of results with 50 results per page\\\n",
        "  [https://api.openalex.org/works?per-page=50\\&page=2](https://api.openalex.org/works?per-page=50\\&page=2)"
      ]
    },
    {
      "cell_type": "code",
      "metadata": {},
      "source": [
        "# @title { run: \"auto\", vertical-output: false }\n",
        "# https://api.openalex.org/works?per-page=50&page=2\n",
        "per_page=\"50\" # @param \"50\" {type: \"string\"},\n",
        "\tpage=\"2\" # @param \"2\" {type: \"string\"}\n",
        "\n",
        "response = works_api.get_works(\n",
        "\tper_page=per_page,\n",
        "\tpage=page\n",
        ")\n",
        "\n",
        "df = pd.DataFrame(response.results)\n",
        "display(df)"
      ],
      "outputs": [],
      "execution_count": null
    },
    {
      "cell_type": "code",
      "metadata": {},
      "source": [
        "numeric_df = df[['id', 'display_name'] +\n",
        "\t[col for col in df.columns if df[col].dtype in ['int64', 'float64'] and col != 'relevance_score']]\n",
        "display(numeric_df)\n",
        "\n",
        "try:\n",
        "\tllm = OpenAI(api_token = openapi_token)\n",
        "\tsdf = SmartDataframe(numeric_df, config = { \"llm\": llm })\n",
        "\tsdf.chat(\"Plot a chart of this data\")\n",
        "except:\n",
        "\tif not openapi_token:\n",
        "\t\tprint(\"Error: openapi_token not set\")\n",
        "\telse:\n",
        "\t\tprint(\"Error when creating SmartDataframe\")"
      ],
      "outputs": [],
      "execution_count": null
    },
    {
      "cell_type": "markdown",
      "metadata": {},
      "source": [
        "You can [sort results](./../../how-to-use-the-api/get-lists-of-entities/sort-entity-lists.ipynb) with the `sort` parameter:\n",
        "\n",
        "* Sort works by publication year\\\n",
        "  [https://api.openalex.org/works?sort=publication\\_year](https://api.openalex.org/works?sort=publication\\_year)"
      ]
    },
    {
      "cell_type": "code",
      "metadata": {},
      "source": [
        "# @title { run: \"auto\", vertical-output: false }\n",
        "# https://api.openalex.org/works?sort=publication_year\n",
        "sort=\"publication_year\" # @param \"publication_year\" {type: \"string\"}\n",
        "\n",
        "response = works_api.get_works(\n",
        "\tsort=sort\n",
        ")\n",
        "\n",
        "df = pd.DataFrame(response.results)\n",
        "display(df)"
      ],
      "outputs": [],
      "execution_count": null
    },
    {
      "cell_type": "code",
      "metadata": {},
      "source": [
        "numeric_df = df[['id', 'display_name'] +\n",
        "\t[col for col in df.columns if df[col].dtype in ['int64', 'float64'] and col != 'relevance_score']]\n",
        "display(numeric_df)\n",
        "\n",
        "try:\n",
        "\tllm = OpenAI(api_token = openapi_token)\n",
        "\tsdf = SmartDataframe(numeric_df, config = { \"llm\": llm })\n",
        "\tsdf.chat(\"Plot a chart of this data\")\n",
        "except:\n",
        "\tif not openapi_token:\n",
        "\t\tprint(\"Error: openapi_token not set\")\n",
        "\telse:\n",
        "\t\tprint(\"Error when creating SmartDataframe\")"
      ],
      "outputs": [],
      "execution_count": null
    },
    {
      "cell_type": "markdown",
      "metadata": {},
      "source": [
        "Continue on to learn how you can [filter](./filter-works.ipynb) and [search](./search-works.ipynb) lists of works.\n",
        "\n",
        "## Sample works\n",
        "\n",
        "You can use `sample` to get a random batch of works. Read more about sampling and how to add a `seed` value [here](./../../how-to-use-the-api/get-lists-of-entities/sample-entity-lists.ipynb).\n",
        "\n",
        "* Get 20 random works\\\n",
        "  [https://api.openalex.org/works?sample=20](https://api.openalex.org/works?sample=20)"
      ]
    },
    {
      "cell_type": "code",
      "metadata": {},
      "source": [
        "# @title { run: \"auto\", vertical-output: false }\n",
        "# https://api.openalex.org/works?sample=20\n",
        "sample=\"20\" # @param \"20\" {type: \"string\"}\n",
        "\n",
        "response = works_api.get_works(\n",
        "\tsample=sample\n",
        ")\n",
        "\n",
        "df = pd.DataFrame(response.results)\n",
        "display(df)"
      ],
      "outputs": [],
      "execution_count": null
    },
    {
      "cell_type": "code",
      "metadata": {},
      "source": [
        "numeric_df = df[['id', 'display_name'] +\n",
        "\t[col for col in df.columns if df[col].dtype in ['int64', 'float64'] and col != 'relevance_score']]\n",
        "display(numeric_df)\n",
        "\n",
        "try:\n",
        "\tllm = OpenAI(api_token = openapi_token)\n",
        "\tsdf = SmartDataframe(numeric_df, config = { \"llm\": llm })\n",
        "\tsdf.chat(\"Plot a chart of this data\")\n",
        "except:\n",
        "\tif not openapi_token:\n",
        "\t\tprint(\"Error: openapi_token not set\")\n",
        "\telse:\n",
        "\t\tprint(\"Error when creating SmartDataframe\")"
      ],
      "outputs": [],
      "execution_count": null
    },
    {
      "cell_type": "markdown",
      "metadata": {},
      "source": [
        "## Select fields\n",
        "\n",
        "You can use `select` to limit the fields that are returned in a list of works. More details are [here](./../../how-to-use-the-api/get-lists-of-entities/select-fields.ipynb).\n",
        "\n",
        "* Display only the `id` and `display_name` within works results\\\n",
        "  [https://api.openalex.org/works?select=id,display\\_name](https://api.openalex.org/works?select=id,display\\_name)"
      ]
    },
    {
      "cell_type": "code",
      "metadata": {},
      "source": [
        "# @title { run: \"auto\", vertical-output: false }\n",
        "# https://api.openalex.org/works?select=id,display_name\n",
        "select=\"id,display_name\" # @param \"id,display_name\" {type: \"string\"}\n",
        "\n",
        "response = works_api.get_works(\n",
        "\tselect=select\n",
        ")\n",
        "\n",
        "df = pd.DataFrame(response.results)\n",
        "display(df)"
      ],
      "outputs": [],
      "execution_count": null
    },
    {
      "cell_type": "code",
      "metadata": {},
      "source": [
        "numeric_df = df[['id', 'display_name'] +\n",
        "\t[col for col in df.columns if df[col].dtype in ['int64', 'float64'] and col != 'relevance_score']]\n",
        "display(numeric_df)\n",
        "\n",
        "try:\n",
        "\tllm = OpenAI(api_token = openapi_token)\n",
        "\tsdf = SmartDataframe(numeric_df, config = { \"llm\": llm })\n",
        "\tsdf.chat(\"Plot a chart of this data\")\n",
        "except:\n",
        "\tif not openapi_token:\n",
        "\t\tprint(\"Error: openapi_token not set\")\n",
        "\telse:\n",
        "\t\tprint(\"Error when creating SmartDataframe\")"
      ],
      "outputs": [],
      "execution_count": null
    }
  ],
  "metadata": {
    "kernelspec": {
      "display_name": "Python 3",
      "language": "python",
      "name": "python3"
    },
    "language_info": {
      "codemirror_mode": {
        "name": "ipython",
        "version": 3
      },
      "file_extension": ".py",
      "mimetype": "text/x-python",
      "name": "python",
      "pygments_lexer": "ipython3",
      "version": "3.8.5"
    }
  },
  "nbformat": 4,
  "nbformat_minor": 4
}