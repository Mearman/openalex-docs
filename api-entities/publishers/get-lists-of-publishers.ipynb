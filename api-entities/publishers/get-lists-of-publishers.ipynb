{
  "cells": [
    {
      "cell_type": "markdown",
      "metadata": {},
      "source": [
        "[![GitHub Repository](https://img.shields.io/badge/GitHub-Repository-181717?style=for-the-badge&logo=GitHub&link=https://github.com/Mearman/openalex-docs)](https://github.com/Mearman/openalex-docs)[![Open in GitHub](https://img.shields.io/badge/Open%20in-GitHub-181717?style=for-the-badge&logo=github&link=https://github.com/Mearman/openalex-docs/blob/main/api-entities/publishers/get-lists-of-publishers.ipynb)](https://github.com/Mearman/openalex-docs/blob/main/api-entities/publishers/get-lists-of-publishers.ipynb)[![Open in Colab](https://img.shields.io/badge/Open%20in-Colab-F9AB00?style=for-the-badge&logo=Google%20Colab&link=https://colab.research.google.com/github/Mearman/openalex-docs/blob/main/api-entities/publishers/get-lists-of-publishers.ipynb)](https://colab.research.google.com/github/Mearman/openalex-docs/blob/main/api-entities/publishers/get-lists-of-publishers.ipynb)"
      ]
    },
    {
      "cell_type": "code",
      "metadata": {},
      "source": [
        "%pip install --upgrade \"git+https://github.com/Mearman/openalex-python.git\""
      ],
      "outputs": [],
      "execution_count": null
    },
    {
      "cell_type": "code",
      "metadata": {},
      "source": [
        "import json\n",
        "from openalex_api import Configuration, ApiClient,AuthorsApi, ConceptsApi, FundersApi, InstitutionsApi, PublishersApi, SourcesApi, WorksApi\n",
        "\n",
        "configuration = Configuration(host=\"https://api.openalex.org\")\n",
        "authors_api = AuthorsApi(ApiClient(configuration))\n",
        "concepts_api = ConceptsApi(ApiClient(configuration))\n",
        "funders_api = FundersApi(ApiClient(configuration))\n",
        "institutions_api = InstitutionsApi(ApiClient(configuration))\n",
        "publishers_api = PublishersApi(ApiClient(configuration))\n",
        "sources_api = SourcesApi(ApiClient(configuration))\n",
        "works_api = WorksApi(ApiClient(configuration))"
      ],
      "outputs": [],
      "execution_count": null
    },
    {
      "cell_type": "markdown",
      "metadata": {},
      "source": [
        "# Get lists of publishers\n",
        "\n",
        "You can get lists of publishers:\n",
        "\n",
        "* Get _all_ publishers in OpenAlex\\\n",
        "  [https://api.openalex.org/publishers](https://api.openalex.org/publishers)"
      ]
    },
    {
      "cell_type": "code",
      "metadata": {},
      "source": [
        "response = publishers_api.get_publishers(\n",
        "\t\n",
        ")\n",
        "\n",
        "print(json.dumps(response.to_dict(), indent=2))"
      ],
      "outputs": [],
      "execution_count": null
    },
    {
      "cell_type": "markdown",
      "metadata": {},
      "source": [
        "Which returns a response like this:\n",
        "\n",
        "```json\n",
        "{\n",
        "    \"meta\": {\n",
        "        \"count\": 7207,\n",
        "        \"db_response_time_ms\": 26,\n",
        "        \"page\": 1,\n",
        "        \"per_page\": 25\n",
        "    },\n",
        "    \"results\": [\n",
        "        {\n",
        "            \"id\": \"https://openalex.org/P4310311775\",\n",
        "            \"display_name\": \"RELX Group\",\n",
        "            // more fields (removed to save space)\n",
        "        },\n",
        "        {\n",
        "            \"id\": \"https://openalex.org/P4310320990\",\n",
        "            \"display_name\": \"Elsevier BV\",\n",
        "            // more fields (removed to save space)\n",
        "        },\n",
        "        // more results (removed to save space)\n",
        "    ],\n",
        "    \"group_by\": []\n",
        "}\n",
        "```\n",
        "\n",
        "## Page and sort publishers\n",
        "\n",
        "By default we return 25 results per page. You can change this default and [page](./../../how-to-use-the-api/get-lists-of-entities/paging.ipynb) through publishers with the `per-page` and `page` parameters:\n",
        "\n",
        "* Get the second page of publishers results, with 50 results returned per page\\\n",
        "  [https://api.openalex.org/publishers?per-page=50\\&page=2](https://api.openalex.org/publishers?per-page=50\\&page=2)"
      ]
    },
    {
      "cell_type": "code",
      "metadata": {},
      "source": [
        "response = publishers_api.get_publishers(\n",
        "\tper_page=\"50\",\n",
        "\tpage=\"2\"\n",
        ")\n",
        "\n",
        "print(json.dumps(response.to_dict(), indent=2))"
      ],
      "outputs": [],
      "execution_count": null
    },
    {
      "cell_type": "markdown",
      "metadata": {},
      "source": [
        "You also can [sort results](./../../how-to-use-the-api/get-lists-of-entities/sort-entity-lists.ipynb) with the `sort` parameter:\n",
        "\n",
        "* Sort publishers by display name, descending\\\n",
        "  [https://api.openalex.org/publishers?sort=display\\_name:desc](https://api.openalex.org/publishers?sort=display\\_name:desc)"
      ]
    },
    {
      "cell_type": "code",
      "metadata": {},
      "source": [
        "response = publishers_api.get_publishers(\n",
        "\tsort=\"display_name:desc\"\n",
        ")\n",
        "\n",
        "print(json.dumps(response.to_dict(), indent=2))"
      ],
      "outputs": [],
      "execution_count": null
    },
    {
      "cell_type": "markdown",
      "metadata": {},
      "source": [
        "Continue on to learn how you can [filter](./filter-publishers.ipynb) and [search](./search-publishers.ipynb) lists of publishers.\n",
        "\n",
        "## Sample publishers\n",
        "\n",
        "You can use `sample` to get a random batch of publishers. Read more about sampling and how to add a `seed` value [here](./../../how-to-use-the-api/get-lists-of-entities/sample-entity-lists.ipynb).\n",
        "\n",
        "* Get 10 random publishers\\\n",
        "  [https://api.openalex.org/publishers?sample=10](https://api.openalex.org/publishers?sample=10)"
      ]
    },
    {
      "cell_type": "code",
      "metadata": {},
      "source": [
        "response = publishers_api.get_publishers(\n",
        "\tsample=\"10\"\n",
        ")\n",
        "\n",
        "print(json.dumps(response.to_dict(), indent=2))"
      ],
      "outputs": [],
      "execution_count": null
    },
    {
      "cell_type": "markdown",
      "metadata": {},
      "source": [
        "## Select fields\n",
        "\n",
        "You can use `select` to limit the fields that are returned in a list of publishers. More details are [here](./../../how-to-use-the-api/get-lists-of-entities/select-fields.ipynb).\n",
        "\n",
        "* Display only the `id`, `display_name`, and `alternate_titles` within publishers results\\\n",
        "  [https://api.openalex.org/publishers?select=id,display\\_name,alternate\\_titles](https://api.openalex.org/publishers?select=id,display\\_name,alternate\\_titles)"
      ]
    },
    {
      "cell_type": "code",
      "metadata": {},
      "source": [
        "response = publishers_api.get_publishers(\n",
        "\tselect=\"id,display_name,alternate_titles\"\n",
        ")\n",
        "\n",
        "print(json.dumps(response.to_dict(), indent=2))"
      ],
      "outputs": [],
      "execution_count": null
    }
  ],
  "metadata": {
    "kernelspec": {
      "display_name": "Python 3",
      "language": "python",
      "name": "python3"
    },
    "language_info": {
      "codemirror_mode": {
        "name": "ipython",
        "version": 3
      },
      "file_extension": ".py",
      "mimetype": "text/x-python",
      "name": "python",
      "pygments_lexer": "ipython3",
      "version": "3.8.5"
    }
  },
  "nbformat": 4,
  "nbformat_minor": 4
}