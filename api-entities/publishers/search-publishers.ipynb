{
  "cells": [
    {
      "cell_type": "markdown",
      "metadata": {},
      "source": [
        "[![Open All Collab](https://colab.research.google.com/assets/colab-badge.svg)](https://colab.research.google.com/github/Mearman/openalex-docs/blob/main/api-entities/publishers/search-publishers.ipynb)"
      ]
    },
    {
      "cell_type": "code",
      "metadata": {},
      "source": [
        "%pip install --upgrade \"git+https://github.com/Mearman/openalex-python.git\""
      ],
      "outputs": [],
      "execution_count": null
    },
    {
      "cell_type": "code",
      "metadata": {},
      "source": [
        "import json",
        "from openalex_api import Configuration, ApiClient,AuthorsApi, ConceptsApi, FundersApi, InstitutionsApi, PublishersApi, SourcesApi, WorksApi",
        "",
        "configuration = Configuration(host=\"https://api.openalex.org\")",
        "authors_api = AuthorsApi(ApiClient(configuration))",
        "concepts_api = ConceptsApi(ApiClient(configuration))",
        "funders_api = FundersApi(ApiClient(configuration))",
        "institutions_api = InstitutionsApi(ApiClient(configuration))",
        "publishers_api = PublishersApi(ApiClient(configuration))",
        "sources_api = SourcesApi(ApiClient(configuration))",
        "works_api = WorksApi(ApiClient(configuration))"
      ],
      "outputs": [],
      "execution_count": null
    },
    {
      "cell_type": "markdown",
      "metadata": {},
      "source": [
        "# Search publishers",
        "",
        "The best way to search for publishers is to use the `search` query parameter, which searches the [`display_name`](./publisher-object.md#display\\_name) and [`alternate_titles`](./publisher-object.md#alternate\\_titles) fields. Example:",
        "",
        "* Search publishers' `display_name` and `alternate_titles` for \"springer\":\\",
        "  [https://api.openalex.org/publishers?search=springer](https://api.openalex.org/publishers?search=springer)"
      ]
    },
    {
      "cell_type": "code",
      "metadata": {},
      "source": [
        "response = publishers_api.get_publishers(",
        "\tsearch=\"springer\"",
        ")",
        "",
        "print(json.dumps(response.to_dict(), indent=2))"
      ],
      "outputs": [],
      "execution_count": null
    },
    {
      "cell_type": "markdown",
      "metadata": {},
      "source": [
        "{% hint style=\"info\" %}",
        "You can read more about search [here](./../../how-to-use-the-api/get-lists-of-entities/search-entities.ipynb). It will show you how relevance score is calculated, how words are stemmed to improve search results, and how to do complex boolean searches.",
        "{% endhint %}",
        "",
        "## Search a specific field"
      ]
    },
    {
      "cell_type": "code",
      "metadata": {},
      "source": [
        "response = publishers_api.get_publishers(",
        "\tfilter=\"display_name.search:elsevier\"",
        ")",
        "",
        "print(json.dumps(response.to_dict(), indent=2))"
      ],
      "outputs": [],
      "execution_count": null
    },
    {
      "cell_type": "markdown",
      "metadata": {},
      "source": [
        "You can also use search as a [filter](./../../how-to-use-the-api/get-lists-of-entities/filter-entity-lists.ipynb), allowing you to fine-tune the fields you're searching over. To do this, you append `.search` to the end of the property you are filtering for:",
        "",
        "* Get publishers with \"elsevier\" in the `display_name`:\\",
        "  https://api.openalex.org/publishers?filter=display\\_name.search:elsevier",
        "",
        "The following field can be searched as a filter within publishers:",
        "",
        "| Search filter                                                      | Field that is searched                              |",
        "| ------------------------------------------------------------------ | --------------------------------------------------- |",
        "| [`display_name.search`](./filter-publishers.md#display\\_name.search) | [`display_name`](./publisher-object.md#display\\_name) |",
        "",
        "You can also use the filter `default.search`, which works the same as using the [`search` parameter](./README.md#search-publishers).",
        "",
        "## Autocomplete publishers",
        "",
        "You can autocomplete publishers to create a very fast type-ahead style search function:",
        "",
        "* Autocomplete publishers with \"els\" in the `display_name`:\\",
        "  [https://api.openalex.org/autocomplete/publishers?q=els](https://api.openalex.org/autocomplete/publishers?q=els)"
      ]
    },
    {
      "cell_type": "code",
      "metadata": {},
      "source": [
        "response = autocomplete_api.get_autocomplet(",
        "\tq=\"els\",",
        "\tid=\"publishers\"",
        ")",
        "",
        "print(json.dumps(response.to_dict(), indent=2))"
      ],
      "outputs": [],
      "execution_count": null
    },
    {
      "cell_type": "markdown",
      "metadata": {},
      "source": [
        "This returns a list of publishers:",
        "",
        "<pre class=\"language-json\"><code class=\"lang-json\">{ ",
        "  \"results\": [",
        "    {",
        "        \"id\": \"https://openalex.org/P4310320990\",",
        "        \"display_name\": \"Elsevier BV\",",
        "        \"hint\": null,",
        "        \"cited_by_count\": 407508754,",
        "        \"works_count\": 20311868,",
        "        \"entity_type\": \"publisher\",",
        "        \"external_id\": \"https://www.wikidata.org/entity/Q746413\"",
        "    },",
        "    ...",
        "<strong>  ]",
        "</strong><strong>}",
        "</strong></code></pre>",
        "",
        "{% hint style=\"info\" %}",
        "Read more in the [autocomplete page](./../../how-to-use-the-api/get-lists-of-entities/autocomplete-entities.ipynb) in the API guide.",
        "{% endhint %}"
      ]
    }
  ],
  "metadata": {
    "kernelspec": {
      "display_name": "Python 3",
      "language": "python",
      "name": "python3"
    },
    "language_info": {
      "codemirror_mode": {
        "name": "ipython",
        "version": 3
      },
      "file_extension": ".py",
      "mimetype": "text/x-python",
      "name": "python",
      "pygments_lexer": "ipython3",
      "version": "3.8.5"
    }
  },
  "nbformat": 4,
  "nbformat_minor": 4
}