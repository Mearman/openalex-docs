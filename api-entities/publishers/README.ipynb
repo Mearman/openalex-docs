{
  "cells": [
    {
      "cell_type": "markdown",
      "metadata": {},
      "source": [
        "[![Open All Collab](https://colab.research.google.com/assets/colab-badge.svg)](https://colab.research.google.com/github/Mearman/openalex-docs/blob/main/api-entities/publishers/README.ipynb)"
      ]
    },
    {
      "cell_type": "code",
      "metadata": {},
      "source": [
        "%pip install --upgrade \"git+https://github.com/Mearman/openalex-python.git\""
      ],
      "outputs": [],
      "execution_count": null
    },
    {
      "cell_type": "code",
      "metadata": {},
      "source": [
        "import json",
        "from openalex_api import Configuration, ApiClient,AuthorsApi, ConceptsApi, FundersApi, InstitutionsApi, PublishersApi, SourcesApi, WorksApi",
        "",
        "configuration = Configuration(host=\"https://api.openalex.org\")",
        "authors_api = AuthorsApi(ApiClient(configuration))",
        "concepts_api = ConceptsApi(ApiClient(configuration))",
        "funders_api = FundersApi(ApiClient(configuration))",
        "institutions_api = InstitutionsApi(ApiClient(configuration))",
        "publishers_api = PublishersApi(ApiClient(configuration))",
        "sources_api = SourcesApi(ApiClient(configuration))",
        "works_api = WorksApi(ApiClient(configuration))"
      ],
      "outputs": [],
      "execution_count": null
    },
    {
      "cell_type": "markdown",
      "metadata": {},
      "source": [
        "# 🏢 Publishers",
        "",
        "Publishers are companies and organizations that distribute journal articles, books, and theses. OpenAlex indexes about 10,000 publishers.",
        "",
        "* Get a list of OpenAlex publishers:\\",
        "  [`https://api.openalex.org/publishers`](https://api.openalex.org/publishers)"
      ]
    },
    {
      "cell_type": "code",
      "metadata": {},
      "source": [
        "response = publishers_api.get_publishers(",
        "\t",
        ")",
        "",
        "print(json.dumps(response.to_dict(), indent=2))"
      ],
      "outputs": [],
      "execution_count": null
    },
    {
      "cell_type": "markdown",
      "metadata": {},
      "source": [
        "Our publisher data is closely tied to the publisher information in Wikidata. So the [Canonical External ID](./../../how-to-use-the-api/get-single-entities/README.md#canonical-external-ids) for OpenAlex publishers is a Wikidata ID, and almost every publisher has one. Publishers are linked to sources through the [`host_organization`](./../sources/source-object.md#host\\_organization) field.",
        "",
        "## What's next",
        "",
        "Learn more about what you can do with publishers:",
        "",
        "* [The Publisher object](./publisher-object.ipynb)",
        "* [Get a single publisher](./get-a-single-publisher.ipynb)",
        "* [Get lists of publishers](./get-lists-of-publishers.ipynb)",
        "* [Filter publishers](./filter-publishers.ipynb)",
        "* [Search publishers](./search-publishers.ipynb)",
        "* [Group publishers](./group-publishers.ipynb)"
      ]
    }
  ],
  "metadata": {
    "kernelspec": {
      "display_name": "Python 3",
      "language": "python",
      "name": "python3"
    },
    "language_info": {
      "codemirror_mode": {
        "name": "ipython",
        "version": 3
      },
      "file_extension": ".py",
      "mimetype": "text/x-python",
      "name": "python",
      "pygments_lexer": "ipython3",
      "version": "3.8.5"
    }
  },
  "nbformat": 4,
  "nbformat_minor": 4
}