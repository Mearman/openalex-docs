{
  "cells": [
    {
      "cell_type": "markdown",
      "metadata": {},
      "source": [
        "[![GitHub Repository](https://img.shields.io/badge/GitHub-Repository-181717?style=for-the-badge&logo=GitHub&link=https://github.com/Mearman/openalex-docs)](https://github.com/Mearman/openalex-docs)[![Open in GitHub](https://img.shields.io/badge/Open%20in-GitHub-181717?style=for-the-badge&logo=github&link=https://github.com/Mearman/openalex-docs/blob/main/api-entities/publishers/get-a-single-publisher.ipynb)](https://github.com/Mearman/openalex-docs/blob/main/api-entities/publishers/get-a-single-publisher.ipynb)[![Open in Colab](https://img.shields.io/badge/Open%20in-Colab-F9AB00?style=for-the-badge&logo=Google%20Colab&link=https://colab.research.google.com/github/Mearman/openalex-docs/blob/main/api-entities/publishers/get-a-single-publisher.ipynb)](https://colab.research.google.com/github/Mearman/openalex-docs/blob/main/api-entities/publishers/get-a-single-publisher.ipynb)"
      ]
    },
    {
      "cell_type": "code",
      "metadata": {},
      "source": [
        "%pip install --upgrade \"git+https://github.com/Mearman/openalex-python-pydantic-v1.git\"\n",
        "%pip install pandasai"
      ],
      "outputs": [],
      "execution_count": null
    },
    {
      "cell_type": "code",
      "metadata": {},
      "source": [
        "import json\n",
        "import pandas as pd\n",
        "import numpy as np\n",
        "from openalex_api import Configuration, ApiClient, AutocompleteApi, AuthorsApi, ConceptsApi, FundersApi, InstitutionsApi, PublishersApi, SourcesApi, WorksApi\n",
        "\n",
        "configuration = Configuration(host=\"https://api.openalex.org\")\n",
        "autocomplete_api = AutocompleteApi(ApiClient(configuration))\n",
        "authors_api = AuthorsApi(ApiClient(configuration))\n",
        "concepts_api = ConceptsApi(ApiClient(configuration))\n",
        "funders_api = FundersApi(ApiClient(configuration))\n",
        "institutions_api = InstitutionsApi(ApiClient(configuration))\n",
        "publishers_api = PublishersApi(ApiClient(configuration))\n",
        "sources_api = SourcesApi(ApiClient(configuration))\n",
        "works_api = WorksApi(ApiClient(configuration))\n",
        "\n",
        "from pandasai import SmartDataframe\n",
        "from pandasai.llm import OpenAI"
      ],
      "outputs": [],
      "execution_count": null
    },
    {
      "cell_type": "code",
      "metadata": {},
      "source": [
        "# @title  { run: \"auto\", display-mode: \"form\" }\n",
        "openapi_token = \"\" # @param {type:\"string\"}"
      ],
      "outputs": [],
      "execution_count": null
    },
    {
      "cell_type": "markdown",
      "metadata": {},
      "source": [
        "# Get a single publisher\n",
        "\n",
        "It's easy to get a publisher from from the API with: `/publishers/<entity_id>`. Here's an example:\n",
        "\n",
        "* Get the publisher with the [OpenAlex ID](./../../how-to-use-the-api/get-single-entities/README.md#the-openalex-id) `P4310319965`: \\\n",
        "  [https://api.openalex.org/publishers/P4310319965](https://api.openalex.org/publishers/P4310319965)"
      ]
    },
    {
      "cell_type": "code",
      "metadata": {},
      "source": [
        "# @title { run: \"auto\", vertical-output: false }\n",
        "# https://api.openalex.org/publishers/P4310319965\n",
        "id=\"P4310319965\" # @param \"P4310319965\" {type: \"string\"}\n",
        "\n",
        "response = publishers_api.get_publisher(\n",
        "\tid=id\n",
        ")\n",
        "\n",
        "df = pd.DataFrame(response).T.rename(columns=lambda x: x[0]).drop(0).set_index('id')\n",
        "display(df)"
      ],
      "outputs": [],
      "execution_count": null
    },
    {
      "cell_type": "markdown",
      "metadata": {},
      "source": [
        "That will return a [`Publisher`](./publisher-object.ipynb) object, describing everything OpenAlex knows about the publisher with that ID:\n",
        "\n",
        "```json\n",
        "{\n",
        "  \"id\": \"https://openalex.org/P4310319965\",\n",
        "  \"display_name\": \"Springer Nature\",\n",
        "  \"alternate_titles\": [\n",
        "    \"エイプレス\",\n",
        "    \"Springer Nature Group\",\n",
        "    \"施普林格-自然出版集团\"\n",
        "  ],\n",
        "  \"hierarchy_level\": 0,\n",
        "  // other fields removed for brevity\n",
        "}\n",
        "```\n",
        "\n",
        "{% hint style=\"info\" %}\n",
        "You can make up to 50 of these queries at once by [requesting a list of entities and filtering on IDs using OR syntax](./../../how-to-use-the-api/get-lists-of-entities/filter-entity-lists.md#addition-or).\n",
        "{% endhint %}\n",
        "\n",
        "### External IDs\n",
        "\n",
        "You can look up publishers using external IDs such as a Wikidata ID:\n",
        "\n",
        "* Get the publisher with Wikidata ID Q1479654:\\\n",
        "  [https://api.openalex.org/publishers/wikidata:Q1479654](https://api.openalex.org/publishers/wikidata:Q1479654)"
      ]
    },
    {
      "cell_type": "code",
      "metadata": {},
      "source": [
        "# @title { run: \"auto\", vertical-output: false }\n",
        "# https://api.openalex.org/publishers/wikidata:Q1479654\n",
        "id=\"wikidata:Q1479654\" # @param \"wikidata:Q1479654\" {type: \"string\"}\n",
        "\n",
        "response = publishers_api.get_publisher(\n",
        "\tid=id\n",
        ")\n",
        "\n",
        "df = pd.DataFrame(response).T.rename(columns=lambda x: x[0]).drop(0).set_index('id')\n",
        "display(df)"
      ],
      "outputs": [],
      "execution_count": null
    },
    {
      "cell_type": "markdown",
      "metadata": {},
      "source": [
        "Available external IDs for publishers are:\n",
        "\n",
        "| External ID | URN        |\n",
        "| ----------- | ---------- |\n",
        "| ROR         | `ror`      |\n",
        "| Wikidata    | `wikidata` |\n",
        "\n",
        "### Select fields\n",
        "\n",
        "You can use `select` to limit the fields that are returned in a publisher object. More details are [here](./../../how-to-use-the-api/get-lists-of-entities/select-fields.ipynb).\n",
        "\n",
        "* Display only the `id` and `display_name` for a publisher object\\\n",
        "  [https://api.openalex.org/publishers/P4310319965?select=id,display\\_name](https://api.openalex.org/publishers/P4310319965?select=id,display\\_name)"
      ]
    },
    {
      "cell_type": "code",
      "metadata": {},
      "source": [
        "# @title { run: \"auto\", vertical-output: false }\n",
        "# https://api.openalex.org/publishers/P4310319965?select=id,display_name\n",
        "select=\"id,display_name\" # @param \"id,display_name\" {type: \"string\"},\n",
        "id=\"P4310319965\" # @param \"P4310319965\" {type: \"string\"}\n",
        "\n",
        "response = publishers_api.get_publisher(\n",
        "\tselect=select,\n",
        "\tid=id\n",
        ")\n",
        "\n",
        "df = pd.DataFrame(response).T.rename(columns=lambda x: x[0]).drop(0).set_index('id')\n",
        "display(df)"
      ],
      "outputs": [],
      "execution_count": null
    }
  ],
  "metadata": {
    "kernelspec": {
      "display_name": "Python 3",
      "language": "python",
      "name": "python3"
    },
    "language_info": {
      "codemirror_mode": {
        "name": "ipython",
        "version": 3
      },
      "file_extension": ".py",
      "mimetype": "text/x-python",
      "name": "python",
      "pygments_lexer": "ipython3",
      "version": "3.8.5"
    }
  },
  "nbformat": 4,
  "nbformat_minor": 4
}