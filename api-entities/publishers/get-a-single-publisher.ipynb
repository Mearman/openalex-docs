{
  "cells": [
    {
      "cell_type": "markdown",
      "metadata": {},
      "source": [
        "[![Open All Collab](https://colab.research.google.com/assets/colab-badge.svg)](https://colab.research.google.com/github/Mearman/openalex-docs/blob/main/api-entities/publishers/get-a-single-publisher.ipynb)"
      ]
    },
    {
      "cell_type": "code",
      "metadata": {},
      "source": [
        "%pip install --upgrade \"git+https://github.com/Mearman/openalex-python.git\""
      ],
      "outputs": [],
      "execution_count": null
    },
    {
      "cell_type": "code",
      "metadata": {},
      "source": [
        "import json",
        "from openalex_api import Configuration, ApiClient,AuthorsApi, ConceptsApi, FundersApi, InstitutionsApi, PublishersApi, SourcesApi, WorksApi",
        "",
        "configuration = Configuration(host=\"https://api.openalex.org\")",
        "authors_api = AuthorsApi(ApiClient(configuration))",
        "concepts_api = ConceptsApi(ApiClient(configuration))",
        "funders_api = FundersApi(ApiClient(configuration))",
        "institutions_api = InstitutionsApi(ApiClient(configuration))",
        "publishers_api = PublishersApi(ApiClient(configuration))",
        "sources_api = SourcesApi(ApiClient(configuration))",
        "works_api = WorksApi(ApiClient(configuration))"
      ],
      "outputs": [],
      "execution_count": null
    },
    {
      "cell_type": "markdown",
      "metadata": {},
      "source": [
        "# Get a single publisher",
        "",
        "It's easy to get a publisher from from the API with: `/publishers/<entity_id>`. Here's an example:",
        "",
        "* Get the publisher with the [OpenAlex ID](./../../how-to-use-the-api/get-single-entities/README.md#the-openalex-id) `P4310319965`: \\",
        "  [https://api.openalex.org/publishers/P4310319965](https://api.openalex.org/publishers/P4310319965)"
      ]
    },
    {
      "cell_type": "code",
      "metadata": {},
      "source": [
        "response = publishers_api.get_publisher(",
        "\tid=\"P4310319965\"",
        ")",
        "",
        "print(json.dumps(response.to_dict(), indent=2))"
      ],
      "outputs": [],
      "execution_count": null
    },
    {
      "cell_type": "markdown",
      "metadata": {},
      "source": [
        "That will return a [`Publisher`](./publisher-object.ipynb) object, describing everything OpenAlex knows about the publisher with that ID:",
        "",
        "```json",
        "{",
        "  \"id\": \"https://openalex.org/P4310319965\",",
        "  \"display_name\": \"Springer Nature\",",
        "  \"alternate_titles\": [",
        "    \"エイプレス\",",
        "    \"Springer Nature Group\",",
        "    \"施普林格-自然出版集团\"",
        "  ],",
        "  \"hierarchy_level\": 0,",
        "  // other fields removed for brevity",
        "}",
        "```",
        "",
        "{% hint style=\"info\" %}",
        "You can make up to 50 of these queries at once by [requesting a list of entities and filtering on IDs using OR syntax](./../../how-to-use-the-api/get-lists-of-entities/filter-entity-lists.md#addition-or).",
        "{% endhint %}",
        "",
        "### External IDs",
        "",
        "You can look up publishers using external IDs such as a Wikidata ID:",
        "",
        "* Get the publisher with Wikidata ID Q1479654:\\",
        "  [https://api.openalex.org/publishers/wikidata:Q1479654](https://api.openalex.org/publishers/wikidata:Q1479654)"
      ]
    },
    {
      "cell_type": "code",
      "metadata": {},
      "source": [
        "response = publishers_api.get_publisher(",
        "\tid=\"wikidata:Q1479654\"",
        ")",
        "",
        "print(json.dumps(response.to_dict(), indent=2))"
      ],
      "outputs": [],
      "execution_count": null
    },
    {
      "cell_type": "markdown",
      "metadata": {},
      "source": [
        "Available external IDs for publishers are:",
        "",
        "| External ID | URN        |",
        "| ----------- | ---------- |",
        "| ROR         | `ror`      |",
        "| Wikidata    | `wikidata` |",
        "",
        "### Select fields",
        "",
        "You can use `select` to limit the fields that are returned in a publisher object. More details are [here](./../../how-to-use-the-api/get-lists-of-entities/select-fields.ipynb).",
        "",
        "* Display only the `id` and `display_name` for a publisher object\\",
        "  [https://api.openalex.org/publishers/P4310319965?select=id,display\\_name](https://api.openalex.org/publishers/P4310319965?select=id,display\\_name)"
      ]
    },
    {
      "cell_type": "code",
      "metadata": {},
      "source": [
        "response = publishers_api.get_publisher(",
        "\tselect=\"id,display_name\",",
        "\tid=\"P4310319965\"",
        ")",
        "",
        "print(json.dumps(response.to_dict(), indent=2))"
      ],
      "outputs": [],
      "execution_count": null
    }
  ],
  "metadata": {
    "kernelspec": {
      "display_name": "Python 3",
      "language": "python",
      "name": "python3"
    },
    "language_info": {
      "codemirror_mode": {
        "name": "ipython",
        "version": 3
      },
      "file_extension": ".py",
      "mimetype": "text/x-python",
      "name": "python",
      "pygments_lexer": "ipython3",
      "version": "3.8.5"
    }
  },
  "nbformat": 4,
  "nbformat_minor": 4
}