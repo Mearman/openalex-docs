{
  "cells": [
    {
      "cell_type": "markdown",
      "metadata": {},
      "source": [
        "[![Open All Collab](https://colab.research.google.com/assets/colab-badge.svg)](https://colab.research.google.com/github/Mearman/openalex-docs/blob/main/api-entities/publishers/get-a-single-publisher.ipynb)\n",
        "\n"
      ]
    },
    {
      "cell_type": "code",
      "metadata": {},
      "source": [
        "%pip install --upgrade \"git+https://github.com/Mearman/openalex-python.git\"\n",
        "\n"
      ],
      "outputs": [],
      "execution_count": null
    },
    {
      "cell_type": "code",
      "metadata": {},
      "source": [
        "import json\n",
        "from openalex_api import Configuration, ApiClient,AuthorsApi, ConceptsApi, FundersApi, InstitutionsApi, PublishersApi, SourcesApi, WorksApi\n",
        "\n",
        "configuration = Configuration(host=\"https://api.openalex.org\")\n",
        "authors_api = AuthorsApi(ApiClient(configuration))\n",
        "concepts_api = ConceptsApi(ApiClient(configuration))\n",
        "funders_api = FundersApi(ApiClient(configuration))\n",
        "institutions_api = InstitutionsApi(ApiClient(configuration))\n",
        "publishers_api = PublishersApi(ApiClient(configuration))\n",
        "sources_api = SourcesApi(ApiClient(configuration))\n",
        "works_api = WorksApi(ApiClient(configuration))\n",
        "\n"
      ],
      "outputs": [],
      "execution_count": null
    },
    {
      "cell_type": "markdown",
      "metadata": {},
      "source": [
        "\n",
        "# Get a single publisher\n",
        "\n",
        "It's easy to get a publisher from from the API with: `/publishers/<entity_id>`. Here's an example:\n",
        "\n",
        "* Get the publisher with the [OpenAlex ID](./../../how-to-use-the-api/get-single-entities/README.md#the-openalex-id) `P4310319965`: \\\n",
        "  [https://api.openalex.org/publishers/P4310319965](https://api.openalex.org/publishers/P4310319965)\n",
        "\n"
      ]
    },
    {
      "cell_type": "code",
      "metadata": {},
      "source": [
        "response = publishers_api.get_publisher(\n",
        "\tid=\"P4310319965\"\n",
        ")\n",
        "\n",
        "print(json.dumps(response.to_dict(), indent=2))\n",
        "\n"
      ],
      "outputs": [],
      "execution_count": null
    },
    {
      "cell_type": "markdown",
      "metadata": {},
      "source": [
        "\n",
        "\n",
        "That will return a [`Publisher`](./publisher-object.md) object, describing everything OpenAlex knows about the publisher with that ID:\n",
        "\n",
        "```json\n",
        "{\n",
        "  \"id\": \"https://openalex.org/P4310319965\",\n",
        "  \"display_name\": \"Springer Nature\",\n",
        "  \"alternate_titles\": [\n",
        "    \"エイプレス\",\n",
        "    \"Springer Nature Group\",\n",
        "    \"施普林格-自然出版集团\"\n",
        "  ],\n",
        "  \"hierarchy_level\": 0,\n",
        "  // other fields removed for brevity\n",
        "}\n",
        "```\n",
        "\n",
        "{% hint style=\"info\" %}\n",
        "You can make up to 50 of these queries at once by [requesting a list of entities and filtering on IDs using OR syntax](./../../how-to-use-the-api/get-lists-of-entities/filter-entity-lists.md#addition-or).\n",
        "{% endhint %}\n",
        "\n",
        "### External IDs\n",
        "\n",
        "You can look up publishers using external IDs such as a Wikidata ID:\n",
        "\n",
        "* Get the publisher with Wikidata ID Q1479654:\\\n",
        "  [https://api.openalex.org/publishers/wikidata:Q1479654](https://api.openalex.org/publishers/wikidata:Q1479654)\n",
        "\n"
      ]
    },
    {
      "cell_type": "code",
      "metadata": {},
      "source": [
        "response = publishers_api.get_publisher(\n",
        "\tid=\"wikidata:Q1479654\"\n",
        ")\n",
        "\n",
        "print(json.dumps(response.to_dict(), indent=2))\n",
        "\n"
      ],
      "outputs": [],
      "execution_count": null
    },
    {
      "cell_type": "markdown",
      "metadata": {},
      "source": [
        "\n",
        "\n",
        "Available external IDs for publishers are:\n",
        "\n",
        "| External ID | URN        |\n",
        "| ----------- | ---------- |\n",
        "| ROR         | `ror`      |\n",
        "| Wikidata    | `wikidata` |\n",
        "\n",
        "### Select fields\n",
        "\n",
        "You can use `select` to limit the fields that are returned in a publisher object. More details are [here](./../../how-to-use-the-api/get-lists-of-entities/select-fields.md).\n",
        "\n",
        "* Display only the `id` and `display_name` for a publisher object\\\n",
        "  [https://api.openalex.org/publishers/P4310319965?select=id,display\\_name](https://api.openalex.org/publishers/P4310319965?select=id,display\\_name)\n",
        "\n"
      ]
    },
    {
      "cell_type": "code",
      "metadata": {},
      "source": [
        "response = publishers_api.get_publisher(\n",
        "\tselect=\"id,display_name\",\n",
        "\tid=\"P4310319965\"\n",
        ")\n",
        "\n",
        "print(json.dumps(response.to_dict(), indent=2))\n",
        "\n"
      ],
      "outputs": [],
      "execution_count": null
    }
  ],
  "metadata": {
    "kernelspec": {
      "display_name": "Python 3",
      "language": "python",
      "name": "python3"
    },
    "language_info": {
      "codemirror_mode": {
        "name": "ipython",
        "version": 3
      },
      "file_extension": ".py",
      "mimetype": "text/x-python",
      "name": "python",
      "pygments_lexer": "ipython3",
      "version": "3.8.5"
    }
  },
  "nbformat": 4,
  "nbformat_minor": 4
}