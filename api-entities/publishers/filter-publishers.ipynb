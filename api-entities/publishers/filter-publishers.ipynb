{
  "cells": [
    {
      "cell_type": "markdown",
      "metadata": {},
      "source": [
        "[![Open All Collab](https://colab.research.google.com/assets/colab-badge.svg)](https://colab.research.google.com/github/Mearman/openalex-docs/blob/main/api-entities/publishers/filter-publishers.ipynb)"
      ]
    },
    {
      "cell_type": "code",
      "metadata": {},
      "source": [
        "%pip install --upgrade \"git+https://github.com/Mearman/openalex-python.git\""
      ],
      "outputs": [],
      "execution_count": null
    },
    {
      "cell_type": "code",
      "metadata": {},
      "source": [
        "import json",
        "from openalex_api import Configuration, ApiClient,AuthorsApi, ConceptsApi, FundersApi, InstitutionsApi, PublishersApi, SourcesApi, WorksApi",
        "",
        "configuration = Configuration(host=\"https://api.openalex.org\")",
        "authors_api = AuthorsApi(ApiClient(configuration))",
        "concepts_api = ConceptsApi(ApiClient(configuration))",
        "funders_api = FundersApi(ApiClient(configuration))",
        "institutions_api = InstitutionsApi(ApiClient(configuration))",
        "publishers_api = PublishersApi(ApiClient(configuration))",
        "sources_api = SourcesApi(ApiClient(configuration))",
        "works_api = WorksApi(ApiClient(configuration))"
      ],
      "outputs": [],
      "execution_count": null
    },
    {
      "cell_type": "markdown",
      "metadata": {},
      "source": [
        "# Filter publishers",
        "",
        "You can filter publishers with the `filter` parameter:",
        "",
        "* Get publishers that are hierarchy level 0\\",
        "  [`https://api.openalex.org/publishers?filter=hierarchy\\_level:0`](https://api.openalex.org/publishers?filter=hierarchy\\_level:0)"
      ]
    },
    {
      "cell_type": "code",
      "metadata": {},
      "source": [
        "response = publishers_api.get_publishers(",
        "\tfilter=\"hierarchy_level:0\"",
        ")",
        "",
        "print(json.dumps(response.to_dict(), indent=2))"
      ],
      "outputs": [],
      "execution_count": null
    },
    {
      "cell_type": "markdown",
      "metadata": {},
      "source": [
        "{% hint style=\"info\" %}",
        "It's best to [read about filters](./../../how-to-use-the-api/get-lists-of-entities/filter-entity-lists.ipynb) before trying these out. It will show you how to combine filters and build an AND, OR, or negation query",
        "{% endhint %}",
        "",
        "### `/publishers` attribute filters"
      ]
    },
    {
      "cell_type": "code",
      "metadata": {},
      "source": [
        "response = publishers_api.get_publishers(",
        "\tfilter=\"continent:south_america\"",
        ")",
        "",
        "print(json.dumps(response.to_dict(), indent=2))"
      ],
      "outputs": [],
      "execution_count": null
    },
    {
      "cell_type": "markdown",
      "metadata": {},
      "source": [
        "You can filter using these attributes of the `Publisher` entity object (click each one to view their documentation on the [`Publisher`](./publisher-object.ipynb) object page):",
        "",
        "* [`cited_by_count`](./publisher-object.md#cited\\_by\\_count)",
        "* [`country_codes`](./publisher-object.md#country\\_codes)",
        "* [`hierarchy_level`](./publisher-object.md#hierarchy\\_level)",
        "* [`ids.openalex`](./publisher-object.md#ids) (alias: `openalex`)",
        "* [`ids.ror`](./publisher-object.md#ids) (alias: `ror`)",
        "* [`ids.wikidata`](./publisher-object.md#ids) (alias: `wikidata`)",
        "* [`lineage`](./publisher-object.md#lineage) — Use this with a publisher ID to find that publisher and all of its children",
        "* [`parent_publisher`](./publisher-object.md#parent\\_publisher)",
        "* [`summary_stats.2yr_mean_citedness`](./publisher-object.md#summary_stats) (accepts float, null, !null, can use range queries such as < >)",
        "* [`summary_stats.h_index`](./publisher-object.md#summary_stats) (accepts integer, null, !null, can use range queries)",
        "* [`summary_stats.i10_index`](./publisher-object.md#summary_stats) (accepts integer, null, !null, can use range queries)",
        "* [`works_count`](./publisher-object.md#works\\_count)",
        "",
        "### `/publishers` convenience filters",
        "",
        "These filters aren't attributes of the [`Publisher`](./publisher-object.ipynb) object, but they're included to address some common use cases:",
        "",
        "#### `continent`",
        "",
        "Value: a String with a valid [continent filter](./../geo/continents.md#filter-by-continent)",
        "",
        "Returns: publishers that are located in the chosen continent.",
        "",
        "* Get publishers that are located in South America\\",
        "  [https://api.openalex.org/publishers?filter=continent:south\\_america](https://api.openalex.org/publishers?filter=continent:south\\_america)",
        "",
        "#### `default.search`",
        "",
        "Value: a search string",
        "",
        "This works the same as using the [`search` parameter](./search-publishers.md#search-publishers) for Publishers.",
        "",
        "#### `display_name.search`",
        "",
        "Value: a search string",
        "",
        "Returns: publishers with a [`display_name`](./publisher-object.md#display\\_name) containing the given string; see the [search page](./search-publishers.md#search-a-specific-field) for details.",
        "",
        "* Get publishers with names containing \"elsevier\":\\",
        "  [`https://api.openalex.org/publishers?filter=display_name.search:elsevier`](https://api.openalex.org/publishers?filter=display\\_name.search:elsevier)``"
      ]
    },
    {
      "cell_type": "code",
      "metadata": {},
      "source": [
        "response = publishers_api.get_publishers(",
        "\tfilter=\"display_name.search:elsevier\"",
        ")",
        "",
        "print(json.dumps(response.to_dict(), indent=2))"
      ],
      "outputs": [],
      "execution_count": null
    },
    {
      "cell_type": "markdown",
      "metadata": {},
      "source": [
        "{% hint style=\"info\" %}",
        "In most cases, you should use the [`search` parameter](./search-publishers.ipynb) instead of this filter because it uses a better search algorithm.",
        "{% endhint %}"
      ]
    }
  ],
  "metadata": {
    "kernelspec": {
      "display_name": "Python 3",
      "language": "python",
      "name": "python3"
    },
    "language_info": {
      "codemirror_mode": {
        "name": "ipython",
        "version": 3
      },
      "file_extension": ".py",
      "mimetype": "text/x-python",
      "name": "python",
      "pygments_lexer": "ipython3",
      "version": "3.8.5"
    }
  },
  "nbformat": 4,
  "nbformat_minor": 4
}