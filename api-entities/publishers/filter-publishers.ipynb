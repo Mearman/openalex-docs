{
  "cells": [
    {
      "cell_type": "markdown",
      "metadata": {},
      "source": [
        "[![Open All Collab](https://colab.research.google.com/assets/colab-badge.svg)](https://colab.research.google.com/github/Mearman/openalex-docs/blob/main/api-entities/publishers/filter-publishers.ipynb)\n",
        "\n"
      ]
    },
    {
      "cell_type": "code",
      "metadata": {},
      "source": [
        "%pip install --upgrade \"git+https://github.com/Mearman/openalex-python.git\"\n",
        "\n"
      ],
      "outputs": []
    },
    {
      "cell_type": "code",
      "metadata": {},
      "source": [
        "import json\n",
        "from openalex_api import Configuration, ApiClient,AuthorsApi, ConceptsApi, FundersApi, InstitutionsApi, PublishersApi, SourcesApi, WorksApi\n",
        "\n",
        "configuration = Configuration(host=\"https://api.openalex.org\")\n",
        "authors_api = AuthorsApi(ApiClient(configuration))\n",
        "concepts_api = ConceptsApi(ApiClient(configuration))\n",
        "funders_api = FundersApi(ApiClient(configuration))\n",
        "institutions_api = InstitutionsApi(ApiClient(configuration))\n",
        "publishers_api = PublishersApi(ApiClient(configuration))\n",
        "sources_api = SourcesApi(ApiClient(configuration))\n",
        "works_api = WorksApi(ApiClient(configuration))\n",
        "\n"
      ],
      "outputs": []
    },
    {
      "cell_type": "markdown",
      "metadata": {},
      "source": [
        "\n",
        "# Filter publishers\n",
        "\n",
        "You can filter publishers with the `filter` parameter:\n",
        "\n",
        "* Get publishers that are hierarchy level 0\\\n",
        "  [`https://api.openalex.org/publishers?filter=hierarchy\\_level:0`](https://api.openalex.org/publishers?filter=hierarchy\\_level:0)\n",
        "\n"
      ]
    },
    {
      "cell_type": "code",
      "metadata": {},
      "source": [
        "response = publishers_api.get_publishers(\n",
        "\tfilter=\"hierarchy_level:0\"\n",
        ")\n",
        "\n",
        "print(json.dumps(response.to_dict(), indent=2))\n",
        "\n"
      ],
      "outputs": []
    },
    {
      "cell_type": "markdown",
      "metadata": {},
      "source": [
        "\n",
        "\n",
        "{% hint style=\"info\" %}\n",
        "It's best to [read about filters](../../how-to-use-the-api/get-lists-of-entities/filter-entity-lists.md) before trying these out. It will show you how to combine filters and build an AND, OR, or negation query\n",
        "{% endhint %}\n",
        "\n",
        "### `/publishers` attribute filters\n",
        "\n",
        "\n"
      ]
    },
    {
      "cell_type": "code",
      "metadata": {},
      "source": [
        "response = publishers_api.get_publishers(\n",
        "\tfilter=\"continent:south_america\"\n",
        ")\n",
        "\n",
        "print(json.dumps(response.to_dict(), indent=2))\n",
        "\n"
      ],
      "outputs": []
    },
    {
      "cell_type": "markdown",
      "metadata": {},
      "source": [
        "\n",
        "You can filter using these attributes of the `Publisher` entity object (click each one to view their documentation on the [`Publisher`](publisher-object.md) object page):\n",
        "\n",
        "* [`cited_by_count`](publisher-object.md#cited\\_by\\_count)\n",
        "* [`country_codes`](publisher-object.md#country\\_codes)\n",
        "* [`hierarchy_level`](publisher-object.md#hierarchy\\_level)\n",
        "* [`ids.openalex`](publisher-object.md#ids) (alias: `openalex`)\n",
        "* [`ids.ror`](publisher-object.md#ids) (alias: `ror`)\n",
        "* [`ids.wikidata`](publisher-object.md#ids) (alias: `wikidata`)\n",
        "* [`lineage`](publisher-object.md#lineage) — Use this with a publisher ID to find that publisher and all of its children\n",
        "* [`parent_publisher`](publisher-object.md#parent\\_publisher)\n",
        "* [`summary_stats.2yr_mean_citedness`](publisher-object.md#summary_stats) (accepts float, null, !null, can use range queries such as < >)\n",
        "* [`summary_stats.h_index`](publisher-object.md#summary_stats) (accepts integer, null, !null, can use range queries)\n",
        "* [`summary_stats.i10_index`](publisher-object.md#summary_stats) (accepts integer, null, !null, can use range queries)\n",
        "* [`works_count`](publisher-object.md#works\\_count)\n",
        "\n",
        "### `/publishers` convenience filters\n",
        "\n",
        "These filters aren't attributes of the [`Publisher`](publisher-object.md) object, but they're included to address some common use cases:\n",
        "\n",
        "#### `continent`\n",
        "\n",
        "Value: a String with a valid [continent filter](../geo/continents.md#filter-by-continent)\n",
        "\n",
        "Returns: publishers that are located in the chosen continent.\n",
        "\n",
        "* Get publishers that are located in South America\\\n",
        "  [https://api.openalex.org/publishers?filter=continent:south\\_america](https://api.openalex.org/publishers?filter=continent:south\\_america)\n",
        "\n",
        "#### `default.search`\n",
        "\n",
        "Value: a search string\n",
        "\n",
        "This works the same as using the [`search` parameter](./search-publishers.md#search-publishers) for Publishers.\n",
        "\n",
        "#### `display_name.search`\n",
        "\n",
        "Value: a search string\n",
        "\n",
        "Returns: publishers with a [`display_name`](publisher-object.md#display\\_name) containing the given string; see the [search page](search-publishers.md#search-a-specific-field) for details.\n",
        "\n",
        "* Get publishers with names containing \"elsevier\":\\\n",
        "\n"
      ]
    },
    {
      "cell_type": "code",
      "metadata": {},
      "source": [
        "response = publishers_api.get_publishers(\n",
        "\tfilter=\"continent:south_america\"\n",
        ")\n",
        "\n",
        "print(json.dumps(response.to_dict(), indent=2))\n",
        "\n"
      ],
      "outputs": []
    },
    {
      "cell_type": "markdown",
      "metadata": {},
      "source": [
        "\n",
        "  [`https://api.openalex.org/publishers?filter=display_name.search:elsevier`](https://api.openalex.org/publishers?filter=display\\_name.search:elsevier)``\n",
        "\n",
        "{% hint style=\"info\" %}\n",
        "In most cases, you should use the [`search` parameter](search-publishers.md) instead of this filter because it uses a better search algorithm.\n",
        "{% endhint %}\n"
      ]
    }
  ],
  "metadata": {
    "kernelspec": {
      "display_name": "Python 3",
      "language": "python",
      "name": "python3"
    },
    "language_info": {
      "codemirror_mode": {
        "name": "ipython",
        "version": 3
      },
      "file_extension": ".py",
      "mimetype": "text/x-python",
      "name": "python",
      "pygments_lexer": "ipython3",
      "version": "3.8.5"
    }
  },
  "nbformat": 4,
  "nbformat_minor": 4
}