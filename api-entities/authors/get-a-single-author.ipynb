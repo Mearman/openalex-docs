{
  "cells": [
    {
      "cell_type": "markdown",
      "metadata": {},
      "source": [
        "[![GitHub Repository](https://img.shields.io/badge/GitHub-Repository-181717?style=for-the-badge&logo=GitHub&link=https://github.com/Mearman/openalex-docs/tree/main)](https://github.com/Mearman/openalex-docs/tree/main)[![Open in GitHub](https://img.shields.io/badge/Open%20in-GitHub-181717?style=for-the-badge&logo=github&link=https://github.com/Mearman/openalex-docs/blob/main/api-entities/authors/get-a-single-author.ipynb)](https://github.com/Mearman/openalex-docs/blob/main/api-entities/authors/get-a-single-author.ipynb)[![Open in Colab](https://img.shields.io/badge/Open%20in-Colab-F9AB00?style=for-the-badge&logo=Google%20Colab&link=https://colab.research.google.com/github/Mearman/openalex-docs/blob/main/api-entities/authors/get-a-single-author.ipynb)](https://colab.research.google.com/github/Mearman/openalex-docs/blob/main/api-entities/authors/get-a-single-author.ipynb)"
      ]
    },
    {
      "cell_type": "code",
      "metadata": {},
      "source": [
        "%pip install --upgrade \"git+https://github.com/Mearman/openalex-python-pydantic-v1.git\"\n",
        "%pip install pandasai"
      ],
      "outputs": [],
      "execution_count": null
    },
    {
      "cell_type": "code",
      "metadata": {},
      "source": [
        "import json\n",
        "import pandas as pd\n",
        "import numpy as np\n",
        "from openalex_api import Configuration, ApiClient, AutocompleteApi, AuthorsApi, ConceptsApi, FundersApi, InstitutionsApi, PublishersApi, SourcesApi, WorksApi\n",
        "\n",
        "configuration = Configuration(host=\"https://api.openalex.org\")\n",
        "autocomplete_api = AutocompleteApi(ApiClient(configuration))\n",
        "authors_api = AuthorsApi(ApiClient(configuration))\n",
        "concepts_api = ConceptsApi(ApiClient(configuration))\n",
        "funders_api = FundersApi(ApiClient(configuration))\n",
        "institutions_api = InstitutionsApi(ApiClient(configuration))\n",
        "publishers_api = PublishersApi(ApiClient(configuration))\n",
        "sources_api = SourcesApi(ApiClient(configuration))\n",
        "works_api = WorksApi(ApiClient(configuration))\n",
        "\n",
        "from pandasai import SmartDataframe\n",
        "from pandasai.llm import OpenAI"
      ],
      "outputs": [],
      "execution_count": null
    },
    {
      "cell_type": "code",
      "metadata": {},
      "source": [
        "# @title  { run: \"auto\", display-mode: \"form\" }\n",
        "openapi_token = \"\" # @param {type:\"string\"}"
      ],
      "outputs": [],
      "execution_count": null
    },
    {
      "cell_type": "markdown",
      "metadata": {},
      "source": [
        "# Get a single author\n",
        "\n",
        "It's easy to get an author from from the API with: `/authors/<entity_id>`. Here's an example:\n",
        "\n",
        "* Get the author with the [OpenAlex ID](./../../how-to-use-the-api/get-single-entities/README.md#the-openalex-id) `A5023888391`: \n",
        "  [`https://api.openalex.org/authors/A5023888391`](https://api.openalex.org/authors/A5023888391)"
      ]
    },
    {
      "cell_type": "code",
      "metadata": {},
      "source": [
        "# @title { run: \"auto\", vertical-output: false }\n",
        "# https://api.openalex.org/authors/A5023888391\n",
        "id=\"A5023888391\" # @param {type: \"string\"}\n",
        "\n",
        "response = authors_api.get_author(\n",
        "\tid=id\n",
        ")\n",
        "\n",
        "df = pd.DataFrame(response).T.rename(columns=lambda x: x[0]).drop(0).set_index('id')\n",
        "display(df)"
      ],
      "outputs": [],
      "execution_count": null
    },
    {
      "cell_type": "markdown",
      "metadata": {},
      "source": [
        "That will return an [`Author`](./author-object.ipynb) object, describing everything OpenAlex knows about the author with that ID:\n",
        "\n",
        "```json\n",
        "{\n",
        "    \"id\": \"https://openalex.org/A5023888391\",\n",
        "    \"orcid\": \"https://orcid.org/0000-0001-6187-6610\",\n",
        "    \"display_name\": \"Jason Priem\",\n",
        "    \"display_name_alternatives\": [],\n",
        "    \"works_count\": 53,\n",
        "    // other fields removed for brevity\n",
        "}\n",
        "```\n",
        "\n",
        "{% hint style=\"info\" %}\n",
        "You can make up to 50 of these queries at once by [requesting a list of entities and filtering on IDs using OR syntax](./../../how-to-use-the-api/get-lists-of-entities/filter-entity-lists.md#addition-or).\n",
        "{% endhint %}\n",
        "\n",
        "{% hint style=\"info\" %}\n",
        "Authors are also available via an alias: `/people`\n",
        "{% endhint %}\n",
        "\n",
        "## External IDs\n",
        "\n",
        "You can look up authors using external IDs such as an ORCID:\n",
        "\n",
        "* Get the author with this ORCID: `https://orcid.org/0000-0002-1298-3089`:\n",
        "  [`https://api.openalex.org/authors/https://orcid.org/0000-0002-1298-3089`](https://api.openalex.org/authors/https://orcid.org/0000-0002-1298-3089)"
      ]
    },
    {
      "cell_type": "code",
      "metadata": {},
      "source": [
        "# @title { run: \"auto\", vertical-output: false }\n",
        "# https://api.openalex.org/authors/https://orcid.org/0000-0002-1298-3089\n",
        "id=\"https:\" # @param {type: \"string\"}\n",
        "\n",
        "response = authors_api.get_author(\n",
        "\tid=id\n",
        ")\n",
        "\n",
        "df = pd.DataFrame(response).T.rename(columns=lambda x: x[0]).drop(0).set_index('id')\n",
        "display(df)"
      ],
      "outputs": [],
      "execution_count": null
    },
    {
      "cell_type": "markdown",
      "metadata": {},
      "source": [
        "You can use the full ID or a shorter Uniform Resource Name (URN) format like so:\n",
        "  [`https://api.openalex.org/authors/orcid:0000-0002-1298-3089`](https://api.openalex.org/authors/orcid:0000-0002-1298-3089)"
      ]
    },
    {
      "cell_type": "code",
      "metadata": {},
      "source": [
        "# @title { run: \"auto\", vertical-output: false }\n",
        "# https://api.openalex.org/authors/orcid:0000-0002-1298-3089\n",
        "id=\"orcid:0000-0002-1298-3089\" # @param {type: \"string\"}\n",
        "\n",
        "response = authors_api.get_author(\n",
        "\tid=id\n",
        ")\n",
        "\n",
        "df = pd.DataFrame(response).T.rename(columns=lambda x: x[0]).drop(0).set_index('id')\n",
        "display(df)"
      ],
      "outputs": [],
      "execution_count": null
    },
    {
      "cell_type": "markdown",
      "metadata": {},
      "source": [
        "Available external IDs for authors are:\n",
        "\n",
        "| External ID                    | URN         |\n",
        "| ------------------------------ | ----------- |\n",
        "| ORCID                          | `orcid`     |\n",
        "| Scopus                         | `scopus`    |\n",
        "| Twitter                        | `twitter`   |\n",
        "| Wikipedia                      | `wikipedia` |\n",
        "\n",
        "## Select fields\n",
        "\n",
        "You can use `select` to limit the fields that are returned in an author object. More details are [here](./../../how-to-use-the-api/get-lists-of-entities/select-fields.ipynb).\n",
        "\n",
        "* Display only the `id` and `display_name` and orcid for an author object\n",
        "  [`https://api.openalex.org/authors/A5023888391?select=id,display_name,orcid`](https://api.openalex.org/authors/A5023888391?select=id,display_name,orcid)"
      ]
    },
    {
      "cell_type": "code",
      "metadata": {},
      "source": [
        "# @title { run: \"auto\", vertical-output: false }\n",
        "# https://api.openalex.org/authors/A5023888391?select=id,display_name,orcid\n",
        "select=\"id,display_name,orcid\" # @param {type: \"string\"},\n",
        "id=\"A5023888391\" # @param {type: \"string\"}\n",
        "\n",
        "response = authors_api.get_author(\n",
        "\tselect=select,\n",
        "\tid=id\n",
        ")\n",
        "\n",
        "df = pd.DataFrame(response).T.rename(columns=lambda x: x[0]).drop(0).set_index('id')\n",
        "display(df)"
      ],
      "outputs": [],
      "execution_count": null
    }
  ],
  "metadata": {
    "kernelspec": {
      "display_name": "Python 3",
      "language": "python",
      "name": "python3"
    },
    "language_info": {
      "codemirror_mode": {
        "name": "ipython",
        "version": 3
      },
      "file_extension": ".py",
      "mimetype": "text/x-python",
      "name": "python",
      "pygments_lexer": "ipython3",
      "version": "3.8.5"
    }
  },
  "nbformat": 4,
  "nbformat_minor": 4
}