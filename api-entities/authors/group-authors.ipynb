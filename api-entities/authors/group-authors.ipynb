{
  "cells": [
    {
      "cell_type": "markdown",
      "metadata": {},
      "source": [
        "[![Open All Collab](https://colab.research.google.com/assets/colab-badge.svg)](https://colab.research.google.com/github/Mearman/openalex-docs/blob/main/api-entities/authors/group-authors.ipynb)"
      ]
    },
    {
      "cell_type": "code",
      "metadata": {},
      "source": [
        "%pip install --upgrade \"git+https://github.com/Mearman/openalex-python.git\""
      ],
      "outputs": [],
      "execution_count": null
    },
    {
      "cell_type": "code",
      "metadata": {},
      "source": [
        "import json",
        "from openalex_api import Configuration, ApiClient,AuthorsApi, ConceptsApi, FundersApi, InstitutionsApi, PublishersApi, SourcesApi, WorksApi",
        "",
        "configuration = Configuration(host=\"https://api.openalex.org\")",
        "authors_api = AuthorsApi(ApiClient(configuration))",
        "concepts_api = ConceptsApi(ApiClient(configuration))",
        "funders_api = FundersApi(ApiClient(configuration))",
        "institutions_api = InstitutionsApi(ApiClient(configuration))",
        "publishers_api = PublishersApi(ApiClient(configuration))",
        "sources_api = SourcesApi(ApiClient(configuration))",
        "works_api = WorksApi(ApiClient(configuration))"
      ],
      "outputs": [],
      "execution_count": null
    },
    {
      "cell_type": "markdown",
      "metadata": {},
      "source": [
        "# Group authors",
        "",
        "You can group authors with the `group_by` parameter:",
        "",
        "* Get counts of authors by the last known institution continent:\\",
        "  [`https://api.openalex.org/authors?group_by=last_known_institution.continent`](https://api.openalex.org/authors?group\\_by=last\\_known\\_institution.continent)``"
      ]
    },
    {
      "cell_type": "code",
      "metadata": {},
      "source": [
        "response = authors_api.get_authors(",
        "\tgroup_by=\"last_known_institution.continent\"",
        ")",
        "",
        "print(json.dumps(response.to_dict(), indent=2))"
      ],
      "outputs": [],
      "execution_count": null
    },
    {
      "cell_type": "markdown",
      "metadata": {},
      "source": [
        "Or you can group using one the attributes below.",
        "",
        "{% hint style=\"info\" %}",
        "It's best to [read about group by](./../../how-to-use-the-api/get-groups-of-entities.ipynb) before trying these out. It will show you how results are formatted, the number of results returned, and how to sort results.",
        "{% endhint %}",
        "",
        "### `/authors` group\\_by attributes",
        "",
        "* [`affiliations.institution.country_code`](./author-object.md#affiliations)",
        "* [`affiliations.institution.id`](./author-object.md#affiliations)",
        "* [`affiliations.institution.lineage`](./author-object.md#affiliations)",
        "* [`affiliations.institution.ror`](./author-object.md#affiliations)",
        "* [`affiliations.institution.type`](./author-object.md#affiliations)",
        "* [`cited_by_count`](./author-object.md#cited\\_by\\_count)",
        "* [`has_orcid`](./filter-authors.md#has\\_orcid)",
        "* [`last_known_institution.continent`](./filter-authors.md#last\\_known\\_institution.continent)",
        "* [`last_known_institution.country_code`](./author-object.md#last\\_known\\_institution)",
        "* [`last_known_institution.id`](./author-object.md#last\\_known\\_institution)",
        "* [`last_known_institution.is_global_south`](./filter-authors.md#last\\_known\\_institution.is\\_global\\_south)",
        "* [`last_known_institution.lineage`](./author-object.md#last\\_known\\_institution)",
        "* [`last_known_institution.ror`](./author-object.md#last\\_known\\_institution)",
        "* [`last_known_institution.type`](./author-object.md#last\\_known\\_institution)",
        "* [`summary_stats.2yr_mean_citedness`](./author-object.md#summary_stats)",
        "* [`summary_stats.h_index`](./author-object.md#summary_stats)",
        "* [`summary_stats.i10_index`](./author-object.md#summary_stats)",
        "* [`works_count`](./author-object.md#works\\_count)"
      ]
    }
  ],
  "metadata": {
    "kernelspec": {
      "display_name": "Python 3",
      "language": "python",
      "name": "python3"
    },
    "language_info": {
      "codemirror_mode": {
        "name": "ipython",
        "version": 3
      },
      "file_extension": ".py",
      "mimetype": "text/x-python",
      "name": "python",
      "pygments_lexer": "ipython3",
      "version": "3.8.5"
    }
  },
  "nbformat": 4,
  "nbformat_minor": 4
}