{
  "cells": [
    {
      "cell_type": "markdown",
      "metadata": {},
      "source": [
        "[![Open All Collab](https://colab.research.google.com/assets/colab-badge.svg)](https://colab.research.google.com/github/Mearman/openalex-docs/blob/main/api-entities/authors/group-authors.ipynb)"
      ]
    },
    {
      "cell_type": "code",
      "metadata": {},
      "source": [
        "%pip install --upgrade \"git+https://github.com/Mearman/openalex-python.git\""
      ],
      "outputs": [],
      "execution_count": null
    },
    {
      "cell_type": "code",
      "metadata": {},
      "source": [
        "import json\n",
        "from openalex_api import Configuration, ApiClient,AuthorsApi, ConceptsApi, FundersApi, InstitutionsApi, PublishersApi, SourcesApi, WorksApi\n",
        "\n",
        "configuration = Configuration(host=\"https://api.openalex.org\")\n",
        "authors_api = AuthorsApi(ApiClient(configuration))\n",
        "concepts_api = ConceptsApi(ApiClient(configuration))\n",
        "funders_api = FundersApi(ApiClient(configuration))\n",
        "institutions_api = InstitutionsApi(ApiClient(configuration))\n",
        "publishers_api = PublishersApi(ApiClient(configuration))\n",
        "sources_api = SourcesApi(ApiClient(configuration))\n",
        "works_api = WorksApi(ApiClient(configuration))"
      ],
      "outputs": [],
      "execution_count": null
    },
    {
      "cell_type": "markdown",
      "metadata": {},
      "source": [
        "# Group authors\n",
        "\n",
        "You can group authors with the `group_by` parameter:\n",
        "\n",
        "* Get counts of authors by the last known institution continent:\\\n",
        "  [`https://api.openalex.org/authors?group_by=last_known_institution.continent`](https://api.openalex.org/authors?group\\_by=last\\_known\\_institution.continent)``"
      ]
    },
    {
      "cell_type": "code",
      "metadata": {},
      "source": [
        "response = authors_api.get_authors(\n",
        "\tgroup_by=\"last_known_institution.continent\"\n",
        ")\n",
        "\n",
        "print(json.dumps(response.to_dict(), indent=2))"
      ],
      "outputs": [],
      "execution_count": null
    },
    {
      "cell_type": "markdown",
      "metadata": {},
      "source": [
        "Or you can group using one the attributes below.\n",
        "\n",
        "{% hint style=\"info\" %}\n",
        "It's best to [read about group by](./../../how-to-use-the-api/get-groups-of-entities.ipynb) before trying these out. It will show you how results are formatted, the number of results returned, and how to sort results.\n",
        "{% endhint %}\n",
        "\n",
        "### `/authors` group\\_by attributes\n",
        "\n",
        "* [`affiliations.institution.country_code`](./author-object.md#affiliations)\n",
        "* [`affiliations.institution.id`](./author-object.md#affiliations)\n",
        "* [`affiliations.institution.lineage`](./author-object.md#affiliations)\n",
        "* [`affiliations.institution.ror`](./author-object.md#affiliations)\n",
        "* [`affiliations.institution.type`](./author-object.md#affiliations)\n",
        "* [`cited_by_count`](./author-object.md#cited\\_by\\_count)\n",
        "* [`has_orcid`](./filter-authors.md#has\\_orcid)\n",
        "* [`last_known_institution.continent`](./filter-authors.md#last\\_known\\_institution.continent)\n",
        "* [`last_known_institution.country_code`](./author-object.md#last\\_known\\_institution)\n",
        "* [`last_known_institution.id`](./author-object.md#last\\_known\\_institution)\n",
        "* [`last_known_institution.is_global_south`](./filter-authors.md#last\\_known\\_institution.is\\_global\\_south)\n",
        "* [`last_known_institution.lineage`](./author-object.md#last\\_known\\_institution)\n",
        "* [`last_known_institution.ror`](./author-object.md#last\\_known\\_institution)\n",
        "* [`last_known_institution.type`](./author-object.md#last\\_known\\_institution)\n",
        "* [`summary_stats.2yr_mean_citedness`](./author-object.md#summary_stats)\n",
        "* [`summary_stats.h_index`](./author-object.md#summary_stats)\n",
        "* [`summary_stats.i10_index`](./author-object.md#summary_stats)\n",
        "* [`works_count`](./author-object.md#works\\_count)"
      ]
    }
  ],
  "metadata": {
    "kernelspec": {
      "display_name": "Python 3",
      "language": "python",
      "name": "python3"
    },
    "language_info": {
      "codemirror_mode": {
        "name": "ipython",
        "version": 3
      },
      "file_extension": ".py",
      "mimetype": "text/x-python",
      "name": "python",
      "pygments_lexer": "ipython3",
      "version": "3.8.5"
    }
  },
  "nbformat": 4,
  "nbformat_minor": 4
}