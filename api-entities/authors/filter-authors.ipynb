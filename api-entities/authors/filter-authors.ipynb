{
  "cells": [
    {
      "cell_type": "markdown",
      "metadata": {},
      "source": [
        "[![GitHub Repository](https://img.shields.io/badge/GitHub-Repository-181717?style=for-the-badge&logo=GitHub&link=https://github.com/Mearman/openalex-docs)](https://github.com/Mearman/openalex-docs)[![Open in GitHub](https://img.shields.io/badge/Open%20in-GitHub-181717?style=for-the-badge&logo=github&link=https://github.com/Mearman/openalex-docs/blob/main/api-entities/authors/filter-authors.ipynb)](https://github.com/Mearman/openalex-docs/blob/main/api-entities/authors/filter-authors.ipynb)[![Open in Colab](https://img.shields.io/badge/Open%20in-Colab-F9AB00?style=for-the-badge&logo=Google%20Colab&link=https://colab.research.google.com/github/Mearman/openalex-docs/blob/main/api-entities/authors/filter-authors.ipynb)](https://colab.research.google.com/github/Mearman/openalex-docs/blob/main/api-entities/authors/filter-authors.ipynb)"
      ]
    },
    {
      "cell_type": "code",
      "metadata": {},
      "source": [
        "%pip install --upgrade \"git+https://github.com/Mearman/openalex-python-pydantic-v1.git\"\n",
        "%pip install pandasai"
      ],
      "outputs": [],
      "execution_count": null
    },
    {
      "cell_type": "code",
      "metadata": {},
      "source": [
        "import json\n",
        "import pandas as pd\n",
        "import numpy as np\n",
        "from openalex_api import Configuration, ApiClient, AutocompleteApi, AuthorsApi, ConceptsApi, FundersApi, InstitutionsApi, PublishersApi, SourcesApi, WorksApi\n",
        "\n",
        "configuration = Configuration(host=\"https://api.openalex.org\")\n",
        "autocomplete_api = AutocompleteApi(ApiClient(configuration))\n",
        "authors_api = AuthorsApi(ApiClient(configuration))\n",
        "concepts_api = ConceptsApi(ApiClient(configuration))\n",
        "funders_api = FundersApi(ApiClient(configuration))\n",
        "institutions_api = InstitutionsApi(ApiClient(configuration))\n",
        "publishers_api = PublishersApi(ApiClient(configuration))\n",
        "sources_api = SourcesApi(ApiClient(configuration))\n",
        "works_api = WorksApi(ApiClient(configuration))\n",
        "\n",
        "from pandasai import SmartDataframe\n",
        "from pandasai.llm import OpenAI"
      ],
      "outputs": [],
      "execution_count": null
    },
    {
      "cell_type": "code",
      "metadata": {},
      "source": [
        "# @title  { run: \"auto\", display-mode: \"form\" }\n",
        "openapi_token = \"\" # @param {type:\"string\"}"
      ],
      "outputs": [],
      "execution_count": null
    },
    {
      "cell_type": "markdown",
      "metadata": {},
      "source": [
        "# Filter authors\n",
        "\n",
        "You can filter authors with the `filter` parameter:\n",
        "\n",
        "* Get authors that have an ORCID\\\n",
        "  [https://api.openalex.org/authors?filter=has\\_orcid:true](https://api.openalex.org/authors?filter=has\\_orcid:true)"
      ]
    },
    {
      "cell_type": "code",
      "metadata": {},
      "source": [
        "# https://api.openalex.org/authors?filter=has_orcid:true\n",
        "response = authors_api.get_authors(\n",
        "\tfilter=\"has_orcid:true\"\n",
        ")\n",
        "\n",
        "df = pd.DataFrame(response.results)\n",
        "display(df)"
      ],
      "outputs": [],
      "execution_count": null
    },
    {
      "cell_type": "code",
      "metadata": {},
      "source": [
        "numeric_df = df[['id', 'display_name'] +\n",
        "\t[col for col in df.columns if df[col].dtype in ['int64', 'float64'] and col != 'relevance_score']]\n",
        "display(numeric_df)"
      ],
      "outputs": [],
      "execution_count": null
    },
    {
      "cell_type": "code",
      "metadata": {},
      "source": [
        "try:\n",
        "\tllm = OpenAI(api_token = openapi_token)\n",
        "\tsdf = SmartDataframe(numeric_df, config = { \"llm\": llm })\n",
        "\tsdf.chat(\"Plot a chart of this data\")\n",
        "except:\n",
        "\tprint(\"Error when creating SmartDataframe\")"
      ],
      "outputs": [],
      "execution_count": null
    },
    {
      "cell_type": "markdown",
      "metadata": {},
      "source": [
        "{% hint style=\"info\" %}\n",
        "It's best to [read about filters](./../../how-to-use-the-api/get-lists-of-entities/filter-entity-lists.ipynb) before trying these out. It will show you how to combine filters and build an AND, OR, or negation query.\n",
        "{% endhint %}\n",
        "\n",
        "### `/authors` attribute filters\n",
        "\n",
        "You can filter using these attributes of the `Author` entity object (click each one to view their documentation on the [`Author`](./author-object.ipynb) object page):\n",
        "\n",
        "* [`affiliations.institution.country_code`](./author-object.md#affiliations)\n",
        "* [`affiliations.institution.id`](./author-object.md#affiliations)\n",
        "* [`affiliations.institution.lineage`](./author-object.md#affiliations)\n",
        "* [`affiliations.institution.ror`](./author-object.md#affiliations)\n",
        "* [`affiliations.institution.type`](./author-object.md#affiliations)\n",
        "* [`cited_by_count`](./author-object.md#cited\\_by\\_count)\n",
        "* [`ids.openalex`](./author-object.md#ids) (alias: `openalex`)\n",
        "* [`last_known_institution.country_code`](./author-object.md#last\\_known\\_institution)\n",
        "* [`last_known_institution.id`](./author-object.md#last\\_known\\_institution)\n",
        "* [`last_known_institution.lineage`](./author-object.md#last\\_known\\_institution)\n",
        "* [`last_known_institution.ror`](./author-object.md#last\\_known\\_institution)\n",
        "* [`last_known_institution.type`](./author-object.md#last\\_known\\_institution)\n",
        "* [`orcid`](./author-object.md#orcid)\n",
        "* [`scopus`](./author-object.md#ids) (the author's scopus ID, as an integer)\n",
        "* [`summary_stats.2yr_mean_citedness`](./author-object.md#summary_stats) (accepts float, null, !null, can use range queries such as < >)\n",
        "* [`summary_stats.h_index`](./author-object.md#summary_stats) (accepts integer, null, !null, can use range queries)\n",
        "* [`summary_stats.i10_index`](./author-object.md#summary_stats) (accepts integer, null, !null, can use range queries)\n",
        "* [`works_count`](./author-object.md#works\\_count)\n",
        "* [`x_concepts.id`](./author-object.md#x\\_concepts) (alias: `concepts.id` or `concept.id`)\n",
        "\n",
        "{% hint style=\"info\" %}\n",
        "Want to filter by `last_known_institution.display_name`? This is a two-step process:\n",
        "\n",
        "1. Find the `institution.id` by searching institutions by `display_name`.\n",
        "2. Filter works by `last_known_institution.id`.\n",
        "\n",
        "To learn more about why we do it this way, [see here.](./../works/search-works.md#why-cant-i-search-by-name-of-related-entity-author-name-institution-name-etc.)\n",
        "{% endhint %}\n",
        "\n",
        "### `/authors` convenience filters\n",
        "\n",
        "These filters aren't attributes of the [`Author` object](./author-object.ipynb), but they're included to address some common use cases:\n",
        "\n",
        "#### `default.search`\n",
        "\n",
        "Value: a search string\n",
        "\n",
        "This works the same as using the [`search` parameter](./search-authors.md#search-authors) for Authors.\n",
        "\n",
        "#### `display_name.search`\n",
        "\n",
        "Value: a search string\n",
        "\n",
        "Returns: Authors whose [`display_name`](./author-object.md#display\\_name) contains the given string; see the [search filter](./search-authors.md#search-a-specific-field) for details.\n",
        "\n",
        "* Get authors named \"tupolev\":\\\n",
        "  [`https://api.openalex.org/authors?filter=display_name.search:tupolev`](https://api.openalex.org/authors?filter=display\\_name.search:tupolev)"
      ]
    },
    {
      "cell_type": "code",
      "metadata": {},
      "source": [
        "# https://api.openalex.org/authors?filter=display_name.search:tupolev\n",
        "response = authors_api.get_authors(\n",
        "\tfilter=\"display_name.search:tupolev\"\n",
        ")\n",
        "\n",
        "df = pd.DataFrame(response.results)\n",
        "display(df)"
      ],
      "outputs": [],
      "execution_count": null
    },
    {
      "cell_type": "code",
      "metadata": {},
      "source": [
        "numeric_df = df[['id', 'display_name'] +\n",
        "\t[col for col in df.columns if df[col].dtype in ['int64', 'float64'] and col != 'relevance_score']]\n",
        "display(numeric_df)"
      ],
      "outputs": [],
      "execution_count": null
    },
    {
      "cell_type": "code",
      "metadata": {},
      "source": [
        "try:\n",
        "\tllm = OpenAI(api_token = openapi_token)\n",
        "\tsdf = SmartDataframe(numeric_df, config = { \"llm\": llm })\n",
        "\tsdf.chat(\"Plot a chart of this data\")\n",
        "except:\n",
        "\tprint(\"Error when creating SmartDataframe\")"
      ],
      "outputs": [],
      "execution_count": null
    },
    {
      "cell_type": "markdown",
      "metadata": {},
      "source": [
        "#### `has_orcid`\n",
        "\n",
        "Value: a Boolean (`true` or `false`)\n",
        "\n",
        "Returns: authors that have or lack an [orcid](./author-object.md#orcid), depending on the given value.\n",
        "\n",
        "* Get the authors that have an ORCID:\\\n",
        "  ``[`https://api.openalex.org/authors?filter=has_orcid:true`](https://api.openalex.org/authors?filter=has\\_orcid:true)"
      ]
    },
    {
      "cell_type": "code",
      "metadata": {},
      "source": [
        "# https://api.openalex.org/authors?filter=has_orcid:true\n",
        "response = authors_api.get_authors(\n",
        "\tfilter=\"has_orcid:true\"\n",
        ")\n",
        "\n",
        "df = pd.DataFrame(response.results)\n",
        "display(df)"
      ],
      "outputs": [],
      "execution_count": null
    },
    {
      "cell_type": "code",
      "metadata": {},
      "source": [
        "numeric_df = df[['id', 'display_name'] +\n",
        "\t[col for col in df.columns if df[col].dtype in ['int64', 'float64'] and col != 'relevance_score']]\n",
        "display(numeric_df)"
      ],
      "outputs": [],
      "execution_count": null
    },
    {
      "cell_type": "code",
      "metadata": {},
      "source": [
        "try:\n",
        "\tllm = OpenAI(api_token = openapi_token)\n",
        "\tsdf = SmartDataframe(numeric_df, config = { \"llm\": llm })\n",
        "\tsdf.chat(\"Plot a chart of this data\")\n",
        "except:\n",
        "\tprint(\"Error when creating SmartDataframe\")"
      ],
      "outputs": [],
      "execution_count": null
    },
    {
      "cell_type": "markdown",
      "metadata": {},
      "source": [
        "#### `last_known_institution.continent`\n",
        "\n",
        "Value: a String with a valid [continent filter](./../geo/continents.md#filter-by-continent)\n",
        "\n",
        "Returns: authors where where the last known institution is in the chosen continent.\n",
        "\n",
        "* Get authors where the last known institution is located in Africa\\\n",
        "  [https://api.openalex.org/authors?filter=last\\_known\\_institution.continent:africa](https://api.openalex.org/authors?filter=last\\_known\\_institution.continent:africa)"
      ]
    },
    {
      "cell_type": "code",
      "metadata": {},
      "source": [
        "# https://api.openalex.org/authors?filter=last_known_institution.continent:africa\n",
        "response = authors_api.get_authors(\n",
        "\tfilter=\"last_known_institution.continent:africa\"\n",
        ")\n",
        "\n",
        "df = pd.DataFrame(response.results)\n",
        "display(df)"
      ],
      "outputs": [],
      "execution_count": null
    },
    {
      "cell_type": "code",
      "metadata": {},
      "source": [
        "numeric_df = df[['id', 'display_name'] +\n",
        "\t[col for col in df.columns if df[col].dtype in ['int64', 'float64'] and col != 'relevance_score']]\n",
        "display(numeric_df)"
      ],
      "outputs": [],
      "execution_count": null
    },
    {
      "cell_type": "code",
      "metadata": {},
      "source": [
        "try:\n",
        "\tllm = OpenAI(api_token = openapi_token)\n",
        "\tsdf = SmartDataframe(numeric_df, config = { \"llm\": llm })\n",
        "\tsdf.chat(\"Plot a chart of this data\")\n",
        "except:\n",
        "\tprint(\"Error when creating SmartDataframe\")"
      ],
      "outputs": [],
      "execution_count": null
    },
    {
      "cell_type": "markdown",
      "metadata": {},
      "source": [
        "#### `last_known_institution.is_global_south`\n",
        "\n",
        "Value: a Boolean (`true` or `false`)\n",
        "\n",
        "Returns: works where at least _one_ of the author's institutions is in the [Global South](./../geo/regions.md#global-south).\n",
        "\n",
        "* Get authors where the last known institution is located in the Global South\\\n",
        "  [https://api.openalex.org/authors?filter=last\\_known\\_institution.is\\_global\\_south:true](https://api.openalex.org/authors?filter=last\\_known\\_institution.is\\_global\\_south:true)"
      ]
    },
    {
      "cell_type": "code",
      "metadata": {},
      "source": [
        "# https://api.openalex.org/authors?filter=last_known_institution.is_global_south:true\n",
        "response = authors_api.get_authors(\n",
        "\tfilter=\"last_known_institution.is_global_south:true\"\n",
        ")\n",
        "\n",
        "df = pd.DataFrame(response.results)\n",
        "display(df)"
      ],
      "outputs": [],
      "execution_count": null
    },
    {
      "cell_type": "code",
      "metadata": {},
      "source": [
        "numeric_df = df[['id', 'display_name'] +\n",
        "\t[col for col in df.columns if df[col].dtype in ['int64', 'float64'] and col != 'relevance_score']]\n",
        "display(numeric_df)"
      ],
      "outputs": [],
      "execution_count": null
    },
    {
      "cell_type": "code",
      "metadata": {},
      "source": [
        "try:\n",
        "\tllm = OpenAI(api_token = openapi_token)\n",
        "\tsdf = SmartDataframe(numeric_df, config = { \"llm\": llm })\n",
        "\tsdf.chat(\"Plot a chart of this data\")\n",
        "except:\n",
        "\tprint(\"Error when creating SmartDataframe\")"
      ],
      "outputs": [],
      "execution_count": null
    }
  ],
  "metadata": {
    "kernelspec": {
      "display_name": "Python 3",
      "language": "python",
      "name": "python3"
    },
    "language_info": {
      "codemirror_mode": {
        "name": "ipython",
        "version": 3
      },
      "file_extension": ".py",
      "mimetype": "text/x-python",
      "name": "python",
      "pygments_lexer": "ipython3",
      "version": "3.8.5"
    }
  },
  "nbformat": 4,
  "nbformat_minor": 4
}