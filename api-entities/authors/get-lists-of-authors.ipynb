{
  "cells": [
    {
      "cell_type": "markdown",
      "metadata": {},
      "source": [
        "[![Open All Collab](https://colab.research.google.com/assets/colab-badge.svg)](https://colab.research.google.com/github/Mearman/openalex-docs/blob/main/api-entities/authors/get-lists-of-authors.ipynb)"
      ]
    },
    {
      "cell_type": "code",
      "metadata": {},
      "source": [
        "%pip install --upgrade \"git+https://github.com/Mearman/openalex-python.git\""
      ],
      "outputs": [],
      "execution_count": null
    },
    {
      "cell_type": "code",
      "metadata": {},
      "source": [
        "import json",
        "from openalex_api import Configuration, ApiClient,AuthorsApi, ConceptsApi, FundersApi, InstitutionsApi, PublishersApi, SourcesApi, WorksApi",
        "",
        "configuration = Configuration(host=\"https://api.openalex.org\")",
        "authors_api = AuthorsApi(ApiClient(configuration))",
        "concepts_api = ConceptsApi(ApiClient(configuration))",
        "funders_api = FundersApi(ApiClient(configuration))",
        "institutions_api = InstitutionsApi(ApiClient(configuration))",
        "publishers_api = PublishersApi(ApiClient(configuration))",
        "sources_api = SourcesApi(ApiClient(configuration))",
        "works_api = WorksApi(ApiClient(configuration))"
      ],
      "outputs": [],
      "execution_count": null
    },
    {
      "cell_type": "markdown",
      "metadata": {},
      "source": [
        "# Get lists of authors",
        "",
        "You can get lists of authors:",
        "",
        "* Get _all_ authors in OpenAlex\\",
        "  [`https://api.openalex.org/authors`](https://api.openalex.org/authors)"
      ]
    },
    {
      "cell_type": "code",
      "metadata": {},
      "source": [
        "response = authors_api.get_authors(",
        "\t",
        ")",
        "",
        "print(json.dumps(response.to_dict(), indent=2))"
      ],
      "outputs": [],
      "execution_count": null
    },
    {
      "cell_type": "markdown",
      "metadata": {},
      "source": [
        "Which returns a response like this:",
        "",
        "```json",
        "{",
        "    \"meta\": {",
        "        \"count\": 93011659,",
        "        \"db_response_time_ms\": 150,",
        "        \"page\": 1,",
        "        \"per_page\": 25",
        "    },",
        "    \"results\": [",
        "        {",
        "            \"id\": \"https://openalex.org/A5053780153\",",
        "            // more fields (removed to save space)",
        "        },",
        "        {",
        "            \"id\": \"https://openalex.org/A5032245741\",",
        "            // more fields (removed to save space)",
        "        },",
        "        // more results (removed to save space)",
        "    ],",
        "    \"group_by\": []",
        "}",
        "```",
        "",
        "## Page and sort authors",
        "",
        "By default we return 25 results per page. You can change this default and [page](./../../how-to-use-the-api/get-lists-of-entities/paging.ipynb) through works with the `per-page` and `page` parameters:",
        "",
        "* Get the second page of authors results, with 50 results returned per page\\",
        "  [`https://api.openalex.org/authors?per-page=50\\&page=2`](https://api.openalex.org/authors?per-page=50\\&page=2)"
      ]
    },
    {
      "cell_type": "code",
      "metadata": {},
      "source": [
        "response = authors_api.get_authors(",
        "\tper_page=\"50\",",
        "\tpage=\"2\"",
        ")",
        "",
        "print(json.dumps(response.to_dict(), indent=2))"
      ],
      "outputs": [],
      "execution_count": null
    },
    {
      "cell_type": "markdown",
      "metadata": {},
      "source": [
        "You also can [sort results](./../../how-to-use-the-api/get-lists-of-entities/sort-entity-lists.ipynb) with the `sort` parameter:",
        "",
        "* Sort authors by cited by count, descending\\",
        "  [`https://api.openalex.org/authors?sort=cited\\_by\\_count:desc`](https://api.openalex.org/authors?sort=cited\\_by\\_count:desc)"
      ]
    },
    {
      "cell_type": "code",
      "metadata": {},
      "source": [
        "response = authors_api.get_authors(",
        "\tsort=\"cited_by_count:desc\"",
        ")",
        "",
        "print(json.dumps(response.to_dict(), indent=2))"
      ],
      "outputs": [],
      "execution_count": null
    },
    {
      "cell_type": "markdown",
      "metadata": {},
      "source": [
        "Continue on to learn how you can [filter](./filter-authors.ipynb) and [search](./search-authors.ipynb) lists of authors.",
        "",
        "## Sample authors",
        "",
        "You can use `sample` to get a random batch of authors. Read more about sampling and how to add a `seed` value [here](./../../how-to-use-the-api/get-lists-of-entities/sample-entity-lists.ipynb).",
        "",
        "* Get 25 random authors\\",
        "  [`https://api.openalex.org/authors?sample=25`](https://api.openalex.org/authors?sample=25)"
      ]
    },
    {
      "cell_type": "code",
      "metadata": {},
      "source": [
        "response = authors_api.get_authors(",
        "\tsample=\"25\"",
        ")",
        "",
        "print(json.dumps(response.to_dict(), indent=2))"
      ],
      "outputs": [],
      "execution_count": null
    },
    {
      "cell_type": "markdown",
      "metadata": {},
      "source": [
        "## Select fields",
        "",
        "You can use `select` to limit the fields that are returned in a list of authors. More details are [here](./../../how-to-use-the-api/get-lists-of-entities/select-fields.ipynb).",
        "",
        "* Display only the `id` and `display_name` and `orcid` within authors results\\",
        "  [`https://api.openalex.org/authors?select=id,display\\_name,orcid`](https://api.openalex.org/authors?select=id,display\\_name,orcid)"
      ]
    },
    {
      "cell_type": "code",
      "metadata": {},
      "source": [
        "response = authors_api.get_authors(",
        "\tselect=\"id,display_name,orcid\"",
        ")",
        "",
        "print(json.dumps(response.to_dict(), indent=2))"
      ],
      "outputs": [],
      "execution_count": null
    }
  ],
  "metadata": {
    "kernelspec": {
      "display_name": "Python 3",
      "language": "python",
      "name": "python3"
    },
    "language_info": {
      "codemirror_mode": {
        "name": "ipython",
        "version": 3
      },
      "file_extension": ".py",
      "mimetype": "text/x-python",
      "name": "python",
      "pygments_lexer": "ipython3",
      "version": "3.8.5"
    }
  },
  "nbformat": 4,
  "nbformat_minor": 4
}