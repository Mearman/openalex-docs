{
  "cells": [
    {
      "cell_type": "markdown",
      "metadata": {},
      "source": [
        "[![GitHub Repository](https://img.shields.io/badge/GitHub-Repository-181717?style=for-the-badge&logo=GitHub&link=https://github.com/Mearman/openalex-docs)](https://github.com/Mearman/openalex-docs)[![Open in GitHub](https://img.shields.io/badge/Open%20in-GitHub-181717?style=for-the-badge&logo=github&link=https://github.com/Mearman/openalex-docs/blob/main/api-entities/authors/README.ipynb)](https://github.com/Mearman/openalex-docs/blob/main/api-entities/authors/README.ipynb)[![Open in Colab](https://img.shields.io/badge/Open%20in-Colab-F9AB00?style=for-the-badge&logo=Google%20Colab&link=https://colab.research.google.com/github/Mearman/openalex-docs/blob/main/api-entities/authors/README.ipynb)](https://colab.research.google.com/github/Mearman/openalex-docs/blob/main/api-entities/authors/README.ipynb)"
      ]
    },
    {
      "cell_type": "code",
      "metadata": {},
      "source": [
        "%pip install --upgrade \"git+https://github.com/Mearman/openalex-python-pydantic-v1.git\"\n",
        "%pip install pandasai"
      ],
      "outputs": [],
      "execution_count": null
    },
    {
      "cell_type": "code",
      "metadata": {},
      "source": [
        "import json\n",
        "import pandas as pd\n",
        "from openalex_api import Configuration, ApiClient,AuthorsApi, ConceptsApi, FundersApi, InstitutionsApi, PublishersApi, SourcesApi, WorksApi\n",
        "\n",
        "configuration = Configuration(host=\"https://api.openalex.org\")\n",
        "authors_api = AuthorsApi(ApiClient(configuration))\n",
        "concepts_api = ConceptsApi(ApiClient(configuration))\n",
        "funders_api = FundersApi(ApiClient(configuration))\n",
        "institutions_api = InstitutionsApi(ApiClient(configuration))\n",
        "publishers_api = PublishersApi(ApiClient(configuration))\n",
        "sources_api = SourcesApi(ApiClient(configuration))\n",
        "works_api = WorksApi(ApiClient(configuration))"
      ],
      "outputs": [],
      "execution_count": null
    },
    {
      "cell_type": "code",
      "metadata": {},
      "source": [
        "from pandasai import SmartDataframe\n",
        "from pandasai.llm import OpenAI"
      ],
      "outputs": [],
      "execution_count": null
    },
    {
      "cell_type": "code",
      "metadata": {},
      "source": [
        "openapi_token = \"\" # @param {type:\"string\"}"
      ],
      "outputs": [],
      "execution_count": null
    },
    {
      "cell_type": "markdown",
      "metadata": {},
      "source": [
        "# 👩 Authors\n",
        "\n",
        "Authors are people who create works. OpenAlex indexes about 213M authors, with thousands added daily. You can get an author from the API like this:\n",
        "\n",
        "* Get a list of OpenAlex authors:\\\n",
        "  [`https://api.openalex.org/authors`](https://api.openalex.org/authors)"
      ]
    },
    {
      "cell_type": "code",
      "metadata": {},
      "source": [
        "response = authors_api.get_authors(\n",
        "\t\n",
        ")\n",
        "\n",
        "display(pd.DataFrame(response.results))"
      ],
      "outputs": [],
      "execution_count": null
    },
    {
      "cell_type": "code",
      "metadata": {},
      "source": [
        "try:\n",
        "\topenapi_token\n",
        "\tif openapi_token:\n",
        "\t\tllm = OpenAI(token=openapi_token)\n",
        "\tdf = pd.DataFrame(response.results)\n",
        "\tsdf = SmartDataframe(df, config={\"llm\": llm})\n",
        "\tsdf.chat(\"Plot a chart of this data\")\n",
        "except:\n",
        "\traise Exception(\"Please provide an openapi_token\")"
      ],
      "outputs": [],
      "execution_count": null
    },
    {
      "cell_type": "markdown",
      "metadata": {},
      "source": [
        "The [Canonical External ID](./../../how-to-use-the-api/get-single-entities/README.md#canonical-external-ids) for authors is ORCID; only a small percentage of authors have one, but the percentage is higher for more recent works.\n",
        "\n",
        "Our information about authors comes from MAG, Crossref, PubMed, ORCID, and publisher websites. To learn more about how we combine this information to get OpenAlex Authors, see [author-disambiguation.md](./author-disambiguation.md \"mention\".md).&#x20;\n",
        "\n",
        "Authors are linked to works via the [`works.authorships`](./../works/work-object/README.md#authorships) property.\n",
        "\n",
        "## What's next\n",
        "\n",
        "Learn more about what you can with authors:\n",
        "\n",
        "* [The Author object](./author-object.ipynb)\n",
        "* [Get a single author](./get-a-single-author.ipynb)\n",
        "* [Get lists of authors](./get-lists-of-authors.ipynb)\n",
        "* [Filter authors](./filter-authors.ipynb)\n",
        "* [Search authors](./search-authors.ipynb)\n",
        "* [Group authors](./group-authors.ipynb)"
      ]
    }
  ],
  "metadata": {
    "kernelspec": {
      "display_name": "Python 3",
      "language": "python",
      "name": "python3"
    },
    "language_info": {
      "codemirror_mode": {
        "name": "ipython",
        "version": 3
      },
      "file_extension": ".py",
      "mimetype": "text/x-python",
      "name": "python",
      "pygments_lexer": "ipython3",
      "version": "3.8.5"
    }
  },
  "nbformat": 4,
  "nbformat_minor": 4
}