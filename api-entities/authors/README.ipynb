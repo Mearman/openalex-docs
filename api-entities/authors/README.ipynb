{
  "cells": [
    {
      "cell_type": "markdown",
      "metadata": {},
      "source": [
        "[![Open All Collab](https://colab.research.google.com/assets/colab-badge.svg)](https://colab.research.google.com/github/Mearman/openalex-docs/blob/main/api-entities/authors/README.ipynb)"
      ]
    },
    {
      "cell_type": "code",
      "metadata": {},
      "source": [
        "%pip install --upgrade \"git+https://github.com/Mearman/openalex-python.git\""
      ],
      "outputs": [],
      "execution_count": null
    },
    {
      "cell_type": "code",
      "metadata": {},
      "source": [
        "import json",
        "from openalex_api import Configuration, ApiClient,AuthorsApi, ConceptsApi, FundersApi, InstitutionsApi, PublishersApi, SourcesApi, WorksApi",
        "",
        "configuration = Configuration(host=\"https://api.openalex.org\")",
        "authors_api = AuthorsApi(ApiClient(configuration))",
        "concepts_api = ConceptsApi(ApiClient(configuration))",
        "funders_api = FundersApi(ApiClient(configuration))",
        "institutions_api = InstitutionsApi(ApiClient(configuration))",
        "publishers_api = PublishersApi(ApiClient(configuration))",
        "sources_api = SourcesApi(ApiClient(configuration))",
        "works_api = WorksApi(ApiClient(configuration))"
      ],
      "outputs": [],
      "execution_count": null
    },
    {
      "cell_type": "markdown",
      "metadata": {},
      "source": [
        "# 👩 Authors",
        "",
        "Authors are people who create works. OpenAlex indexes about 213M authors, with thousands added daily. You can get an author from the API like this:",
        "",
        "* Get a list of OpenAlex authors:\\",
        "  [`https://api.openalex.org/authors`](https://api.openalex.org/authors)"
      ]
    },
    {
      "cell_type": "code",
      "metadata": {},
      "source": [
        "response = authors_api.get_authors(",
        "\t",
        ")",
        "",
        "print(json.dumps(response.to_dict(), indent=2))"
      ],
      "outputs": [],
      "execution_count": null
    },
    {
      "cell_type": "markdown",
      "metadata": {},
      "source": [
        "The [Canonical External ID](./../../how-to-use-the-api/get-single-entities/README.md#canonical-external-ids) for authors is ORCID; only a small percentage of authors have one, but the percentage is higher for more recent works.",
        "",
        "Our information about authors comes from MAG, Crossref, PubMed, ORCID, and publisher websites. To learn more about how we combine this information to get OpenAlex Authors, see [author-disambiguation.md](./author-disambiguation.md \"mention\".md).&#x20;",
        "",
        "Authors are linked to works via the [`works.authorships`](./../works/work-object/README.md#authorships) property.",
        "",
        "## What's next",
        "",
        "Learn more about what you can with authors:",
        "",
        "* [The Author object](./author-object.ipynb)",
        "* [Get a single author](./get-a-single-author.ipynb)",
        "* [Get lists of authors](./get-lists-of-authors.ipynb)",
        "* [Filter authors](./filter-authors.ipynb)",
        "* [Search authors](./search-authors.ipynb)",
        "* [Group authors](./group-authors.ipynb)"
      ]
    }
  ],
  "metadata": {
    "kernelspec": {
      "display_name": "Python 3",
      "language": "python",
      "name": "python3"
    },
    "language_info": {
      "codemirror_mode": {
        "name": "ipython",
        "version": 3
      },
      "file_extension": ".py",
      "mimetype": "text/x-python",
      "name": "python",
      "pygments_lexer": "ipython3",
      "version": "3.8.5"
    }
  },
  "nbformat": 4,
  "nbformat_minor": 4
}