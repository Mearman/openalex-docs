{
  "cells": [
    {
      "cell_type": "markdown",
      "metadata": {},
      "source": [
        "[![GitHub Repository](https://img.shields.io/badge/GitHub-Repository-181717?style=for-the-badge&logo=GitHub&link=https://github.com/Mearman/openalex-docs)](https://github.com/Mearman/openalex-docs)[![Open in GitHub](https://img.shields.io/badge/Open%20in-GitHub-181717?style=for-the-badge&logo=github&link=https://github.com/Mearman/openalex-docs/blob/main/api-entities/institutions/get-a-single-institution.ipynb)](https://github.com/Mearman/openalex-docs/blob/main/api-entities/institutions/get-a-single-institution.ipynb)[![Open in Colab](https://img.shields.io/badge/Open%20in-Colab-F9AB00?style=for-the-badge&logo=Google%20Colab&link=https://colab.research.google.com/github/Mearman/openalex-docs/blob/main/api-entities/institutions/get-a-single-institution.ipynb)](https://colab.research.google.com/github/Mearman/openalex-docs/blob/main/api-entities/institutions/get-a-single-institution.ipynb)"
      ]
    },
    {
      "cell_type": "code",
      "metadata": {},
      "source": [
        "%pip install --upgrade \"git+https://github.com/Mearman/openalex-python-pydantic-v1.git\"\n",
        "%pip install pandasai"
      ],
      "outputs": [],
      "execution_count": null
    },
    {
      "cell_type": "code",
      "metadata": {},
      "source": [
        "import json\n",
        "import pandas as pd\n",
        "import numpy as np\n",
        "from openalex_api import Configuration, ApiClient, AutocompleteApi, AuthorsApi, ConceptsApi, FundersApi, InstitutionsApi, PublishersApi, SourcesApi, WorksApi\n",
        "\n",
        "configuration = Configuration(host=\"https://api.openalex.org\")\n",
        "autocomplete_api = AutocompleteApi(ApiClient(configuration))\n",
        "authors_api = AuthorsApi(ApiClient(configuration))\n",
        "concepts_api = ConceptsApi(ApiClient(configuration))\n",
        "funders_api = FundersApi(ApiClient(configuration))\n",
        "institutions_api = InstitutionsApi(ApiClient(configuration))\n",
        "publishers_api = PublishersApi(ApiClient(configuration))\n",
        "sources_api = SourcesApi(ApiClient(configuration))\n",
        "works_api = WorksApi(ApiClient(configuration))\n",
        "\n",
        "from pandasai import SmartDataframe\n",
        "from pandasai.llm import OpenAI"
      ],
      "outputs": [],
      "execution_count": null
    },
    {
      "cell_type": "code",
      "metadata": {},
      "source": [
        "# @title  { run: \"auto\", display-mode: \"form\" }\n",
        "openapi_token = \"\" # @param {type:\"string\"}"
      ],
      "outputs": [],
      "execution_count": null
    },
    {
      "cell_type": "markdown",
      "metadata": {},
      "source": [
        "# Get a single institution\n",
        "\n",
        "It's easy to get an institution from from the API with: `/institutions/<entity_id>`. Here's an example:\n",
        "\n",
        "* Get the institution with the [OpenAlex ID](./../../how-to-use-the-api/get-single-entities/README.md#the-openalex-id) `I27837315`: \\\n",
        "  [https://api.openalex.org/institutions/I27837315](https://api.openalex.org/institutions/I27837315)"
      ]
    },
    {
      "cell_type": "code",
      "metadata": {},
      "source": [
        "# https://api.openalex.org/institutions/I27837315\n",
        "response = institutions_api.get_institution(\n",
        "\tid=\"I27837315\"\n",
        ")\n",
        "\n",
        "df = pd.DataFrame(response).T.rename(columns=lambda x: x[0]).drop(0).set_index('id')\n",
        "display(df)"
      ],
      "outputs": [],
      "execution_count": null
    },
    {
      "cell_type": "markdown",
      "metadata": {},
      "source": [
        "That will return an [`Institution`](./institution-object.ipynb) object, describing everything OpenAlex knows about the institution with that ID:\n",
        "\n",
        "```json\n",
        "{\n",
        "    \"id\": \"https://openalex.org/I27837315\",\n",
        "    \"ror\": \"https://ror.org/00jmfr291\",\n",
        "    \"display_name\": \"University of Michigan–Ann Arbor\",\n",
        "    \"country_code\": \"US\",\n",
        "    \"type\": \"education\",\n",
        "    // other fields removed for brevity\n",
        "}\n",
        "```\n",
        "\n",
        "{% hint style=\"info\" %}\n",
        "You can make up to 50 of these queries at once by [requesting a list of entities and filtering on IDs using OR syntax](./../../how-to-use-the-api/get-lists-of-entities/filter-entity-lists.md#addition-or).\n",
        "{% endhint %}\n",
        "\n",
        "### External IDs\n",
        "\n",
        "You can look up institutions using external IDs such as a [ROR ID](https://ror.org/):\n",
        "\n",
        "* Get the institution with ROR ID `https://ror.org/00cvxb145`:\\\n",
        "  [https://api.openalex.org/institutions/ror:https://ror.org/00cvxb145](https://api.openalex.org/institutions/ror:https://ror.org/00cvxb145)"
      ]
    },
    {
      "cell_type": "code",
      "metadata": {},
      "source": [
        "# https://api.openalex.org/institutions/ror:https://ror.org/00cvxb145\n",
        "response = institutions_api.get_institution(\n",
        "\tid=\"ror:https:\"\n",
        ")\n",
        "\n",
        "df = pd.DataFrame(response).T.rename(columns=lambda x: x[0]).drop(0).set_index('id')\n",
        "display(df)"
      ],
      "outputs": [],
      "execution_count": null
    },
    {
      "cell_type": "markdown",
      "metadata": {},
      "source": [
        "Available external IDs for institutions are:\n",
        "\n",
        "<table><thead><tr><th width=\"388.6666666666667\">External ID</th><th width=\"416\">URN</th></tr></thead><tbody><tr><td>ROR</td><td><code>ror</code></td></tr><tr><td>Microsoft Academic Graph (MAG)</td><td><code>mag</code></td></tr><tr><td>Wikidata</td><td><code>wikidata</code></td></tr></tbody></table>\n",
        "\n",
        "### Select fields\n",
        "\n",
        "You can use `select` to limit the fields that are returned in an institution object. More details are [here](./../../how-to-use-the-api/get-lists-of-entities/select-fields.ipynb).\n",
        "\n",
        "* Display only the `id` and `display_name` for an institution object\\\n",
        "  [https://api.openalex.org/institutions/I27837315?select=id,display\\_name](https://api.openalex.org/institutions/I27837315?select=id,display\\_name)"
      ]
    },
    {
      "cell_type": "code",
      "metadata": {},
      "source": [
        "# https://api.openalex.org/institutions/I27837315?select=id,display_name\n",
        "response = institutions_api.get_institution(\n",
        "\tselect=\"id,display_name\",\n",
        "\tid=\"I27837315\"\n",
        ")\n",
        "\n",
        "df = pd.DataFrame(response).T.rename(columns=lambda x: x[0]).drop(0).set_index('id')\n",
        "display(df)"
      ],
      "outputs": [],
      "execution_count": null
    }
  ],
  "metadata": {
    "kernelspec": {
      "display_name": "Python 3",
      "language": "python",
      "name": "python3"
    },
    "language_info": {
      "codemirror_mode": {
        "name": "ipython",
        "version": 3
      },
      "file_extension": ".py",
      "mimetype": "text/x-python",
      "name": "python",
      "pygments_lexer": "ipython3",
      "version": "3.8.5"
    }
  },
  "nbformat": 4,
  "nbformat_minor": 4
}