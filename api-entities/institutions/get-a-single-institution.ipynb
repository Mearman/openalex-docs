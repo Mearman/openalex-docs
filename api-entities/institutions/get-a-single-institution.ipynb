{
  "cells": [
    {
      "cell_type": "markdown",
      "metadata": {},
      "source": [
        "[![Open All Collab](https://colab.research.google.com/assets/colab-badge.svg)](https://colab.research.google.com/github/Mearman/openalex-docs/blob/main/api-entities/institutions/get-a-single-institution.ipynb)"
      ]
    },
    {
      "cell_type": "code",
      "metadata": {},
      "source": [
        "%pip install --upgrade \"git+https://github.com/Mearman/openalex-python.git\""
      ],
      "outputs": [],
      "execution_count": null
    },
    {
      "cell_type": "code",
      "metadata": {},
      "source": [
        "import json",
        "from openalex_api import Configuration, ApiClient,AuthorsApi, ConceptsApi, FundersApi, InstitutionsApi, PublishersApi, SourcesApi, WorksApi",
        "",
        "configuration = Configuration(host=\"https://api.openalex.org\")",
        "authors_api = AuthorsApi(ApiClient(configuration))",
        "concepts_api = ConceptsApi(ApiClient(configuration))",
        "funders_api = FundersApi(ApiClient(configuration))",
        "institutions_api = InstitutionsApi(ApiClient(configuration))",
        "publishers_api = PublishersApi(ApiClient(configuration))",
        "sources_api = SourcesApi(ApiClient(configuration))",
        "works_api = WorksApi(ApiClient(configuration))"
      ],
      "outputs": [],
      "execution_count": null
    },
    {
      "cell_type": "markdown",
      "metadata": {},
      "source": [
        "# Get a single institution",
        "",
        "It's easy to get an institution from from the API with: `/institutions/<entity_id>`. Here's an example:",
        "",
        "* Get the institution with the [OpenAlex ID](./../../how-to-use-the-api/get-single-entities/README.md#the-openalex-id) `I27837315`: \\",
        "  [https://api.openalex.org/institutions/I27837315](https://api.openalex.org/institutions/I27837315)"
      ]
    },
    {
      "cell_type": "code",
      "metadata": {},
      "source": [
        "response = institutions_api.get_institution(",
        "\tid=\"I27837315\"",
        ")",
        "",
        "print(json.dumps(response.to_dict(), indent=2))"
      ],
      "outputs": [],
      "execution_count": null
    },
    {
      "cell_type": "markdown",
      "metadata": {},
      "source": [
        "That will return an [`Institution`](./institution-object.ipynb) object, describing everything OpenAlex knows about the institution with that ID:",
        "",
        "```json",
        "{",
        "    \"id\": \"https://openalex.org/I27837315\",",
        "    \"ror\": \"https://ror.org/00jmfr291\",",
        "    \"display_name\": \"University of Michigan–Ann Arbor\",",
        "    \"country_code\": \"US\",",
        "    \"type\": \"education\",",
        "    // other fields removed for brevity",
        "}",
        "```",
        "",
        "{% hint style=\"info\" %}",
        "You can make up to 50 of these queries at once by [requesting a list of entities and filtering on IDs using OR syntax](./../../how-to-use-the-api/get-lists-of-entities/filter-entity-lists.md#addition-or).",
        "{% endhint %}",
        "",
        "### External IDs",
        "",
        "You can look up institutions using external IDs such as a [ROR ID](https://ror.org/):",
        "",
        "* Get the institution with ROR ID `https://ror.org/00cvxb145`:\\",
        "  [https://api.openalex.org/institutions/ror:https://ror.org/00cvxb145](https://api.openalex.org/institutions/ror:https://ror.org/00cvxb145)"
      ]
    },
    {
      "cell_type": "code",
      "metadata": {},
      "source": [
        "response = institutions_api.get_institution(",
        "\tid=\"ror:https:\"",
        ")",
        "",
        "print(json.dumps(response.to_dict(), indent=2))"
      ],
      "outputs": [],
      "execution_count": null
    },
    {
      "cell_type": "markdown",
      "metadata": {},
      "source": [
        "Available external IDs for institutions are:",
        "",
        "<table><thead><tr><th width=\"388.6666666666667\">External ID</th><th width=\"416\">URN</th></tr></thead><tbody><tr><td>ROR</td><td><code>ror</code></td></tr><tr><td>Microsoft Academic Graph (MAG)</td><td><code>mag</code></td></tr><tr><td>Wikidata</td><td><code>wikidata</code></td></tr></tbody></table>",
        "",
        "### Select fields",
        "",
        "You can use `select` to limit the fields that are returned in an institution object. More details are [here](./../../how-to-use-the-api/get-lists-of-entities/select-fields.ipynb).",
        "",
        "* Display only the `id` and `display_name` for an institution object\\",
        "  [https://api.openalex.org/institutions/I27837315?select=id,display\\_name](https://api.openalex.org/institutions/I27837315?select=id,display\\_name)"
      ]
    },
    {
      "cell_type": "code",
      "metadata": {},
      "source": [
        "response = institutions_api.get_institution(",
        "\tselect=\"id,display_name\",",
        "\tid=\"I27837315\"",
        ")",
        "",
        "print(json.dumps(response.to_dict(), indent=2))"
      ],
      "outputs": [],
      "execution_count": null
    }
  ],
  "metadata": {
    "kernelspec": {
      "display_name": "Python 3",
      "language": "python",
      "name": "python3"
    },
    "language_info": {
      "codemirror_mode": {
        "name": "ipython",
        "version": 3
      },
      "file_extension": ".py",
      "mimetype": "text/x-python",
      "name": "python",
      "pygments_lexer": "ipython3",
      "version": "3.8.5"
    }
  },
  "nbformat": 4,
  "nbformat_minor": 4
}