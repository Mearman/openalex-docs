{
  "cells": [
    {
      "cell_type": "markdown",
      "metadata": {},
      "source": [
        "[![Open All Collab](https://colab.research.google.com/assets/colab-badge.svg)](https://colab.research.google.com/github/Mearman/openalex-docs/blob/main/api-entities/institutions/group-institutions.ipynb)\n",
        "\n"
      ]
    },
    {
      "cell_type": "code",
      "metadata": {},
      "source": [
        "%pip install --upgrade \"git+https://github.com/Mearman/openalex-python.git\"\n",
        "\n"
      ],
      "outputs": [],
      "execution_count": null
    },
    {
      "cell_type": "code",
      "metadata": {},
      "source": [
        "import json\n",
        "from openalex_api import Configuration, ApiClient,AuthorsApi, ConceptsApi, FundersApi, InstitutionsApi, PublishersApi, SourcesApi, WorksApi\n",
        "\n",
        "configuration = Configuration(host=\"https://api.openalex.org\")\n",
        "authors_api = AuthorsApi(ApiClient(configuration))\n",
        "concepts_api = ConceptsApi(ApiClient(configuration))\n",
        "funders_api = FundersApi(ApiClient(configuration))\n",
        "institutions_api = InstitutionsApi(ApiClient(configuration))\n",
        "publishers_api = PublishersApi(ApiClient(configuration))\n",
        "sources_api = SourcesApi(ApiClient(configuration))\n",
        "works_api = WorksApi(ApiClient(configuration))\n",
        "\n"
      ],
      "outputs": [],
      "execution_count": null
    },
    {
      "cell_type": "markdown",
      "metadata": {},
      "source": [
        "\n",
        "# Group institutions\n",
        "\n",
        "You can group institutions with the `group_by` parameter:\n",
        "\n",
        "* Get counts of institutions by country code:\\\n",
        "  [https://api.openalex.org/institutions?group\\_by=country\\_code](https://api.openalex.org/institutions?group\\_by=country\\_code)\n",
        "\n"
      ]
    },
    {
      "cell_type": "code",
      "metadata": {},
      "source": [
        "response = institutions_api.get_institutions(\n",
        "\tgroup_by=\"country_code\"\n",
        ")\n",
        "\n",
        "print(json.dumps(response.to_dict(), indent=2))\n",
        "\n"
      ],
      "outputs": [],
      "execution_count": null
    },
    {
      "cell_type": "markdown",
      "metadata": {},
      "source": [
        "\n",
        "\n",
        "Or you can group using one the attributes below.\n",
        "\n",
        "{% hint style=\"info\" %}\n",
        "It's best to [read about group by](./../../how-to-use-the-api/get-groups-of-entities.md) before trying these out. It will show you how results are formatted, the number of results returned, and how to sort results.\n",
        "{% endhint %}\n",
        "\n",
        "### `/institutions` group\\_by attributes\n",
        "\n",
        "* [`cited_by_count`](./institution-object.md#cited\\_by\\_count)\n",
        "* [`continent`](./filter-institutions.md#continent)\n",
        "* [`country_code`](./institution-object.md#country\\_code)\n",
        "* [`has_ror`](./filter-institutions.md#has\\_ror)\n",
        "* [`is_global_south`](./filter-institutions.md#is\\_global\\_south)\n",
        "* [`lineage`](./institution-object.md#lineage)\n",
        "* [`repositories.host_organization`](./institution-object.md#repositories)\n",
        "* [`summary_stats.2yr_mean_citedness`](./institution-object.md#summary_stats)\n",
        "* [`summary_stats.h_index`](./institution-object.md#summary_stats)\n",
        "* [`summary_stats.i10_index`](./institution-object.md#summary_stats)\n",
        "* [`type`](./institution-object.md#type)\n",
        "* [`works_count`](./institution-object.md#works\\_count)\n"
      ]
    }
  ],
  "metadata": {
    "kernelspec": {
      "display_name": "Python 3",
      "language": "python",
      "name": "python3"
    },
    "language_info": {
      "codemirror_mode": {
        "name": "ipython",
        "version": 3
      },
      "file_extension": ".py",
      "mimetype": "text/x-python",
      "name": "python",
      "pygments_lexer": "ipython3",
      "version": "3.8.5"
    }
  },
  "nbformat": 4,
  "nbformat_minor": 4
}