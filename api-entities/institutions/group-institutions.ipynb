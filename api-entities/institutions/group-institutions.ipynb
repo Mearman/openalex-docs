{
  "cells": [
    {
      "cell_type": "markdown",
      "metadata": {},
      "source": [
        "[![Open All Collab](https://colab.research.google.com/assets/colab-badge.svg)](https://colab.research.google.com/github/Mearman/openalex-docs/blob/main/api-entities/institutions/group-institutions.ipynb)"
      ]
    },
    {
      "cell_type": "code",
      "metadata": {},
      "source": [
        "%pip install --upgrade \"git+https://github.com/Mearman/openalex-python.git\""
      ],
      "outputs": [],
      "execution_count": null
    },
    {
      "cell_type": "code",
      "metadata": {},
      "source": [
        "import json",
        "from openalex_api import Configuration, ApiClient,AuthorsApi, ConceptsApi, FundersApi, InstitutionsApi, PublishersApi, SourcesApi, WorksApi",
        "",
        "configuration = Configuration(host=\"https://api.openalex.org\")",
        "authors_api = AuthorsApi(ApiClient(configuration))",
        "concepts_api = ConceptsApi(ApiClient(configuration))",
        "funders_api = FundersApi(ApiClient(configuration))",
        "institutions_api = InstitutionsApi(ApiClient(configuration))",
        "publishers_api = PublishersApi(ApiClient(configuration))",
        "sources_api = SourcesApi(ApiClient(configuration))",
        "works_api = WorksApi(ApiClient(configuration))"
      ],
      "outputs": [],
      "execution_count": null
    },
    {
      "cell_type": "markdown",
      "metadata": {},
      "source": [
        "# Group institutions",
        "",
        "You can group institutions with the `group_by` parameter:",
        "",
        "* Get counts of institutions by country code:\\",
        "  [https://api.openalex.org/institutions?group\\_by=country\\_code](https://api.openalex.org/institutions?group\\_by=country\\_code)"
      ]
    },
    {
      "cell_type": "code",
      "metadata": {},
      "source": [
        "response = institutions_api.get_institutions(",
        "\tgroup_by=\"country_code\"",
        ")",
        "",
        "print(json.dumps(response.to_dict(), indent=2))"
      ],
      "outputs": [],
      "execution_count": null
    },
    {
      "cell_type": "markdown",
      "metadata": {},
      "source": [
        "Or you can group using one the attributes below.",
        "",
        "{% hint style=\"info\" %}",
        "It's best to [read about group by](./../../how-to-use-the-api/get-groups-of-entities.ipynb) before trying these out. It will show you how results are formatted, the number of results returned, and how to sort results.",
        "{% endhint %}",
        "",
        "### `/institutions` group\\_by attributes",
        "",
        "* [`cited_by_count`](./institution-object.md#cited\\_by\\_count)",
        "* [`continent`](./filter-institutions.md#continent)",
        "* [`country_code`](./institution-object.md#country\\_code)",
        "* [`has_ror`](./filter-institutions.md#has\\_ror)",
        "* [`is_global_south`](./filter-institutions.md#is\\_global\\_south)",
        "* [`lineage`](./institution-object.md#lineage)",
        "* [`repositories.host_organization`](./institution-object.md#repositories)",
        "* [`summary_stats.2yr_mean_citedness`](./institution-object.md#summary_stats)",
        "* [`summary_stats.h_index`](./institution-object.md#summary_stats)",
        "* [`summary_stats.i10_index`](./institution-object.md#summary_stats)",
        "* [`type`](./institution-object.md#type)",
        "* [`works_count`](./institution-object.md#works\\_count)"
      ]
    }
  ],
  "metadata": {
    "kernelspec": {
      "display_name": "Python 3",
      "language": "python",
      "name": "python3"
    },
    "language_info": {
      "codemirror_mode": {
        "name": "ipython",
        "version": 3
      },
      "file_extension": ".py",
      "mimetype": "text/x-python",
      "name": "python",
      "pygments_lexer": "ipython3",
      "version": "3.8.5"
    }
  },
  "nbformat": 4,
  "nbformat_minor": 4
}