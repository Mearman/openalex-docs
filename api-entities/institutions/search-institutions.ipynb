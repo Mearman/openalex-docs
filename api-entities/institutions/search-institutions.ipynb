{
  "cells": [
    {
      "cell_type": "markdown",
      "metadata": {},
      "source": [
        "[![Open All Collab](https://colab.research.google.com/assets/colab-badge.svg)](https://colab.research.google.com/github/Mearman/openalex-docs/blob/main/api-entities/institutions/search-institutions.ipynb)"
      ]
    },
    {
      "cell_type": "code",
      "metadata": {},
      "source": [
        "%pip install --upgrade \"git+https://github.com/Mearman/openalex-python.git\""
      ],
      "outputs": [],
      "execution_count": null
    },
    {
      "cell_type": "code",
      "metadata": {},
      "source": [
        "import json",
        "from openalex_api import Configuration, ApiClient,AuthorsApi, ConceptsApi, FundersApi, InstitutionsApi, PublishersApi, SourcesApi, WorksApi",
        "",
        "configuration = Configuration(host=\"https://api.openalex.org\")",
        "authors_api = AuthorsApi(ApiClient(configuration))",
        "concepts_api = ConceptsApi(ApiClient(configuration))",
        "funders_api = FundersApi(ApiClient(configuration))",
        "institutions_api = InstitutionsApi(ApiClient(configuration))",
        "publishers_api = PublishersApi(ApiClient(configuration))",
        "sources_api = SourcesApi(ApiClient(configuration))",
        "works_api = WorksApi(ApiClient(configuration))"
      ],
      "outputs": [],
      "execution_count": null
    },
    {
      "cell_type": "markdown",
      "metadata": {},
      "source": [
        "# Search institutions",
        "",
        "The best way to search for institutions is to use the `search` query parameter, which searches the [`display_name`](./institution-object.md#display\\_name), the [`display_name_alternatives`](./institution-object.md#display_name_alternatives), and the [`display_name_acronyms`](./institution-object.md#display_name_acronyms). Example:",
        "",
        "* Search institutions for San Diego State University:\\",
        "  [`https://api.openalex.org/institutions?search=san diego state university`](https://api.openalex.org/institutions?search=san%20diego%20state%20university)"
      ]
    },
    {
      "cell_type": "code",
      "metadata": {},
      "source": [
        "response = institutions_api.get_institutions(",
        "\tsearch=\"san\"",
        ")",
        "",
        "print(json.dumps(response.to_dict(), indent=2))"
      ],
      "outputs": [],
      "execution_count": null
    },
    {
      "cell_type": "code",
      "metadata": {},
      "source": [
        "response = institutions_api.get_institutions(",
        "\tsearch=\"san diego state university\"",
        ")",
        "",
        "print(json.dumps(response.to_dict(), indent=2))"
      ],
      "outputs": [],
      "execution_count": null
    },
    {
      "cell_type": "markdown",
      "metadata": {},
      "source": [
        "{% hint style=\"info\" %}",
        "You can read more about search [here](./../../how-to-use-the-api/get-lists-of-entities/search-entities.ipynb). It will show you how relevance score is calculated, how words are stemmed to improve search results, and how to do complex boolean searches.",
        "{% endhint %}",
        "",
        "## Search a specific field"
      ]
    },
    {
      "cell_type": "code",
      "metadata": {},
      "source": [
        "response = institutions_api.get_institutions(",
        "\tfilter=\"display_name.search:florida\"",
        ")",
        "",
        "print(json.dumps(response.to_dict(), indent=2))"
      ],
      "outputs": [],
      "execution_count": null
    },
    {
      "cell_type": "markdown",
      "metadata": {},
      "source": [
        "You can also use search as a [filter](./../../how-to-use-the-api/get-lists-of-entities/filter-entity-lists.ipynb), allowing you to fine-tune the fields you're searching over. To do this, you append `.search` to the end of the property you are filtering for:",
        "",
        "* Get institutions with \"florida\" in the `display_name`:\\",
        "  [https://api.openalex.org/institutions?filter=display\\_name.search:florida](https://api.openalex.org/institutions?filter=display\\_name.search:florida)",
        "",
        "The following field can be searched as a filter within institutions:",
        "",
        "| Search filter                                                        | Field that is searched                                |",
        "| -------------------------------------------------------------------- | ----------------------------------------------------- |",
        "| [`display_name.search`](./filter-institutions.md#display\\_name.search) | [`display_name`](./institution-object.md#display\\_name) |",
        "",
        "You can also use the filter `default.search`, which works the same as using the [`search` parameter](./README.md#search-institutions).",
        "",
        "## Autocomplete institutions",
        "",
        "You can autocomplete institutions to create a very fast type-ahead style search function:",
        "",
        "* Autocomplete institutions with \"harv\" in the [`display_name`](./institution-object.md#display\\_name):\\",
        "  [https://api.openalex.org/autocomplete/institutions?q=harv](https://api.openalex.org/autocomplete/institutions?q=harv)"
      ]
    },
    {
      "cell_type": "code",
      "metadata": {},
      "source": [
        "response = autocomplete_api.get_autocomplet(",
        "\tq=\"harv\",",
        "\tid=\"institutions\"",
        ")",
        "",
        "print(json.dumps(response.to_dict(), indent=2))"
      ],
      "outputs": [],
      "execution_count": null
    },
    {
      "cell_type": "markdown",
      "metadata": {},
      "source": [
        "This returns a list of institutions with the institution location set as the hint:",
        "",
        "<pre class=\"language-json\"><code class=\"lang-json\">{ ",
        "  \"results\": [",
        "    {",
        "        \"id\": \"https://openalex.org/I136199984\",",
        "        \"display_name\": \"Harvard University\",",
        "        \"hint\": \"Cambridge, USA\",",
        "        \"cited_by_count\": 37792327,",
        "        \"works_count\": 242547,",
        "        \"entity_type\": \"institution\",",
        "        \"external_id\": \"https://ror.org/03vek6s52\"",
        "    },",
        "    ...",
        "<strong>  ]",
        "</strong><strong>}",
        "</strong></code></pre>",
        "",
        "{% hint style=\"info\" %}",
        "Read more in the [autocomplete page](./../../how-to-use-the-api/get-lists-of-entities/autocomplete-entities.ipynb) in the API guide.",
        "{% endhint %}"
      ]
    }
  ],
  "metadata": {
    "kernelspec": {
      "display_name": "Python 3",
      "language": "python",
      "name": "python3"
    },
    "language_info": {
      "codemirror_mode": {
        "name": "ipython",
        "version": 3
      },
      "file_extension": ".py",
      "mimetype": "text/x-python",
      "name": "python",
      "pygments_lexer": "ipython3",
      "version": "3.8.5"
    }
  },
  "nbformat": 4,
  "nbformat_minor": 4
}