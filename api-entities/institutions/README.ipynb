{
  "cells": [
    {
      "cell_type": "markdown",
      "metadata": {},
      "source": [
        "[![Repository](https://img.shields.io/badge/-Repository-black?logo=github)](https://github.com/Mearman/openalex-docs)[![Open in GitHub](https://img.shields.io/badge/-Open%20in%20GitHub-black?logo=github)](https://github.com/Mearman/openalex-docs/blob/main/api-entities/institutions/README.ipynb)[![Open in Collab](https://colab.research.google.com/assets/colab-badge.svg)](https://colab.research.google.com/github/Mearman/openalex-docs/blob/main/api-entities/institutions/README.ipynb)"
      ]
    },
    {
      "cell_type": "code",
      "metadata": {},
      "source": [
        "%pip install --upgrade \"git+https://github.com/Mearman/openalex-python.git\""
      ],
      "outputs": [],
      "execution_count": null
    },
    {
      "cell_type": "code",
      "metadata": {},
      "source": [
        "import json\n",
        "from openalex_api import Configuration, ApiClient,AuthorsApi, ConceptsApi, FundersApi, InstitutionsApi, PublishersApi, SourcesApi, WorksApi\n",
        "\n",
        "configuration = Configuration(host=\"https://api.openalex.org\")\n",
        "authors_api = AuthorsApi(ApiClient(configuration))\n",
        "concepts_api = ConceptsApi(ApiClient(configuration))\n",
        "funders_api = FundersApi(ApiClient(configuration))\n",
        "institutions_api = InstitutionsApi(ApiClient(configuration))\n",
        "publishers_api = PublishersApi(ApiClient(configuration))\n",
        "sources_api = SourcesApi(ApiClient(configuration))\n",
        "works_api = WorksApi(ApiClient(configuration))"
      ],
      "outputs": [],
      "execution_count": null
    },
    {
      "cell_type": "markdown",
      "metadata": {},
      "source": [
        "# 🏫 Institutions\n",
        "\n",
        "Institutions are universities and other organizations to which authors claim affiliations. OpenAlex indexes about 109,000 institutions.&#x20;\n",
        "\n",
        "* Get a list of OpenAlex institutions:\\\n",
        "  [`https://api.openalex.org/institutions`](https://api.openalex.org/institutions)"
      ]
    },
    {
      "cell_type": "code",
      "metadata": {},
      "source": [
        "response = institutions_api.get_institutions(\n",
        "\t\n",
        ")\n",
        "\n",
        "print(json.dumps(response.to_dict(), indent=2))"
      ],
      "outputs": [],
      "execution_count": null
    },
    {
      "cell_type": "markdown",
      "metadata": {},
      "source": [
        "The [Canonical External ID](./../../how-to-use-the-api/get-single-entities/README.md#canonical-external-ids) for institutions is the ROR ID. All institutions in OpenAlex have ROR IDs.\n",
        "\n",
        "Our information about institutions comes from metadata found in Crossref, PubMed, ROR, MAG, and publisher websites. In order to link institutions to works, we parse every affiliation listed by every author. These affiliation strings can be quite messy, so we’ve trained an algorithm to interpret them and extract the actual institutions with reasonably high reliability.\n",
        "\n",
        "For a simple example: we will treat both “MIT, Boston, USA” and “Massachusetts Institute of Technology” as the same institution ([https://ror.org/042nb2s44](https://ror.org/042nb2s44)).\n",
        "\n",
        "Institutions are linked to works via the [`works.authorships`](./../works/work-object/README.md#authorships) property.\n",
        "\n",
        "## What's next\n",
        "\n",
        "Learn more about what you can do with institutions:\n",
        "\n",
        "* [The Institution object](./institution-object.ipynb)\n",
        "* [Get a single institution](./get-a-single-institution.ipynb)\n",
        "* [Get lists of institutions](./get-lists-of-institutions.ipynb)\n",
        "* [Filter institutions](./filter-institutions.ipynb)\n",
        "* [Search institutions](./search-institutions.ipynb)\n",
        "* [Group institutions](./group-institutions.ipynb)"
      ]
    }
  ],
  "metadata": {
    "kernelspec": {
      "display_name": "Python 3",
      "language": "python",
      "name": "python3"
    },
    "language_info": {
      "codemirror_mode": {
        "name": "ipython",
        "version": 3
      },
      "file_extension": ".py",
      "mimetype": "text/x-python",
      "name": "python",
      "pygments_lexer": "ipython3",
      "version": "3.8.5"
    }
  },
  "nbformat": 4,
  "nbformat_minor": 4
}