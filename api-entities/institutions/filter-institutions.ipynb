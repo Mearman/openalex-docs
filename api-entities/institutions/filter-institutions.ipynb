{
  "cells": [
    {
      "cell_type": "markdown",
      "metadata": {},
      "source": [
        "[![Open All Collab](https://colab.research.google.com/assets/colab-badge.svg)](https://colab.research.google.com/github/Mearman/openalex-docs/blob/main/api-entities/institutions/filter-institutions.ipynb)\n",
        "\n"
      ]
    },
    {
      "cell_type": "code",
      "metadata": {},
      "source": [
        "%pip install --upgrade \"git+https://github.com/Mearman/openalex-python.git\"\n",
        "\n"
      ],
      "outputs": [],
      "execution_count": null
    },
    {
      "cell_type": "code",
      "metadata": {},
      "source": [
        "import json\n",
        "from openalex_api import Configuration, ApiClient,AuthorsApi, ConceptsApi, FundersApi, InstitutionsApi, PublishersApi, SourcesApi, WorksApi\n",
        "\n",
        "configuration = Configuration(host=\"https://api.openalex.org\")\n",
        "authors_api = AuthorsApi(ApiClient(configuration))\n",
        "concepts_api = ConceptsApi(ApiClient(configuration))\n",
        "funders_api = FundersApi(ApiClient(configuration))\n",
        "institutions_api = InstitutionsApi(ApiClient(configuration))\n",
        "publishers_api = PublishersApi(ApiClient(configuration))\n",
        "sources_api = SourcesApi(ApiClient(configuration))\n",
        "works_api = WorksApi(ApiClient(configuration))\n",
        "\n"
      ],
      "outputs": [],
      "execution_count": null
    },
    {
      "cell_type": "markdown",
      "metadata": {},
      "source": [
        "\n",
        "# Filter institutions\n",
        "\n",
        "You can filter institutions with the `filter` parameter:\n",
        "\n",
        "* Get institutions that are located in Canada\\\n",
        "  [https://api.openalex.org/institutions?filter=country\\_code:ca](https://api.openalex.org/institutions?filter=country\\_code:ca)\n",
        "\n"
      ]
    },
    {
      "cell_type": "code",
      "metadata": {},
      "source": [
        "response = institutions_api.get_institutions(\n",
        "\tfilter=\"country_code:ca\"\n",
        ")\n",
        "\n",
        "print(json.dumps(response.to_dict(), indent=2))\n",
        "\n"
      ],
      "outputs": [],
      "execution_count": null
    },
    {
      "cell_type": "markdown",
      "metadata": {},
      "source": [
        "\n",
        "\n",
        "{% hint style=\"info\" %}\n",
        "It's best to [read about filters](./../../how-to-use-the-api/get-lists-of-entities/filter-entity-lists.ipynb) before trying these out. It will show you how to combine filters and build an AND, OR, or negation query\n",
        "{% endhint %}\n",
        "\n",
        "### `/institutions` attribute filters\n",
        "\n",
        "\n"
      ]
    },
    {
      "cell_type": "code",
      "metadata": {},
      "source": [
        "response = institutions_api.get_institutions(\n",
        "\tfilter=\"continent:south_america\"\n",
        ")\n",
        "\n",
        "print(json.dumps(response.to_dict(), indent=2))\n",
        "\n"
      ],
      "outputs": [],
      "execution_count": null
    },
    {
      "cell_type": "markdown",
      "metadata": {},
      "source": [
        "\n",
        "You can filter using these attributes of the `Institution` entity object (click each one to view their documentation on the [`Institution`](./institution-object.ipynb) object page):\n",
        "\n",
        "* [`cited_by_count`](./institution-object.md#cited\\_by\\_count)\n",
        "* [`country_code`](./institution-object.md#country\\_code)\n",
        "* [`openalex`](./institution-object.md#id): the OpenAlex ID of the Institution\n",
        "* [`lineage`](./institution-object.md#lineage): OpenAlex ID for an [`Institution`](./README.ipynb)\n",
        "* [`repositories.host_organization`](./institution-object.md#repositories): OpenAlex ID for an [`Institution`](./README.ipynb)\n",
        "* [`repositories.host_organization_lineage`](./institution-object.md#repositories): OpenAlex ID for an [`Institution`](./README.ipynb)\n",
        "* [`repositories.id`](./institution-object.md#repositories): the OpenAlex ID of a repository (a [`Source`](./../sources/README.ipynb))\n",
        "* [`ror`](./institution-object.md#ror): the ROR ID of the Institution\n",
        "* [`summary_stats.2yr_mean_citedness`](./institution-object.md#summary_stats) (accepts float, null, !null, can use range queries such as < >)\n",
        "* [`summary_stats.h_index`](./institution-object.md#summary_stats) (accepts integer, null, !null, can use range queries)\n",
        "* [`summary_stats.i10_index`](./institution-object.md#summary_stats) (accepts integer, null, !null, can use range queries)\n",
        "* [`type`](./institution-object.md#type)\n",
        "* [`works_count`](./institution-object.md#works\\_count)\n",
        "* [`x_concepts.id`](./institution-object.md#x\\_concepts) (alias: `concepts.id` or `concept.id`)\n",
        "\n",
        "### `/institutions` convenience filters\n",
        "\n",
        "These filters aren't attributes of the [`Institution`](./institution-object.ipynb) object, but they're included to address some common use cases:\n",
        "\n",
        "#### `continent`\n",
        "\n",
        "Value: a String with a valid [continent filter](./../geo/continents.md#filter-by-continent)\n",
        "\n",
        "Returns: institutions that are located in the chosen continent.\n",
        "\n",
        "* Get institutions that are located in South America\\\n",
        "  [https://api.openalex.org/institutions?filter=continent:south\\_america](https://api.openalex.org/institutions?filter=continent:south\\_america)\n",
        "\n",
        "#### `default.search`\n",
        "\n",
        "Value: a search string\n",
        "\n",
        "This works the same as using the [`search` parameter](./search-institutions.md#search-institutions) for Institutions.\n",
        "\n",
        "#### `display_name.search`\n",
        "\n",
        "Value: a search string\n",
        "\n",
        "Returns: institutions with a [`display_name`](./institution-object.md#display\\_name) containing the given string; see the [search page](./search-institutions.md#search-a-specific-field) for details.\n",
        "\n",
        "* Get institutions with names containing \"technology\":\\\n",
        "  [`https://api.openalex.org/institutions?filter=display_name.search:technology`](https://api.openalex.org/institutions?filter=display\\_name.search:technology)\n",
        "\n"
      ]
    },
    {
      "cell_type": "code",
      "metadata": {},
      "source": [
        "response = institutions_api.get_institutions(\n",
        "\tfilter=\"display_name.search:technology\"\n",
        ")\n",
        "\n",
        "print(json.dumps(response.to_dict(), indent=2))\n",
        "\n"
      ],
      "outputs": [],
      "execution_count": null
    },
    {
      "cell_type": "markdown",
      "metadata": {},
      "source": [
        "\n",
        "\n",
        "{% hint style=\"info\" %}\n",
        "In most cases, you should use the [`search` parameter](./search-institutions.ipynb) instead of this filter because it uses a better search algorithm.\n",
        "{% endhint %}\n",
        "\n",
        "#### `has_ror`\n",
        "\n",
        "Value: a Boolean (`true` or `false`)\n",
        "\n",
        "Returns: institutions that have or lack a [ROR ID](./institution-object.md#ror), depending on the given value.\n",
        "\n",
        "* Get institutions without ROR IDs:\\\n",
        "  [`https://api.openalex.org/institutions?filter=has_ror:false`](https://api.openalex.org/institutions?filter=has\\_ror:false)\n",
        "\n",
        "\n"
      ]
    },
    {
      "cell_type": "code",
      "metadata": {},
      "source": [
        "response = institutions_api.get_institutions(\n",
        "\tfilter=\"has_ror:false\"\n",
        ")\n",
        "\n",
        "print(json.dumps(response.to_dict(), indent=2))\n",
        "\n"
      ],
      "outputs": [],
      "execution_count": null
    },
    {
      "cell_type": "markdown",
      "metadata": {},
      "source": [
        "\n",
        "#### `is_global_south`\n",
        "\n",
        "Value: a Boolean (`true` or `false`)\n",
        "\n",
        "Returns: institutions that are located in the [Global South](./../geo/regions.md#global-south).\n",
        "\n",
        "* Get institutions that are located in the Global South\\\n",
        "  [https://api.openalex.org/institutions?filter=is\\_global\\_south:true](https://api.openalex.org/institutions?filter=is\\_global\\_south:true)\n",
        "\n"
      ]
    },
    {
      "cell_type": "code",
      "metadata": {},
      "source": [
        "response = institutions_api.get_institutions(\n",
        "\tfilter=\"is_global_south:true\"\n",
        ")\n",
        "\n",
        "print(json.dumps(response.to_dict(), indent=2))\n",
        "\n"
      ],
      "outputs": [],
      "execution_count": null
    }
  ],
  "metadata": {
    "kernelspec": {
      "display_name": "Python 3",
      "language": "python",
      "name": "python3"
    },
    "language_info": {
      "codemirror_mode": {
        "name": "ipython",
        "version": 3
      },
      "file_extension": ".py",
      "mimetype": "text/x-python",
      "name": "python",
      "pygments_lexer": "ipython3",
      "version": "3.8.5"
    }
  },
  "nbformat": 4,
  "nbformat_minor": 4
}