{
  "cells": [
    {
      "cell_type": "markdown",
      "metadata": {},
      "source": [
        "[![Open All Collab](https://colab.research.google.com/assets/colab-badge.svg)](https://colab.research.google.com/github/Mearman/openalex-docs/blob/main/api-entities/institutions/get-lists-of-institutions.ipynb)"
      ]
    },
    {
      "cell_type": "code",
      "metadata": {},
      "source": [
        "%pip install --upgrade \"git+https://github.com/Mearman/openalex-python.git\""
      ],
      "outputs": [],
      "execution_count": null
    },
    {
      "cell_type": "code",
      "metadata": {},
      "source": [
        "import json",
        "from openalex_api import Configuration, ApiClient,AuthorsApi, ConceptsApi, FundersApi, InstitutionsApi, PublishersApi, SourcesApi, WorksApi",
        "",
        "configuration = Configuration(host=\"https://api.openalex.org\")",
        "authors_api = AuthorsApi(ApiClient(configuration))",
        "concepts_api = ConceptsApi(ApiClient(configuration))",
        "funders_api = FundersApi(ApiClient(configuration))",
        "institutions_api = InstitutionsApi(ApiClient(configuration))",
        "publishers_api = PublishersApi(ApiClient(configuration))",
        "sources_api = SourcesApi(ApiClient(configuration))",
        "works_api = WorksApi(ApiClient(configuration))"
      ],
      "outputs": [],
      "execution_count": null
    },
    {
      "cell_type": "markdown",
      "metadata": {},
      "source": [
        "# Get lists of institutions",
        "",
        "You can get lists of institutions:",
        "",
        "* Get _all_ institutions in OpenAlex\\",
        "  [https://api.openalex.org/institutions](https://api.openalex.org/institutions)"
      ]
    },
    {
      "cell_type": "code",
      "metadata": {},
      "source": [
        "response = institutions_api.get_institutions(",
        "\t",
        ")",
        "",
        "print(json.dumps(response.to_dict(), indent=2))"
      ],
      "outputs": [],
      "execution_count": null
    },
    {
      "cell_type": "markdown",
      "metadata": {},
      "source": [
        "Which returns a response like this:",
        "",
        "```json",
        "{",
        "    \"meta\": {",
        "        \"count\": 108618,",
        "        \"db_response_time_ms\": 32,",
        "        \"page\": 1,",
        "        \"per_page\": 25",
        "    },",
        "    \"results\": [",
        "        {",
        "            \"id\": \"https://openalex.org/I27837315\",",
        "            \"ror\": \"https://ror.org/00jmfr291\",",
        "            \"display_name\": \"University of Michigan–Ann Arbor\",",
        "            // more fields (removed to save space)",
        "        },",
        "        {",
        "            \"id\": \"https://openalex.org/I201448701\",",
        "            \"ror\": \"https://ror.org/00cvxb145\",",
        "            \"display_name\": \"University of Washington\",",
        "            // more fields (removed to save space)",
        "        },",
        "        // more results (removed to save space)",
        "    ],",
        "    \"group_by\": []",
        "}",
        "```",
        "",
        "## Page and sort institutions",
        "",
        "By default we return 25 results per page. You can change this default and [page](./../../how-to-use-the-api/get-lists-of-entities/paging.ipynb) through institutions with the `per-page` and `page` parameters:",
        "",
        "* Get the second page of institutions results, with 50 results returned per page\\",
        "  [https://api.openalex.org/institutions?per-page=50\\&page=2](https://api.openalex.org/institutions?per-page=50\\&page=2)"
      ]
    },
    {
      "cell_type": "code",
      "metadata": {},
      "source": [
        "response = institutions_api.get_institutions(",
        "\tper_page=\"50\",",
        "\tpage=\"2\"",
        ")",
        "",
        "print(json.dumps(response.to_dict(), indent=2))"
      ],
      "outputs": [],
      "execution_count": null
    },
    {
      "cell_type": "markdown",
      "metadata": {},
      "source": [
        "You also can [sort results](./../../how-to-use-the-api/get-lists-of-entities/sort-entity-lists.ipynb) with the `sort` parameter:",
        "",
        "* Sort institutions by cited by count, descending\\",
        "  [https://api.openalex.org/institutions?sort=cited\\_by\\_count:desc](https://api.openalex.org/institutions?sort=cited\\_by\\_count:desc)"
      ]
    },
    {
      "cell_type": "code",
      "metadata": {},
      "source": [
        "response = institutions_api.get_institutions(",
        "\tsort=\"cited_by_count:desc\"",
        ")",
        "",
        "print(json.dumps(response.to_dict(), indent=2))"
      ],
      "outputs": [],
      "execution_count": null
    },
    {
      "cell_type": "markdown",
      "metadata": {},
      "source": [
        "Continue on to learn how you can [filter](./filter-institutions.ipynb) and [search](./search-institutions.ipynb) lists of institutions.",
        "",
        "## Sample institutions",
        "",
        "You can use `sample` to get a random batch of institutions. Read more about sampling and how to add a `seed` value [here](./../../how-to-use-the-api/get-lists-of-entities/sample-entity-lists.ipynb).",
        "",
        "* Get 50 random institutions\\",
        "  [https://api.openalex.org/institutions?sample=50\\&per-page=50](https://api.openalex.org/institutions?sample=50\\&per-page=50)"
      ]
    },
    {
      "cell_type": "code",
      "metadata": {},
      "source": [
        "response = institutions_api.get_institutions(",
        "\tsample=\"50\",",
        "\tper_page=\"50\"",
        ")",
        "",
        "print(json.dumps(response.to_dict(), indent=2))"
      ],
      "outputs": [],
      "execution_count": null
    },
    {
      "cell_type": "markdown",
      "metadata": {},
      "source": [
        "## Select fields",
        "",
        "You can use `select` to limit the fields that are returned in a list of institutions. More details are [here](./../../how-to-use-the-api/get-lists-of-entities/select-fields.ipynb).",
        "",
        "* Display only the `id`, `ror`, and `display_name` within institutions results\\",
        "  [https://api.openalex.org/institutions?select=id,display\\_name,ror](https://api.openalex.org/institutions?select=id,display\\_name,ror)"
      ]
    },
    {
      "cell_type": "code",
      "metadata": {},
      "source": [
        "response = institutions_api.get_institutions(",
        "\tselect=\"id,display_name,ror\"",
        ")",
        "",
        "print(json.dumps(response.to_dict(), indent=2))"
      ],
      "outputs": [],
      "execution_count": null
    }
  ],
  "metadata": {
    "kernelspec": {
      "display_name": "Python 3",
      "language": "python",
      "name": "python3"
    },
    "language_info": {
      "codemirror_mode": {
        "name": "ipython",
        "version": 3
      },
      "file_extension": ".py",
      "mimetype": "text/x-python",
      "name": "python",
      "pygments_lexer": "ipython3",
      "version": "3.8.5"
    }
  },
  "nbformat": 4,
  "nbformat_minor": 4
}