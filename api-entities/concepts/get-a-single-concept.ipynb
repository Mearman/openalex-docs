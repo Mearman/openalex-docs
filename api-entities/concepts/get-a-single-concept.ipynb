{
  "cells": [
    {
      "cell_type": "markdown",
      "metadata": {},
      "source": [
        "[![Open All Collab](https://colab.research.google.com/assets/colab-badge.svg)](https://colab.research.google.com/github/Mearman/openalex-docs/blob/main/api-entities/concepts/get-a-single-concept.ipynb)\n",
        "\n"
      ]
    },
    {
      "cell_type": "code",
      "metadata": {},
      "source": [
        "%pip install --upgrade \"git+https://github.com/Mearman/openalex-python.git\"\n",
        "\n"
      ],
      "outputs": [],
      "execution_count": null
    },
    {
      "cell_type": "code",
      "metadata": {},
      "source": [
        "import json\n",
        "from openalex_api import Configuration, ApiClient,AuthorsApi, ConceptsApi, FundersApi, InstitutionsApi, PublishersApi, SourcesApi, WorksApi\n",
        "\n",
        "configuration = Configuration(host=\"https://api.openalex.org\")\n",
        "authors_api = AuthorsApi(ApiClient(configuration))\n",
        "concepts_api = ConceptsApi(ApiClient(configuration))\n",
        "funders_api = FundersApi(ApiClient(configuration))\n",
        "institutions_api = InstitutionsApi(ApiClient(configuration))\n",
        "publishers_api = PublishersApi(ApiClient(configuration))\n",
        "sources_api = SourcesApi(ApiClient(configuration))\n",
        "works_api = WorksApi(ApiClient(configuration))\n",
        "\n"
      ],
      "outputs": [],
      "execution_count": null
    },
    {
      "cell_type": "markdown",
      "metadata": {},
      "source": [
        "\n",
        "# Get a single concept\n",
        "\n",
        "It's easy to get a concept from from the API with: `/concepts/<entity_id>`. Here's an example:\n",
        "\n",
        "* Get the concept with the [OpenAlex ID](./../../how-to-use-the-api/get-single-entities/README.md#the-openalex-id) `C71924100`: \\\n",
        "  [https://api.openalex.org/concepts/C71924100](https://api.openalex.org/concepts/C71924100)\n",
        "\n"
      ]
    },
    {
      "cell_type": "code",
      "metadata": {},
      "source": [
        "response = concepts_api.get_concept(\n",
        "\tid=\"C71924100\"\n",
        ")\n",
        "\n",
        "print(json.dumps(response.to_dict(), indent=2))\n",
        "\n"
      ],
      "outputs": [],
      "execution_count": null
    },
    {
      "cell_type": "markdown",
      "metadata": {},
      "source": [
        "\n",
        "\n",
        "That will return a [`Concept`](./concept-object.ipynb) object, describing everything OpenAlex knows about the concept with that ID:\n",
        "\n",
        "```json\n",
        "{\n",
        "    \"id\": \"https://openalex.org/C71924100\",\n",
        "    \"wikidata\": \"https://www.wikidata.org/wiki/Q11190\",\n",
        "    \"display_name\": \"Medicine\",\n",
        "    \"level\": 0,\n",
        "    \"description\": \"field of study for diagnosing, treating and preventing disease\",\n",
        "    // other fields removed for brevity\n",
        "}\n",
        "```\n",
        "\n",
        "{% hint style=\"info\" %}\n",
        "You can make up to 50 of these queries at once by [requesting a list of entities and filtering on IDs using OR syntax](./../../how-to-use-the-api/get-lists-of-entities/filter-entity-lists.md#addition-or).\n",
        "{% endhint %}\n",
        "\n",
        "### External IDs\n",
        "\n",
        "You can look up concepts using external IDs such as a wikidata ID:\n",
        "\n",
        "* Get the concept with wikidata ID Q11190:\\\n",
        "  [https://api.openalex.org/concepts/wikidata:Q11190](https://api.openalex.org/concepts/wikidata:Q11190)\n",
        "\n"
      ]
    },
    {
      "cell_type": "code",
      "metadata": {},
      "source": [
        "response = concepts_api.get_concept(\n",
        "\tid=\"wikidata:Q11190\"\n",
        ")\n",
        "\n",
        "print(json.dumps(response.to_dict(), indent=2))\n",
        "\n"
      ],
      "outputs": [],
      "execution_count": null
    },
    {
      "cell_type": "markdown",
      "metadata": {},
      "source": [
        "\n",
        "\n",
        "Available external IDs for concepts are:\n",
        "\n",
        "| External ID                    | URN        |\n",
        "| ------------------------------ | ---------- |\n",
        "| Microsoft Academic Graph (MAG) | `mag`      |\n",
        "| Wikidata                       | `wikidata` |\n",
        "\n",
        "### Select fields\n",
        "\n",
        "You can use `select` to limit the fields that are returned in a concept object. More details are [here](./../../how-to-use-the-api/get-lists-of-entities/select-fields.ipynb).\n",
        "\n",
        "* Display only the `id` and `display_name` for a concept object\\\n",
        "  [https://api.openalex.org/concepts/C71924100?select=id,display\\_name](https://api.openalex.org/concepts/C71924100?select=id,display\\_name)\n",
        "\n"
      ]
    },
    {
      "cell_type": "code",
      "metadata": {},
      "source": [
        "response = concepts_api.get_concept(\n",
        "\tselect=\"id,display_name\",\n",
        "\tid=\"C71924100\"\n",
        ")\n",
        "\n",
        "print(json.dumps(response.to_dict(), indent=2))\n",
        "\n"
      ],
      "outputs": [],
      "execution_count": null
    }
  ],
  "metadata": {
    "kernelspec": {
      "display_name": "Python 3",
      "language": "python",
      "name": "python3"
    },
    "language_info": {
      "codemirror_mode": {
        "name": "ipython",
        "version": 3
      },
      "file_extension": ".py",
      "mimetype": "text/x-python",
      "name": "python",
      "pygments_lexer": "ipython3",
      "version": "3.8.5"
    }
  },
  "nbformat": 4,
  "nbformat_minor": 4
}