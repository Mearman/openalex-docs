{
  "cells": [
    {
      "cell_type": "markdown",
      "metadata": {},
      "source": [
        "[![Open All Collab](https://colab.research.google.com/assets/colab-badge.svg)](https://colab.research.google.com/github/Mearman/openalex-docs/blob/main/api-entities/concepts/get-a-single-concept.ipynb)"
      ]
    },
    {
      "cell_type": "code",
      "metadata": {},
      "source": [
        "%pip install --upgrade \"git+https://github.com/Mearman/openalex-python.git\""
      ],
      "outputs": [],
      "execution_count": null
    },
    {
      "cell_type": "code",
      "metadata": {},
      "source": [
        "import json",
        "from openalex_api import Configuration, ApiClient,AuthorsApi, ConceptsApi, FundersApi, InstitutionsApi, PublishersApi, SourcesApi, WorksApi",
        "",
        "configuration = Configuration(host=\"https://api.openalex.org\")",
        "authors_api = AuthorsApi(ApiClient(configuration))",
        "concepts_api = ConceptsApi(ApiClient(configuration))",
        "funders_api = FundersApi(ApiClient(configuration))",
        "institutions_api = InstitutionsApi(ApiClient(configuration))",
        "publishers_api = PublishersApi(ApiClient(configuration))",
        "sources_api = SourcesApi(ApiClient(configuration))",
        "works_api = WorksApi(ApiClient(configuration))"
      ],
      "outputs": [],
      "execution_count": null
    },
    {
      "cell_type": "markdown",
      "metadata": {},
      "source": [
        "# Get a single concept",
        "",
        "It's easy to get a concept from from the API with: `/concepts/<entity_id>`. Here's an example:",
        "",
        "* Get the concept with the [OpenAlex ID](./../../how-to-use-the-api/get-single-entities/README.md#the-openalex-id) `C71924100`: \\",
        "  [https://api.openalex.org/concepts/C71924100](https://api.openalex.org/concepts/C71924100)"
      ]
    },
    {
      "cell_type": "code",
      "metadata": {},
      "source": [
        "response = concepts_api.get_concept(",
        "\tid=\"C71924100\"",
        ")",
        "",
        "print(json.dumps(response.to_dict(), indent=2))"
      ],
      "outputs": [],
      "execution_count": null
    },
    {
      "cell_type": "markdown",
      "metadata": {},
      "source": [
        "That will return a [`Concept`](./concept-object.ipynb) object, describing everything OpenAlex knows about the concept with that ID:",
        "",
        "```json",
        "{",
        "    \"id\": \"https://openalex.org/C71924100\",",
        "    \"wikidata\": \"https://www.wikidata.org/wiki/Q11190\",",
        "    \"display_name\": \"Medicine\",",
        "    \"level\": 0,",
        "    \"description\": \"field of study for diagnosing, treating and preventing disease\",",
        "    // other fields removed for brevity",
        "}",
        "```",
        "",
        "{% hint style=\"info\" %}",
        "You can make up to 50 of these queries at once by [requesting a list of entities and filtering on IDs using OR syntax](./../../how-to-use-the-api/get-lists-of-entities/filter-entity-lists.md#addition-or).",
        "{% endhint %}",
        "",
        "### External IDs",
        "",
        "You can look up concepts using external IDs such as a wikidata ID:",
        "",
        "* Get the concept with wikidata ID Q11190:\\",
        "  [https://api.openalex.org/concepts/wikidata:Q11190](https://api.openalex.org/concepts/wikidata:Q11190)"
      ]
    },
    {
      "cell_type": "code",
      "metadata": {},
      "source": [
        "response = concepts_api.get_concept(",
        "\tid=\"wikidata:Q11190\"",
        ")",
        "",
        "print(json.dumps(response.to_dict(), indent=2))"
      ],
      "outputs": [],
      "execution_count": null
    },
    {
      "cell_type": "markdown",
      "metadata": {},
      "source": [
        "Available external IDs for concepts are:",
        "",
        "| External ID                    | URN        |",
        "| ------------------------------ | ---------- |",
        "| Microsoft Academic Graph (MAG) | `mag`      |",
        "| Wikidata                       | `wikidata` |",
        "",
        "### Select fields",
        "",
        "You can use `select` to limit the fields that are returned in a concept object. More details are [here](./../../how-to-use-the-api/get-lists-of-entities/select-fields.ipynb).",
        "",
        "* Display only the `id` and `display_name` for a concept object\\",
        "  [https://api.openalex.org/concepts/C71924100?select=id,display\\_name](https://api.openalex.org/concepts/C71924100?select=id,display\\_name)"
      ]
    },
    {
      "cell_type": "code",
      "metadata": {},
      "source": [
        "response = concepts_api.get_concept(",
        "\tselect=\"id,display_name\",",
        "\tid=\"C71924100\"",
        ")",
        "",
        "print(json.dumps(response.to_dict(), indent=2))"
      ],
      "outputs": [],
      "execution_count": null
    }
  ],
  "metadata": {
    "kernelspec": {
      "display_name": "Python 3",
      "language": "python",
      "name": "python3"
    },
    "language_info": {
      "codemirror_mode": {
        "name": "ipython",
        "version": 3
      },
      "file_extension": ".py",
      "mimetype": "text/x-python",
      "name": "python",
      "pygments_lexer": "ipython3",
      "version": "3.8.5"
    }
  },
  "nbformat": 4,
  "nbformat_minor": 4
}