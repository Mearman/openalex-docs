{
  "cells": [
    {
      "cell_type": "markdown",
      "metadata": {},
      "source": [
        "[![Open All Collab](https://colab.research.google.com/assets/colab-badge.svg)](https://colab.research.google.com/github/Mearman/openalex-docs/blob/main/api-entities/concepts/search-concepts.ipynb)"
      ]
    },
    {
      "cell_type": "code",
      "metadata": {},
      "source": [
        "%pip install --upgrade \"git+https://github.com/Mearman/openalex-python.git\""
      ],
      "outputs": [],
      "execution_count": null
    },
    {
      "cell_type": "code",
      "metadata": {},
      "source": [
        "import json",
        "from openalex_api import Configuration, ApiClient,AuthorsApi, ConceptsApi, FundersApi, InstitutionsApi, PublishersApi, SourcesApi, WorksApi",
        "",
        "configuration = Configuration(host=\"https://api.openalex.org\")",
        "authors_api = AuthorsApi(ApiClient(configuration))",
        "concepts_api = ConceptsApi(ApiClient(configuration))",
        "funders_api = FundersApi(ApiClient(configuration))",
        "institutions_api = InstitutionsApi(ApiClient(configuration))",
        "publishers_api = PublishersApi(ApiClient(configuration))",
        "sources_api = SourcesApi(ApiClient(configuration))",
        "works_api = WorksApi(ApiClient(configuration))"
      ],
      "outputs": [],
      "execution_count": null
    },
    {
      "cell_type": "markdown",
      "metadata": {},
      "source": [
        "# Search concepts",
        "",
        "The best way to search for concepts is to use the `search` query parameter, which searches the [`display_name`](./concept-object.md#display\\_name) and [`description`](./concept-object.md#description) fields. Example:",
        "",
        "* Search concepts' `display_name` and `description` for \"artificial intelligence\":\\",
        "  [https://api.openalex.org/concepts?search=artificial intelligence](https://api.openalex.org/concepts?search=artificial%20intelligence)"
      ]
    },
    {
      "cell_type": "code",
      "metadata": {},
      "source": [
        "response = concepts_api.get_concepts(",
        "\tsearch=\"artificial\"",
        ")",
        "",
        "print(json.dumps(response.to_dict(), indent=2))"
      ],
      "outputs": [],
      "execution_count": null
    },
    {
      "cell_type": "code",
      "metadata": {},
      "source": [
        "response = concepts_api.get_concepts(",
        "\tsearch=\"artificial intelligence\"",
        ")",
        "",
        "print(json.dumps(response.to_dict(), indent=2))"
      ],
      "outputs": [],
      "execution_count": null
    },
    {
      "cell_type": "markdown",
      "metadata": {},
      "source": [
        "{% hint style=\"info\" %}",
        "You can read more about search [here](./../../how-to-use-the-api/get-lists-of-entities/search-entities.ipynb). It will show you how relevance score is calculated, how words are stemmed to improve search results, and how to do complex boolean searches.",
        "{% endhint %}",
        "",
        "## Search a specific field"
      ]
    },
    {
      "cell_type": "code",
      "metadata": {},
      "source": [
        "response = concepts_api.get_concepts(",
        "\tfilter=\"display_name.search:medical\"",
        ")",
        "",
        "print(json.dumps(response.to_dict(), indent=2))"
      ],
      "outputs": [],
      "execution_count": null
    },
    {
      "cell_type": "markdown",
      "metadata": {},
      "source": [
        "You can also use search as a [filter](./../../how-to-use-the-api/get-lists-of-entities/filter-entity-lists.ipynb), allowing you to fine-tune the fields you're searching over. To do this, you append `.search` to the end of the property you are filtering for:",
        "",
        "* Get concepts with \"medical\" in the `display_name`:\\",
        "  [https://api.openalex.org/concepts?filter=display\\_name.search:medical](https://api.openalex.org/concepts?filter=display\\_name.search:medical)",
        "",
        "The following field can be searched as a filter within concepts:",
        "",
        "| Search filter                                                    | Field that is searched                            |",
        "| ---------------------------------------------------------------- | ------------------------------------------------- |",
        "| [`display_name.search`](./filter-concepts.md#display\\_name.search) | [`display_name`](./concept-object.md#display\\_name) |",
        "",
        "You can also use the filter `default.search`, which works the same as using the [`search` parameter](./README.md#search-concepts).",
        "",
        "## Autocomplete concepts",
        "",
        "You can autocomplete concepts to create a very fast type-ahead style search function:",
        "",
        "* Autocomplete concepts with \"comp\" in the `display_name`:\\",
        "  [https://api.openalex.org/autocomplete/concepts?q=comp](https://api.openalex.org/autocomplete/concepts?q=comp)"
      ]
    },
    {
      "cell_type": "code",
      "metadata": {},
      "source": [
        "response = autocomplete_api.get_autocomplet(",
        "\tq=\"comp\",",
        "\tid=\"concepts\"",
        ")",
        "",
        "print(json.dumps(response.to_dict(), indent=2))"
      ],
      "outputs": [],
      "execution_count": null
    },
    {
      "cell_type": "markdown",
      "metadata": {},
      "source": [
        "This returns a list of concepts with the description set as the hint:",
        "",
        "<pre class=\"language-json\"><code class=\"lang-json\">{ ",
        "  \"results\": [",
        "    {",
        "        \"id\": \"https://openalex.org/C41008148\",",
        "        \"display_name\": \"Computer science\",",
        "        \"hint\": \"theoretical study of the formal foundation enabling the automated processing or computation of information, for example on a computer or over a data transmission network\",",
        "        \"cited_by_count\": 392939277,",
        "        \"works_count\": 76722605,",
        "        \"entity_type\": \"concept\",",
        "        \"external_id\": \"https://www.wikidata.org/wiki/Q21198\"",
        "    },",
        "    ...",
        "<strong>  ]",
        "</strong><strong>}",
        "</strong></code></pre>",
        "",
        "{% hint style=\"info\" %}",
        "Read more in the [autocomplete page](./../../how-to-use-the-api/get-lists-of-entities/autocomplete-entities.ipynb) in the API guide.",
        "{% endhint %}"
      ]
    }
  ],
  "metadata": {
    "kernelspec": {
      "display_name": "Python 3",
      "language": "python",
      "name": "python3"
    },
    "language_info": {
      "codemirror_mode": {
        "name": "ipython",
        "version": 3
      },
      "file_extension": ".py",
      "mimetype": "text/x-python",
      "name": "python",
      "pygments_lexer": "ipython3",
      "version": "3.8.5"
    }
  },
  "nbformat": 4,
  "nbformat_minor": 4
}