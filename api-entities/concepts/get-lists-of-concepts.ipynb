{
  "cells": [
    {
      "cell_type": "markdown",
      "metadata": {},
      "source": [
        "[![Open All Collab](https://colab.research.google.com/assets/colab-badge.svg)](https://colab.research.google.com/github/Mearman/openalex-docs/blob/main/api-entities/concepts/get-lists-of-concepts.ipynb)"
      ]
    },
    {
      "cell_type": "code",
      "metadata": {},
      "source": [
        "%pip install --upgrade \"git+https://github.com/Mearman/openalex-python.git\""
      ],
      "outputs": [],
      "execution_count": null
    },
    {
      "cell_type": "code",
      "metadata": {},
      "source": [
        "import json",
        "from openalex_api import Configuration, ApiClient,AuthorsApi, ConceptsApi, FundersApi, InstitutionsApi, PublishersApi, SourcesApi, WorksApi",
        "",
        "configuration = Configuration(host=\"https://api.openalex.org\")",
        "authors_api = AuthorsApi(ApiClient(configuration))",
        "concepts_api = ConceptsApi(ApiClient(configuration))",
        "funders_api = FundersApi(ApiClient(configuration))",
        "institutions_api = InstitutionsApi(ApiClient(configuration))",
        "publishers_api = PublishersApi(ApiClient(configuration))",
        "sources_api = SourcesApi(ApiClient(configuration))",
        "works_api = WorksApi(ApiClient(configuration))"
      ],
      "outputs": [],
      "execution_count": null
    },
    {
      "cell_type": "markdown",
      "metadata": {},
      "source": [
        "# Get lists of concepts",
        "",
        "You can get lists of concepts:",
        "",
        "* Get _all_ concepts in OpenAlex\\",
        "  [https://api.openalex.org/concepts](https://api.openalex.org/concepts)"
      ]
    },
    {
      "cell_type": "code",
      "metadata": {},
      "source": [
        "response = concepts_api.get_concepts(",
        "\t",
        ")",
        "",
        "print(json.dumps(response.to_dict(), indent=2))"
      ],
      "outputs": [],
      "execution_count": null
    },
    {
      "cell_type": "markdown",
      "metadata": {},
      "source": [
        "Which returns a response like this:",
        "",
        "```json",
        "{",
        "    \"meta\": {",
        "        \"count\": 65073,",
        "        \"db_response_time_ms\": 26,",
        "        \"page\": 1,",
        "        \"per_page\": 25",
        "    },",
        "    \"results\": [",
        "        {",
        "            \"id\": \"https://openalex.org/C41008148\",",
        "            \"wikidata\": \"https://www.wikidata.org/wiki/Q21198\",",
        "            \"display_name\": \"Computer science\",",
        "            // more fields (removed to save space)",
        "        },",
        "        {",
        "            \"id\": \"https://openalex.org/C71924100\",",
        "            \"wikidata\": \"https://www.wikidata.org/wiki/Q11190\",",
        "            \"display_name\": \"Medicine\",",
        "            // more fields (removed to save space)",
        "        },",
        "        // more results (removed to save space)",
        "    ],",
        "    \"group_by\": []",
        "}",
        "```",
        "",
        "## Page and sort concepts",
        "",
        "By default we return 25 results per page. You can change this default and [page](./../../how-to-use-the-api/get-lists-of-entities/paging.ipynb) through concepts with the `per-page` and `page` parameters:",
        "",
        "* Get the second page of concepts results, with 50 results returned per page\\",
        "  [https://api.openalex.org/concepts?per-page=50\\&page=2](https://api.openalex.org/concepts?per-page=50\\&page=2)"
      ]
    },
    {
      "cell_type": "code",
      "metadata": {},
      "source": [
        "response = concepts_api.get_concepts(",
        "\tper_page=\"50\",",
        "\tpage=\"2\"",
        ")",
        "",
        "print(json.dumps(response.to_dict(), indent=2))"
      ],
      "outputs": [],
      "execution_count": null
    },
    {
      "cell_type": "markdown",
      "metadata": {},
      "source": [
        "You also can [sort results](./../../how-to-use-the-api/get-lists-of-entities/sort-entity-lists.ipynb) with the `sort` parameter:",
        "",
        "* Sort concepts by cited by count, descending\\",
        "  [https://api.openalex.org/concepts?sort=cited\\_by\\_count:desc](https://api.openalex.org/concepts?sort=cited\\_by\\_count:desc)"
      ]
    },
    {
      "cell_type": "code",
      "metadata": {},
      "source": [
        "response = concepts_api.get_concepts(",
        "\tsort=\"cited_by_count:desc\"",
        ")",
        "",
        "print(json.dumps(response.to_dict(), indent=2))"
      ],
      "outputs": [],
      "execution_count": null
    },
    {
      "cell_type": "markdown",
      "metadata": {},
      "source": [
        "Continue on to learn how you can [filter](./filter-concepts.ipynb) and [search](./search-concepts.ipynb) lists of concepts.",
        "",
        "## Sample concepts",
        "",
        "You can use `sample` to get a random batch of concepts. Read more about sampling and how to add a `seed` value [here](./../../how-to-use-the-api/get-lists-of-entities/sample-entity-lists.ipynb).",
        "",
        "* Get 10 random concepts\\",
        "  [https://api.openalex.org/concepts?sample=10](https://api.openalex.org/concepts?sample=10)"
      ]
    },
    {
      "cell_type": "code",
      "metadata": {},
      "source": [
        "response = concepts_api.get_concepts(",
        "\tsample=\"10\"",
        ")",
        "",
        "print(json.dumps(response.to_dict(), indent=2))"
      ],
      "outputs": [],
      "execution_count": null
    },
    {
      "cell_type": "markdown",
      "metadata": {},
      "source": [
        "## Select fields",
        "",
        "You can use `select` to limit the fields that are returned in a list of concepts. More details are [here](./../../how-to-use-the-api/get-lists-of-entities/select-fields.ipynb).",
        "",
        "* Display only the `id`, `display_name`, and `description` within concepts results\\",
        "  [https://api.openalex.org/concepts?select=id,display\\_name,description](https://api.openalex.org/concepts?select=id,display\\_name,description)"
      ]
    },
    {
      "cell_type": "code",
      "metadata": {},
      "source": [
        "response = concepts_api.get_concepts(",
        "\tselect=\"id,display_name,description\"",
        ")",
        "",
        "print(json.dumps(response.to_dict(), indent=2))"
      ],
      "outputs": [],
      "execution_count": null
    }
  ],
  "metadata": {
    "kernelspec": {
      "display_name": "Python 3",
      "language": "python",
      "name": "python3"
    },
    "language_info": {
      "codemirror_mode": {
        "name": "ipython",
        "version": 3
      },
      "file_extension": ".py",
      "mimetype": "text/x-python",
      "name": "python",
      "pygments_lexer": "ipython3",
      "version": "3.8.5"
    }
  },
  "nbformat": 4,
  "nbformat_minor": 4
}