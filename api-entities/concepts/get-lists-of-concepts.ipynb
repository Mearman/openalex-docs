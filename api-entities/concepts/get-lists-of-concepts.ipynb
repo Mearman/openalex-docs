{
  "cells": [
    {
      "cell_type": "markdown",
      "metadata": {},
      "source": [
        "[![Open All Collab](https://colab.research.google.com/assets/colab-badge.svg)](https://colab.research.google.com/github/Mearman/openalex-docs/blob/main/api-entities/concepts/get-lists-of-concepts.ipynb)\n",
        "\n"
      ]
    },
    {
      "cell_type": "code",
      "metadata": {},
      "source": [
        "%pip install --upgrade \"git+https://github.com/Mearman/openalex-python.git\"\n",
        "\n"
      ]
    },
    {
      "cell_type": "code",
      "metadata": {},
      "source": [
        "import json\n",
        "from openalex_api import Configuration, ApiClient,AuthorsApi, ConceptsApi, FundersApi, InstitutionsApi, PublishersApi, SourcesApi, WorksApi\n",
        "\n",
        "configuration = Configuration(host=\"https://api.openalex.org\")\n",
        "authors_api = AuthorsApi(ApiClient(configuration))\n",
        "concepts_api = ConceptsApi(ApiClient(configuration))\n",
        "funders_api = FundersApi(ApiClient(configuration))\n",
        "institutions_api = InstitutionsApi(ApiClient(configuration))\n",
        "publishers_api = PublishersApi(ApiClient(configuration))\n",
        "sources_api = SourcesApi(ApiClient(configuration))\n",
        "works_api = WorksApi(ApiClient(configuration))\n",
        "\n"
      ]
    },
    {
      "cell_type": "markdown",
      "metadata": {},
      "source": [
        "\n",
        "# Get lists of concepts\n",
        "\n",
        "You can get lists of concepts:\n",
        "\n",
        "* Get _all_ concepts in OpenAlex\\\n",
        "  [https://api.openalex.org/concepts](https://api.openalex.org/concepts)\n",
        "\n"
      ]
    },
    {
      "cell_type": "code",
      "metadata": {},
      "source": [
        "response = concepts_api.get_concepts(\n",
        "\t\n",
        ")\n",
        "\n",
        "print(json.dumps(response.to_dict(), indent=2))\n",
        "\n"
      ]
    },
    {
      "cell_type": "markdown",
      "metadata": {},
      "source": [
        "\n",
        "\n",
        "Which returns a response like this:\n",
        "\n",
        "```json\n",
        "{\n",
        "    \"meta\": {\n",
        "        \"count\": 65073,\n",
        "        \"db_response_time_ms\": 26,\n",
        "        \"page\": 1,\n",
        "        \"per_page\": 25\n",
        "    },\n",
        "    \"results\": [\n",
        "        {\n",
        "            \"id\": \"https://openalex.org/C41008148\",\n",
        "            \"wikidata\": \"https://www.wikidata.org/wiki/Q21198\",\n",
        "            \"display_name\": \"Computer science\",\n",
        "            // more fields (removed to save space)\n",
        "        },\n",
        "        {\n",
        "            \"id\": \"https://openalex.org/C71924100\",\n",
        "            \"wikidata\": \"https://www.wikidata.org/wiki/Q11190\",\n",
        "            \"display_name\": \"Medicine\",\n",
        "            // more fields (removed to save space)\n",
        "        },\n",
        "        // more results (removed to save space)\n",
        "    ],\n",
        "    \"group_by\": []\n",
        "}\n",
        "```\n",
        "\n",
        "## Page and sort concepts\n",
        "\n",
        "By default we return 25 results per page. You can change this default and [page](../../how-to-use-the-api/get-lists-of-entities/paging.md) through concepts with the `per-page` and `page` parameters:\n",
        "\n",
        "* Get the second page of concepts results, with 50 results returned per page\\\n",
        "  [https://api.openalex.org/concepts?per-page=50\\&page=2](https://api.openalex.org/concepts?per-page=50\\&page=2)\n",
        "\n",
        "You also can [sort results](../../how-to-use-the-api/get-lists-of-entities/sort-entity-lists.md) with the `sort` parameter:\n",
        "\n",
        "* Sort concepts by cited by count, descending\\\n",
        "  [https://api.openalex.org/concepts?sort=cited\\_by\\_count:desc](https://api.openalex.org/concepts?sort=cited\\_by\\_count:desc)\n",
        "\n",
        "Continue on to learn how you can [filter](filter-concepts.md) and [search](search-concepts.md) lists of concepts.\n",
        "\n"
      ]
    },
    {
      "cell_type": "code",
      "metadata": {},
      "source": [
        "response = concepts_api.get_concepts(\n",
        "\tper-page=\"50\",\n",
        "\tpage=\"2\"\n",
        ")\n",
        "\n",
        "print(json.dumps(response.to_dict(), indent=2))\n",
        "\n"
      ]
    },
    {
      "cell_type": "markdown",
      "metadata": {},
      "source": [
        "\n",
        "\n",
        "## Sample concepts\n",
        "\n",
        "You can use `sample` to get a random batch of concepts. Read more about sampling and how to add a `seed` value [here](../../how-to-use-the-api/get-lists-of-entities/sample-entity-lists.md).\n",
        "\n",
        "\n"
      ]
    },
    {
      "cell_type": "code",
      "metadata": {},
      "source": [
        "response = concepts_api.get_concepts(\n",
        "\tsort=\"cited_by_count:desc\"\n",
        ")\n",
        "\n",
        "print(json.dumps(response.to_dict(), indent=2))\n",
        "\n"
      ]
    },
    {
      "cell_type": "markdown",
      "metadata": {},
      "source": [
        "\n",
        "* Get 10 random concepts\\\n",
        "  [https://api.openalex.org/concepts?sample=10](https://api.openalex.org/concepts?sample=10)\n",
        "\n",
        "## Select fields\n",
        "\n",
        "You can use `select` to limit the fields that are returned in a list of concepts. More details are [here](../../how-to-use-the-api/get-lists-of-entities/select-fields.md).\n",
        "\n",
        "* Display only the `id`, `display_name`, and `description` within concepts results\\\n",
        "  [https://api.openalex.org/concepts?select=id,display\\_name,description](https://api.openalex.org/concepts?select=id,display\\_name,description)\n"
      ]
    }
  ],
  "metadata": {
    "kernelspec": {
      "display_name": "Python 3",
      "language": "python",
      "name": "python3"
    },
    "language_info": {
      "codemirror_mode": {
        "name": "ipython",
        "version": 3
      },
      "file_extension": ".py",
      "mimetype": "text/x-python",
      "name": "python",
      "pygments_lexer": "ipython3",
      "version": "3.8.5"
    }
  },
  "nbformat": 4,
  "nbformat_minor": 4
}