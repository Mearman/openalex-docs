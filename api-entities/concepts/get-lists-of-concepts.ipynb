{
  "cells": [
    {
      "cell_type": "markdown",
      "metadata": {},
      "source": [
        "[![GitHub Repository](https://img.shields.io/badge/GitHub-Repository-181717?style=for-the-badge&logo=GitHub&link=https://github.com/Mearman/openalex-docs/tree/develop)](https://github.com/Mearman/openalex-docs/tree/develop)[![Open in GitHub](https://img.shields.io/badge/Open%20in-GitHub-181717?style=for-the-badge&logo=github&link=https://github.com/Mearman/openalex-docs/blob/develop/api-entities/concepts/get-lists-of-concepts.ipynb)](https://github.com/Mearman/openalex-docs/blob/develop/api-entities/concepts/get-lists-of-concepts.ipynb)[![Open in Colab](https://img.shields.io/badge/Open%20in-Colab-F9AB00?style=for-the-badge&logo=Google%20Colab&link=https://colab.research.google.com/github/Mearman/openalex-docs/blob/develop/api-entities/concepts/get-lists-of-concepts.ipynb)](https://colab.research.google.com/github/Mearman/openalex-docs/blob/develop/api-entities/concepts/get-lists-of-concepts.ipynb)"
      ]
    },
    {
      "cell_type": "code",
      "metadata": {},
      "source": [
        "%pip install --upgrade \"git+https://github.com/Mearman/openalex-python-pydantic-v1.git\"\n",
        "%pip install pandasai"
      ],
      "outputs": [],
      "execution_count": null
    },
    {
      "cell_type": "code",
      "metadata": {},
      "source": [
        "import json\n",
        "import pandas as pd\n",
        "import numpy as np\n",
        "from openalex_api import Configuration, ApiClient, AutocompleteApi, AuthorsApi, ConceptsApi, FundersApi, InstitutionsApi, PublishersApi, SourcesApi, WorksApi\n",
        "\n",
        "configuration = Configuration(host=\"https://api.openalex.org\")\n",
        "autocomplete_api = AutocompleteApi(ApiClient(configuration))\n",
        "authors_api = AuthorsApi(ApiClient(configuration))\n",
        "concepts_api = ConceptsApi(ApiClient(configuration))\n",
        "funders_api = FundersApi(ApiClient(configuration))\n",
        "institutions_api = InstitutionsApi(ApiClient(configuration))\n",
        "publishers_api = PublishersApi(ApiClient(configuration))\n",
        "sources_api = SourcesApi(ApiClient(configuration))\n",
        "works_api = WorksApi(ApiClient(configuration))\n",
        "\n",
        "from pandasai import SmartDataframe\n",
        "from pandasai.llm import OpenAI"
      ],
      "outputs": [],
      "execution_count": null
    },
    {
      "cell_type": "code",
      "metadata": {},
      "source": [
        "# @title  { run: \"auto\", display-mode: \"form\" }\n",
        "openapi_token = \"\" # @param {type:\"string\"}"
      ],
      "outputs": [],
      "execution_count": null
    },
    {
      "cell_type": "markdown",
      "metadata": {},
      "source": [
        "# Get lists of concepts\n",
        "\n",
        "You can get lists of concepts:\n",
        "\n",
        "* Get _all_ concepts in OpenAlex\n",
        "  [https://api.openalex.org/concepts](https://api.openalex.org/concepts)"
      ]
    },
    {
      "cell_type": "code",
      "metadata": {},
      "source": [
        "# @title { run: \"auto\", vertical-output: false }\n",
        "# https://api.openalex.org/concepts\n",
        "\n",
        "\n",
        "response = concepts_api.get_concepts(\n",
        "\t\n",
        ")\n",
        "\n",
        "df = pd.DataFrame(response.results)\n",
        "display(df)"
      ],
      "outputs": [],
      "execution_count": null
    },
    {
      "cell_type": "code",
      "metadata": {},
      "source": [
        "numeric_df = df[['id', 'display_name'] +\n",
        "\t[col for col in df.columns if df[col].dtype in ['int64', 'float64'] and col != 'relevance_score']]\n",
        "display(numeric_df)\n",
        "\n",
        "try:\n",
        "\tllm = OpenAI(api_token = openapi_token)\n",
        "\tsdf = SmartDataframe(numeric_df, config = { \"llm\": llm })\n",
        "\tsdf.chat(\"Plot a chart of this data\")\n",
        "except:\n",
        "\tif not openapi_token:\n",
        "\t\tprint(\"Error: openapi_token not set\")\n",
        "\telse:\n",
        "\t\tprint(\"Error when creating SmartDataframe\")"
      ],
      "outputs": [],
      "execution_count": null
    },
    {
      "cell_type": "markdown",
      "metadata": {},
      "source": [
        "Which returns a response like this:\n",
        "\n",
        "```json\n",
        "{\n",
        "    \"meta\": {\n",
        "        \"count\": 65073,\n",
        "        \"db_response_time_ms\": 26,\n",
        "        \"page\": 1,\n",
        "        \"per_page\": 25\n",
        "    },\n",
        "    \"results\": [\n",
        "        {\n",
        "            \"id\": \"https://openalex.org/C41008148\",\n",
        "            \"wikidata\": \"https://www.wikidata.org/wiki/Q21198\",\n",
        "            \"display_name\": \"Computer science\",\n",
        "            // more fields (removed to save space)\n",
        "        },\n",
        "        {\n",
        "            \"id\": \"https://openalex.org/C71924100\",\n",
        "            \"wikidata\": \"https://www.wikidata.org/wiki/Q11190\",\n",
        "            \"display_name\": \"Medicine\",\n",
        "            // more fields (removed to save space)\n",
        "        },\n",
        "        // more results (removed to save space)\n",
        "    ],\n",
        "    \"group_by\": []\n",
        "}\n",
        "```\n",
        "\n",
        "## Page and sort concepts\n",
        "\n",
        "By default we return 25 results per page. You can change this default and [page](./../../how-to-use-the-api/get-lists-of-entities/paging.ipynb) through concepts with the `per-page` and `page` parameters:\n",
        "\n",
        "* Get the second page of concepts results, with 50 results returned per page\n",
        "  [https://api.openalex.org/concepts?per-page=50&page=2](https://api.openalex.org/concepts?per-page=50&page=2)"
      ]
    },
    {
      "cell_type": "code",
      "metadata": {},
      "source": [
        "# @title { run: \"auto\", vertical-output: false }\n",
        "# https://api.openalex.org/concepts?per-page=50&page=2\n",
        "per_page=50 # @param 50 {type: \"integer\"},\n",
        "page=2 # @param 2 {type: \"integer\"}\n",
        "\n",
        "response = concepts_api.get_concepts(\n",
        "\tper_page=per_page,\n",
        "\tpage=page\n",
        ")\n",
        "\n",
        "df = pd.DataFrame(response.results)\n",
        "display(df)"
      ],
      "outputs": [],
      "execution_count": null
    },
    {
      "cell_type": "code",
      "metadata": {},
      "source": [
        "numeric_df = df[['id', 'display_name'] +\n",
        "\t[col for col in df.columns if df[col].dtype in ['int64', 'float64'] and col != 'relevance_score']]\n",
        "display(numeric_df)\n",
        "\n",
        "try:\n",
        "\tllm = OpenAI(api_token = openapi_token)\n",
        "\tsdf = SmartDataframe(numeric_df, config = { \"llm\": llm })\n",
        "\tsdf.chat(\"Plot a chart of this data\")\n",
        "except:\n",
        "\tif not openapi_token:\n",
        "\t\tprint(\"Error: openapi_token not set\")\n",
        "\telse:\n",
        "\t\tprint(\"Error when creating SmartDataframe\")"
      ],
      "outputs": [],
      "execution_count": null
    },
    {
      "cell_type": "markdown",
      "metadata": {},
      "source": [
        "You also can [sort results](./../../how-to-use-the-api/get-lists-of-entities/sort-entity-lists.ipynb) with the `sort` parameter:\n",
        "\n",
        "* Sort concepts by cited by count, descending\n",
        "  [https://api.openalex.org/concepts?sort=cited_by_count:desc](https://api.openalex.org/concepts?sort=cited_by_count:desc)"
      ]
    },
    {
      "cell_type": "code",
      "metadata": {},
      "source": [
        "# @title { run: \"auto\", vertical-output: false }\n",
        "# https://api.openalex.org/concepts?sort=cited_by_count:desc\n",
        "sort=\"cited_by_count:desc\" # @param \"cited_by_count:desc\" {type: \"string\"}\n",
        "\n",
        "response = concepts_api.get_concepts(\n",
        "\tsort=sort\n",
        ")\n",
        "\n",
        "df = pd.DataFrame(response.results)\n",
        "display(df)"
      ],
      "outputs": [],
      "execution_count": null
    },
    {
      "cell_type": "code",
      "metadata": {},
      "source": [
        "numeric_df = df[['id', 'display_name'] +\n",
        "\t[col for col in df.columns if df[col].dtype in ['int64', 'float64'] and col != 'relevance_score']]\n",
        "display(numeric_df)\n",
        "\n",
        "try:\n",
        "\tllm = OpenAI(api_token = openapi_token)\n",
        "\tsdf = SmartDataframe(numeric_df, config = { \"llm\": llm })\n",
        "\tsdf.chat(\"Plot a chart of this data\")\n",
        "except:\n",
        "\tif not openapi_token:\n",
        "\t\tprint(\"Error: openapi_token not set\")\n",
        "\telse:\n",
        "\t\tprint(\"Error when creating SmartDataframe\")"
      ],
      "outputs": [],
      "execution_count": null
    },
    {
      "cell_type": "markdown",
      "metadata": {},
      "source": [
        "Continue on to learn how you can [filter](./filter-concepts.ipynb) and [search](./search-concepts.ipynb) lists of concepts.\n",
        "\n",
        "## Sample concepts\n",
        "\n",
        "You can use `sample` to get a random batch of concepts. Read more about sampling and how to add a `seed` value [here](./../../how-to-use-the-api/get-lists-of-entities/sample-entity-lists.ipynb).\n",
        "\n",
        "* Get 10 random concepts\n",
        "  [https://api.openalex.org/concepts?sample=10](https://api.openalex.org/concepts?sample=10)"
      ]
    },
    {
      "cell_type": "code",
      "metadata": {},
      "source": [
        "# @title { run: \"auto\", vertical-output: false }\n",
        "# https://api.openalex.org/concepts?sample=10\n",
        "sample=10 # @param 10 {type: \"integer\"}\n",
        "\n",
        "response = concepts_api.get_concepts(\n",
        "\tsample=sample\n",
        ")\n",
        "\n",
        "df = pd.DataFrame(response.results)\n",
        "display(df)"
      ],
      "outputs": [],
      "execution_count": null
    },
    {
      "cell_type": "code",
      "metadata": {},
      "source": [
        "numeric_df = df[['id', 'display_name'] +\n",
        "\t[col for col in df.columns if df[col].dtype in ['int64', 'float64'] and col != 'relevance_score']]\n",
        "display(numeric_df)\n",
        "\n",
        "try:\n",
        "\tllm = OpenAI(api_token = openapi_token)\n",
        "\tsdf = SmartDataframe(numeric_df, config = { \"llm\": llm })\n",
        "\tsdf.chat(\"Plot a chart of this data\")\n",
        "except:\n",
        "\tif not openapi_token:\n",
        "\t\tprint(\"Error: openapi_token not set\")\n",
        "\telse:\n",
        "\t\tprint(\"Error when creating SmartDataframe\")"
      ],
      "outputs": [],
      "execution_count": null
    },
    {
      "cell_type": "markdown",
      "metadata": {},
      "source": [
        "## Select fields\n",
        "\n",
        "You can use `select` to limit the fields that are returned in a list of concepts. More details are [here](./../../how-to-use-the-api/get-lists-of-entities/select-fields.ipynb).\n",
        "\n",
        "* Display only the `id`, `display_name`, and `description` within concepts results\n",
        "  [https://api.openalex.org/concepts?select=id,display_name,description](https://api.openalex.org/concepts?select=id,display_name,description)"
      ]
    },
    {
      "cell_type": "code",
      "metadata": {},
      "source": [
        "# @title { run: \"auto\", vertical-output: false }\n",
        "# https://api.openalex.org/concepts?select=id,display_name,description\n",
        "select=\"id,display_name,description\" # @param \"id,display_name,description\" {type: \"string\"}\n",
        "\n",
        "response = concepts_api.get_concepts(\n",
        "\tselect=select\n",
        ")\n",
        "\n",
        "df = pd.DataFrame(response.results)\n",
        "display(df)"
      ],
      "outputs": [],
      "execution_count": null
    },
    {
      "cell_type": "code",
      "metadata": {},
      "source": [
        "numeric_df = df[['id', 'display_name'] +\n",
        "\t[col for col in df.columns if df[col].dtype in ['int64', 'float64'] and col != 'relevance_score']]\n",
        "display(numeric_df)\n",
        "\n",
        "try:\n",
        "\tllm = OpenAI(api_token = openapi_token)\n",
        "\tsdf = SmartDataframe(numeric_df, config = { \"llm\": llm })\n",
        "\tsdf.chat(\"Plot a chart of this data\")\n",
        "except:\n",
        "\tif not openapi_token:\n",
        "\t\tprint(\"Error: openapi_token not set\")\n",
        "\telse:\n",
        "\t\tprint(\"Error when creating SmartDataframe\")"
      ],
      "outputs": [],
      "execution_count": null
    }
  ],
  "metadata": {
    "kernelspec": {
      "display_name": "Python 3",
      "language": "python",
      "name": "python3"
    },
    "language_info": {
      "codemirror_mode": {
        "name": "ipython",
        "version": 3
      },
      "file_extension": ".py",
      "mimetype": "text/x-python",
      "name": "python",
      "pygments_lexer": "ipython3",
      "version": "3.8.5"
    }
  },
  "nbformat": 4,
  "nbformat_minor": 4
}