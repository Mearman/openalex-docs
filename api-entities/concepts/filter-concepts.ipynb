{
  "cells": [
    {
      "cell_type": "markdown",
      "metadata": {},
      "source": [
        "[![Open All Collab](https://colab.research.google.com/assets/colab-badge.svg)](https://colab.research.google.com/github/Mearman/openalex-docs/blob/main/api-entities/concepts/filter-concepts.ipynb)"
      ]
    },
    {
      "cell_type": "code",
      "metadata": {},
      "source": [
        "%pip install --upgrade \"git+https://github.com/Mearman/openalex-python.git\""
      ],
      "outputs": [],
      "execution_count": null
    },
    {
      "cell_type": "code",
      "metadata": {},
      "source": [
        "import json",
        "from openalex_api import Configuration, ApiClient,AuthorsApi, ConceptsApi, FundersApi, InstitutionsApi, PublishersApi, SourcesApi, WorksApi",
        "",
        "configuration = Configuration(host=\"https://api.openalex.org\")",
        "authors_api = AuthorsApi(ApiClient(configuration))",
        "concepts_api = ConceptsApi(ApiClient(configuration))",
        "funders_api = FundersApi(ApiClient(configuration))",
        "institutions_api = InstitutionsApi(ApiClient(configuration))",
        "publishers_api = PublishersApi(ApiClient(configuration))",
        "sources_api = SourcesApi(ApiClient(configuration))",
        "works_api = WorksApi(ApiClient(configuration))"
      ],
      "outputs": [],
      "execution_count": null
    },
    {
      "cell_type": "markdown",
      "metadata": {},
      "source": [
        "# Filter concepts",
        "",
        "You can filter concepts with the `filter` parameter:",
        "",
        "* Get concepts that are at level 0 (top level)\\",
        "  [`https://api.openalex.org/concepts?filter=level:0`](https://api.openalex.org/concepts?filter=level:0)"
      ]
    },
    {
      "cell_type": "code",
      "metadata": {},
      "source": [
        "response = concepts_api.get_concepts(",
        "\tfilter=\"level:0\"",
        ")",
        "",
        "print(json.dumps(response.to_dict(), indent=2))"
      ],
      "outputs": [],
      "execution_count": null
    },
    {
      "cell_type": "markdown",
      "metadata": {},
      "source": [
        "{% hint style=\"info\" %}",
        "It's best to [read about filters](./../../how-to-use-the-api/get-lists-of-entities/filter-entity-lists.ipynb) before trying these out. It will show you how to combine filters and build an AND, OR, or negation query",
        "{% endhint %}",
        "",
        "### `/concepts` attribute filters"
      ]
    },
    {
      "cell_type": "code",
      "metadata": {},
      "source": [
        "response = concepts_api.get_concepts(",
        "\tfilter=\"display_name.search:electrodynamics\"",
        ")",
        "",
        "print(json.dumps(response.to_dict(), indent=2))"
      ],
      "outputs": [],
      "execution_count": null
    },
    {
      "cell_type": "markdown",
      "metadata": {},
      "source": [
        "You can filter using these attributes of the [`Concept`](./concept-object.ipynb) object (click each one to view their documentation on the `Concept` object page):",
        "",
        "* [`ancestors.id`](./concept-object.md#ancestors)",
        "* [`cited_by_count`](./concept-object.md#cited\\_by\\_count)",
        "* [`ids.openalex`](./concept-object.md#ids) (alias: `openalex`)",
        "* [`level`](./concept-object.md#level)",
        "* [`summary_stats.2yr_mean_citedness`](./concept-object.md#summary_stats) (accepts float, null, !null, can use range queries such as < >)",
        "* [`summary_stats.h_index`](./concept-object.md#summary_stats) (accepts integer, null, !null, can use range queries)",
        "* [`summary_stats.i10_index`](./concept-object.md#summary_stats) (accepts integer, null, !null, can use range queries)",
        "* [`works_count`](./concept-object.md#works\\_count)",
        "",
        "### `/concepts` convenience filters",
        "",
        "These filters aren't attributes of the [`Concept`](./concept-object.ipynb) object, but they're included to address some common use cases:",
        "",
        "#### `default.search`",
        "",
        "Value: a search string",
        "",
        "This works the same as using the [`search` parameter](./search-concepts.md#search-concepts) for Concepts.",
        "",
        "#### `display_name.search`",
        "",
        "Value: a search string",
        "",
        "Returns: concepts with a [`display_name`](./concept-object.md#display\\_name) containing the given string; see the [search page](./search-concepts.md#search-a-specific-field) for details.",
        "",
        "* Get concepts with `display_name` containing \"electrodynamics\":\\",
        "  [`https://api.openalex.org/concepts?filter=display_name.search:electrodynamics`](https://api.openalex.org/concepts?filter=display\\_name.search:electrodynamics)",
        "",
        "{% hint style=\"info\" %}",
        "In most cases, you should use the [`search` parameter](./search-concepts.md#concepts-full-search) instead of this filter because it uses a better search algorithm.",
        "{% endhint %}",
        "",
        "#### `has_wikidata`",
        "",
        "Value: a Boolean (`true` or `false`)",
        "",
        "Returns: concepts that have or lack a [Wikidata ID](./concept-object.md#wikidata), depending on the given value. For now, all concepts in OpenAlex _do_ have Wikidata IDs.",
        "",
        "* Get concepts without Wikidata IDs:\\",
        "  [`https://api.openalex.org/concepts?filter=has_wikidata:false`](https://api.openalex.org/concepts?filter=has\\_wikidata:false)"
      ]
    },
    {
      "cell_type": "code",
      "metadata": {},
      "source": [
        "response = concepts_api.get_concepts(",
        "\tfilter=\"has_wikidata:false\"",
        ")",
        "",
        "print(json.dumps(response.to_dict(), indent=2))"
      ],
      "outputs": [],
      "execution_count": null
    }
  ],
  "metadata": {
    "kernelspec": {
      "display_name": "Python 3",
      "language": "python",
      "name": "python3"
    },
    "language_info": {
      "codemirror_mode": {
        "name": "ipython",
        "version": 3
      },
      "file_extension": ".py",
      "mimetype": "text/x-python",
      "name": "python",
      "pygments_lexer": "ipython3",
      "version": "3.8.5"
    }
  },
  "nbformat": 4,
  "nbformat_minor": 4
}