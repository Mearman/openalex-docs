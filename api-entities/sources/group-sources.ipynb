{
  "cells": [
    {
      "cell_type": "markdown",
      "metadata": {},
      "source": [
        "[![GitHub Repository](https://img.shields.io/badge/GitHub-Repository-181717?style=for-the-badge&logo=GitHub&link=https://github.com/Mearman/openalex-docs)](https://github.com/Mearman/openalex-docs)[![Open in GitHub](https://img.shields.io/badge/Open%20in-GitHub-181717?style=for-the-badge&logo=github&link=https://github.com/Mearman/openalex-docs/blob/main/api-entities/sources/group-sources.ipynb)](https://github.com/Mearman/openalex-docs/blob/main/api-entities/sources/group-sources.ipynb)[![Open in Colab](https://img.shields.io/badge/Open%20in-Colab-F9AB00?style=for-the-badge&logo=Google%20Colab&link=https://colab.research.google.com/github/Mearman/openalex-docs/blob/main/api-entities/sources/group-sources.ipynb)](https://colab.research.google.com/github/Mearman/openalex-docs/blob/main/api-entities/sources/group-sources.ipynb)"
      ]
    },
    {
      "cell_type": "code",
      "metadata": {},
      "source": [
        "%pip install --upgrade \"git+https://github.com/Mearman/openalex-python-pydantic-v1.git\"\n",
        "%pip install pandasai"
      ],
      "outputs": [],
      "execution_count": null
    },
    {
      "cell_type": "code",
      "metadata": {},
      "source": [
        "import json\n",
        "import pandas as pd\n",
        "import numpy as np\n",
        "from openalex_api import Configuration, ApiClient,AuthorsApi, ConceptsApi, FundersApi, InstitutionsApi, PublishersApi, SourcesApi, WorksApi\n",
        "\n",
        "configuration = Configuration(host=\"https://api.openalex.org\")\n",
        "authors_api = AuthorsApi(ApiClient(configuration))\n",
        "concepts_api = ConceptsApi(ApiClient(configuration))\n",
        "funders_api = FundersApi(ApiClient(configuration))\n",
        "institutions_api = InstitutionsApi(ApiClient(configuration))\n",
        "publishers_api = PublishersApi(ApiClient(configuration))\n",
        "sources_api = SourcesApi(ApiClient(configuration))\n",
        "works_api = WorksApi(ApiClient(configuration))\n",
        "\n",
        "from pandasai import SmartDataframe\n",
        "from pandasai.llm import OpenAI"
      ],
      "outputs": [],
      "execution_count": null
    },
    {
      "cell_type": "code",
      "metadata": {},
      "source": [
        "# @title  { run: \"auto\", display-mode: \"form\" }\n",
        "openapi_token = \"\" # @param {type:\"string\"}"
      ],
      "outputs": [],
      "execution_count": null
    },
    {
      "cell_type": "markdown",
      "metadata": {},
      "source": [
        "# Group sources\n",
        "\n",
        "You can group sources with the `group_by` parameter:\n",
        "\n",
        "* Get counts of sources by publisher:\\\n",
        "  [https://api.openalex.org/sources?group\\_by=publisher](https://api.openalex.org/sources?group\\_by=publisher)"
      ]
    },
    {
      "cell_type": "code",
      "metadata": {},
      "source": [
        "response = sources_api.get_sources(\n",
        "\tgroup_by=\"publisher\"\n",
        ")\n",
        "\n",
        "if hasattr(response, \"results\"):\n",
        "\tdf = pd.DataFrame(response.results)\n",
        "else:\n",
        "\tdf = pd.DataFrame(response).T.rename(columns=lambda x: x[0]).drop(0).set_index('id')\n",
        "display(df)"
      ],
      "outputs": [],
      "execution_count": null
    },
    {
      "cell_type": "code",
      "metadata": {},
      "source": [
        "numeric_df = df[['id', 'display_name'] +\n",
        "\t[col for col in df.columns if df[col].dtype in ['int64', 'float64'] and col != 'relevance_score']]\n",
        "display(numeric_df)"
      ],
      "outputs": [],
      "execution_count": null
    },
    {
      "cell_type": "code",
      "metadata": {},
      "source": [
        "try:\n",
        "\tllm = OpenAI(api_token = openapi_token)\n",
        "\tsdf = SmartDataframe(numeric_df, config = { \"llm\": llm })\n",
        "\tsdf.chat(\"Plot a chart of this data\")\n",
        "except:\n",
        "\tprint(\"Error when creating SmartDataframe\")"
      ],
      "outputs": [],
      "execution_count": null
    },
    {
      "cell_type": "markdown",
      "metadata": {},
      "source": [
        "Or you can group using one the attributes below.\n",
        "\n",
        "{% hint style=\"info\" %}\n",
        "It's best to [read about group by](./../../how-to-use-the-api/get-groups-of-entities.ipynb) before trying these out. It will show you how results are formatted, the number of results returned, and how to sort results.\n",
        "{% endhint %}\n",
        "\n",
        "### `/sources` group\\_by attributes\n",
        "\n",
        "* [`apc_prices.currency`](./source-object.md#apc\\_prices)\n",
        "* [`apc_usd`](./source-object.md#apc\\_usd)\n",
        "* [`cited_by_count`](./source-object.md#cited\\_by\\_count)\n",
        "* [`has_issn`](./filter-sources.md#has\\_issn)\n",
        "* [`continent`](./../geo/continents.md#group-by-continent)\n",
        "* [`country_code`](./source-object.md#country\\_code)\n",
        "* [`host_organization`](./source-object.md#host\\_organization) (alias: `host_organization.id`)\n",
        "* [`host_organization_lineage`](./source-object.md#host_organization_lineage) (alias: `host_organization.id`)\n",
        "* [`is_global_south`](./../geo/regions.md#group-by-global-south)\n",
        "* [`is_in_doaj`](./source-object.md#is\\_in\\_doaj)\n",
        "* [`is_oa`](./source-object.md#is\\_oa)\n",
        "* [`issn`](./source-object.md#issn)\n",
        "* [`publisher`](./source-object.md#publisher)\n",
        "* [`summary_stats.2yr_mean_citedness`](./source-object.md#summary_stats)\n",
        "* [`summary_stats.h_index`](./source-object.md#summary_stats)\n",
        "* [`summary_stats.i10_index`](./source-object.md#summary_stats)\n",
        "* [`type`](./source-object.md#type)\n",
        "* [`works_count`](./source-object.md#works\\_count)"
      ]
    }
  ],
  "metadata": {
    "kernelspec": {
      "display_name": "Python 3",
      "language": "python",
      "name": "python3"
    },
    "language_info": {
      "codemirror_mode": {
        "name": "ipython",
        "version": 3
      },
      "file_extension": ".py",
      "mimetype": "text/x-python",
      "name": "python",
      "pygments_lexer": "ipython3",
      "version": "3.8.5"
    }
  },
  "nbformat": 4,
  "nbformat_minor": 4
}