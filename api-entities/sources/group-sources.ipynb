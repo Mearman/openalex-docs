{
  "cells": [
    {
      "cell_type": "markdown",
      "metadata": {},
      "source": [
        "[![Open All Collab](https://colab.research.google.com/assets/colab-badge.svg)](https://colab.research.google.com/github/Mearman/openalex-docs/blob/main/api-entities/sources/group-sources.ipynb)"
      ]
    },
    {
      "cell_type": "code",
      "metadata": {},
      "source": [
        "%pip install --upgrade \"git+https://github.com/Mearman/openalex-python.git\""
      ],
      "outputs": [],
      "execution_count": null
    },
    {
      "cell_type": "code",
      "metadata": {},
      "source": [
        "import json",
        "from openalex_api import Configuration, ApiClient,AuthorsApi, ConceptsApi, FundersApi, InstitutionsApi, PublishersApi, SourcesApi, WorksApi",
        "",
        "configuration = Configuration(host=\"https://api.openalex.org\")",
        "authors_api = AuthorsApi(ApiClient(configuration))",
        "concepts_api = ConceptsApi(ApiClient(configuration))",
        "funders_api = FundersApi(ApiClient(configuration))",
        "institutions_api = InstitutionsApi(ApiClient(configuration))",
        "publishers_api = PublishersApi(ApiClient(configuration))",
        "sources_api = SourcesApi(ApiClient(configuration))",
        "works_api = WorksApi(ApiClient(configuration))"
      ],
      "outputs": [],
      "execution_count": null
    },
    {
      "cell_type": "markdown",
      "metadata": {},
      "source": [
        "# Group sources",
        "",
        "You can group sources with the `group_by` parameter:",
        "",
        "* Get counts of sources by publisher:\\",
        "  [https://api.openalex.org/sources?group\\_by=publisher](https://api.openalex.org/sources?group\\_by=publisher)"
      ]
    },
    {
      "cell_type": "code",
      "metadata": {},
      "source": [
        "response = sources_api.get_sources(",
        "\tgroup_by=\"publisher\"",
        ")",
        "",
        "print(json.dumps(response.to_dict(), indent=2))"
      ],
      "outputs": [],
      "execution_count": null
    },
    {
      "cell_type": "markdown",
      "metadata": {},
      "source": [
        "Or you can group using one the attributes below.",
        "",
        "{% hint style=\"info\" %}",
        "It's best to [read about group by](./../../how-to-use-the-api/get-groups-of-entities.ipynb) before trying these out. It will show you how results are formatted, the number of results returned, and how to sort results.",
        "{% endhint %}",
        "",
        "### `/sources` group\\_by attributes",
        "",
        "* [`apc_prices.currency`](./source-object.md#apc\\_prices)",
        "* [`apc_usd`](./source-object.md#apc\\_usd)",
        "* [`cited_by_count`](./source-object.md#cited\\_by\\_count)",
        "* [`has_issn`](./filter-sources.md#has\\_issn)",
        "* [`continent`](./../geo/continents.md#group-by-continent)",
        "* [`country_code`](./source-object.md#country\\_code)",
        "* [`host_organization`](./source-object.md#host\\_organization) (alias: `host_organization.id`)",
        "* [`host_organization_lineage`](./source-object.md#host_organization_lineage) (alias: `host_organization.id`)",
        "* [`is_global_south`](./../geo/regions.md#group-by-global-south)",
        "* [`is_in_doaj`](./source-object.md#is\\_in\\_doaj)",
        "* [`is_oa`](./source-object.md#is\\_oa)",
        "* [`issn`](./source-object.md#issn)",
        "* [`publisher`](./source-object.md#publisher)",
        "* [`summary_stats.2yr_mean_citedness`](./source-object.md#summary_stats)",
        "* [`summary_stats.h_index`](./source-object.md#summary_stats)",
        "* [`summary_stats.i10_index`](./source-object.md#summary_stats)",
        "* [`type`](./source-object.md#type)",
        "* [`works_count`](./source-object.md#works\\_count)"
      ]
    }
  ],
  "metadata": {
    "kernelspec": {
      "display_name": "Python 3",
      "language": "python",
      "name": "python3"
    },
    "language_info": {
      "codemirror_mode": {
        "name": "ipython",
        "version": 3
      },
      "file_extension": ".py",
      "mimetype": "text/x-python",
      "name": "python",
      "pygments_lexer": "ipython3",
      "version": "3.8.5"
    }
  },
  "nbformat": 4,
  "nbformat_minor": 4
}