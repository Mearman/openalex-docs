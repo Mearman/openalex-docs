{
  "cells": [
    {
      "cell_type": "markdown",
      "metadata": {},
      "source": [
        "[![Open All Collab](https://colab.research.google.com/assets/colab-badge.svg)](https://colab.research.google.com/github/Mearman/openalex-docs/blob/main/api-entities/sources/filter-sources.ipynb)\n",
        "\n"
      ]
    },
    {
      "cell_type": "code",
      "metadata": {},
      "source": [
        "%pip install --upgrade \"git+https://github.com/Mearman/openalex-python.git\"\n",
        "\n"
      ],
      "outputs": [],
      "execution_count": null
    },
    {
      "cell_type": "code",
      "metadata": {},
      "source": [
        "import json\n",
        "from openalex_api import Configuration, ApiClient,AuthorsApi, ConceptsApi, FundersApi, InstitutionsApi, PublishersApi, SourcesApi, WorksApi\n",
        "\n",
        "configuration = Configuration(host=\"https://api.openalex.org\")\n",
        "authors_api = AuthorsApi(ApiClient(configuration))\n",
        "concepts_api = ConceptsApi(ApiClient(configuration))\n",
        "funders_api = FundersApi(ApiClient(configuration))\n",
        "institutions_api = InstitutionsApi(ApiClient(configuration))\n",
        "publishers_api = PublishersApi(ApiClient(configuration))\n",
        "sources_api = SourcesApi(ApiClient(configuration))\n",
        "works_api = WorksApi(ApiClient(configuration))\n",
        "\n"
      ],
      "outputs": [],
      "execution_count": null
    },
    {
      "cell_type": "markdown",
      "metadata": {},
      "source": [
        "\n",
        "# Filter sources\n",
        "\n",
        "You can filter sources with the `filter` parameter:\n",
        "\n",
        "* Get sources that have an ISSN\\\n",
        "  [`https://api.openalex.org/sources?filter=has_issn:true`](https://api.openalex.org/sources?filter=has\\_issn:true)\n",
        "\n"
      ]
    },
    {
      "cell_type": "code",
      "metadata": {},
      "source": [
        "response = sources_api.get_sources(\n",
        "\tfilter=\"has_issn:true\"\n",
        ")\n",
        "\n",
        "print(json.dumps(response.to_dict(), indent=2))\n",
        "\n"
      ],
      "outputs": [],
      "execution_count": null
    },
    {
      "cell_type": "markdown",
      "metadata": {},
      "source": [
        "\n",
        "\n",
        "{% hint style=\"info\" %}\n",
        "It's best to [read about filters](../../how-to-use-the-api/get-lists-of-entities/filter-entity-lists.md) before trying these out. It will show you how to combine filters and build an AND, OR, or negation query\n",
        "{% endhint %}\n",
        "\n",
        "### `/sources` attribute filters\n",
        "\n",
        "\n"
      ]
    },
    {
      "cell_type": "code",
      "metadata": {},
      "source": [
        "response = sources_api.get_sources(\n",
        "\tfilter=\"continent:asia\"\n",
        ")\n",
        "\n",
        "print(json.dumps(response.to_dict(), indent=2))\n",
        "\n"
      ],
      "outputs": [],
      "execution_count": null
    },
    {
      "cell_type": "markdown",
      "metadata": {},
      "source": [
        "\n",
        "You can filter using these attributes of the `Source` entity object (click each one to view their documentation on the [`Source`](source-object.md) object page):\n",
        "\n",
        "* [`apc_prices.currency`](source-object.md#apc\\_prices)\n",
        "* [`apc_prices.price`](source-object.md#apc\\_prices)\n",
        "* [`apc_usd`](source-object.md#apc\\_usd)\n",
        "* [`cited_by_count`](source-object.md#cited\\_by\\_count)\n",
        "* [`country_code`](source-object.md#country\\_code)\n",
        "* [`host_organization`](source-object.md#host\\_organization) (alias: `host_organization.id`)\n",
        "* [`host_organization_lineage`](source-object.md#host_organization_lineage) — Use this with a publisher ID to find works from that publisher and all of its children.\n",
        "* [`ids.openalex`](source-object.md#ids) (alias: `openalex`)\n",
        "* [`is_in_doaj`](source-object.md#is\\_in\\_doaj)\n",
        "* [`is_oa`](source-object.md#is\\_oa)\n",
        "* [`issn`](source-object.md#issn)\n",
        "* [`publisher`](source-object.md#publisher) — Requires exact match. Use the [`host_organization_lineage`](source-object.md#host_organization_lineage) filter instead if you want to find works from a publisher and all of its children.\n",
        "* [`summary_stats.2yr_mean_citedness`](source-object.md#summary_stats) (accepts float, null, !null, can use range queries such as < >)\n",
        "* [`summary_stats.h_index`](source-object.md#summary_stats) (accepts integer, null, !null, can use range queries)\n",
        "* [`summary_stats.i10_index`](source-object.md#summary_stats) (accepts integer, null, !null, can use range queries)\n",
        "* [`type`](source-object.md#type)\n",
        "* [`works_count`](source-object.md#works\\_count)\n",
        "* [`x_concepts.id`](source-object.md#x\\_concepts) (alias: `concepts.id` or `concept.id`)\n",
        "\n",
        "{% hint style=\"info\" %}\n",
        "Want to filter by `host_organization.display_name`? This is a two-step process:\n",
        "\n",
        "1. Find the host organization's ID by searching by `display_name` in Publishers or Institutions, depending on which type you are looking for.\n",
        "2. Filter works by `host_organization.id`.\n",
        "\n",
        "To learn more about why we do it this way, [see here.](../works/search-works.md#why-cant-i-search-by-name-of-related-entity-author-name-institution-name-etc.)\n",
        "{% endhint %}\n",
        "\n",
        "### `/sources` convenience filters\n",
        "\n",
        "These filters aren't attributes of the [`Source`](source-object.md) object, but they're included to address some common use cases:\n",
        "\n",
        "#### `continent`\n",
        "\n",
        "Value: a String with a valid [continent filter](../geo/continents.md#filter-by-continent)\n",
        "\n",
        "Returns: sources that are associated with the chosen continent.\n",
        "\n",
        "* Get sources that are associated with Asia\\\n",
        "  [`https://api.openalex.org/sources?filter=continent:asia`](https://api.openalex.org/sources?filter=continent:asia)\n",
        "\n",
        "#### `default.search`\n",
        "\n",
        "Value: a search string\n",
        "\n",
        "This works the same as using the [`search` parameter](./search-sources.md#search-sources) for Sources.\n",
        "\n",
        "#### `display_name.search`\n",
        "\n",
        "Value: a search string\n",
        "\n",
        "Returns: sources with a [`display_name`](source-object.md#display\\_name) containing the given string; see the [search page](search-sources.md) for details.\n",
        "\n",
        "* Get sources with names containing \"Neurology\":\\\n",
        "\n"
      ]
    },
    {
      "cell_type": "code",
      "metadata": {},
      "source": [
        "response = sources_api.get_sources(\n",
        "\tfilter=\"continent:asia\"\n",
        ")\n",
        "\n",
        "print(json.dumps(response.to_dict(), indent=2))\n",
        "\n"
      ],
      "outputs": [],
      "execution_count": null
    },
    {
      "cell_type": "markdown",
      "metadata": {},
      "source": [
        "\n",
        "  [`https://api.openalex.org/sources?filter=display_name.search:Neurology`](https://api.openalex.org/sources?filter=display\\_name.search:Neurology)``\n",
        "\n",
        "{% hint style=\"info\" %}\n",
        "In most cases, you should use the [`search`](search-sources.md#sources-full-search) parameter instead of this filter because it uses a better search algorithm.\n",
        "{% endhint %}\n",
        "\n",
        "#### `has_issn`\n",
        "\n",
        "Value: a Boolean (`true` or `false`)\n",
        "\n",
        "Returns: sources that have or lack an [ISSN](./source-object.md#issn), depending on the given value.\n",
        "\n",
        "* Get sources without ISSNs:\\\n",
        "  [`https://api.openalex.org/sources?filter=has_issn:false`](https://api.openalex.org/sources?filter=has\\_issn:false)``\n",
        "\n",
        "#### `is_global_south`\n",
        "\n",
        "Value: a Boolean (`true` or `false`)\n",
        "\n",
        "Returns: sources that are associated with the [Global South](../geo/regions.md#global-south).\n",
        "\n",
        "* Get sources that are located in the Global South\\\n",
        "\n"
      ]
    },
    {
      "cell_type": "code",
      "metadata": {},
      "source": [
        "response = sources_api.get_sources(\n",
        "\tfilter=\"display_name.search:Neurology\"\n",
        ")\n",
        "\n",
        "print(json.dumps(response.to_dict(), indent=2))\n",
        "\n"
      ],
      "outputs": [],
      "execution_count": null
    },
    {
      "cell_type": "markdown",
      "metadata": {},
      "source": [
        "\n",
        "  [`https://api.openalex.org/sources?filter=is\\_global\\_south:true`](https://api.openalex.org/sources?filter=is\\_global\\_south:true)\n"
      ]
    }
  ],
  "metadata": {
    "kernelspec": {
      "display_name": "Python 3",
      "language": "python",
      "name": "python3"
    },
    "language_info": {
      "codemirror_mode": {
        "name": "ipython",
        "version": 3
      },
      "file_extension": ".py",
      "mimetype": "text/x-python",
      "name": "python",
      "pygments_lexer": "ipython3",
      "version": "3.8.5"
    }
  },
  "nbformat": 4,
  "nbformat_minor": 4
}