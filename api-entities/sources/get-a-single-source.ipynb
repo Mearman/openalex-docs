{
  "cells": [
    {
      "cell_type": "markdown",
      "metadata": {},
      "source": [
        "[![GitHub Repository](https://img.shields.io/badge/GitHub-Repository-181717?style=for-the-badge&logo=GitHub&link=https://github.com/Mearman/openalex-docs)](https://github.com/Mearman/openalex-docs)[![Open in GitHub](https://img.shields.io/badge/Open%20in-GitHub-181717?style=for-the-badge&logo=github&link=https://github.com/Mearman/openalex-docs/blob/main/api-entities/sources/get-a-single-source.ipynb)](https://github.com/Mearman/openalex-docs/blob/main/api-entities/sources/get-a-single-source.ipynb)[![Open in Colab](https://img.shields.io/badge/Open%20in-Colab-F9AB00?style=for-the-badge&logo=Google%20Colab&link=https://colab.research.google.com/github/Mearman/openalex-docs/blob/main/api-entities/sources/get-a-single-source.ipynb)](https://colab.research.google.com/github/Mearman/openalex-docs/blob/main/api-entities/sources/get-a-single-source.ipynb)"
      ]
    },
    {
      "cell_type": "code",
      "metadata": {},
      "source": [
        "%pip install --upgrade \"git+https://github.com/Mearman/openalex-python-pydantic-v1.git\"\n",
        "%pip install pandasai"
      ],
      "outputs": [],
      "execution_count": null
    },
    {
      "cell_type": "code",
      "metadata": {},
      "source": [
        "import json\n",
        "import pandas as pd\n",
        "import numpy as np\n",
        "from openalex_api import Configuration, ApiClient, AutocompleteApi, AuthorsApi, ConceptsApi, FundersApi, InstitutionsApi, PublishersApi, SourcesApi, WorksApi\n",
        "\n",
        "configuration = Configuration(host=\"https://api.openalex.org\")\n",
        "autocomplete_api = AutocompleteApi(ApiClient(configuration))\n",
        "authors_api = AuthorsApi(ApiClient(configuration))\n",
        "concepts_api = ConceptsApi(ApiClient(configuration))\n",
        "funders_api = FundersApi(ApiClient(configuration))\n",
        "institutions_api = InstitutionsApi(ApiClient(configuration))\n",
        "publishers_api = PublishersApi(ApiClient(configuration))\n",
        "sources_api = SourcesApi(ApiClient(configuration))\n",
        "works_api = WorksApi(ApiClient(configuration))\n",
        "\n",
        "from pandasai import SmartDataframe\n",
        "from pandasai.llm import OpenAI"
      ],
      "outputs": [],
      "execution_count": null
    },
    {
      "cell_type": "code",
      "metadata": {},
      "source": [
        "# @title  { run: \"auto\", display-mode: \"form\" }\n",
        "openapi_token = \"\" # @param {type:\"string\"}"
      ],
      "outputs": [],
      "execution_count": null
    },
    {
      "cell_type": "markdown",
      "metadata": {},
      "source": [
        "# Get a single source\n",
        "\n",
        "It's easy to get a source from from the API with: `/sources/<entity_id>`. Here's an example:\n",
        "\n",
        "* Get the source with the [OpenAlex ID](./../../how-to-use-the-api/get-single-entities/README.md#the-openalex-id) `S137773608`: \\\n",
        "  [https://api.openalex.org/sources/S137773608](https://api.openalex.org/sources/S137773608)"
      ]
    },
    {
      "cell_type": "code",
      "metadata": {},
      "source": [
        "# @title { run: \"auto\", vertical-output: false }\n",
        "# https://api.openalex.org/sources/S137773608\n",
        "id=\"S137773608\" # @param \"S137773608\" {type: \"string\"}\n",
        "\n",
        "response = sources_api.get_source(\n",
        "\tid=id\n",
        ")\n",
        "\n",
        "df = pd.DataFrame(response).T.rename(columns=lambda x: x[0]).drop(0).set_index('id')\n",
        "display(df)"
      ],
      "outputs": [],
      "execution_count": null
    },
    {
      "cell_type": "markdown",
      "metadata": {},
      "source": [
        "That will return an [`Source`](./source-object.ipynb) object, describing everything OpenAlex knows about the source with that ID:\n",
        "\n",
        "```json\n",
        "{\n",
        "    \"id\": \"https://openalex.org/S137773608\",\n",
        "    \"issn_l\": \"0028-0836\",\n",
        "    \"issn\": [\n",
        "        \"1476-4687\",\n",
        "        \"0028-0836\"\n",
        "    ],\n",
        "    \"display_name\": \"Nature\",\n",
        "    // other fields removed for brevity\n",
        "}\n",
        "```\n",
        "\n",
        "{% hint style=\"info\" %}\n",
        "You can make up to 50 of these queries at once by [requesting a list of entities and filtering on IDs using OR syntax](./../../how-to-use-the-api/get-lists-of-entities/filter-entity-lists.md#addition-or).\n",
        "{% endhint %}\n",
        "\n",
        "{% hint style=\"info\" %}\n",
        "Sources are also available via an alias: `/journals`\n",
        "{% endhint %}\n",
        "\n",
        "### External IDs\n",
        "\n",
        "You can look up journals using external IDs such as an ISSN:\n",
        "\n",
        "* Get the source with ISSN: `2041-1723`:\\\n",
        "  [`https://api.openalex.org/sources/issn:2041-1723`](https://api.openalex.org/sources/issn:2041-1723)"
      ]
    },
    {
      "cell_type": "code",
      "metadata": {},
      "source": [
        "# @title { run: \"auto\", vertical-output: false }\n",
        "# https://api.openalex.org/sources/issn:2041-1723\n",
        "id=\"issn:2041-1723\" # @param \"issn:2041-1723\" {type: \"string\"}\n",
        "\n",
        "response = sources_api.get_source(\n",
        "\tid=id\n",
        ")\n",
        "\n",
        "df = pd.DataFrame(response).T.rename(columns=lambda x: x[0]).drop(0).set_index('id')\n",
        "display(df)"
      ],
      "outputs": [],
      "execution_count": null
    },
    {
      "cell_type": "markdown",
      "metadata": {},
      "source": [
        "Available external IDs for sources are:\n",
        "\n",
        "| External ID                    | URN        |\n",
        "| ------------------------------ | ---------- |\n",
        "| ISSN                           | `issn`     |\n",
        "| Fatcat                         | `fatcat`   |\n",
        "| Microsoft Academic Graph (MAG) | `mag`      |\n",
        "| Wikidata                       | `wikidata` |\n",
        "\n",
        "### Select fields\n",
        "\n",
        "You can use `select` to limit the fields that are returned in a source object. More details are [here](./../../how-to-use-the-api/get-lists-of-entities/select-fields.ipynb).\n",
        "\n",
        "* Display only the `id` and `display_name` for a source object\\\n",
        "  [https://api.openalex.org/sources/S137773608?select=id,display\\_name](https://api.openalex.org/sources/S137773608?select=id,display\\_name)"
      ]
    },
    {
      "cell_type": "code",
      "metadata": {},
      "source": [
        "# @title { run: \"auto\", vertical-output: false }\n",
        "# https://api.openalex.org/sources/S137773608?select=id,display_name\n",
        "select=\"id,display_name\" # @param \"id,display_name\" {type: \"string\"},\n",
        "\tid=\"S137773608\" # @param \"S137773608\" {type: \"string\"}\n",
        "\n",
        "response = sources_api.get_source(\n",
        "\tselect=select,\n",
        "\tid=id\n",
        ")\n",
        "\n",
        "df = pd.DataFrame(response).T.rename(columns=lambda x: x[0]).drop(0).set_index('id')\n",
        "display(df)"
      ],
      "outputs": [],
      "execution_count": null
    }
  ],
  "metadata": {
    "kernelspec": {
      "display_name": "Python 3",
      "language": "python",
      "name": "python3"
    },
    "language_info": {
      "codemirror_mode": {
        "name": "ipython",
        "version": 3
      },
      "file_extension": ".py",
      "mimetype": "text/x-python",
      "name": "python",
      "pygments_lexer": "ipython3",
      "version": "3.8.5"
    }
  },
  "nbformat": 4,
  "nbformat_minor": 4
}