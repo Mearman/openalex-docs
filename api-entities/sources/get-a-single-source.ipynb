{
  "cells": [
    {
      "cell_type": "markdown",
      "metadata": {},
      "source": [
        "[![Open All Collab](https://colab.research.google.com/assets/colab-badge.svg)](https://colab.research.google.com/github/Mearman/openalex-docs/blob/main/api-entities/sources/get-a-single-source.ipynb)"
      ]
    },
    {
      "cell_type": "code",
      "metadata": {},
      "source": [
        "%pip install --upgrade \"git+https://github.com/Mearman/openalex-python.git\""
      ],
      "outputs": [],
      "execution_count": null
    },
    {
      "cell_type": "code",
      "metadata": {},
      "source": [
        "import json",
        "from openalex_api import Configuration, ApiClient,AuthorsApi, ConceptsApi, FundersApi, InstitutionsApi, PublishersApi, SourcesApi, WorksApi",
        "",
        "configuration = Configuration(host=\"https://api.openalex.org\")",
        "authors_api = AuthorsApi(ApiClient(configuration))",
        "concepts_api = ConceptsApi(ApiClient(configuration))",
        "funders_api = FundersApi(ApiClient(configuration))",
        "institutions_api = InstitutionsApi(ApiClient(configuration))",
        "publishers_api = PublishersApi(ApiClient(configuration))",
        "sources_api = SourcesApi(ApiClient(configuration))",
        "works_api = WorksApi(ApiClient(configuration))"
      ],
      "outputs": [],
      "execution_count": null
    },
    {
      "cell_type": "markdown",
      "metadata": {},
      "source": [
        "# Get a single source",
        "",
        "It's easy to get a source from from the API with: `/sources/<entity_id>`. Here's an example:",
        "",
        "* Get the source with the [OpenAlex ID](./../../how-to-use-the-api/get-single-entities/README.md#the-openalex-id) `S137773608`: \\",
        "  [https://api.openalex.org/sources/S137773608](https://api.openalex.org/sources/S137773608)"
      ]
    },
    {
      "cell_type": "code",
      "metadata": {},
      "source": [
        "response = sources_api.get_source(",
        "\tid=\"S137773608\"",
        ")",
        "",
        "print(json.dumps(response.to_dict(), indent=2))"
      ],
      "outputs": [],
      "execution_count": null
    },
    {
      "cell_type": "markdown",
      "metadata": {},
      "source": [
        "That will return an [`Source`](./source-object.ipynb) object, describing everything OpenAlex knows about the source with that ID:",
        "",
        "```json",
        "{",
        "    \"id\": \"https://openalex.org/S137773608\",",
        "    \"issn_l\": \"0028-0836\",",
        "    \"issn\": [",
        "        \"1476-4687\",",
        "        \"0028-0836\"",
        "    ],",
        "    \"display_name\": \"Nature\",",
        "    // other fields removed for brevity",
        "}",
        "```",
        "",
        "{% hint style=\"info\" %}",
        "You can make up to 50 of these queries at once by [requesting a list of entities and filtering on IDs using OR syntax](./../../how-to-use-the-api/get-lists-of-entities/filter-entity-lists.md#addition-or).",
        "{% endhint %}",
        "",
        "{% hint style=\"info\" %}",
        "Sources are also available via an alias: `/journals`",
        "{% endhint %}",
        "",
        "### External IDs",
        "",
        "You can look up journals using external IDs such as an ISSN:",
        "",
        "* Get the source with ISSN: `2041-1723`:\\",
        "  [`https://api.openalex.org/sources/issn:2041-1723`](https://api.openalex.org/sources/issn:2041-1723)"
      ]
    },
    {
      "cell_type": "code",
      "metadata": {},
      "source": [
        "response = sources_api.get_source(",
        "\tid=\"issn:2041-1723\"",
        ")",
        "",
        "print(json.dumps(response.to_dict(), indent=2))"
      ],
      "outputs": [],
      "execution_count": null
    },
    {
      "cell_type": "markdown",
      "metadata": {},
      "source": [
        "Available external IDs for sources are:",
        "",
        "| External ID                    | URN        |",
        "| ------------------------------ | ---------- |",
        "| ISSN                           | `issn`     |",
        "| Fatcat                         | `fatcat`   |",
        "| Microsoft Academic Graph (MAG) | `mag`      |",
        "| Wikidata                       | `wikidata` |",
        "",
        "### Select fields",
        "",
        "You can use `select` to limit the fields that are returned in a source object. More details are [here](./../../how-to-use-the-api/get-lists-of-entities/select-fields.ipynb).",
        "",
        "* Display only the `id` and `display_name` for a source object\\",
        "  [https://api.openalex.org/sources/S137773608?select=id,display\\_name](https://api.openalex.org/sources/S137773608?select=id,display\\_name)"
      ]
    },
    {
      "cell_type": "code",
      "metadata": {},
      "source": [
        "response = sources_api.get_source(",
        "\tselect=\"id,display_name\",",
        "\tid=\"S137773608\"",
        ")",
        "",
        "print(json.dumps(response.to_dict(), indent=2))"
      ],
      "outputs": [],
      "execution_count": null
    }
  ],
  "metadata": {
    "kernelspec": {
      "display_name": "Python 3",
      "language": "python",
      "name": "python3"
    },
    "language_info": {
      "codemirror_mode": {
        "name": "ipython",
        "version": 3
      },
      "file_extension": ".py",
      "mimetype": "text/x-python",
      "name": "python",
      "pygments_lexer": "ipython3",
      "version": "3.8.5"
    }
  },
  "nbformat": 4,
  "nbformat_minor": 4
}