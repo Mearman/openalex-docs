{
  "cells": [
    {
      "cell_type": "markdown",
      "metadata": {},
      "source": [
        "[![Open All Collab](https://colab.research.google.com/assets/colab-badge.svg)](https://colab.research.google.com/github/Mearman/openalex-docs/blob/main/api-entities/sources/get-lists-of-sources.ipynb)"
      ]
    },
    {
      "cell_type": "code",
      "metadata": {},
      "source": [
        "%pip install --upgrade \"git+https://github.com/Mearman/openalex-python.git\""
      ],
      "outputs": [],
      "execution_count": null
    },
    {
      "cell_type": "code",
      "metadata": {},
      "source": [
        "import json",
        "from openalex_api import Configuration, ApiClient,AuthorsApi, ConceptsApi, FundersApi, InstitutionsApi, PublishersApi, SourcesApi, WorksApi",
        "",
        "configuration = Configuration(host=\"https://api.openalex.org\")",
        "authors_api = AuthorsApi(ApiClient(configuration))",
        "concepts_api = ConceptsApi(ApiClient(configuration))",
        "funders_api = FundersApi(ApiClient(configuration))",
        "institutions_api = InstitutionsApi(ApiClient(configuration))",
        "publishers_api = PublishersApi(ApiClient(configuration))",
        "sources_api = SourcesApi(ApiClient(configuration))",
        "works_api = WorksApi(ApiClient(configuration))"
      ],
      "outputs": [],
      "execution_count": null
    },
    {
      "cell_type": "markdown",
      "metadata": {},
      "source": [
        "# Get lists of sources",
        "",
        "You can get lists of sources:",
        "",
        "* Get _all_ sources in OpenAlex\\",
        "  [https://api.openalex.org/sources](https://api.openalex.org/sources)"
      ]
    },
    {
      "cell_type": "code",
      "metadata": {},
      "source": [
        "response = sources_api.get_sources(",
        "\t",
        ")",
        "",
        "print(json.dumps(response.to_dict(), indent=2))"
      ],
      "outputs": [],
      "execution_count": null
    },
    {
      "cell_type": "markdown",
      "metadata": {},
      "source": [
        "Which returns a response like this:",
        "",
        "```json",
        "{",
        "    \"meta\": {",
        "        \"count\": 226727,",
        "        \"db_response_time_ms\": 32,",
        "        \"page\": 1,",
        "        \"per_page\": 25",
        "    },",
        "    \"results\": [",
        "        {",
        "            \"id\": \"https://openalex.org/S2764455111\",",
        "            \"issn_l\": null,",
        "            \"issn\": null,",
        "            \"display_name\": \"PubMed Central\",",
        "            // more fields (removed to save space)",
        "        },",
        "        {",
        "            \"id\": \"https://openalex.org/S4306400806\",",
        "            \"issn_l\": null,",
        "            \"issn\": null,",
        "            \"display_name\": \"PubMed Central - Europe PMC\",",
        "            // more fields (removed to save space)",
        "        },",
        "        // more results (removed to save space)",
        "    ],",
        "    \"group_by\": []",
        "}",
        "```",
        "",
        "## Page and sort sources",
        "",
        "By default we return 25 results per page. You can change this default and [page](./../../how-to-use-the-api/get-lists-of-entities/paging.ipynb) through sources with the `per-page` and `page` parameters:",
        "",
        "* Get the second page of sources results, with 50 results returned per page\\",
        "  [https://api.openalex.org/sources?per-page=50\\&page=2](https://api.openalex.org/sources?per-page=50\\&page=2)"
      ]
    },
    {
      "cell_type": "code",
      "metadata": {},
      "source": [
        "response = sources_api.get_sources(",
        "\tper_page=\"50\",",
        "\tpage=\"2\"",
        ")",
        "",
        "print(json.dumps(response.to_dict(), indent=2))"
      ],
      "outputs": [],
      "execution_count": null
    },
    {
      "cell_type": "markdown",
      "metadata": {},
      "source": [
        "You also can [sort results](./../../how-to-use-the-api/get-lists-of-entities/sort-entity-lists.ipynb) with the `sort` parameter:",
        "",
        "* Sort sources by cited by count, descending\\",
        "  https://api.openalex.org/sources?sort=cited\\_by\\_count:desc"
      ]
    },
    {
      "cell_type": "code",
      "metadata": {},
      "source": [
        "response = sources_api.get_sources(",
        "\tsort=\"cited_by_count:desc\"",
        ")",
        "",
        "print(json.dumps(response.to_dict(), indent=2))"
      ],
      "outputs": [],
      "execution_count": null
    },
    {
      "cell_type": "markdown",
      "metadata": {},
      "source": [
        "Continue on to learn how you can [filter](./filter-sources.ipynb) and [search](./search-sources.ipynb) lists of sources.",
        "",
        "## Sample sources",
        "",
        "You can use `sample` to get a random batch of sources. Read more about sampling and how to add a `seed` value [here](./../../how-to-use-the-api/get-lists-of-entities/sample-entity-lists.ipynb).",
        "",
        "* Get 10 random sources\\",
        "  [https://api.openalex.org/sources?sample=10](https://api.openalex.org/sources?sample=10)"
      ]
    },
    {
      "cell_type": "code",
      "metadata": {},
      "source": [
        "response = sources_api.get_sources(",
        "\tsample=\"10\"",
        ")",
        "",
        "print(json.dumps(response.to_dict(), indent=2))"
      ],
      "outputs": [],
      "execution_count": null
    },
    {
      "cell_type": "markdown",
      "metadata": {},
      "source": [
        "## Select fields",
        "",
        "You can use `select` to limit the fields that are returned in a list of sources. More details are [here](./../../how-to-use-the-api/get-lists-of-entities/select-fields.ipynb).",
        "",
        "* Display only the `id`, `display_name` and `issn` within sources results\\",
        "  [https://api.openalex.org/sources?select=id,display\\_name,issn](https://api.openalex.org/sources?select=id,display\\_name,issn)"
      ]
    },
    {
      "cell_type": "code",
      "metadata": {},
      "source": [
        "response = sources_api.get_sources(",
        "\tselect=\"id,display_name,issn\"",
        ")",
        "",
        "print(json.dumps(response.to_dict(), indent=2))"
      ],
      "outputs": [],
      "execution_count": null
    }
  ],
  "metadata": {
    "kernelspec": {
      "display_name": "Python 3",
      "language": "python",
      "name": "python3"
    },
    "language_info": {
      "codemirror_mode": {
        "name": "ipython",
        "version": 3
      },
      "file_extension": ".py",
      "mimetype": "text/x-python",
      "name": "python",
      "pygments_lexer": "ipython3",
      "version": "3.8.5"
    }
  },
  "nbformat": 4,
  "nbformat_minor": 4
}