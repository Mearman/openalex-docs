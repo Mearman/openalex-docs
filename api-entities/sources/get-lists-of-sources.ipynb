{
  "cells": [
    {
      "cell_type": "markdown",
      "metadata": {},
      "source": [
        "[![GitHub Repository](https://img.shields.io/badge/GitHub-Repository-181717?style=for-the-badge&logo=GitHub&link=https://github.com/Mearman/openalex-docs)](https://github.com/Mearman/openalex-docs)[![Open in GitHub](https://img.shields.io/badge/Open%20in-GitHub-181717?style=for-the-badge&logo=github&link=https://github.com/Mearman/openalex-docs/blob/main/api-entities/sources/get-lists-of-sources.ipynb)](https://github.com/Mearman/openalex-docs/blob/main/api-entities/sources/get-lists-of-sources.ipynb)[![Open in Colab](https://img.shields.io/badge/Open%20in-Colab-F9AB00?style=for-the-badge&logo=Google%20Colab&link=https://colab.research.google.com/github/Mearman/openalex-docs/blob/main/api-entities/sources/get-lists-of-sources.ipynb)](https://colab.research.google.com/github/Mearman/openalex-docs/blob/main/api-entities/sources/get-lists-of-sources.ipynb)"
      ]
    },
    {
      "cell_type": "code",
      "metadata": {},
      "source": [
        "%pip install --upgrade \"git+https://github.com/Mearman/openalex-python-pydantic-v1.git\"\n",
        "%pip install pandasai"
      ],
      "outputs": [],
      "execution_count": null
    },
    {
      "cell_type": "code",
      "metadata": {},
      "source": [
        "import json\n",
        "import pandas as pd\n",
        "from openalex_api import Configuration, ApiClient,AuthorsApi, ConceptsApi, FundersApi, InstitutionsApi, PublishersApi, SourcesApi, WorksApi\n",
        "\n",
        "configuration = Configuration(host=\"https://api.openalex.org\")\n",
        "authors_api = AuthorsApi(ApiClient(configuration))\n",
        "concepts_api = ConceptsApi(ApiClient(configuration))\n",
        "funders_api = FundersApi(ApiClient(configuration))\n",
        "institutions_api = InstitutionsApi(ApiClient(configuration))\n",
        "publishers_api = PublishersApi(ApiClient(configuration))\n",
        "sources_api = SourcesApi(ApiClient(configuration))\n",
        "works_api = WorksApi(ApiClient(configuration))"
      ],
      "outputs": [],
      "execution_count": null
    },
    {
      "cell_type": "code",
      "metadata": {},
      "source": [
        "from pandasai import SmartDataframe\n",
        "from pandasai.llm import OpenAI"
      ],
      "outputs": [],
      "execution_count": null
    },
    {
      "cell_type": "code",
      "metadata": {},
      "source": [
        "openapi_token = \"\" # @param {type:\"string\"}"
      ],
      "outputs": [],
      "execution_count": null
    },
    {
      "cell_type": "markdown",
      "metadata": {},
      "source": [
        "# Get lists of sources\n",
        "\n",
        "You can get lists of sources:\n",
        "\n",
        "* Get _all_ sources in OpenAlex\\\n",
        "  [https://api.openalex.org/sources](https://api.openalex.org/sources)"
      ]
    },
    {
      "cell_type": "code",
      "metadata": {},
      "source": [
        "response = sources_api.get_sources(\n",
        "\t\n",
        ")\n",
        "\n",
        "display(pd.DataFrame(response.results))"
      ],
      "outputs": [],
      "execution_count": null
    },
    {
      "cell_type": "code",
      "metadata": {},
      "source": [
        "try:\n",
        "\topenapi_token\n",
        "\tif openapi_token:\n",
        "\t\tllm = OpenAI(token=openapi_token)\n",
        "\tdf = pd.DataFrame(response.results)\n",
        "\tsdf = SmartDataframe(df, config={\"llm\": llm})\n",
        "\tsdf.chat(\"Plot a chart of this data\")\n",
        "except:\n",
        "\traise Exception(\"Please provide an openapi_token\")"
      ],
      "outputs": [],
      "execution_count": null
    },
    {
      "cell_type": "markdown",
      "metadata": {},
      "source": [
        "Which returns a response like this:\n",
        "\n",
        "```json\n",
        "{\n",
        "    \"meta\": {\n",
        "        \"count\": 226727,\n",
        "        \"db_response_time_ms\": 32,\n",
        "        \"page\": 1,\n",
        "        \"per_page\": 25\n",
        "    },\n",
        "    \"results\": [\n",
        "        {\n",
        "            \"id\": \"https://openalex.org/S2764455111\",\n",
        "            \"issn_l\": null,\n",
        "            \"issn\": null,\n",
        "            \"display_name\": \"PubMed Central\",\n",
        "            // more fields (removed to save space)\n",
        "        },\n",
        "        {\n",
        "            \"id\": \"https://openalex.org/S4306400806\",\n",
        "            \"issn_l\": null,\n",
        "            \"issn\": null,\n",
        "            \"display_name\": \"PubMed Central - Europe PMC\",\n",
        "            // more fields (removed to save space)\n",
        "        },\n",
        "        // more results (removed to save space)\n",
        "    ],\n",
        "    \"group_by\": []\n",
        "}\n",
        "```\n",
        "\n",
        "## Page and sort sources\n",
        "\n",
        "By default we return 25 results per page. You can change this default and [page](./../../how-to-use-the-api/get-lists-of-entities/paging.ipynb) through sources with the `per-page` and `page` parameters:\n",
        "\n",
        "* Get the second page of sources results, with 50 results returned per page\\\n",
        "  [https://api.openalex.org/sources?per-page=50\\&page=2](https://api.openalex.org/sources?per-page=50\\&page=2)"
      ]
    },
    {
      "cell_type": "code",
      "metadata": {},
      "source": [
        "response = sources_api.get_sources(\n",
        "\tper_page=\"50\",\n",
        "\tpage=\"2\"\n",
        ")\n",
        "\n",
        "display(pd.DataFrame(response.results))"
      ],
      "outputs": [],
      "execution_count": null
    },
    {
      "cell_type": "code",
      "metadata": {},
      "source": [
        "try:\n",
        "\topenapi_token\n",
        "\tif openapi_token:\n",
        "\t\tllm = OpenAI(token=openapi_token)\n",
        "\tdf = pd.DataFrame(response.results)\n",
        "\tsdf = SmartDataframe(df, config={\"llm\": llm})\n",
        "\tsdf.chat(\"Plot a chart of this data\")\n",
        "except:\n",
        "\traise Exception(\"Please provide an openapi_token\")"
      ],
      "outputs": [],
      "execution_count": null
    },
    {
      "cell_type": "markdown",
      "metadata": {},
      "source": [
        "You also can [sort results](./../../how-to-use-the-api/get-lists-of-entities/sort-entity-lists.ipynb) with the `sort` parameter:\n",
        "\n",
        "* Sort sources by cited by count, descending\\\n",
        "  https://api.openalex.org/sources?sort=cited\\_by\\_count:desc"
      ]
    },
    {
      "cell_type": "code",
      "metadata": {},
      "source": [
        "response = sources_api.get_sources(\n",
        "\tsort=\"cited_by_count:desc\"\n",
        ")\n",
        "\n",
        "display(pd.DataFrame(response.results))"
      ],
      "outputs": [],
      "execution_count": null
    },
    {
      "cell_type": "code",
      "metadata": {},
      "source": [
        "try:\n",
        "\topenapi_token\n",
        "\tif openapi_token:\n",
        "\t\tllm = OpenAI(token=openapi_token)\n",
        "\tdf = pd.DataFrame(response.results)\n",
        "\tsdf = SmartDataframe(df, config={\"llm\": llm})\n",
        "\tsdf.chat(\"Plot a chart of this data\")\n",
        "except:\n",
        "\traise Exception(\"Please provide an openapi_token\")"
      ],
      "outputs": [],
      "execution_count": null
    },
    {
      "cell_type": "markdown",
      "metadata": {},
      "source": [
        "Continue on to learn how you can [filter](./filter-sources.ipynb) and [search](./search-sources.ipynb) lists of sources.\n",
        "\n",
        "## Sample sources\n",
        "\n",
        "You can use `sample` to get a random batch of sources. Read more about sampling and how to add a `seed` value [here](./../../how-to-use-the-api/get-lists-of-entities/sample-entity-lists.ipynb).\n",
        "\n",
        "* Get 10 random sources\\\n",
        "  [https://api.openalex.org/sources?sample=10](https://api.openalex.org/sources?sample=10)"
      ]
    },
    {
      "cell_type": "code",
      "metadata": {},
      "source": [
        "response = sources_api.get_sources(\n",
        "\tsample=\"10\"\n",
        ")\n",
        "\n",
        "display(pd.DataFrame(response.results))"
      ],
      "outputs": [],
      "execution_count": null
    },
    {
      "cell_type": "code",
      "metadata": {},
      "source": [
        "try:\n",
        "\topenapi_token\n",
        "\tif openapi_token:\n",
        "\t\tllm = OpenAI(token=openapi_token)\n",
        "\tdf = pd.DataFrame(response.results)\n",
        "\tsdf = SmartDataframe(df, config={\"llm\": llm})\n",
        "\tsdf.chat(\"Plot a chart of this data\")\n",
        "except:\n",
        "\traise Exception(\"Please provide an openapi_token\")"
      ],
      "outputs": [],
      "execution_count": null
    },
    {
      "cell_type": "markdown",
      "metadata": {},
      "source": [
        "## Select fields\n",
        "\n",
        "You can use `select` to limit the fields that are returned in a list of sources. More details are [here](./../../how-to-use-the-api/get-lists-of-entities/select-fields.ipynb).\n",
        "\n",
        "* Display only the `id`, `display_name` and `issn` within sources results\\\n",
        "  [https://api.openalex.org/sources?select=id,display\\_name,issn](https://api.openalex.org/sources?select=id,display\\_name,issn)"
      ]
    },
    {
      "cell_type": "code",
      "metadata": {},
      "source": [
        "response = sources_api.get_sources(\n",
        "\tselect=\"id,display_name,issn\"\n",
        ")\n",
        "\n",
        "display(pd.DataFrame(response.results))"
      ],
      "outputs": [],
      "execution_count": null
    },
    {
      "cell_type": "code",
      "metadata": {},
      "source": [
        "try:\n",
        "\topenapi_token\n",
        "\tif openapi_token:\n",
        "\t\tllm = OpenAI(token=openapi_token)\n",
        "\tdf = pd.DataFrame(response.results)\n",
        "\tsdf = SmartDataframe(df, config={\"llm\": llm})\n",
        "\tsdf.chat(\"Plot a chart of this data\")\n",
        "except:\n",
        "\traise Exception(\"Please provide an openapi_token\")"
      ],
      "outputs": [],
      "execution_count": null
    }
  ],
  "metadata": {
    "kernelspec": {
      "display_name": "Python 3",
      "language": "python",
      "name": "python3"
    },
    "language_info": {
      "codemirror_mode": {
        "name": "ipython",
        "version": 3
      },
      "file_extension": ".py",
      "mimetype": "text/x-python",
      "name": "python",
      "pygments_lexer": "ipython3",
      "version": "3.8.5"
    }
  },
  "nbformat": 4,
  "nbformat_minor": 4
}