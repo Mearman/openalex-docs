{
  "cells": [
    {
      "cell_type": "markdown",
      "metadata": {},
      "source": [
        "[![Open All Collab](https://colab.research.google.com/assets/colab-badge.svg)](https://colab.research.google.com/github/Mearman/openalex-docs/blob/main/api-entities/sources/search-sources.ipynb)"
      ]
    },
    {
      "cell_type": "code",
      "metadata": {},
      "source": [
        "%pip install --upgrade \"git+https://github.com/Mearman/openalex-python.git\""
      ],
      "outputs": [],
      "execution_count": null
    },
    {
      "cell_type": "code",
      "metadata": {},
      "source": [
        "import json",
        "from openalex_api import Configuration, ApiClient,AuthorsApi, ConceptsApi, FundersApi, InstitutionsApi, PublishersApi, SourcesApi, WorksApi",
        "",
        "configuration = Configuration(host=\"https://api.openalex.org\")",
        "authors_api = AuthorsApi(ApiClient(configuration))",
        "concepts_api = ConceptsApi(ApiClient(configuration))",
        "funders_api = FundersApi(ApiClient(configuration))",
        "institutions_api = InstitutionsApi(ApiClient(configuration))",
        "publishers_api = PublishersApi(ApiClient(configuration))",
        "sources_api = SourcesApi(ApiClient(configuration))",
        "works_api = WorksApi(ApiClient(configuration))"
      ],
      "outputs": [],
      "execution_count": null
    },
    {
      "cell_type": "markdown",
      "metadata": {},
      "source": [
        "# Search sources",
        "",
        "The best way to search for sources is to use the `search` query parameter, which searches across [`display_name`](./source-object.md#display\\_name), [`alternate_titles`](./source-object.md#alternate\\_titles), and [`abbreviated_title`](./source-object.md#abbreviated\\_title). Example:",
        "",
        "* Search for the abbreviated version of the Journal of the American Chemical Society \"`jacs`\":\\",
        "  [https://api.openalex.org/sources?search=jacs](https://api.openalex.org/sources?search=jacs)"
      ]
    },
    {
      "cell_type": "code",
      "metadata": {},
      "source": [
        "response = sources_api.get_sources(",
        "\tsearch=\"jacs\"",
        ")",
        "",
        "print(json.dumps(response.to_dict(), indent=2))"
      ],
      "outputs": [],
      "execution_count": null
    },
    {
      "cell_type": "markdown",
      "metadata": {},
      "source": [
        "{% hint style=\"info\" %}",
        "You can read more about search [here](./../../how-to-use-the-api/get-lists-of-entities/search-entities.ipynb). It will show you how relevance score is calculated, how words are stemmed to improve search results, and how to do complex boolean searches.",
        "{% endhint %}",
        "",
        "## Search a specific field"
      ]
    },
    {
      "cell_type": "code",
      "metadata": {},
      "source": [
        "response = sources_api.get_sources(",
        "\tfilter=\"display_name.search:nature\"",
        ")",
        "",
        "print(json.dumps(response.to_dict(), indent=2))"
      ],
      "outputs": [],
      "execution_count": null
    },
    {
      "cell_type": "markdown",
      "metadata": {},
      "source": [
        "You can also use search as a [filter](./../../how-to-use-the-api/get-lists-of-entities/filter-entity-lists.ipynb), allowing you to fine-tune the fields you're searching over. To do this, you append `.search` to the end of the property you are filtering for:",
        "",
        "* Get sources with \"nature\" in the title:\\",
        "  [https://api.openalex.org/sources?filter=display\\_name.search:nature](https://api.openalex.org/sources?filter=display\\_name.search:nature)",
        "",
        "The following fields can be searched as a filter within sources:",
        "",
        "| Search filter                                                  | Field that is searched                          |",
        "| -------------------------------------------------------------- | ----------------------------------------------- |",
        "| [`display_name.search`](./filter-sources.md#display\\_name.search) | [`display_name`](./source-object.md#display\\_name) |",
        "",
        "You can also use the filter `default.search`, which works the same as using the [`search` parameter](./README.md#search-sources).",
        "",
        "## Autocomplete sources",
        "",
        "You can autocomplete sources to create a very fast type-ahead style search function:",
        "",
        "* Autocomplete sources with \"neuro\" in the display\\_name:\\",
        "  https://api.openalex.org/autocomplete/sources?q=neuro"
      ]
    },
    {
      "cell_type": "code",
      "metadata": {},
      "source": [
        "response = autocomplete_api.get_autocomplet(",
        "\tq=\"neuro\",",
        "\tid=\"sources\"",
        ")",
        "",
        "print(json.dumps(response.to_dict(), indent=2))"
      ],
      "outputs": [],
      "execution_count": null
    },
    {
      "cell_type": "markdown",
      "metadata": {},
      "source": [
        "This returns a list of sources with the publisher set as the hint:",
        "",
        "<pre class=\"language-json\"><code class=\"lang-json\">{ ",
        "  \"results\": [",
        "    {",
        "        \"id\": \"https://openalex.org/S5555990\",",
        "        \"display_name\": \"The Journal of Neuroscience\",",
        "        \"hint\": \"Society for Neuroscience\",",
        "        \"cited_by_count\": 4274712,",
        "        \"works_count\": 40376,",
        "        \"entity_type\": \"source\",",
        "        \"external_id\": \"0270-6474\"",
        "    },",
        "    // more results",
        "<strong>  ]",
        "</strong><strong>}",
        "</strong></code></pre>",
        "",
        "{% hint style=\"info\" %}",
        "Read more in the [autocomplete page](./../../how-to-use-the-api/get-lists-of-entities/autocomplete-entities.ipynb) in the API guide.",
        "{% endhint %}"
      ]
    }
  ],
  "metadata": {
    "kernelspec": {
      "display_name": "Python 3",
      "language": "python",
      "name": "python3"
    },
    "language_info": {
      "codemirror_mode": {
        "name": "ipython",
        "version": 3
      },
      "file_extension": ".py",
      "mimetype": "text/x-python",
      "name": "python",
      "pygments_lexer": "ipython3",
      "version": "3.8.5"
    }
  },
  "nbformat": 4,
  "nbformat_minor": 4
}