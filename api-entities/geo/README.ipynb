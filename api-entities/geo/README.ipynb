{
  "cells": [
    {
      "cell_type": "markdown",
      "metadata": {},
      "source": [
        "[![GitHub Repository](https://img.shields.io/badge/GitHub-Repository-181717?style=for-the-badge&logo=GitHub&link=https://github.com/Mearman/openalex-docs)](https://github.com/Mearman/openalex-docs)[![Open in GitHub](https://img.shields.io/badge/Open%20in-GitHub-181717?style=for-the-badge&logo=github&link=https://github.com/Mearman/openalex-docs/blob/main/api-entities/geo/README.ipynb)](https://github.com/Mearman/openalex-docs/blob/main/api-entities/geo/README.ipynb)[![Open in Colab](https://img.shields.io/badge/Open%20in-Colab-F9AB00?style=for-the-badge&logo=Google%20Colab&link=https://colab.research.google.com/github/Mearman/openalex-docs/blob/main/api-entities/geo/README.ipynb)](https://colab.research.google.com/github/Mearman/openalex-docs/blob/main/api-entities/geo/README.ipynb)"
      ]
    },
    {
      "cell_type": "code",
      "metadata": {},
      "source": [
        "%pip install --upgrade \"git+https://github.com/Mearman/openalex-python-pydantic-v1.git\"\n",
        "%pip install pandasai"
      ],
      "outputs": [],
      "execution_count": null
    },
    {
      "cell_type": "code",
      "metadata": {},
      "source": [
        "import json\n",
        "import pandas as pd\n",
        "import numpy as np\n",
        "from openalex_api import Configuration, ApiClient, AutocompleteApi, AuthorsApi, ConceptsApi, FundersApi, InstitutionsApi, PublishersApi, SourcesApi, WorksApi\n",
        "\n",
        "configuration = Configuration(host=\"https://api.openalex.org\")\n",
        "autocomplete_api = AutocompleteApi(ApiClient(configuration))\n",
        "authors_api = AuthorsApi(ApiClient(configuration))\n",
        "concepts_api = ConceptsApi(ApiClient(configuration))\n",
        "funders_api = FundersApi(ApiClient(configuration))\n",
        "institutions_api = InstitutionsApi(ApiClient(configuration))\n",
        "publishers_api = PublishersApi(ApiClient(configuration))\n",
        "sources_api = SourcesApi(ApiClient(configuration))\n",
        "works_api = WorksApi(ApiClient(configuration))\n",
        "\n",
        "from pandasai import SmartDataframe\n",
        "from pandasai.llm import OpenAI"
      ],
      "outputs": [],
      "execution_count": null
    },
    {
      "cell_type": "code",
      "metadata": {},
      "source": [
        "# @title  { run: \"auto\", display-mode: \"form\" }\n",
        "openapi_token = \"\" # @param {type:\"string\"}"
      ],
      "outputs": [],
      "execution_count": null
    },
    {
      "cell_type": "markdown",
      "metadata": {},
      "source": [
        "# 🌎 Geo\n",
        "\n",
        "While geo is not a core entity within OpenAlex, geography is central to categorizing scholarly data. That's why OpenAlex uses United Nations data to divide the globe into continents and regions that makes filtering data easier.&#x20;\n",
        "\n",
        "Here are some ways you can filter and group by continents and the [Global South](https://en.wikipedia.org/wiki/Global\\_North\\_and\\_Global\\_South).&#x20;\n",
        "\n",
        "* Get institutions located in South America\\\n",
        "  [`https://api.openalex.org/institutions?filter=continent:south_america`](https://api.openalex.org/institutions?filter=continent:south\\_america)"
      ]
    },
    {
      "cell_type": "code",
      "metadata": {},
      "source": [
        "# @title { run: \"auto\", vertical-output: false }\n",
        "# https://api.openalex.org/institutions?filter=continent:south_america\n",
        "filter=\"continent:south_america\" # @param \"continent:south_america\" {type: \"string\"}\n",
        "\n",
        "response = institutions_api.get_institutions(\n",
        "\tfilter=filter\n",
        ")\n",
        "\n",
        "df = pd.DataFrame(response.results)\n",
        "display(df)"
      ],
      "outputs": [],
      "execution_count": null
    },
    {
      "cell_type": "code",
      "metadata": {},
      "source": [
        "numeric_df = df[['id', 'display_name'] +\n",
        "\t[col for col in df.columns if df[col].dtype in ['int64', 'float64'] and col != 'relevance_score']]\n",
        "display(numeric_df)\n",
        "\n",
        "try:\n",
        "\tllm = OpenAI(api_token = openapi_token)\n",
        "\tsdf = SmartDataframe(numeric_df, config = { \"llm\": llm })\n",
        "\tsdf.chat(\"Plot a chart of this data\")\n",
        "except:\n",
        "\tif not openapi_token:\n",
        "\t\tprint(\"Error: openapi_token not set\")\n",
        "\telse:\n",
        "\t\tprint(\"Error when creating SmartDataframe\")"
      ],
      "outputs": [],
      "execution_count": null
    },
    {
      "cell_type": "markdown",
      "metadata": {},
      "source": [
        "* Get works where at least one author's institution is located in the Global South\\\n",
        "  [`https://api.openalex.org/works?filter=institutions.is\\_global\\_south:true`](https://api.openalex.org/works?filter=institutions.is\\_global\\_south:true)"
      ]
    },
    {
      "cell_type": "code",
      "metadata": {},
      "source": [
        "# @title { run: \"auto\", vertical-output: false }\n",
        "# https://api.openalex.org/works?filter=institutions.is_global_south:true\n",
        "filter=\"institutions.is_global_south:true\" # @param \"institutions.is_global_south:true\" {type: \"string\"}\n",
        "\n",
        "response = works_api.get_works(\n",
        "\tfilter=filter\n",
        ")\n",
        "\n",
        "df = pd.DataFrame(response.results)\n",
        "display(df)"
      ],
      "outputs": [],
      "execution_count": null
    },
    {
      "cell_type": "code",
      "metadata": {},
      "source": [
        "numeric_df = df[['id', 'display_name'] +\n",
        "\t[col for col in df.columns if df[col].dtype in ['int64', 'float64'] and col != 'relevance_score']]\n",
        "display(numeric_df)\n",
        "\n",
        "try:\n",
        "\tllm = OpenAI(api_token = openapi_token)\n",
        "\tsdf = SmartDataframe(numeric_df, config = { \"llm\": llm })\n",
        "\tsdf.chat(\"Plot a chart of this data\")\n",
        "except:\n",
        "\tif not openapi_token:\n",
        "\t\tprint(\"Error: openapi_token not set\")\n",
        "\telse:\n",
        "\t\tprint(\"Error when creating SmartDataframe\")"
      ],
      "outputs": [],
      "execution_count": null
    },
    {
      "cell_type": "markdown",
      "metadata": {},
      "source": [
        "* Group highly-cited authors by their last known institution's continent\\\n",
        "  [`https://api.openalex.org/authors?group-by=last\\_known\\_institution.continent\\&filter=cited\\_by\\_count:>100`](https://api.openalex.org/authors?group-by=last\\_known\\_institution.continent\\&filter=cited\\_by\\_count:%3E100)"
      ]
    },
    {
      "cell_type": "code",
      "metadata": {},
      "source": [
        "# @title { run: \"auto\", vertical-output: false }\n",
        "# https://api.openalex.org/authors?group-by=last_known_institution.continent&filter=cited_by_count:>100\n",
        "group_by=\"last_known_institution.continent\" # @param \"last_known_institution.continent\" {type: \"string\"},\n",
        "filter=\"cited_by_count:>100\" # @param \"cited_by_count:>100\" {type: \"string\"}\n",
        "\n",
        "response = authors_api.get_authors(\n",
        "\tgroup_by=group_by,\n",
        "\tfilter=filter\n",
        ")\n",
        "\n",
        "df = pd.DataFrame(response.results)\n",
        "display(df)"
      ],
      "outputs": [],
      "execution_count": null
    },
    {
      "cell_type": "code",
      "metadata": {},
      "source": [
        "numeric_df = df[['id', 'display_name'] +\n",
        "\t[col for col in df.columns if df[col].dtype in ['int64', 'float64'] and col != 'relevance_score']]\n",
        "display(numeric_df)\n",
        "\n",
        "try:\n",
        "\tllm = OpenAI(api_token = openapi_token)\n",
        "\tsdf = SmartDataframe(numeric_df, config = { \"llm\": llm })\n",
        "\tsdf.chat(\"Plot a chart of this data\")\n",
        "except:\n",
        "\tif not openapi_token:\n",
        "\t\tprint(\"Error: openapi_token not set\")\n",
        "\telse:\n",
        "\t\tprint(\"Error when creating SmartDataframe\")"
      ],
      "outputs": [],
      "execution_count": null
    },
    {
      "cell_type": "markdown",
      "metadata": {},
      "source": [
        "## What's next\n",
        "\n",
        "Learn more about what you can do with geo:\n",
        "\n",
        "* [Continents](./continents.ipynb)\n",
        "* [Regions](./regions.ipynb)"
      ]
    }
  ],
  "metadata": {
    "kernelspec": {
      "display_name": "Python 3",
      "language": "python",
      "name": "python3"
    },
    "language_info": {
      "codemirror_mode": {
        "name": "ipython",
        "version": 3
      },
      "file_extension": ".py",
      "mimetype": "text/x-python",
      "name": "python",
      "pygments_lexer": "ipython3",
      "version": "3.8.5"
    }
  },
  "nbformat": 4,
  "nbformat_minor": 4
}