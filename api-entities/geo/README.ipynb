{
  "cells": [
    {
      "cell_type": "markdown",
      "metadata": {},
      "source": [
        "[![GitHub Repository](https://img.shields.io/badge/GitHub-Repository-181717?style=for-the-badge&logo=GitHub&link=https://github.com/Mearman/openalex-docs)](https://github.com/Mearman/openalex-docs)[![Open in GitHub](https://img.shields.io/badge/Open%20in-GitHub-181717?style=for-the-badge&logo=github&link=https://github.com/Mearman/openalex-docs/blob/main/api-entities/geo/README.ipynb)](https://github.com/Mearman/openalex-docs/blob/main/api-entities/geo/README.ipynb)[![Open in Colab](https://img.shields.io/badge/Open%20in-Colab-F9AB00?style=for-the-badge&logo=Google%20Colab&link=https://colab.research.google.com/github/Mearman/openalex-docs/blob/main/api-entities/geo/README.ipynb)](https://colab.research.google.com/github/Mearman/openalex-docs/blob/main/api-entities/geo/README.ipynb)"
      ]
    },
    {
      "cell_type": "code",
      "metadata": {},
      "source": [
        "%pip install --upgrade \"git+https://github.com/Mearman/openalex-python.git\""
      ],
      "outputs": [],
      "execution_count": null
    },
    {
      "cell_type": "code",
      "metadata": {},
      "source": [
        "import pandas as pd\n",
        "import json\n",
        "from openalex_api import Configuration, ApiClient,AuthorsApi, ConceptsApi, FundersApi, InstitutionsApi, PublishersApi, SourcesApi, WorksApi\n",
        "\n",
        "configuration = Configuration(host=\"https://api.openalex.org\")\n",
        "authors_api = AuthorsApi(ApiClient(configuration))\n",
        "concepts_api = ConceptsApi(ApiClient(configuration))\n",
        "funders_api = FundersApi(ApiClient(configuration))\n",
        "institutions_api = InstitutionsApi(ApiClient(configuration))\n",
        "publishers_api = PublishersApi(ApiClient(configuration))\n",
        "sources_api = SourcesApi(ApiClient(configuration))\n",
        "works_api = WorksApi(ApiClient(configuration))"
      ],
      "outputs": [],
      "execution_count": null
    },
    {
      "cell_type": "markdown",
      "metadata": {},
      "source": [
        "# 🌎 Geo\n",
        "\n",
        "While geo is not a core entity within OpenAlex, geography is central to categorizing scholarly data. That's why OpenAlex uses United Nations data to divide the globe into continents and regions that makes filtering data easier.&#x20;\n",
        "\n",
        "Here are some ways you can filter and group by continents and the [Global South](https://en.wikipedia.org/wiki/Global\\_North\\_and\\_Global\\_South).&#x20;\n",
        "\n",
        "* Get institutions located in South America\\\n",
        "  [`https://api.openalex.org/institutions?filter=continent:south_america`](https://api.openalex.org/institutions?filter=continent:south\\_america)"
      ]
    },
    {
      "cell_type": "code",
      "metadata": {},
      "source": [
        "response = institutions_api.get_institutions(\n",
        "\tfilter=\"continent:south_america\"\n",
        ")\n",
        "\n",
        "display(pd.DataFrame(response.results))"
      ],
      "outputs": [],
      "execution_count": null
    },
    {
      "cell_type": "markdown",
      "metadata": {},
      "source": [
        "* Get works where at least one author's institution is located in the Global South\\\n",
        "  [`https://api.openalex.org/works?filter=institutions.is\\_global\\_south:true`](https://api.openalex.org/works?filter=institutions.is\\_global\\_south:true)"
      ]
    },
    {
      "cell_type": "code",
      "metadata": {},
      "source": [
        "response = works_api.get_works(\n",
        "\tfilter=\"institutions.is_global_south:true\"\n",
        ")\n",
        "\n",
        "display(pd.DataFrame(response.results))"
      ],
      "outputs": [],
      "execution_count": null
    },
    {
      "cell_type": "markdown",
      "metadata": {},
      "source": [
        "* Group highly-cited authors by their last known institution's continent\\\n",
        "  [`https://api.openalex.org/authors?group-by=last\\_known\\_institution.continent\\&filter=cited\\_by\\_count:>100`](https://api.openalex.org/authors?group-by=last\\_known\\_institution.continent\\&filter=cited\\_by\\_count:%3E100)"
      ]
    },
    {
      "cell_type": "code",
      "metadata": {},
      "source": [
        "response = authors_api.get_authors(\n",
        "\tgroup_by=\"last_known_institution.continent\",\n",
        "\tfilter=\"cited_by_count:>100\"\n",
        ")\n",
        "\n",
        "display(pd.DataFrame(response.results))"
      ],
      "outputs": [],
      "execution_count": null
    },
    {
      "cell_type": "code",
      "metadata": {},
      "source": [
        "response = authors_api.get_authors(\n",
        "\tgroup_by=\"last_known_institution.continent\",\n",
        "\tfilter=\"cited_by_count:>100\"\n",
        ")\n",
        "\n",
        "display(pd.DataFrame(response.results))"
      ],
      "outputs": [],
      "execution_count": null
    },
    {
      "cell_type": "markdown",
      "metadata": {},
      "source": [
        "## What's next\n",
        "\n",
        "Learn more about what you can do with geo:\n",
        "\n",
        "* [Continents](./continents.ipynb)\n",
        "* [Regions](./regions.ipynb)"
      ]
    }
  ],
  "metadata": {
    "kernelspec": {
      "display_name": "Python 3",
      "language": "python",
      "name": "python3"
    },
    "language_info": {
      "codemirror_mode": {
        "name": "ipython",
        "version": 3
      },
      "file_extension": ".py",
      "mimetype": "text/x-python",
      "name": "python",
      "pygments_lexer": "ipython3",
      "version": "3.8.5"
    }
  },
  "nbformat": 4,
  "nbformat_minor": 4
}