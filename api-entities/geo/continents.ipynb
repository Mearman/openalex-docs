{
  "cells": [
    {
      "cell_type": "markdown",
      "metadata": {},
      "source": [
        "[![Open All Collab](https://colab.research.google.com/assets/colab-badge.svg)](https://colab.research.google.com/github/Mearman/openalex-docs/blob/main/api-entities/geo/continents.ipynb)"
      ]
    },
    {
      "cell_type": "code",
      "metadata": {},
      "source": [
        "%pip install --upgrade \"git+https://github.com/Mearman/openalex-python.git\""
      ],
      "outputs": [],
      "execution_count": null
    },
    {
      "cell_type": "code",
      "metadata": {},
      "source": [
        "import json\n",
        "from openalex_api import Configuration, ApiClient,AuthorsApi, ConceptsApi, FundersApi, InstitutionsApi, PublishersApi, SourcesApi, WorksApi\n",
        "\n",
        "configuration = Configuration(host=\"https://api.openalex.org\")\n",
        "authors_api = AuthorsApi(ApiClient(configuration))\n",
        "concepts_api = ConceptsApi(ApiClient(configuration))\n",
        "funders_api = FundersApi(ApiClient(configuration))\n",
        "institutions_api = InstitutionsApi(ApiClient(configuration))\n",
        "publishers_api = PublishersApi(ApiClient(configuration))\n",
        "sources_api = SourcesApi(ApiClient(configuration))\n",
        "works_api = WorksApi(ApiClient(configuration))"
      ],
      "outputs": [],
      "execution_count": null
    },
    {
      "cell_type": "markdown",
      "metadata": {},
      "source": [
        "# Continents\n",
        "\n",
        "Countries are mapped to continents using data from the [United Nations Statistics Division](https://unstats.un.org/unsd/methodology/m49/). You can see the actual mapping used by the API [here](https://github.com/ourresearch/openalex-elastic-api/blob/master/countries.py).&#x20;\n",
        "\n",
        "#### **Filter by continent**\n",
        "\n",
        "There are three ways to use continent filters:\n",
        "\n",
        "<table><thead><tr><th width=\"192\">Endpoint</th><th width=\"617\">Format</th></tr></thead><tbody><tr><td>Authors</td><td><code>/authors?filter=last_known_institution.continent:&#x3C;continent></code></td></tr><tr><td>Institutions</td><td><code>/institutions?filter=continent:&#x3C;continent></code></td></tr><tr><td>Works</td><td><code>/works?filter=institutions.continent:&#x3C;continent></code></td></tr></tbody></table>\n",
        "\n",
        "Available values for the `<continent>` filter are:\n",
        "\n",
        "| Continent     | Filter Value    | Canonical ID                                   |\n",
        "| ------------- | --------------- | ---------------------------------------------- |\n",
        "| Africa        | `africa`        | [Q15](https://www.wikidata.org/wiki/Q15)       |\n",
        "| Antarctica    | `antarctica`    | [Q51](https://www.wikidata.org/wiki/Q51)       |\n",
        "| Asia          | `asia`          | [Q48](https://www.wikidata.org/wiki/Q48)       |\n",
        "| Europe        | `europe`        | [Q46](https://www.wikidata.org/wiki/Q46)       |\n",
        "| North America | `north_america` | [Q49](https://www.wikidata.org/wiki/Q49)       |\n",
        "| Oceania       | `oceania`       | [Q55643](https://www.wikidata.org/wiki/Q55643) |\n",
        "| South America | `south_america` | [Q18](https://www.wikidata.org/wiki/Q18)       |\n",
        "\n",
        "#### **Group by continent**\n",
        "\n",
        "You can group by continent.\n",
        "\n",
        "* Group institutions by continent\\\n",
        "  [https://api.openalex.org/institutions?group-by=continent](https://api.openalex.org/institutions?group-by=continent)"
      ]
    },
    {
      "cell_type": "code",
      "metadata": {},
      "source": [
        "response = institutions_api.get_institutions(\n",
        "\tgroup_by=\"continent\"\n",
        ")\n",
        "\n",
        "print(json.dumps(response.to_dict(), indent=2))"
      ],
      "outputs": [],
      "execution_count": null
    },
    {
      "cell_type": "markdown",
      "metadata": {},
      "source": [
        "Response:\n",
        "\n",
        "```json\n",
        "{\n",
        "  key: \"Q46\",\n",
        "  key_display_name: \"Europe\",\n",
        "  count: 41382\n",
        "},\n",
        "{\n",
        "  key: \"Q49\",\n",
        "  key_display_name: \"North America\",\n",
        "  count: 37458\n",
        "},\n",
        "{\n",
        "  key: \"Q48\",\n",
        "  key_display_name: \"Asia\",\n",
        "  count: 20432\n",
        "}...\n",
        "```\n",
        "\n",
        "Groups are available in these endpoints:\n",
        "\n",
        "<table><thead><tr><th width=\"164\">Endpoint</th><th width=\"617\">Format</th></tr></thead><tbody><tr><td>Authors</td><td><code>/authors?group-by=last_known_institution.continent</code></td></tr><tr><td>Institutions</td><td><code>/institutions?group-by=continent</code></td></tr><tr><td>Works</td><td><code>/works?group-by=institutions.continent</code></td></tr></tbody></table>"
      ]
    }
  ],
  "metadata": {
    "kernelspec": {
      "display_name": "Python 3",
      "language": "python",
      "name": "python3"
    },
    "language_info": {
      "codemirror_mode": {
        "name": "ipython",
        "version": 3
      },
      "file_extension": ".py",
      "mimetype": "text/x-python",
      "name": "python",
      "pygments_lexer": "ipython3",
      "version": "3.8.5"
    }
  },
  "nbformat": 4,
  "nbformat_minor": 4
}