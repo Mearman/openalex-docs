{
  "cells": [
    {
      "cell_type": "markdown",
      "metadata": {},
      "source": [
        "[![Open All Collab](https://colab.research.google.com/assets/colab-badge.svg)](https://colab.research.google.com/github/Mearman/openalex-docs/blob/main/api-entities/geo/continents.ipynb)"
      ]
    },
    {
      "cell_type": "code",
      "metadata": {},
      "source": [
        "%pip install --upgrade \"git+https://github.com/Mearman/openalex-python.git\""
      ],
      "outputs": [],
      "execution_count": null
    },
    {
      "cell_type": "code",
      "metadata": {},
      "source": [
        "import json",
        "from openalex_api import Configuration, ApiClient,AuthorsApi, ConceptsApi, FundersApi, InstitutionsApi, PublishersApi, SourcesApi, WorksApi",
        "",
        "configuration = Configuration(host=\"https://api.openalex.org\")",
        "authors_api = AuthorsApi(ApiClient(configuration))",
        "concepts_api = ConceptsApi(ApiClient(configuration))",
        "funders_api = FundersApi(ApiClient(configuration))",
        "institutions_api = InstitutionsApi(ApiClient(configuration))",
        "publishers_api = PublishersApi(ApiClient(configuration))",
        "sources_api = SourcesApi(ApiClient(configuration))",
        "works_api = WorksApi(ApiClient(configuration))"
      ],
      "outputs": [],
      "execution_count": null
    },
    {
      "cell_type": "markdown",
      "metadata": {},
      "source": [
        "# Continents",
        "",
        "Countries are mapped to continents using data from the [United Nations Statistics Division](https://unstats.un.org/unsd/methodology/m49/). You can see the actual mapping used by the API [here](https://github.com/ourresearch/openalex-elastic-api/blob/master/countries.py).&#x20;",
        "",
        "#### **Filter by continent**",
        "",
        "There are three ways to use continent filters:",
        "",
        "<table><thead><tr><th width=\"192\">Endpoint</th><th width=\"617\">Format</th></tr></thead><tbody><tr><td>Authors</td><td><code>/authors?filter=last_known_institution.continent:&#x3C;continent></code></td></tr><tr><td>Institutions</td><td><code>/institutions?filter=continent:&#x3C;continent></code></td></tr><tr><td>Works</td><td><code>/works?filter=institutions.continent:&#x3C;continent></code></td></tr></tbody></table>",
        "",
        "Available values for the `<continent>` filter are:",
        "",
        "| Continent     | Filter Value    | Canonical ID                                   |",
        "| ------------- | --------------- | ---------------------------------------------- |",
        "| Africa        | `africa`        | [Q15](https://www.wikidata.org/wiki/Q15)       |",
        "| Antarctica    | `antarctica`    | [Q51](https://www.wikidata.org/wiki/Q51)       |",
        "| Asia          | `asia`          | [Q48](https://www.wikidata.org/wiki/Q48)       |",
        "| Europe        | `europe`        | [Q46](https://www.wikidata.org/wiki/Q46)       |",
        "| North America | `north_america` | [Q49](https://www.wikidata.org/wiki/Q49)       |",
        "| Oceania       | `oceania`       | [Q55643](https://www.wikidata.org/wiki/Q55643) |",
        "| South America | `south_america` | [Q18](https://www.wikidata.org/wiki/Q18)       |",
        "",
        "#### **Group by continent**",
        "",
        "You can group by continent.",
        "",
        "* Group institutions by continent\\",
        "  [https://api.openalex.org/institutions?group-by=continent](https://api.openalex.org/institutions?group-by=continent)"
      ]
    },
    {
      "cell_type": "code",
      "metadata": {},
      "source": [
        "response = institutions_api.get_institutions(",
        "\tgroup_by=\"continent\"",
        ")",
        "",
        "print(json.dumps(response.to_dict(), indent=2))"
      ],
      "outputs": [],
      "execution_count": null
    },
    {
      "cell_type": "markdown",
      "metadata": {},
      "source": [
        "Response:",
        "",
        "```json",
        "{",
        "  key: \"Q46\",",
        "  key_display_name: \"Europe\",",
        "  count: 41382",
        "},",
        "{",
        "  key: \"Q49\",",
        "  key_display_name: \"North America\",",
        "  count: 37458",
        "},",
        "{",
        "  key: \"Q48\",",
        "  key_display_name: \"Asia\",",
        "  count: 20432",
        "}...",
        "```",
        "",
        "Groups are available in these endpoints:",
        "",
        "<table><thead><tr><th width=\"164\">Endpoint</th><th width=\"617\">Format</th></tr></thead><tbody><tr><td>Authors</td><td><code>/authors?group-by=last_known_institution.continent</code></td></tr><tr><td>Institutions</td><td><code>/institutions?group-by=continent</code></td></tr><tr><td>Works</td><td><code>/works?group-by=institutions.continent</code></td></tr></tbody></table>"
      ]
    }
  ],
  "metadata": {
    "kernelspec": {
      "display_name": "Python 3",
      "language": "python",
      "name": "python3"
    },
    "language_info": {
      "codemirror_mode": {
        "name": "ipython",
        "version": 3
      },
      "file_extension": ".py",
      "mimetype": "text/x-python",
      "name": "python",
      "pygments_lexer": "ipython3",
      "version": "3.8.5"
    }
  },
  "nbformat": 4,
  "nbformat_minor": 4
}