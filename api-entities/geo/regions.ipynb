{
  "cells": [
    {
      "cell_type": "markdown",
      "metadata": {},
      "source": [
        "[![Open All Collab](https://colab.research.google.com/assets/colab-badge.svg)](https://colab.research.google.com/github/Mearman/openalex-docs/blob/main/api-entities/geo/regions.ipynb)\n",
        "\n"
      ]
    },
    {
      "cell_type": "code",
      "metadata": {},
      "source": [
        "%pip install --upgrade \"git+https://github.com/Mearman/openalex-python.git\"\n",
        "\n"
      ],
      "outputs": [],
      "execution_count": null
    },
    {
      "cell_type": "code",
      "metadata": {},
      "source": [
        "import json\n",
        "from openalex_api import Configuration, ApiClient,AuthorsApi, ConceptsApi, FundersApi, InstitutionsApi, PublishersApi, SourcesApi, WorksApi\n",
        "\n",
        "configuration = Configuration(host=\"https://api.openalex.org\")\n",
        "authors_api = AuthorsApi(ApiClient(configuration))\n",
        "concepts_api = ConceptsApi(ApiClient(configuration))\n",
        "funders_api = FundersApi(ApiClient(configuration))\n",
        "institutions_api = InstitutionsApi(ApiClient(configuration))\n",
        "publishers_api = PublishersApi(ApiClient(configuration))\n",
        "sources_api = SourcesApi(ApiClient(configuration))\n",
        "works_api = WorksApi(ApiClient(configuration))\n",
        "\n"
      ],
      "outputs": [],
      "execution_count": null
    },
    {
      "cell_type": "markdown",
      "metadata": {},
      "source": [
        "\n",
        "# Regions\n",
        "\n",
        "### **Global South**\n",
        "\n",
        "The Global South is a term used to identify regions within Latin America, Asia, Africa, and Oceania. Our source for this group of countries is the [United Nations Finance Center for South-South Cooperation](http://www.fc-ssc.org/en/partnership\\_program/south\\_south\\_countries).&#x20;\n",
        "\n",
        "#### Filter by Global South\n",
        "\n",
        "You can filter Global South countries by using the boolean filter `is_global_south` in the following endpoints:\n",
        "\n",
        "<table><thead><tr><th width=\"192\">Endpoint</th><th width=\"617\">Format</th></tr></thead><tbody><tr><td>Authors</td><td><code>/authors?filter=last_known_institution.is_global_south:&#x3C;boolean></code></td></tr><tr><td>Institutions</td><td><code>/institutions?filter=is_global_south:&#x3C;boolean></code></td></tr><tr><td>Works</td><td><code>/works?filter=institutions.is_global_south:&#x3C;boolean></code></td></tr></tbody></table>\n",
        "\n",
        "#### Group by Global South\n",
        "\n",
        "You can also group by the Global South:\n",
        "\n",
        "<table><thead><tr><th width=\"159\">Endpoint</th><th width=\"617\">Format</th></tr></thead><tbody><tr><td>Authors</td><td><code>/authors?group-by=last_known_institution.is_global_south</code></td></tr><tr><td>Institutions</td><td><code>/institutions?group-by=is_global_south</code></td></tr><tr><td>Works</td><td><code>/works?group-by=institutions.is_global_south</code></td></tr></tbody></table>\n",
        "\n",
        "### Tips & Tricks\n",
        "\n",
        "To see country-by-country details for a geographic region, filter by region, then group by `country_code`.\n",
        "\n",
        "* Get number of authors with last known institution in the Global South, by country\\\n",
        "  [https://api.openalex.org/authors?filter=last\\_known\\_institution.is\\_global\\_south:true\\&group-by=last\\_known\\_institution.country\\_code](https://api.openalex.org/authors?filter=last\\_known\\_institution.is\\_global\\_south:true\\&group-by=last\\_known\\_institution.country\\_code)\n",
        "\n"
      ]
    },
    {
      "cell_type": "code",
      "metadata": {},
      "source": [
        "response = authors_api.get_authors(\n",
        "\tfilter=\"last_known_institution.is_global_south:true\",\n",
        "\tgroup-by=\"last_known_institution.country_code\"\n",
        ")\n",
        "\n",
        "print(json.dumps(response.to_dict(), indent=2))\n",
        "\n"
      ],
      "outputs": [],
      "execution_count": null
    },
    {
      "cell_type": "markdown",
      "metadata": {},
      "source": [
        "\n",
        "\n",
        "Response:\n",
        "\n",
        "```json\n",
        "// all countries are in the Global South\n",
        "{\n",
        "  key: \"CN\",\n",
        "  key_display_name: \"China\",\n",
        "  count: 13926441\n",
        "},\n",
        "{\n",
        "  key: \"IN\",\n",
        "  key_display_name: \"India\",\n",
        "  count: 2632721\n",
        "},\n",
        "{\n",
        "  key: \"BR\",\n",
        "  key_display_name: \"Brazil\",\n",
        "  count: 2089957\n",
        "}...\n",
        "```\n"
      ]
    }
  ],
  "metadata": {
    "kernelspec": {
      "display_name": "Python 3",
      "language": "python",
      "name": "python3"
    },
    "language_info": {
      "codemirror_mode": {
        "name": "ipython",
        "version": 3
      },
      "file_extension": ".py",
      "mimetype": "text/x-python",
      "name": "python",
      "pygments_lexer": "ipython3",
      "version": "3.8.5"
    }
  },
  "nbformat": 4,
  "nbformat_minor": 4
}