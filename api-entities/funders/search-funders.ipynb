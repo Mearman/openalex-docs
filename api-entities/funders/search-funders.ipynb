{
  "cells": [
    {
      "cell_type": "markdown",
      "metadata": {},
      "source": [
        "[![Open All Collab](https://colab.research.google.com/assets/colab-badge.svg)](https://colab.research.google.com/github/Mearman/openalex-docs/blob/main/api-entities/funders/search-funders.ipynb)"
      ]
    },
    {
      "cell_type": "code",
      "metadata": {},
      "source": [
        "%pip install --upgrade \"git+https://github.com/Mearman/openalex-python.git\""
      ],
      "outputs": [],
      "execution_count": null
    },
    {
      "cell_type": "code",
      "metadata": {},
      "source": [
        "import json",
        "from openalex_api import Configuration, ApiClient,AuthorsApi, ConceptsApi, FundersApi, InstitutionsApi, PublishersApi, SourcesApi, WorksApi",
        "",
        "configuration = Configuration(host=\"https://api.openalex.org\")",
        "authors_api = AuthorsApi(ApiClient(configuration))",
        "concepts_api = ConceptsApi(ApiClient(configuration))",
        "funders_api = FundersApi(ApiClient(configuration))",
        "institutions_api = InstitutionsApi(ApiClient(configuration))",
        "publishers_api = PublishersApi(ApiClient(configuration))",
        "sources_api = SourcesApi(ApiClient(configuration))",
        "works_api = WorksApi(ApiClient(configuration))"
      ],
      "outputs": [],
      "execution_count": null
    },
    {
      "cell_type": "markdown",
      "metadata": {},
      "source": [
        "# Search funders",
        "",
        "The best way to search for funders is to use the `search` query parameter, which searches the [`display_name`](./funder-object.md#display\\_name), the [`alternate_titles`](./funder-object.md#alternate\\_titles), and the [`description`](./funder_object.md#description) fields. Example:",
        "",
        "* Search funders' `display_name`, `alternate_titles`, and `description` for \"health\":\\",
        "  [`https://api.openalex.org/funders?search=health`](https://api.openalex.org/funders?search=health)"
      ]
    },
    {
      "cell_type": "code",
      "metadata": {},
      "source": [
        "response = funders_api.get_funders(",
        "\tsearch=\"health\"",
        ")",
        "",
        "print(json.dumps(response.to_dict(), indent=2))"
      ],
      "outputs": [],
      "execution_count": null
    },
    {
      "cell_type": "markdown",
      "metadata": {},
      "source": [
        "{% hint style=\"info\" %}",
        "You can read more about search [here](./../../how-to-use-the-api/get-lists-of-entities/search-entities.ipynb). It will show you how relevance score is calculated, how words are stemmed to improve search results, and how to do complex boolean searches.",
        "{% endhint %}",
        "",
        "## Search a specific field"
      ]
    },
    {
      "cell_type": "code",
      "metadata": {},
      "source": [
        "response = funders_api.get_funders(",
        "\tfilter=\"display_name.search:florida\"",
        ")",
        "",
        "print(json.dumps(response.to_dict(), indent=2))"
      ],
      "outputs": [],
      "execution_count": null
    },
    {
      "cell_type": "markdown",
      "metadata": {},
      "source": [
        "You can also use search as a [filter](./../../how-to-use-the-api/get-lists-of-entities/filter-entity-lists.ipynb), allowing you to fine-tune the fields you're searching over. To do this, you append `.search` to the end of the property you are filtering for:",
        "",
        "* Get funders with \"florida\" in the `display_name`:\\",
        "  [`https://api.openalex.org/funders?filter=display_name.search:florida`](https://api.openalex.org/funders?filter=display_name.search:florida)",
        "",
        "The following fields can be searched as a filter within funders:",
        "",
        "| Search filter                                                        | Field that is searched                                |",
        "| -------------------------------------------------------------------- | ----------------------------------------------------- |",
        "| [`display_name.search`](./filter-funders.md#display_name.search) | [`display_name`](./funder-object.md#display_name) |",
        "| [`description.search`](./filter-funders.md#description.search) | [`description`](./funder-object.md#description) |",
        "",
        "You can also use the filter `default.search`, which works the same as using the [`search` parameter](./README.md#search-funders).",
        "",
        "## Autocomplete funders",
        "",
        "You can autocomplete funders to create a very fast type-ahead style search function:",
        "",
        "* Autocomplete funders with \"national sci\" in the [`display_name`](./funder-object.md#display_name):\\",
        "  [https://api.openalex.org/autocomplete/funders?q=national+sci](https://api.openalex.org/autocomplete/funders?q=national+sci)"
      ]
    },
    {
      "cell_type": "code",
      "metadata": {},
      "source": [
        "response = autocomplete_api.get_autocomplet(",
        "\tq=\"national sci\",",
        "\tid=\"funders\"",
        ")",
        "",
        "print(json.dumps(response.to_dict(), indent=2))"
      ],
      "outputs": [],
      "execution_count": null
    },
    {
      "cell_type": "markdown",
      "metadata": {},
      "source": [
        "This returns a list of funders with the funder location set as the hint:",
        "",
        "```json",
        "  \"results\": [",
        "    {",
        "        \"id\": \"https://openalex.org/F4320306076\",",
        "        \"display_name\": \"National Science Foundation\",",
        "        \"hint\": null,",
        "        \"cited_by_count\": 6705777,",
        "        \"works_count\": 264303,",
        "        \"entity_type\": \"funder\",",
        "        \"external_id\": \"https://ror.org/021nxhr62\"",
        "    },",
        "    ...",
        "  ]",
        "```",
        "",
        "{% hint style=\"info\" %}",
        "Read more in the [autocomplete page](./../../how-to-use-the-api/get-lists-of-entities/autocomplete-entities.ipynb) in the API guide.",
        "{% endhint %}"
      ]
    }
  ],
  "metadata": {
    "kernelspec": {
      "display_name": "Python 3",
      "language": "python",
      "name": "python3"
    },
    "language_info": {
      "codemirror_mode": {
        "name": "ipython",
        "version": 3
      },
      "file_extension": ".py",
      "mimetype": "text/x-python",
      "name": "python",
      "pygments_lexer": "ipython3",
      "version": "3.8.5"
    }
  },
  "nbformat": 4,
  "nbformat_minor": 4
}