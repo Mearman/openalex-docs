{
  "cells": [
    {
      "cell_type": "markdown",
      "metadata": {},
      "source": [
        "[![Open All Collab](https://colab.research.google.com/assets/colab-badge.svg)](https://colab.research.google.com/github/Mearman/openalex-docs/blob/main/api-entities/funders/search-funders.ipynb)\n",
        "\n"
      ]
    },
    {
      "cell_type": "code",
      "metadata": {},
      "source": [
        "%pip install --upgrade \"git+https://github.com/Mearman/openalex-python.git\"\n",
        "\n"
      ],
      "outputs": [],
      "execution_count": null
    },
    {
      "cell_type": "code",
      "metadata": {},
      "source": [
        "import json\n",
        "from openalex_api import Configuration, ApiClient,AuthorsApi, ConceptsApi, FundersApi, InstitutionsApi, PublishersApi, SourcesApi, WorksApi\n",
        "\n",
        "configuration = Configuration(host=\"https://api.openalex.org\")\n",
        "authors_api = AuthorsApi(ApiClient(configuration))\n",
        "concepts_api = ConceptsApi(ApiClient(configuration))\n",
        "funders_api = FundersApi(ApiClient(configuration))\n",
        "institutions_api = InstitutionsApi(ApiClient(configuration))\n",
        "publishers_api = PublishersApi(ApiClient(configuration))\n",
        "sources_api = SourcesApi(ApiClient(configuration))\n",
        "works_api = WorksApi(ApiClient(configuration))\n",
        "\n"
      ],
      "outputs": [],
      "execution_count": null
    },
    {
      "cell_type": "markdown",
      "metadata": {},
      "source": [
        "\n",
        "# Search funders\n",
        "\n",
        "The best way to search for funders is to use the `search` query parameter, which searches the [`display_name`](./funder-object.md#display\\_name), the [`alternate_titles`](./funder-object.md#alternate\\_titles), and the [`description`](./funder_object.md#description) fields. Example:\n",
        "\n",
        "* Search funders' `display_name`, `alternate_titles`, and `description` for \"health\":\\\n",
        "  [`https://api.openalex.org/funders?search=health`](https://api.openalex.org/funders?search=health)\n",
        "\n"
      ]
    },
    {
      "cell_type": "code",
      "metadata": {},
      "source": [
        "response = funders_api.get_funders(\n",
        "\tsearch=\"health\"\n",
        ")\n",
        "\n",
        "print(json.dumps(response.to_dict(), indent=2))\n",
        "\n"
      ],
      "outputs": [],
      "execution_count": null
    },
    {
      "cell_type": "markdown",
      "metadata": {},
      "source": [
        "\n",
        "\n",
        "{% hint style=\"info\" %}\n",
        "You can read more about search [here](./../../how-to-use-the-api/get-lists-of-entities/search-entities.ipynb). It will show you how relevance score is calculated, how words are stemmed to improve search results, and how to do complex boolean searches.\n",
        "{% endhint %}\n",
        "\n",
        "## Search a specific field\n",
        "\n",
        "\n"
      ]
    },
    {
      "cell_type": "code",
      "metadata": {},
      "source": [
        "response = funders_api.get_funders(\n",
        "\tfilter=\"display_name.search:florida\"\n",
        ")\n",
        "\n",
        "print(json.dumps(response.to_dict(), indent=2))\n",
        "\n"
      ],
      "outputs": [],
      "execution_count": null
    },
    {
      "cell_type": "markdown",
      "metadata": {},
      "source": [
        "\n",
        "You can also use search as a [filter](./../../how-to-use-the-api/get-lists-of-entities/filter-entity-lists.ipynb), allowing you to fine-tune the fields you're searching over. To do this, you append `.search` to the end of the property you are filtering for:\n",
        "\n",
        "* Get funders with \"florida\" in the `display_name`:\\\n",
        "  [`https://api.openalex.org/funders?filter=display_name.search:florida`](https://api.openalex.org/funders?filter=display_name.search:florida)\n",
        "\n",
        "The following fields can be searched as a filter within funders:\n",
        "\n",
        "| Search filter                                                        | Field that is searched                                |\n",
        "| -------------------------------------------------------------------- | ----------------------------------------------------- |\n",
        "| [`display_name.search`](./filter-funders.md#display_name.search) | [`display_name`](./funder-object.md#display_name) |\n",
        "| [`description.search`](./filter-funders.md#description.search) | [`description`](./funder-object.md#description) |\n",
        "\n",
        "You can also use the filter `default.search`, which works the same as using the [`search` parameter](./README.md#search-funders).\n",
        "\n",
        "## Autocomplete funders\n",
        "\n",
        "You can autocomplete funders to create a very fast type-ahead style search function:\n",
        "\n",
        "* Autocomplete funders with \"national sci\" in the [`display_name`](./funder-object.md#display_name):\\\n",
        "  [https://api.openalex.org/autocomplete/funders?q=national+sci](https://api.openalex.org/autocomplete/funders?q=national+sci)\n",
        "\n"
      ]
    },
    {
      "cell_type": "code",
      "metadata": {},
      "source": [
        "response = autocomplete_api.get_autocomplet(\n",
        "\tq=\"national sci\",\n",
        "\tid=\"funders\"\n",
        ")\n",
        "\n",
        "print(json.dumps(response.to_dict(), indent=2))\n",
        "\n"
      ],
      "outputs": [],
      "execution_count": null
    },
    {
      "cell_type": "markdown",
      "metadata": {},
      "source": [
        "\n",
        "\n",
        "This returns a list of funders with the funder location set as the hint:\n",
        "\n",
        "```json\n",
        "  \"results\": [\n",
        "    {\n",
        "        \"id\": \"https://openalex.org/F4320306076\",\n",
        "        \"display_name\": \"National Science Foundation\",\n",
        "        \"hint\": null,\n",
        "        \"cited_by_count\": 6705777,\n",
        "        \"works_count\": 264303,\n",
        "        \"entity_type\": \"funder\",\n",
        "        \"external_id\": \"https://ror.org/021nxhr62\"\n",
        "    },\n",
        "    ...\n",
        "  ]\n",
        "```\n",
        "\n",
        "{% hint style=\"info\" %}\n",
        "Read more in the [autocomplete page](./../../how-to-use-the-api/get-lists-of-entities/autocomplete-entities.ipynb) in the API guide.\n",
        "{% endhint %}\n"
      ]
    }
  ],
  "metadata": {
    "kernelspec": {
      "display_name": "Python 3",
      "language": "python",
      "name": "python3"
    },
    "language_info": {
      "codemirror_mode": {
        "name": "ipython",
        "version": 3
      },
      "file_extension": ".py",
      "mimetype": "text/x-python",
      "name": "python",
      "pygments_lexer": "ipython3",
      "version": "3.8.5"
    }
  },
  "nbformat": 4,
  "nbformat_minor": 4
}