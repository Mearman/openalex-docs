{
  "cells": [
    {
      "cell_type": "markdown",
      "metadata": {},
      "source": [
        "[![Open All Collab](https://colab.research.google.com/assets/colab-badge.svg)](https://colab.research.google.com/github/Mearman/openalex-docs/blob/main/api-entities/funders/filter-funders.ipynb)\n",
        "\n"
      ]
    },
    {
      "cell_type": "code",
      "metadata": {},
      "source": [
        "%pip install --upgrade \"git+https://github.com/Mearman/openalex-python.git\"\n",
        "\n"
      ]
    },
    {
      "cell_type": "code",
      "metadata": {},
      "source": [
        "import json\n",
        "from openalex_api import Configuration, ApiClient,AuthorsApi, ConceptsApi, FundersApi, InstitutionsApi, PublishersApi, SourcesApi, WorksApi\n",
        "\n",
        "configuration = Configuration(host=\"https://api.openalex.org\")\n",
        "authors_api = AuthorsApi(ApiClient(configuration))\n",
        "concepts_api = ConceptsApi(ApiClient(configuration))\n",
        "funders_api = FundersApi(ApiClient(configuration))\n",
        "institutions_api = InstitutionsApi(ApiClient(configuration))\n",
        "publishers_api = PublishersApi(ApiClient(configuration))\n",
        "sources_api = SourcesApi(ApiClient(configuration))\n",
        "works_api = WorksApi(ApiClient(configuration))\n",
        "\n"
      ]
    },
    {
      "cell_type": "markdown",
      "metadata": {},
      "source": [
        "\n",
        "# Filter funders\n",
        "\n",
        "You can filter funders with the `filter` parameter:\n",
        "\n",
        "* Get funders that are located in Canada\\\n",
        "  [https://api.openalex.org/funders?filter=country\\_code:ca](https://api.openalex.org/funders?filter=country\\_code:ca)\n",
        "\n"
      ]
    },
    {
      "cell_type": "code",
      "metadata": {},
      "source": [
        "response = funders_api.get_funders(\n",
        "\tfilter=\"country_code:ca\"\n",
        ")\n",
        "\n",
        "print(json.dumps(response.to_dict(), indent=2))\n",
        "\n"
      ]
    },
    {
      "cell_type": "markdown",
      "metadata": {},
      "source": [
        "\n",
        "\n",
        "{% hint style=\"info\" %}\n",
        "It's best to [read about filters](../../how-to-use-the-api/get-lists-of-entities/filter-entity-lists.md) before trying these out. It will show you how to combine filters and build an AND, OR, or negation query\n",
        "{% endhint %}\n",
        "\n",
        "### `/funders` attribute filters\n",
        "\n",
        "\n"
      ]
    },
    {
      "cell_type": "code",
      "metadata": {},
      "source": [
        "response = funders_api.get_funders(\n",
        "\tfilter=\"continent:south_america\"\n",
        ")\n",
        "\n",
        "print(json.dumps(response.to_dict(), indent=2))\n",
        "\n"
      ]
    },
    {
      "cell_type": "markdown",
      "metadata": {},
      "source": [
        "\n",
        "You can filter using these attributes of the `Funder` entity object (click each one to view their documentation on the [`Funder`](funder-object.md) object page):\n",
        "\n",
        "* [`cited_by_count`](funder-object.md#cited\\_by\\_count)\n",
        "* [`country_code`](funder-object.md#country\\_code)\n",
        "* [`grants_count`](funder-object.md#grants_count)\n",
        "* [`ids.openalex`](funder-object.md#ids) (alias: `openalex`)\n",
        "* [`ids.ror`](funder-object.md#ids) (alias: `ror`)\n",
        "* [`ids.wikidata`](funder-object.md#ids) (alias: `wikidata`)\n",
        "* [`summary_stats.2yr_mean_citedness`](funder-object.md#summary_stats) (accepts float, null, !null, can use range queries such as < >)\n",
        "* [`summary_stats.h_index`](funder-object.md#summary_stats) (accepts integer, null, !null, can use range queries)\n",
        "* [`summary_stats.i10_index`](funder-object.md#summary_stats) (accepts integer, null, !null, can use range queries)\n",
        "* [`works_count`](funder-object.md#works\\_count)\n",
        "\n",
        "### `/funders` convenience filters\n",
        "\n",
        "These filters aren't attributes of the [`Funder`](funder-object.md) object, but they're included to address some common use cases:\n",
        "\n",
        "#### `continent`\n",
        "\n",
        "Value: a String with a valid [continent filter](../geo/continents.md#filter-by-continent)\n",
        "\n",
        "Returns: funders that are located in the chosen continent.\n",
        "\n",
        "* Get funders that are located in South America\\\n",
        "  [`https://api.openalex.org/funders?filter=continent:south\\_america`](https://api.openalex.org/funders?filter=continent:south\\_america)\n",
        "\n",
        "#### `default.search`\n",
        "\n",
        "Value: a search string\n",
        "\n",
        "This works the same as using the [`search` parameter](./search-funders.md#search-funders) for Funders.\n",
        "\n",
        "#### `description.search`\n",
        "\n",
        "Value: a search string\n",
        "\n",
        "Returns: funders with a [`description`](funder-object.md#description) containing the given string; see the [search page](search-funders.md#search-a-specific-field) for details.\n",
        "\n",
        "* Get funders with description containing \"health\":\\\n",
        "\n"
      ]
    },
    {
      "cell_type": "code",
      "metadata": {},
      "source": [
        "response = funders_api.get_funders(\n",
        "\tfilter=\"continent:south_america\"\n",
        ")\n",
        "\n",
        "print(json.dumps(response.to_dict(), indent=2))\n",
        "\n"
      ]
    },
    {
      "cell_type": "markdown",
      "metadata": {},
      "source": [
        "\n",
        "  [`https://api.openalex.org/funders?filter=description.search:health`](https://api.openalex.org/funders?filter=description.search:health)\n",
        "\n",
        "#### `display_name.search`\n",
        "\n",
        "Value: a search string\n",
        "\n",
        "Returns: funders with a [`display_name`](funder-object.md#display\\_name) containing the given string; see the [search page](search-funders.md#search-a-specific-field) for details.\n",
        "\n",
        "* Get funders with names containing \"health\":\\\n",
        "  [`https://api.openalex.org/funders?filter=display_name.search:health`](https://api.openalex.org/funders?filter=display_name.search:health)\n",
        "\n",
        "{% hint style=\"info\" %}\n",
        "In most cases, you should use the [`search` parameter](search-funders.md) instead of this filter because it uses a better search algorithm.\n",
        "{% endhint %}\n",
        "\n",
        "#### `is_global_south`\n",
        "\n",
        "Value: a Boolean (`true` or `false`)\n",
        "\n",
        "Returns: funders that are located in the [Global South](../geo/regions.md#global-south).\n",
        "\n",
        "* Get funders that are located in the Global South\\\n",
        "\n"
      ]
    },
    {
      "cell_type": "code",
      "metadata": {},
      "source": [
        "response = funders_api.get_funders(\n",
        "\tfilter=\"description.search:health\"\n",
        ")\n",
        "\n",
        "print(json.dumps(response.to_dict(), indent=2))\n",
        "\n"
      ]
    },
    {
      "cell_type": "markdown",
      "metadata": {},
      "source": [
        "\n",
        "  [https://api.openalex.org/funders?filter=is\\_global\\_south:true](https://api.openalex.org/funders?filter=is\\_global\\_south:true)\n"
      ]
    }
  ],
  "metadata": {
    "kernelspec": {
      "display_name": "Python 3",
      "language": "python",
      "name": "python3"
    },
    "language_info": {
      "codemirror_mode": {
        "name": "ipython",
        "version": 3
      },
      "file_extension": ".py",
      "mimetype": "text/x-python",
      "name": "python",
      "pygments_lexer": "ipython3",
      "version": "3.8.5"
    }
  },
  "nbformat": 4,
  "nbformat_minor": 4
}