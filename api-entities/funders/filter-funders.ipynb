{
  "cells": [
    {
      "cell_type": "markdown",
      "metadata": {},
      "source": [
        "[![GitHub Repository](https://img.shields.io/badge/GitHub-Repository-181717?style=for-the-badge&logo=GitHub&link=https://github.com/Mearman/openalex-docs)](https://github.com/Mearman/openalex-docs)[![Open in GitHub](https://img.shields.io/badge/Open%20in-GitHub-181717?style=for-the-badge&logo=github&link=https://github.com/Mearman/openalex-docs/blob/main/api-entities/funders/filter-funders.ipynb)](https://github.com/Mearman/openalex-docs/blob/main/api-entities/funders/filter-funders.ipynb)[![Open in Colab](https://img.shields.io/badge/Open%20in-Colab-F9AB00?style=for-the-badge&logo=Google%20Colab&link=https://colab.research.google.com/github/Mearman/openalex-docs/blob/main/api-entities/funders/filter-funders.ipynb)](https://colab.research.google.com/github/Mearman/openalex-docs/blob/main/api-entities/funders/filter-funders.ipynb)"
      ]
    },
    {
      "cell_type": "code",
      "metadata": {},
      "source": [
        "%pip install --upgrade \"git+https://github.com/Mearman/openalex-python-pydantic-v1.git\"\n",
        "%pip install pandasai"
      ],
      "outputs": [],
      "execution_count": null
    },
    {
      "cell_type": "code",
      "metadata": {},
      "source": [
        "import json\n",
        "import pandas as pd\n",
        "import numpy as np\n",
        "from openalex_api import Configuration, ApiClient,AuthorsApi, ConceptsApi, FundersApi, InstitutionsApi, PublishersApi, SourcesApi, WorksApi\n",
        "\n",
        "configuration = Configuration(host=\"https://api.openalex.org\")\n",
        "authors_api = AuthorsApi(ApiClient(configuration))\n",
        "concepts_api = ConceptsApi(ApiClient(configuration))\n",
        "funders_api = FundersApi(ApiClient(configuration))\n",
        "institutions_api = InstitutionsApi(ApiClient(configuration))\n",
        "publishers_api = PublishersApi(ApiClient(configuration))\n",
        "sources_api = SourcesApi(ApiClient(configuration))\n",
        "works_api = WorksApi(ApiClient(configuration))\n",
        "\n",
        "from pandasai import SmartDataframe\n",
        "from pandasai.llm import OpenAI"
      ],
      "outputs": [],
      "execution_count": null
    },
    {
      "cell_type": "code",
      "metadata": {},
      "source": [
        "openapi_token = \"\" # @param {type:\"string\"}"
      ],
      "outputs": [],
      "execution_count": null
    },
    {
      "cell_type": "markdown",
      "metadata": {},
      "source": [
        "# Filter funders\n",
        "\n",
        "You can filter funders with the `filter` parameter:\n",
        "\n",
        "* Get funders that are located in Canada\\\n",
        "  [https://api.openalex.org/funders?filter=country\\_code:ca](https://api.openalex.org/funders?filter=country\\_code:ca)"
      ]
    },
    {
      "cell_type": "code",
      "metadata": {},
      "source": [
        "response = funders_api.get_funders(\n",
        "\tfilter=\"country_code:ca\"\n",
        ")\n",
        "\n",
        "if hasattr(response, \"results\"):\n",
        "\tdf = pd.DataFrame(response.results)\n",
        "else:\n",
        "\tdf = pd.DataFrame(response)\n",
        "display(df)"
      ],
      "outputs": [],
      "execution_count": null
    },
    {
      "cell_type": "code",
      "metadata": {},
      "source": [
        "numeric_df = df[['id', 'display_name'] +\n",
        "\t[col for col in df.columns if df[col].dtype in ['int64', 'float64'] and col != 'relevance_score']]\n",
        "display(numeric_df)"
      ],
      "outputs": [],
      "execution_count": null
    },
    {
      "cell_type": "code",
      "metadata": {},
      "source": [
        "try:\n",
        "\tllm = OpenAI(api_token = openapi_token)\n",
        "\tsdf = SmartDataframe(numeric_df, config = { \"llm\": llm })\n",
        "\tsdf.chat(\"Plot a chart of this data\")\n",
        "except:\n",
        "\tprint(\"Error when creating SmartDataframe\")"
      ],
      "outputs": [],
      "execution_count": null
    },
    {
      "cell_type": "markdown",
      "metadata": {},
      "source": [
        "{% hint style=\"info\" %}\n",
        "It's best to [read about filters](./../../how-to-use-the-api/get-lists-of-entities/filter-entity-lists.ipynb) before trying these out. It will show you how to combine filters and build an AND, OR, or negation query\n",
        "{% endhint %}\n",
        "\n",
        "### `/funders` attribute filters\n",
        "\n",
        "You can filter using these attributes of the `Funder` entity object (click each one to view their documentation on the [`Funder`](./funder-object.md) object page):\n",
        "\n",
        "* [`cited_by_count`](./funder-object.md#cited\\_by\\_count)\n",
        "* [`country_code`](./funder-object.md#country\\_code)\n",
        "* [`grants_count`](./funder-object.md#grants_count)\n",
        "* [`ids.openalex`](./funder-object.md#ids) (alias: `openalex`)\n",
        "* [`ids.ror`](./funder-object.md#ids) (alias: `ror`)\n",
        "* [`ids.wikidata`](./funder-object.md#ids) (alias: `wikidata`)\n",
        "* [`summary_stats.2yr_mean_citedness`](./funder-object.md#summary_stats) (accepts float, null, !null, can use range queries such as < >)\n",
        "* [`summary_stats.h_index`](./funder-object.md#summary_stats) (accepts integer, null, !null, can use range queries)\n",
        "* [`summary_stats.i10_index`](./funder-object.md#summary_stats) (accepts integer, null, !null, can use range queries)\n",
        "* [`works_count`](./funder-object.md#works\\_count)\n",
        "\n",
        "### `/funders` convenience filters\n",
        "\n",
        "These filters aren't attributes of the [`Funder`](./funder-object.md) object, but they're included to address some common use cases:\n",
        "\n",
        "#### `continent`\n",
        "\n",
        "Value: a String with a valid [continent filter](./../geo/continents.md#filter-by-continent)\n",
        "\n",
        "Returns: funders that are located in the chosen continent.\n",
        "\n",
        "* Get funders that are located in South America\\\n",
        "  [`https://api.openalex.org/funders?filter=continent:south\\_america`](https://api.openalex.org/funders?filter=continent:south\\_america)"
      ]
    },
    {
      "cell_type": "code",
      "metadata": {},
      "source": [
        "response = funders_api.get_funders(\n",
        "\tfilter=\"continent:south_america\"\n",
        ")\n",
        "\n",
        "if hasattr(response, \"results\"):\n",
        "\tdf = pd.DataFrame(response.results)\n",
        "else:\n",
        "\tdf = pd.DataFrame(response)\n",
        "display(df)"
      ],
      "outputs": [],
      "execution_count": null
    },
    {
      "cell_type": "code",
      "metadata": {},
      "source": [
        "numeric_df = df[['id', 'display_name'] +\n",
        "\t[col for col in df.columns if df[col].dtype in ['int64', 'float64'] and col != 'relevance_score']]\n",
        "display(numeric_df)"
      ],
      "outputs": [],
      "execution_count": null
    },
    {
      "cell_type": "code",
      "metadata": {},
      "source": [
        "try:\n",
        "\tllm = OpenAI(api_token = openapi_token)\n",
        "\tsdf = SmartDataframe(numeric_df, config = { \"llm\": llm })\n",
        "\tsdf.chat(\"Plot a chart of this data\")\n",
        "except:\n",
        "\tprint(\"Error when creating SmartDataframe\")"
      ],
      "outputs": [],
      "execution_count": null
    },
    {
      "cell_type": "markdown",
      "metadata": {},
      "source": [
        "#### `default.search`\n",
        "\n",
        "Value: a search string\n",
        "\n",
        "This works the same as using the [`search` parameter](./search-funders.md#search-funders) for Funders.\n",
        "\n",
        "#### `description.search`\n",
        "\n",
        "Value: a search string\n",
        "\n",
        "Returns: funders with a [`description`](./funder-object.md#description) containing the given string; see the [search page](./search-funders.md#search-a-specific-field) for details.\n",
        "\n",
        "* Get funders with description containing \"health\":\\\n",
        "  [`https://api.openalex.org/funders?filter=description.search:health`](https://api.openalex.org/funders?filter=description.search:health)"
      ]
    },
    {
      "cell_type": "code",
      "metadata": {},
      "source": [
        "response = funders_api.get_funders(\n",
        "\tfilter=\"description.search:health\"\n",
        ")\n",
        "\n",
        "if hasattr(response, \"results\"):\n",
        "\tdf = pd.DataFrame(response.results)\n",
        "else:\n",
        "\tdf = pd.DataFrame(response)\n",
        "display(df)"
      ],
      "outputs": [],
      "execution_count": null
    },
    {
      "cell_type": "code",
      "metadata": {},
      "source": [
        "numeric_df = df[['id', 'display_name'] +\n",
        "\t[col for col in df.columns if df[col].dtype in ['int64', 'float64'] and col != 'relevance_score']]\n",
        "display(numeric_df)"
      ],
      "outputs": [],
      "execution_count": null
    },
    {
      "cell_type": "code",
      "metadata": {},
      "source": [
        "try:\n",
        "\tllm = OpenAI(api_token = openapi_token)\n",
        "\tsdf = SmartDataframe(numeric_df, config = { \"llm\": llm })\n",
        "\tsdf.chat(\"Plot a chart of this data\")\n",
        "except:\n",
        "\tprint(\"Error when creating SmartDataframe\")"
      ],
      "outputs": [],
      "execution_count": null
    },
    {
      "cell_type": "markdown",
      "metadata": {},
      "source": [
        "#### `display_name.search`\n",
        "\n",
        "Value: a search string\n",
        "\n",
        "Returns: funders with a [`display_name`](./funder-object.md#display\\_name) containing the given string; see the [search page](./search-funders.md#search-a-specific-field) for details.\n",
        "\n",
        "* Get funders with names containing \"health\":\\\n",
        "  [`https://api.openalex.org/funders?filter=display_name.search:health`](https://api.openalex.org/funders?filter=display_name.search:health)"
      ]
    },
    {
      "cell_type": "code",
      "metadata": {},
      "source": [
        "response = funders_api.get_funders(\n",
        "\tfilter=\"display_name.search:health\"\n",
        ")\n",
        "\n",
        "if hasattr(response, \"results\"):\n",
        "\tdf = pd.DataFrame(response.results)\n",
        "else:\n",
        "\tdf = pd.DataFrame(response)\n",
        "display(df)"
      ],
      "outputs": [],
      "execution_count": null
    },
    {
      "cell_type": "code",
      "metadata": {},
      "source": [
        "numeric_df = df[['id', 'display_name'] +\n",
        "\t[col for col in df.columns if df[col].dtype in ['int64', 'float64'] and col != 'relevance_score']]\n",
        "display(numeric_df)"
      ],
      "outputs": [],
      "execution_count": null
    },
    {
      "cell_type": "code",
      "metadata": {},
      "source": [
        "try:\n",
        "\tllm = OpenAI(api_token = openapi_token)\n",
        "\tsdf = SmartDataframe(numeric_df, config = { \"llm\": llm })\n",
        "\tsdf.chat(\"Plot a chart of this data\")\n",
        "except:\n",
        "\tprint(\"Error when creating SmartDataframe\")"
      ],
      "outputs": [],
      "execution_count": null
    },
    {
      "cell_type": "markdown",
      "metadata": {},
      "source": [
        "{% hint style=\"info\" %}\n",
        "In most cases, you should use the [`search` parameter](./search-funders.ipynb) instead of this filter because it uses a better search algorithm.\n",
        "{% endhint %}\n",
        "\n",
        "#### `is_global_south`\n",
        "\n",
        "Value: a Boolean (`true` or `false`)\n",
        "\n",
        "Returns: funders that are located in the [Global South](./../geo/regions.md#global-south).\n",
        "\n",
        "* Get funders that are located in the Global South\\\n",
        "  [https://api.openalex.org/funders?filter=is\\_global\\_south:true](https://api.openalex.org/funders?filter=is\\_global\\_south:true)"
      ]
    },
    {
      "cell_type": "code",
      "metadata": {},
      "source": [
        "response = funders_api.get_funders(\n",
        "\tfilter=\"is_global_south:true\"\n",
        ")\n",
        "\n",
        "if hasattr(response, \"results\"):\n",
        "\tdf = pd.DataFrame(response.results)\n",
        "else:\n",
        "\tdf = pd.DataFrame(response)\n",
        "display(df)"
      ],
      "outputs": [],
      "execution_count": null
    },
    {
      "cell_type": "code",
      "metadata": {},
      "source": [
        "numeric_df = df[['id', 'display_name'] +\n",
        "\t[col for col in df.columns if df[col].dtype in ['int64', 'float64'] and col != 'relevance_score']]\n",
        "display(numeric_df)"
      ],
      "outputs": [],
      "execution_count": null
    },
    {
      "cell_type": "code",
      "metadata": {},
      "source": [
        "try:\n",
        "\tllm = OpenAI(api_token = openapi_token)\n",
        "\tsdf = SmartDataframe(numeric_df, config = { \"llm\": llm })\n",
        "\tsdf.chat(\"Plot a chart of this data\")\n",
        "except:\n",
        "\tprint(\"Error when creating SmartDataframe\")"
      ],
      "outputs": [],
      "execution_count": null
    }
  ],
  "metadata": {
    "kernelspec": {
      "display_name": "Python 3",
      "language": "python",
      "name": "python3"
    },
    "language_info": {
      "codemirror_mode": {
        "name": "ipython",
        "version": 3
      },
      "file_extension": ".py",
      "mimetype": "text/x-python",
      "name": "python",
      "pygments_lexer": "ipython3",
      "version": "3.8.5"
    }
  },
  "nbformat": 4,
  "nbformat_minor": 4
}