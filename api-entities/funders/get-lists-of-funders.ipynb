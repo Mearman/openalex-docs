{
  "cells": [
    {
      "cell_type": "markdown",
      "metadata": {},
      "source": [
        "[![Open All Collab](https://colab.research.google.com/assets/colab-badge.svg)](https://colab.research.google.com/github/Mearman/openalex-docs/blob/main/api-entities/funders/get-lists-of-funders.ipynb)"
      ]
    },
    {
      "cell_type": "code",
      "metadata": {},
      "source": [
        "%pip install --upgrade \"git+https://github.com/Mearman/openalex-python.git\""
      ],
      "outputs": [],
      "execution_count": null
    },
    {
      "cell_type": "code",
      "metadata": {},
      "source": [
        "import json",
        "from openalex_api import Configuration, ApiClient,AuthorsApi, ConceptsApi, FundersApi, InstitutionsApi, PublishersApi, SourcesApi, WorksApi",
        "",
        "configuration = Configuration(host=\"https://api.openalex.org\")",
        "authors_api = AuthorsApi(ApiClient(configuration))",
        "concepts_api = ConceptsApi(ApiClient(configuration))",
        "funders_api = FundersApi(ApiClient(configuration))",
        "institutions_api = InstitutionsApi(ApiClient(configuration))",
        "publishers_api = PublishersApi(ApiClient(configuration))",
        "sources_api = SourcesApi(ApiClient(configuration))",
        "works_api = WorksApi(ApiClient(configuration))"
      ],
      "outputs": [],
      "execution_count": null
    },
    {
      "cell_type": "markdown",
      "metadata": {},
      "source": [
        "# Get lists of funders",
        "",
        "You can get lists of funders:",
        "",
        "* Get _all_ funders in OpenAlex\\",
        "  [https://api.openalex.org/funders](https://api.openalex.org/funders)"
      ]
    },
    {
      "cell_type": "code",
      "metadata": {},
      "source": [
        "response = funders_api.get_funders(",
        "\t",
        ")",
        "",
        "print(json.dumps(response.to_dict(), indent=2))"
      ],
      "outputs": [],
      "execution_count": null
    },
    {
      "cell_type": "markdown",
      "metadata": {},
      "source": [
        "Which returns a response like this:",
        "",
        "```json",
        "{",
        "    \"meta\": {",
        "        \"count\": 32437,",
        "        \"db_response_time_ms\": 26,",
        "        \"page\": 1,",
        "        \"per_page\": 25",
        "    },",
        "    \"results\": [",
        "        {",
        "            \"id\": \"https://openalex.org/F4320321001\",",
        "            \"display_name\": \"National Natural Science Foundation of China\",",
        "            // more fields (removed to save space)",
        "        },",
        "        {",
        "            \"id\": \"https://openalex.org/F4320306076\",",
        "            \"display_name\": \"National Science Foundation\",",
        "            // more fields (removed to save space)",
        "        },",
        "        // more results (removed to save space)",
        "    ],",
        "    \"group_by\": []",
        "}",
        "```",
        "",
        "## Page and sort funders",
        "",
        "By default we return 25 results per page. You can change this default and [page](./../../how-to-use-the-api/get-lists-of-entities/paging.ipynb) through funders with the `per-page` and `page` parameters:",
        "",
        "* Get the second page of funders results, with 50 results returned per page\\",
        "  [https://api.openalex.org/funders?per-page=50\\&page=2](https://api.openalex.org/funders?per-page=50\\&page=2)"
      ]
    },
    {
      "cell_type": "code",
      "metadata": {},
      "source": [
        "response = funders_api.get_funders(",
        "\tper_page=\"50\",",
        "\tpage=\"2\"",
        ")",
        "",
        "print(json.dumps(response.to_dict(), indent=2))"
      ],
      "outputs": [],
      "execution_count": null
    },
    {
      "cell_type": "markdown",
      "metadata": {},
      "source": [
        "You also can [sort results](./../../how-to-use-the-api/get-lists-of-entities/sort-entity-lists.ipynb) with the `sort` parameter:",
        "",
        "* Sort funders by display name, descending\\",
        "  [https://api.openalex.org/funders?sort=display\\_name:desc](https://api.openalex.org/funders?sort=display\\_name:desc)"
      ]
    },
    {
      "cell_type": "code",
      "metadata": {},
      "source": [
        "response = funders_api.get_funders(",
        "\tsort=\"display_name:desc\"",
        ")",
        "",
        "print(json.dumps(response.to_dict(), indent=2))"
      ],
      "outputs": [],
      "execution_count": null
    },
    {
      "cell_type": "markdown",
      "metadata": {},
      "source": [
        "Continue on to learn how you can [filter](./filter-funders.ipynb) and [search](./search-funders.ipynb) lists of funders.",
        "",
        "## Sample funders",
        "",
        "You can use `sample` to get a random batch of funders. Read more about sampling and how to add a `seed` value [here](./../../how-to-use-the-api/get-lists-of-entities/sample-entity-lists.ipynb).",
        "",
        "* Get 10 random funders\\",
        "  [https://api.openalex.org/funders?sample=10](https://api.openalex.org/funders?sample=10)"
      ]
    },
    {
      "cell_type": "code",
      "metadata": {},
      "source": [
        "response = funders_api.get_funders(",
        "\tsample=\"10\"",
        ")",
        "",
        "print(json.dumps(response.to_dict(), indent=2))"
      ],
      "outputs": [],
      "execution_count": null
    },
    {
      "cell_type": "markdown",
      "metadata": {},
      "source": [
        "## Select fields",
        "",
        "You can use `select` to limit the fields that are returned in a list of funders. More details are [here](./../../how-to-use-the-api/get-lists-of-entities/select-fields.ipynb).",
        "",
        "* Display only the `id`, `display_name`, and `alternate_titles` within funders results\\",
        "  [https://api.openalex.org/funders?select=id,display\\_name,alternate\\_titles](https://api.openalex.org/funders?select=id,display\\_name,alternate\\_titles)"
      ]
    },
    {
      "cell_type": "code",
      "metadata": {},
      "source": [
        "response = funders_api.get_funders(",
        "\tselect=\"id,display_name,alternate_titles\"",
        ")",
        "",
        "print(json.dumps(response.to_dict(), indent=2))"
      ],
      "outputs": [],
      "execution_count": null
    }
  ],
  "metadata": {
    "kernelspec": {
      "display_name": "Python 3",
      "language": "python",
      "name": "python3"
    },
    "language_info": {
      "codemirror_mode": {
        "name": "ipython",
        "version": 3
      },
      "file_extension": ".py",
      "mimetype": "text/x-python",
      "name": "python",
      "pygments_lexer": "ipython3",
      "version": "3.8.5"
    }
  },
  "nbformat": 4,
  "nbformat_minor": 4
}