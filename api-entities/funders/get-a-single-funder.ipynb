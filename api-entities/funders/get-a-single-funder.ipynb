{
  "cells": [
    {
      "cell_type": "markdown",
      "metadata": {},
      "source": [
        "[![GitHub Repository](https://img.shields.io/badge/GitHub-Repository-181717?style=for-the-badge&logo=GitHub&link=https://github.com/Mearman/openalex-docs)](https://github.com/Mearman/openalex-docs)[![Open in GitHub](https://img.shields.io/badge/Open%20in-GitHub-181717?style=for-the-badge&logo=github&link=https://github.com/Mearman/openalex-docs/blob/main/api-entities/funders/get-a-single-funder.ipynb)](https://github.com/Mearman/openalex-docs/blob/main/api-entities/funders/get-a-single-funder.ipynb)[![Open in Colab](https://img.shields.io/badge/Open%20in-Colab-F9AB00?style=for-the-badge&logo=Google%20Colab&link=https://colab.research.google.com/github/Mearman/openalex-docs/blob/main/api-entities/funders/get-a-single-funder.ipynb)](https://colab.research.google.com/github/Mearman/openalex-docs/blob/main/api-entities/funders/get-a-single-funder.ipynb)"
      ]
    },
    {
      "cell_type": "code",
      "metadata": {},
      "source": [
        "%pip install --upgrade \"git+https://github.com/Mearman/openalex-python-pydantic-v1.git\"\n",
        "%pip install pandasai"
      ],
      "outputs": [],
      "execution_count": null
    },
    {
      "cell_type": "code",
      "metadata": {},
      "source": [
        "import json\n",
        "import pandas as pd\n",
        "import numpy as np\n",
        "from openalex_api import Configuration, ApiClient, AutocompleteApi, AuthorsApi, ConceptsApi, FundersApi, InstitutionsApi, PublishersApi, SourcesApi, WorksApi\n",
        "\n",
        "configuration = Configuration(host=\"https://api.openalex.org\")\n",
        "autocomplete_api = AutocompleteApi(ApiClient(configuration))\n",
        "authors_api = AuthorsApi(ApiClient(configuration))\n",
        "concepts_api = ConceptsApi(ApiClient(configuration))\n",
        "funders_api = FundersApi(ApiClient(configuration))\n",
        "institutions_api = InstitutionsApi(ApiClient(configuration))\n",
        "publishers_api = PublishersApi(ApiClient(configuration))\n",
        "sources_api = SourcesApi(ApiClient(configuration))\n",
        "works_api = WorksApi(ApiClient(configuration))\n",
        "\n",
        "from pandasai import SmartDataframe\n",
        "from pandasai.llm import OpenAI"
      ],
      "outputs": [],
      "execution_count": null
    },
    {
      "cell_type": "code",
      "metadata": {},
      "source": [
        "# @title  { run: \"auto\", display-mode: \"form\" }\n",
        "openapi_token = \"\" # @param {type:\"string\"}"
      ],
      "outputs": [],
      "execution_count": null
    },
    {
      "cell_type": "markdown",
      "metadata": {},
      "source": [
        "# Get a single funder\n",
        "\n",
        "It's easy to get a funder from from the API with: `/funders/<entity_id>`. Here's an example:\n",
        "\n",
        "* Get the funder with the [OpenAlex ID](./../../how-to-use-the-api/get-single-entities/README.md#the-openalex-id) `F4320332161`: \\\n",
        "  [https://api.openalex.org/funders/F4320332161](https://api.openalex.org/funders/F4320332161)"
      ]
    },
    {
      "cell_type": "code",
      "metadata": {},
      "source": [
        "# https://api.openalex.org/funders/F4320332161\n",
        "response = funders_api.get_funder(\n",
        "\tid=\"F4320332161\"\n",
        ")\n",
        "\n",
        "if hasattr(response, \"results\"):\n",
        "\tdf = pd.DataFrame(response.results)\n",
        "else:\n",
        "\tdf = pd.DataFrame(response).T.rename(columns=lambda x: x[0]).drop(0).set_index('id')\n",
        "display(df)"
      ],
      "outputs": [],
      "execution_count": null
    },
    {
      "cell_type": "code",
      "metadata": {},
      "source": [
        "numeric_df = df[['id', 'display_name'] +\n",
        "\t[col for col in df.columns if df[col].dtype in ['int64', 'float64'] and col != 'relevance_score']]\n",
        "display(numeric_df)"
      ],
      "outputs": [],
      "execution_count": null
    },
    {
      "cell_type": "code",
      "metadata": {},
      "source": [
        "try:\n",
        "\tllm = OpenAI(api_token = openapi_token)\n",
        "\tsdf = SmartDataframe(numeric_df, config = { \"llm\": llm })\n",
        "\tsdf.chat(\"Plot a chart of this data\")\n",
        "except:\n",
        "\tprint(\"Error when creating SmartDataframe\")"
      ],
      "outputs": [],
      "execution_count": null
    },
    {
      "cell_type": "markdown",
      "metadata": {},
      "source": [
        "That will return a [`Funder`](./funder-object.md) object, describing everything OpenAlex knows about the funder with that ID:\n",
        "\n",
        "```json\n",
        "{\n",
        "  \"id\": \"https://openalex.org/F4320332161\",\n",
        "  \"display_name\": \"National Institutes of Health\",\n",
        "  \"alternate_titles\": [\n",
        "  \"US National Institutes of Health\",\n",
        "  \"Institutos Nacionales de la Salud\",\n",
        "  \"NIH\"\n",
        "  ],\n",
        "  // other fields removed for brevity\n",
        "}\n",
        "```\n",
        "\n",
        "{% hint style=\"info\" %}\n",
        "You can make up to 50 of these queries at once by [requesting a list of entities and filtering on IDs using OR syntax](./../../how-to-use-the-api/get-lists-of-entities/filter-entity-lists.md#addition-or).\n",
        "{% endhint %}\n",
        "\n",
        "### External IDs\n",
        "\n",
        "You can look up funders using external IDs such as a Wikidata ID:\n",
        "\n",
        "* Get the funder with Wikidata ID Q1479654:\\\n",
        "  [`https://api.openalex.org/funders/wikidata:Q390551`](https://api.openalex.org/funders/wikidata:Q390551)"
      ]
    },
    {
      "cell_type": "code",
      "metadata": {},
      "source": [
        "# https://api.openalex.org/funders/wikidata:Q390551\n",
        "response = funders_api.get_funder(\n",
        "\tid=\"wikidata:Q390551\"\n",
        ")\n",
        "\n",
        "if hasattr(response, \"results\"):\n",
        "\tdf = pd.DataFrame(response.results)\n",
        "else:\n",
        "\tdf = pd.DataFrame(response).T.rename(columns=lambda x: x[0]).drop(0).set_index('id')\n",
        "display(df)"
      ],
      "outputs": [],
      "execution_count": null
    },
    {
      "cell_type": "code",
      "metadata": {},
      "source": [
        "numeric_df = df[['id', 'display_name'] +\n",
        "\t[col for col in df.columns if df[col].dtype in ['int64', 'float64'] and col != 'relevance_score']]\n",
        "display(numeric_df)"
      ],
      "outputs": [],
      "execution_count": null
    },
    {
      "cell_type": "code",
      "metadata": {},
      "source": [
        "try:\n",
        "\tllm = OpenAI(api_token = openapi_token)\n",
        "\tsdf = SmartDataframe(numeric_df, config = { \"llm\": llm })\n",
        "\tsdf.chat(\"Plot a chart of this data\")\n",
        "except:\n",
        "\tprint(\"Error when creating SmartDataframe\")"
      ],
      "outputs": [],
      "execution_count": null
    },
    {
      "cell_type": "markdown",
      "metadata": {},
      "source": [
        "Available external IDs for funders are:\n",
        "\n",
        "| External ID | URN        |\n",
        "| ----------- | ---------- |\n",
        "| ROR         | `ror`      |\n",
        "| Wikidata    | `wikidata` |\n",
        "\n",
        "### Select fields\n",
        "\n",
        "You can use `select` to limit the fields that are returned in a funder object. More details are [here](./../../how-to-use-the-api/get-lists-of-entities/select-fields.ipynb).\n",
        "\n",
        "* Display only the `id` and `display_name` for a funder object\\\n",
        "  [`https://api.openalex.org/funders/F4320332161?select=id,display_name`](https://api.openalex.org/funders/F4320332161?select=id,display_name)"
      ]
    },
    {
      "cell_type": "code",
      "metadata": {},
      "source": [
        "# https://api.openalex.org/funders/F4320332161?select=id,display_name\n",
        "response = funders_api.get_funder(\n",
        "\tselect=\"id,display_name\",\n",
        "\tid=\"F4320332161\"\n",
        ")\n",
        "\n",
        "if hasattr(response, \"results\"):\n",
        "\tdf = pd.DataFrame(response.results)\n",
        "else:\n",
        "\tdf = pd.DataFrame(response).T.rename(columns=lambda x: x[0]).drop(0).set_index('id')\n",
        "display(df)"
      ],
      "outputs": [],
      "execution_count": null
    },
    {
      "cell_type": "code",
      "metadata": {},
      "source": [
        "numeric_df = df[['id', 'display_name'] +\n",
        "\t[col for col in df.columns if df[col].dtype in ['int64', 'float64'] and col != 'relevance_score']]\n",
        "display(numeric_df)"
      ],
      "outputs": [],
      "execution_count": null
    },
    {
      "cell_type": "code",
      "metadata": {},
      "source": [
        "try:\n",
        "\tllm = OpenAI(api_token = openapi_token)\n",
        "\tsdf = SmartDataframe(numeric_df, config = { \"llm\": llm })\n",
        "\tsdf.chat(\"Plot a chart of this data\")\n",
        "except:\n",
        "\tprint(\"Error when creating SmartDataframe\")"
      ],
      "outputs": [],
      "execution_count": null
    }
  ],
  "metadata": {
    "kernelspec": {
      "display_name": "Python 3",
      "language": "python",
      "name": "python3"
    },
    "language_info": {
      "codemirror_mode": {
        "name": "ipython",
        "version": 3
      },
      "file_extension": ".py",
      "mimetype": "text/x-python",
      "name": "python",
      "pygments_lexer": "ipython3",
      "version": "3.8.5"
    }
  },
  "nbformat": 4,
  "nbformat_minor": 4
}