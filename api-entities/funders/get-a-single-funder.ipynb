{
  "cells": [
    {
      "cell_type": "markdown",
      "metadata": {},
      "source": [
        "[![Open All Collab](https://colab.research.google.com/assets/colab-badge.svg)](https://colab.research.google.com/github/Mearman/openalex-docs/blob/main/api-entities/funders/get-a-single-funder.ipynb)"
      ]
    },
    {
      "cell_type": "code",
      "metadata": {},
      "source": [
        "%pip install --upgrade \"git+https://github.com/Mearman/openalex-python.git\""
      ],
      "outputs": [],
      "execution_count": null
    },
    {
      "cell_type": "code",
      "metadata": {},
      "source": [
        "import json",
        "from openalex_api import Configuration, ApiClient,AuthorsApi, ConceptsApi, FundersApi, InstitutionsApi, PublishersApi, SourcesApi, WorksApi",
        "",
        "configuration = Configuration(host=\"https://api.openalex.org\")",
        "authors_api = AuthorsApi(ApiClient(configuration))",
        "concepts_api = ConceptsApi(ApiClient(configuration))",
        "funders_api = FundersApi(ApiClient(configuration))",
        "institutions_api = InstitutionsApi(ApiClient(configuration))",
        "publishers_api = PublishersApi(ApiClient(configuration))",
        "sources_api = SourcesApi(ApiClient(configuration))",
        "works_api = WorksApi(ApiClient(configuration))"
      ],
      "outputs": [],
      "execution_count": null
    },
    {
      "cell_type": "markdown",
      "metadata": {},
      "source": [
        "# Get a single funder",
        "",
        "It's easy to get a funder from from the API with: `/funders/<entity_id>`. Here's an example:",
        "",
        "* Get the funder with the [OpenAlex ID](./../../how-to-use-the-api/get-single-entities/README.md#the-openalex-id) `F4320332161`: \\",
        "  [https://api.openalex.org/funders/F4320332161](https://api.openalex.org/funders/F4320332161)"
      ]
    },
    {
      "cell_type": "code",
      "metadata": {},
      "source": [
        "response = funders_api.get_funder(",
        "\tid=\"F4320332161\"",
        ")",
        "",
        "print(json.dumps(response.to_dict(), indent=2))"
      ],
      "outputs": [],
      "execution_count": null
    },
    {
      "cell_type": "markdown",
      "metadata": {},
      "source": [
        "That will return a [`Funder`](./funder-object.md) object, describing everything OpenAlex knows about the funder with that ID:",
        "",
        "```json",
        "{",
        "  \"id\": \"https://openalex.org/F4320332161\",",
        "  \"display_name\": \"National Institutes of Health\",",
        "  \"alternate_titles\": [",
        "  \"US National Institutes of Health\",",
        "  \"Institutos Nacionales de la Salud\",",
        "  \"NIH\"",
        "  ],",
        "  // other fields removed for brevity",
        "}",
        "```",
        "",
        "{% hint style=\"info\" %}",
        "You can make up to 50 of these queries at once by [requesting a list of entities and filtering on IDs using OR syntax](./../../how-to-use-the-api/get-lists-of-entities/filter-entity-lists.md#addition-or).",
        "{% endhint %}",
        "",
        "### External IDs",
        "",
        "You can look up funders using external IDs such as a Wikidata ID:",
        "",
        "* Get the funder with Wikidata ID Q1479654:\\",
        "  [`https://api.openalex.org/funders/wikidata:Q390551`](https://api.openalex.org/funders/wikidata:Q390551)"
      ]
    },
    {
      "cell_type": "code",
      "metadata": {},
      "source": [
        "response = funders_api.get_funder(",
        "\tid=\"wikidata:Q390551\"",
        ")",
        "",
        "print(json.dumps(response.to_dict(), indent=2))"
      ],
      "outputs": [],
      "execution_count": null
    },
    {
      "cell_type": "markdown",
      "metadata": {},
      "source": [
        "Available external IDs for funders are:",
        "",
        "| External ID | URN        |",
        "| ----------- | ---------- |",
        "| ROR         | `ror`      |",
        "| Wikidata    | `wikidata` |",
        "",
        "### Select fields",
        "",
        "You can use `select` to limit the fields that are returned in a funder object. More details are [here](./../../how-to-use-the-api/get-lists-of-entities/select-fields.ipynb).",
        "",
        "* Display only the `id` and `display_name` for a funder object\\",
        "  [`https://api.openalex.org/funders/F4320332161?select=id,display_name`](https://api.openalex.org/funders/F4320332161?select=id,display_name)"
      ]
    },
    {
      "cell_type": "code",
      "metadata": {},
      "source": [
        "response = funders_api.get_funder(",
        "\tselect=\"id,display_name\",",
        "\tid=\"F4320332161\"",
        ")",
        "",
        "print(json.dumps(response.to_dict(), indent=2))"
      ],
      "outputs": [],
      "execution_count": null
    }
  ],
  "metadata": {
    "kernelspec": {
      "display_name": "Python 3",
      "language": "python",
      "name": "python3"
    },
    "language_info": {
      "codemirror_mode": {
        "name": "ipython",
        "version": 3
      },
      "file_extension": ".py",
      "mimetype": "text/x-python",
      "name": "python",
      "pygments_lexer": "ipython3",
      "version": "3.8.5"
    }
  },
  "nbformat": 4,
  "nbformat_minor": 4
}