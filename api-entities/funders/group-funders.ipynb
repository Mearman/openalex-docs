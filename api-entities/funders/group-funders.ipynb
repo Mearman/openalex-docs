{
  "cells": [
    {
      "cell_type": "markdown",
      "metadata": {},
      "source": [
        "[![Open All Collab](https://colab.research.google.com/assets/colab-badge.svg)](https://colab.research.google.com/github/Mearman/openalex-docs/blob/main/api-entities/funders/group-funders.ipynb)"
      ]
    },
    {
      "cell_type": "code",
      "metadata": {},
      "source": [
        "%pip install --upgrade \"git+https://github.com/Mearman/openalex-python.git\""
      ],
      "outputs": [],
      "execution_count": null
    },
    {
      "cell_type": "code",
      "metadata": {},
      "source": [
        "import json",
        "from openalex_api import Configuration, ApiClient,AuthorsApi, ConceptsApi, FundersApi, InstitutionsApi, PublishersApi, SourcesApi, WorksApi",
        "",
        "configuration = Configuration(host=\"https://api.openalex.org\")",
        "authors_api = AuthorsApi(ApiClient(configuration))",
        "concepts_api = ConceptsApi(ApiClient(configuration))",
        "funders_api = FundersApi(ApiClient(configuration))",
        "institutions_api = InstitutionsApi(ApiClient(configuration))",
        "publishers_api = PublishersApi(ApiClient(configuration))",
        "sources_api = SourcesApi(ApiClient(configuration))",
        "works_api = WorksApi(ApiClient(configuration))"
      ],
      "outputs": [],
      "execution_count": null
    },
    {
      "cell_type": "markdown",
      "metadata": {},
      "source": [
        "# Group funders",
        "",
        "You can group funders with the `group_by` parameter:",
        "",
        "* Get counts of funders by [`country_code`](./funder-object.md#country_code):\\",
        "  [`https://api.openalex.org/funders?group_by=country_code`](https://api.openalex.org/funders?group_by=country_code)"
      ]
    },
    {
      "cell_type": "code",
      "metadata": {},
      "source": [
        "response = funders_api.get_funders(",
        "\tgroup_by=\"country_code\"",
        ")",
        "",
        "print(json.dumps(response.to_dict(), indent=2))"
      ],
      "outputs": [],
      "execution_count": null
    },
    {
      "cell_type": "markdown",
      "metadata": {},
      "source": [
        "Or you can group using one the attributes below.",
        "",
        "{% hint style=\"info\" %}",
        "It's best to [read about group by](./../../how-to-use-the-api/get-groups-of-entities.ipynb) before trying these out. It will show you how results are formatted, the number of results returned, and how to sort results.",
        "{% endhint %}",
        "",
        "### `/funders` group_by attributes",
        "",
        "* [`cited_by_count`](./funder-object.md#cited_by_count)",
        "* [`continent`](./filter-funders.md#continent)",
        "* [`country_code`](./funder-object.md#country_code)",
        "* [`grants_count`](./funder-object.md#grants_count)",
        "* [`is_global_south`](./filter-funders.md#is_global_south)",
        "* [`summary_stats.2yr_mean_citedness`](./funder-object.md#summary_stats)",
        "* [`summary_stats.h_index`](./funder-object.md#summary_stats)",
        "* [`summary_stats.i10_index`](./funder-object.md#summary_stats)",
        "* [`works_count`](./funder-object.md#works_count)"
      ]
    }
  ],
  "metadata": {
    "kernelspec": {
      "display_name": "Python 3",
      "language": "python",
      "name": "python3"
    },
    "language_info": {
      "codemirror_mode": {
        "name": "ipython",
        "version": 3
      },
      "file_extension": ".py",
      "mimetype": "text/x-python",
      "name": "python",
      "pygments_lexer": "ipython3",
      "version": "3.8.5"
    }
  },
  "nbformat": 4,
  "nbformat_minor": 4
}