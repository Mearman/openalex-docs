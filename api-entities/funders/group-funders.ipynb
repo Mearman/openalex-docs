{
  "cells": [
    {
      "cell_type": "markdown",
      "metadata": {},
      "source": [
        "[![GitHub Repository](https://img.shields.io/badge/GitHub-Repository-181717?style=for-the-badge&logo=GitHub&link=https://github.com/Mearman/openalex-docs)](https://github.com/Mearman/openalex-docs)[![Open in GitHub](https://img.shields.io/badge/Open%20in-GitHub-181717?style=for-the-badge&logo=github&link=https://github.com/Mearman/openalex-docs/blob/main/api-entities/funders/group-funders.ipynb)](https://github.com/Mearman/openalex-docs/blob/main/api-entities/funders/group-funders.ipynb)[![Open in Colab](https://img.shields.io/badge/Open%20in-Colab-F9AB00?style=for-the-badge&logo=Google%20Colab&link=https://colab.research.google.com/github/Mearman/openalex-docs/blob/main/api-entities/funders/group-funders.ipynb)](https://colab.research.google.com/github/Mearman/openalex-docs/blob/main/api-entities/funders/group-funders.ipynb)"
      ]
    },
    {
      "cell_type": "code",
      "metadata": {},
      "source": [
        "%pip install --upgrade \"git+https://github.com/Mearman/openalex-python.git\""
      ],
      "outputs": [],
      "execution_count": null
    },
    {
      "cell_type": "code",
      "metadata": {},
      "source": [
        "import pandas as pd\n",
        "import json\n",
        "from openalex_api import Configuration, ApiClient,AuthorsApi, ConceptsApi, FundersApi, InstitutionsApi, PublishersApi, SourcesApi, WorksApi\n",
        "\n",
        "configuration = Configuration(host=\"https://api.openalex.org\")\n",
        "authors_api = AuthorsApi(ApiClient(configuration))\n",
        "concepts_api = ConceptsApi(ApiClient(configuration))\n",
        "funders_api = FundersApi(ApiClient(configuration))\n",
        "institutions_api = InstitutionsApi(ApiClient(configuration))\n",
        "publishers_api = PublishersApi(ApiClient(configuration))\n",
        "sources_api = SourcesApi(ApiClient(configuration))\n",
        "works_api = WorksApi(ApiClient(configuration))"
      ],
      "outputs": [],
      "execution_count": null
    },
    {
      "cell_type": "markdown",
      "metadata": {},
      "source": [
        "# Group funders\n",
        "\n",
        "You can group funders with the `group_by` parameter:\n",
        "\n",
        "* Get counts of funders by [`country_code`](./funder-object.md#country_code):\\\n",
        "  [`https://api.openalex.org/funders?group_by=country_code`](https://api.openalex.org/funders?group_by=country_code)"
      ]
    },
    {
      "cell_type": "code",
      "metadata": {},
      "source": [
        "response = funders_api.get_funders(\n",
        "\tgroup_by=\"country_code\"\n",
        ")\n",
        "\n",
        "display(pd.DataFrame(response.results))"
      ],
      "outputs": [],
      "execution_count": null
    },
    {
      "cell_type": "markdown",
      "metadata": {},
      "source": [
        "Or you can group using one the attributes below.\n",
        "\n",
        "{% hint style=\"info\" %}\n",
        "It's best to [read about group by](./../../how-to-use-the-api/get-groups-of-entities.ipynb) before trying these out. It will show you how results are formatted, the number of results returned, and how to sort results.\n",
        "{% endhint %}\n",
        "\n",
        "### `/funders` group_by attributes\n",
        "\n",
        "* [`cited_by_count`](./funder-object.md#cited_by_count)\n",
        "* [`continent`](./filter-funders.md#continent)\n",
        "* [`country_code`](./funder-object.md#country_code)\n",
        "* [`grants_count`](./funder-object.md#grants_count)\n",
        "* [`is_global_south`](./filter-funders.md#is_global_south)\n",
        "* [`summary_stats.2yr_mean_citedness`](./funder-object.md#summary_stats)\n",
        "* [`summary_stats.h_index`](./funder-object.md#summary_stats)\n",
        "* [`summary_stats.i10_index`](./funder-object.md#summary_stats)\n",
        "* [`works_count`](./funder-object.md#works_count)"
      ]
    }
  ],
  "metadata": {
    "kernelspec": {
      "display_name": "Python 3",
      "language": "python",
      "name": "python3"
    },
    "language_info": {
      "codemirror_mode": {
        "name": "ipython",
        "version": 3
      },
      "file_extension": ".py",
      "mimetype": "text/x-python",
      "name": "python",
      "pygments_lexer": "ipython3",
      "version": "3.8.5"
    }
  },
  "nbformat": 4,
  "nbformat_minor": 4
}