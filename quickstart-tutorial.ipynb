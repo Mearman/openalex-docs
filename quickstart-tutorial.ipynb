{
  "cells": [
    {
      "cell_type": "markdown",
      "metadata": {},
      "source": [
        "[![Open All Collab](https://colab.research.google.com/assets/colab-badge.svg)](https://colab.research.google.com/github/Mearman/openalex-docs/blob/main/quickstart-tutorial.ipynb)\n",
        "\n"
      ]
    },
    {
      "cell_type": "code",
      "metadata": {},
      "source": [
        "%pip install --upgrade \"git+https://github.com/Mearman/openalex-python.git\"\n",
        "\n"
      ],
      "outputs": [],
      "execution_count": null
    },
    {
      "cell_type": "code",
      "metadata": {},
      "source": [
        "import json\n",
        "from openalex_api import Configuration, ApiClient,AuthorsApi, ConceptsApi, FundersApi, InstitutionsApi, PublishersApi, SourcesApi, WorksApi\n",
        "\n",
        "configuration = Configuration(host=\"https://api.openalex.org\")\n",
        "authors_api = AuthorsApi(ApiClient(configuration))\n",
        "concepts_api = ConceptsApi(ApiClient(configuration))\n",
        "funders_api = FundersApi(ApiClient(configuration))\n",
        "institutions_api = InstitutionsApi(ApiClient(configuration))\n",
        "publishers_api = PublishersApi(ApiClient(configuration))\n",
        "sources_api = SourcesApi(ApiClient(configuration))\n",
        "works_api = WorksApi(ApiClient(configuration))\n",
        "\n"
      ],
      "outputs": [],
      "execution_count": null
    },
    {
      "cell_type": "markdown",
      "metadata": {},
      "source": [
        "\n",
        "---\n",
        "description: Query the OpenAlex dataset using the magic of The Internet\n",
        "---\n",
        "\n",
        "# Quickstart tutorial\n",
        "\n",
        "Lets use the OpenAlex API to get journal articles and books published by authors at Stanford University. We'll limit our search to articles published between 2010 and 2020. Since OpenAlex is free and openly available, these examples work without any login or account creation. :thumbsup:\n",
        "\n",
        "{% hint style=\"info\" %}\n",
        "If you open these examples in a web browser, they will look _much_ better if you have a browser plug-in such as [JSONVue](https://chrome.google.com/webstore/detail/jsonvue/chklaanhfefbnpoihckbnefhakgolnmc) installed.\n",
        "{% endhint %}\n",
        "\n",
        "### 1. Find the institution&#x20;\n",
        "\n",
        "You can use the [institutions](api-entities/institutions/) endpoint to learn about universities and research centers. OpenAlex has a powerful search feature that searches across 108,000 institutions.\n",
        "\n",
        "Lets use it to search for Stanford University:\n",
        "\n",
        "* Find Stanford University\\\n",
        "  [`https://api.openalex.org/institutions?search=stanford`](https://api.openalex.org/institutions?search=stanford)\n",
        "\n"
      ]
    },
    {
      "cell_type": "code",
      "metadata": {},
      "source": [
        "response = institutions_api.get_institutions(\n",
        "\tsearch=\"stanford\"\n",
        ")\n",
        "\n",
        "print(json.dumps(response.to_dict(), indent=2))\n",
        "\n"
      ],
      "outputs": [],
      "execution_count": null
    },
    {
      "cell_type": "markdown",
      "metadata": {},
      "source": [
        "\n",
        "\n",
        "Our first result looks correct (yeah!):\n",
        "\n",
        "```json\n",
        "{\n",
        "  \"id\": \"https://openalex.org/I97018004\",\n",
        "  \"ror\": \"https://ror.org/00f54p054\",\n",
        "  \"display_name\": \"Stanford University\",\n",
        "  \"country_code\": \"US\",\n",
        "  \"type\": \"education\",\n",
        "  \"homepage_url\": \"http://www.stanford.edu/\"\n",
        "  // other fields removed\n",
        "}\n",
        "```\n",
        "\n",
        "We can use the ID `https://openalex.org/I97018004` in that result to find out more.\n",
        "\n",
        "### &#x20;2. Find articles (works) associated with Stanford University\n",
        "\n",
        "The [works](api-entities/works/) endpoint contains over 240 million articles, books, and theses :astonished:. We can filter to show works associated with Stanford.\n",
        "\n",
        "* Show works where at least one author is associated with Stanford University\\\n",
        "  [`https://api.openalex.org/works?filter=institutions.id:https://openalex.org/I97018004`](https://api.openalex.org/works?filter=institutions.id:https://openalex.org/I97018004)\n",
        "\n",
        "This is just one of the 50+ ways that you can filter works!\n",
        "\n",
        "### 3. Filter works by publication year\n",
        "\n",
        "Right now the list shows records for all years. Lets narrow it down to works that were published between 2010 to 2020, and sort from newest to oldest.\n",
        "\n",
        "\n"
      ]
    },
    {
      "cell_type": "code",
      "metadata": {},
      "source": [
        "response = works_api.get_works(\n",
        "\tfilter=\"institutions.id:https://openalex.org/I97018004\"\n",
        ")\n",
        "\n",
        "print(json.dumps(response.to_dict(), indent=2))\n",
        "\n"
      ],
      "outputs": [],
      "execution_count": null
    },
    {
      "cell_type": "markdown",
      "metadata": {},
      "source": [
        "\n",
        "* Show works with publication years 2010 to 2020, associated with Stanford University\\\n",
        "  [https://api.openalex.org/works?filter=institutions.id:https://openalex.org/I97018004,publication\\_year:2010-2020\\&sort=publication\\_date:desc](https://api.openalex.org/works?filter=institutions.id:https://openalex.org/I97018004,publication\\_year:2010-2020\\&sort=publication\\_date:desc)\n",
        "\n",
        "### 4. Group works by publication year to show counts by year\n",
        "\n",
        "Finally, you can group our result by publication year to get our final result, which is the number of articles produced by Stanford, by year from 2010 to 2020. There are more than 30 ways to group records in OpenAlex, including by publisher, journal, and open access status.\n",
        "\n",
        "* Group records by publication year\\\n",
        "  [`https://api.openalex.org/works?filter=institutions.id:https://openalex.org/I97018004,publication\\_year:2010-2020\\&group-by=publication\\_year`](https://api.openalex.org/works?filter=institutions.id:https://openalex.org/I97018004,publication\\_year:2010-2020\\&group-by=publication\\_year)\n",
        "\n",
        "That gives a result like this:\n",
        "\n",
        "```json\n",
        "[\n",
        "  {\n",
        "    \"key\": \"2020\",\n",
        "\n"
      ]
    },
    {
      "cell_type": "code",
      "metadata": {},
      "source": [
        "response = works_api.get_works(\n",
        "\tfilter=\"institutions.id:https://openalex.org/I97018004,publication_year:2010-2020\",\n",
        "\tsort=\"publication_date:desc\"\n",
        ")\n",
        "\n",
        "print(json.dumps(response.to_dict(), indent=2))\n",
        "\n"
      ],
      "outputs": [],
      "execution_count": null
    },
    {
      "cell_type": "markdown",
      "metadata": {},
      "source": [
        "\n",
        "    \"key_display_name\": \"2020\",\n",
        "    \"count\": 18627\n",
        "  },\n",
        "  {\n",
        "    \"key\": \"2019\",\n",
        "    \"key_display_name\": \"2019\",\n",
        "    \"count\": 15933\n",
        "\n"
      ]
    },
    {
      "cell_type": "code",
      "metadata": {},
      "source": [
        "response = works_api.get_works(\n",
        "\tfilter=\"institutions.id:https://openalex.org/I97018004,publication_year:2010-2020\",\n",
        "\tgroup-by=\"publication_year\"\n",
        ")\n",
        "\n",
        "print(json.dumps(response.to_dict(), indent=2))\n",
        "\n"
      ],
      "outputs": [],
      "execution_count": null
    },
    {
      "cell_type": "markdown",
      "metadata": {},
      "source": [
        "\n",
        "  },\n",
        "  {\n",
        "    \"key\": \"2017\",\n",
        "    \"key_display_name\": \"2017\",\n",
        "    \"count\": 14789\n",
        "  },\n",
        "  ...\n",
        "]\n",
        "```\n",
        "\n",
        "There you have it! This same technique can be applied to hundreds of questions around scholarly data. The data you received is under a [CC0 license](https://creativecommons.org/publicdomain/zero/1.0/), so not only did you access it easily, you can share it freely! :tada:\n",
        "\n",
        "## What's next?\n",
        "\n",
        "Jump into an area of OpenAlex that interests you:\n",
        "\n",
        "* [Works](api-entities/works/)\n",
        "* [Authors](api-entities/authors/)\n",
        "* [Sources](api-entities/sources/)\n",
        "* [Institutions](api-entities/institutions/)\n",
        "* [Concepts](api-entities/concepts/)\n",
        "* [Publishers](api-entities/publishers/)\n",
        "* [Funders](api-entities/funders/)\n",
        "\n",
        "And check out our [tutorials](additional-help/tutorials.md) page for some hands-on examples!\n"
      ]
    }
  ],
  "metadata": {
    "kernelspec": {
      "display_name": "Python 3",
      "language": "python",
      "name": "python3"
    },
    "language_info": {
      "codemirror_mode": {
        "name": "ipython",
        "version": 3
      },
      "file_extension": ".py",
      "mimetype": "text/x-python",
      "name": "python",
      "pygments_lexer": "ipython3",
      "version": "3.8.5"
    }
  },
  "nbformat": 4,
  "nbformat_minor": 4
}