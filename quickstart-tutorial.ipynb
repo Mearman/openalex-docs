{
  "cells": [
    {
      "cell_type": "markdown",
      "metadata": {},
      "source": [
        "[![Open All Collab](https://colab.research.google.com/assets/colab-badge.svg)](https://colab.research.google.com/github/Mearman/openalex-docs/blob/main/quickstart-tutorial.ipynb)"
      ]
    },
    {
      "cell_type": "code",
      "metadata": {},
      "source": [
        "%pip install --upgrade \"git+https://github.com/Mearman/openalex-python.git\""
      ],
      "outputs": [],
      "execution_count": null
    },
    {
      "cell_type": "code",
      "metadata": {},
      "source": [
        "import json",
        "from openalex_api import Configuration, ApiClient,AuthorsApi, ConceptsApi, FundersApi, InstitutionsApi, PublishersApi, SourcesApi, WorksApi",
        "",
        "configuration = Configuration(host=\"https://api.openalex.org\")",
        "authors_api = AuthorsApi(ApiClient(configuration))",
        "concepts_api = ConceptsApi(ApiClient(configuration))",
        "funders_api = FundersApi(ApiClient(configuration))",
        "institutions_api = InstitutionsApi(ApiClient(configuration))",
        "publishers_api = PublishersApi(ApiClient(configuration))",
        "sources_api = SourcesApi(ApiClient(configuration))",
        "works_api = WorksApi(ApiClient(configuration))"
      ],
      "outputs": [],
      "execution_count": null
    },
    {
      "cell_type": "markdown",
      "metadata": {},
      "source": [
        "# Quickstart tutorial",
        "",
        "Lets use the OpenAlex API to get journal articles and books published by authors at Stanford University. We'll limit our search to articles published between 2010 and 2020. Since OpenAlex is free and openly available, these examples work without any login or account creation. :thumbsup:",
        "",
        "{% hint style=\"info\" %}",
        "If you open these examples in a web browser, they will look _much_ better if you have a browser plug-in such as [JSONVue](https://chrome.google.com/webstore/detail/jsonvue/chklaanhfefbnpoihckbnefhakgolnmc) installed.",
        "{% endhint %}",
        "",
        "### 1. Find the institution&#x20;",
        "",
        "You can use the [institutions](./api-entities/institutions/README.ipynb) endpoint to learn about universities and research centers. OpenAlex has a powerful search feature that searches across 108,000 institutions.",
        "",
        "Lets use it to search for Stanford University:",
        "",
        "* Find Stanford University\\",
        "  [`https://api.openalex.org/institutions?search=stanford`](https://api.openalex.org/institutions?search=stanford)"
      ]
    },
    {
      "cell_type": "code",
      "metadata": {},
      "source": [
        "response = institutions_api.get_institutions(",
        "\tsearch=\"stanford\"",
        ")",
        "",
        "print(json.dumps(response.to_dict(), indent=2))"
      ],
      "outputs": [],
      "execution_count": null
    },
    {
      "cell_type": "markdown",
      "metadata": {},
      "source": [
        "Our first result looks correct (yeah!):",
        "",
        "```json",
        "{",
        "  \"id\": \"https://openalex.org/I97018004\",",
        "  \"ror\": \"https://ror.org/00f54p054\",",
        "  \"display_name\": \"Stanford University\",",
        "  \"country_code\": \"US\",",
        "  \"type\": \"education\",",
        "  \"homepage_url\": \"http://www.stanford.edu/\"",
        "  // other fields removed",
        "}",
        "```",
        "",
        "We can use the ID `https://openalex.org/I97018004` in that result to find out more.",
        "",
        "### &#x20;2. Find articles (works) associated with Stanford University",
        "",
        "The [works](./api-entities/works/README.ipynb) endpoint contains over 240 million articles, books, and theses :astonished:. We can filter to show works associated with Stanford.",
        "",
        "* Show works where at least one author is associated with Stanford University\\",
        "  [`https://api.openalex.org/works?filter=institutions.id:https://openalex.org/I97018004`](https://api.openalex.org/works?filter=institutions.id:https://openalex.org/I97018004)"
      ]
    },
    {
      "cell_type": "code",
      "metadata": {},
      "source": [
        "response = works_api.get_works(",
        "\tfilter=\"institutions.id:https://openalex.org/I97018004\"",
        ")",
        "",
        "print(json.dumps(response.to_dict(), indent=2))"
      ],
      "outputs": [],
      "execution_count": null
    },
    {
      "cell_type": "markdown",
      "metadata": {},
      "source": [
        "This is just one of the 50+ ways that you can filter works!",
        "",
        "### 3. Filter works by publication year",
        "",
        "Right now the list shows records for all years. Lets narrow it down to works that were published between 2010 to 2020, and sort from newest to oldest.",
        "",
        "* Show works with publication years 2010 to 2020, associated with Stanford University\\",
        "  [https://api.openalex.org/works?filter=institutions.id:https://openalex.org/I97018004,publication\\_year:2010-2020\\&sort=publication\\_date:desc](https://api.openalex.org/works?filter=institutions.id:https://openalex.org/I97018004,publication\\_year:2010-2020\\&sort=publication\\_date:desc)"
      ]
    },
    {
      "cell_type": "code",
      "metadata": {},
      "source": [
        "response = works_api.get_works(",
        "\tfilter=\"institutions.id:https://openalex.org/I97018004,publication_year:2010-2020\",",
        "\tsort=\"publication_date:desc\"",
        ")",
        "",
        "print(json.dumps(response.to_dict(), indent=2))"
      ],
      "outputs": [],
      "execution_count": null
    },
    {
      "cell_type": "markdown",
      "metadata": {},
      "source": [
        "### 4. Group works by publication year to show counts by year",
        "",
        "Finally, you can group our result by publication year to get our final result, which is the number of articles produced by Stanford, by year from 2010 to 2020. There are more than 30 ways to group records in OpenAlex, including by publisher, journal, and open access status.",
        "",
        "* Group records by publication year\\",
        "  [`https://api.openalex.org/works?filter=institutions.id:https://openalex.org/I97018004,publication\\_year:2010-2020\\&group-by=publication\\_year`](https://api.openalex.org/works?filter=institutions.id:https://openalex.org/I97018004,publication\\_year:2010-2020\\&group-by=publication\\_year)"
      ]
    },
    {
      "cell_type": "code",
      "metadata": {},
      "source": [
        "response = works_api.get_works(",
        "\tfilter=\"institutions.id:https://openalex.org/I97018004,publication_year:2010-2020\",",
        "\tgroup_by=\"publication_year\"",
        ")",
        "",
        "print(json.dumps(response.to_dict(), indent=2))"
      ],
      "outputs": [],
      "execution_count": null
    },
    {
      "cell_type": "markdown",
      "metadata": {},
      "source": [
        "That gives a result like this:",
        "",
        "```json",
        "[",
        "  {",
        "    \"key\": \"2020\",",
        "    \"key_display_name\": \"2020\",",
        "    \"count\": 18627",
        "  },",
        "  {",
        "    \"key\": \"2019\",",
        "    \"key_display_name\": \"2019\",",
        "    \"count\": 15933",
        "  },",
        "  {",
        "    \"key\": \"2017\",",
        "    \"key_display_name\": \"2017\",",
        "    \"count\": 14789",
        "  },",
        "  ...",
        "]",
        "```",
        "",
        "There you have it! This same technique can be applied to hundreds of questions around scholarly data. The data you received is under a [CC0 license](https://creativecommons.org/publicdomain/zero/1.0/), so not only did you access it easily, you can share it freely! :tada:",
        "",
        "## What's next?",
        "",
        "Jump into an area of OpenAlex that interests you:",
        "",
        "* [Works](./api-entities/works/README.ipynb)",
        "* [Authors](./api-entities/authors/README.ipynb)",
        "* [Sources](./api-entities/sources/README.ipynb)",
        "* [Institutions](./api-entities/institutions/README.ipynb)",
        "* [Concepts](./api-entities/concepts/README.ipynb)",
        "* [Publishers](./api-entities/publishers/README.ipynb)",
        "* [Funders](./api-entities/funders/README.ipynb)",
        "",
        "And check out our [tutorials](./additional-help/tutorials.md) page for some hands-on examples!"
      ]
    }
  ],
  "metadata": {
    "kernelspec": {
      "display_name": "Python 3",
      "language": "python",
      "name": "python3"
    },
    "language_info": {
      "codemirror_mode": {
        "name": "ipython",
        "version": 3
      },
      "file_extension": ".py",
      "mimetype": "text/x-python",
      "name": "python",
      "pygments_lexer": "ipython3",
      "version": "3.8.5"
    }
  },
  "nbformat": 4,
  "nbformat_minor": 4
}