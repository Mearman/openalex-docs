{
  "cells": [
    {
      "cell_type": "markdown",
      "metadata": {},
      "source": [
        "[![Open All Collab](https://colab.research.google.com/assets/colab-badge.svg)](https://colab.research.google.com/github/Mearman/openalex-docs/blob/main/how-to-use-the-api/get-single-entities/select-fields.ipynb)"
      ]
    },
    {
      "cell_type": "code",
      "metadata": {},
      "source": [
        "%pip install --upgrade \"git+https://github.com/Mearman/openalex-python.git\""
      ],
      "outputs": [],
      "execution_count": null
    },
    {
      "cell_type": "code",
      "metadata": {},
      "source": [
        "import json",
        "from openalex_api import Configuration, ApiClient,AuthorsApi, ConceptsApi, FundersApi, InstitutionsApi, PublishersApi, SourcesApi, WorksApi",
        "",
        "configuration = Configuration(host=\"https://api.openalex.org\")",
        "authors_api = AuthorsApi(ApiClient(configuration))",
        "concepts_api = ConceptsApi(ApiClient(configuration))",
        "funders_api = FundersApi(ApiClient(configuration))",
        "institutions_api = InstitutionsApi(ApiClient(configuration))",
        "publishers_api = PublishersApi(ApiClient(configuration))",
        "sources_api = SourcesApi(ApiClient(configuration))",
        "works_api = WorksApi(ApiClient(configuration))"
      ],
      "outputs": [],
      "execution_count": null
    },
    {
      "cell_type": "markdown",
      "metadata": {},
      "source": [
        "# Select fields",
        "",
        "You can use `select` to choose top-level fields you want to see in a result.",
        "",
        "* Display `id` and `display_name` for a work\\",
        "  [`https://api.openalex.org/works/W2138270253?select=id,display_name`](https://api.openalex.org/works/W2138270253?select=id,display_name)"
      ]
    },
    {
      "cell_type": "code",
      "metadata": {},
      "source": [
        "response = works_api.get_work(",
        "\tselect=\"id,display_name\",",
        "\tid=\"W2138270253\"",
        ")",
        "",
        "print(json.dumps(response.to_dict(), indent=2))"
      ],
      "outputs": [],
      "execution_count": null
    },
    {
      "cell_type": "markdown",
      "metadata": {},
      "source": [
        "```json",
        "{",
        "  id: \"https://openalex.org/W2138270253\",",
        "  display_name: \"DNA sequencing with chain-terminating inhibitors\"",
        "}",
        "```",
        "",
        "Read more about this feature [here](./../get-lists-of-entities/select-fields.ipynb)."
      ]
    }
  ],
  "metadata": {
    "kernelspec": {
      "display_name": "Python 3",
      "language": "python",
      "name": "python3"
    },
    "language_info": {
      "codemirror_mode": {
        "name": "ipython",
        "version": 3
      },
      "file_extension": ".py",
      "mimetype": "text/x-python",
      "name": "python",
      "pygments_lexer": "ipython3",
      "version": "3.8.5"
    }
  },
  "nbformat": 4,
  "nbformat_minor": 4
}