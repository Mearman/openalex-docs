{
  "cells": [
    {
      "cell_type": "markdown",
      "metadata": {},
      "source": [
        "[![Open All Collab](https://colab.research.google.com/assets/colab-badge.svg)](https://colab.research.google.com/github/Mearman/openalex-docs/blob/main/how-to-use-the-api/get-lists-of-entities/sample-entity-lists.ipynb)\n",
        "\n"
      ]
    },
    {
      "cell_type": "code",
      "metadata": {},
      "source": [
        "%pip install --upgrade \"git+https://github.com/Mearman/openalex-python.git\"\n",
        "\n"
      ],
      "outputs": []
    },
    {
      "cell_type": "code",
      "metadata": {},
      "source": [
        "import json\n",
        "from openalex_api import Configuration, ApiClient,AuthorsApi, ConceptsApi, FundersApi, InstitutionsApi, PublishersApi, SourcesApi, WorksApi\n",
        "\n",
        "configuration = Configuration(host=\"https://api.openalex.org\")\n",
        "authors_api = AuthorsApi(ApiClient(configuration))\n",
        "concepts_api = ConceptsApi(ApiClient(configuration))\n",
        "funders_api = FundersApi(ApiClient(configuration))\n",
        "institutions_api = InstitutionsApi(ApiClient(configuration))\n",
        "publishers_api = PublishersApi(ApiClient(configuration))\n",
        "sources_api = SourcesApi(ApiClient(configuration))\n",
        "works_api = WorksApi(ApiClient(configuration))\n",
        "\n"
      ],
      "outputs": []
    },
    {
      "cell_type": "markdown",
      "metadata": {},
      "source": [
        "\n",
        "# Sample entity lists\n",
        "\n",
        "You can use `sample` to get a random list of up to 10,000 results.\n",
        "\n",
        "* Get 100 random works\\\n",
        "  [https://api.openalex.org/works?sample=100\\&per-page=100](https://api.openalex.org/works?sample=100\\&per-page=100)\n",
        "\n"
      ]
    },
    {
      "cell_type": "code",
      "metadata": {},
      "source": [
        "response = works_api.get_works(\n",
        "\tsample=\"100\",\n",
        "\tper-page=\"100\"\n",
        ")\n",
        "\n",
        "print(json.dumps(response.to_dict(), indent=2))\n",
        "\n"
      ],
      "outputs": []
    },
    {
      "cell_type": "markdown",
      "metadata": {},
      "source": [
        "\n",
        "* Get 50 random works that are open access and published in 2021\\\n",
        "  [https://api.openalex.org/works?filter=open\\_access.is\\_oa:true,publication\\_year:2021\\&sample=50\\&per-page=50](https://api.openalex.org/works?filter=open\\_access.is\\_oa:true,publication\\_year:2021\\&sample=50\\&per-page=50)\n",
        "\n",
        "You can add a `seed` value in order to retrieve the same set of random records, in the same order, multiple times.\n",
        "\n",
        "* Get 20 random sources with a seed value\\\n",
        "  [https://api.openalex.org/sources?sample=20\\&seed=123](https://api.openalex.org/sources?sample=20\\&seed=123)\n",
        "\n",
        "\n"
      ]
    },
    {
      "cell_type": "code",
      "metadata": {},
      "source": [
        "response = works_api.get_works(\n",
        "\tfilter=\"open_access.is_oa:true,publication_year:2021\",\n",
        "\tsample=\"50\",\n",
        "\tper-page=\"50\"\n",
        ")\n",
        "\n",
        "print(json.dumps(response.to_dict(), indent=2))\n",
        "\n"
      ],
      "outputs": []
    },
    {
      "cell_type": "code",
      "metadata": {},
      "source": [
        "response = sources_api.get_sources(\n",
        "\tsample=\"20\",\n",
        "\tseed=\"123\"\n",
        ")\n",
        "\n",
        "print(json.dumps(response.to_dict(), indent=2))\n",
        "\n"
      ],
      "outputs": []
    },
    {
      "cell_type": "markdown",
      "metadata": {},
      "source": [
        "\n",
        "{% hint style=\"info\" %}\n",
        "Depending on your query, random results with a seed value _may_ change over time due to new records coming into OpenAlex.&#x20;\n",
        "{% endhint %}\n",
        "\n",
        "## Limitations\n",
        "\n",
        "* The sample size is limited to 10,000 results.\n",
        "* You must provide a `seed` value when paging beyond the first page of results. Without a seed value, you might get duplicate records in your results.\n",
        "* &#x20;You must use [basic paging](paging.md#basic-paging) when sampling. Cursor pagination is not supported.\n"
      ]
    }
  ],
  "metadata": {
    "kernelspec": {
      "display_name": "Python 3",
      "language": "python",
      "name": "python3"
    },
    "language_info": {
      "codemirror_mode": {
        "name": "ipython",
        "version": 3
      },
      "file_extension": ".py",
      "mimetype": "text/x-python",
      "name": "python",
      "pygments_lexer": "ipython3",
      "version": "3.8.5"
    }
  },
  "nbformat": 4,
  "nbformat_minor": 4
}