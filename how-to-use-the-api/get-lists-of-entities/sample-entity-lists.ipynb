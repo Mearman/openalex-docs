{
  "cells": [
    {
      "cell_type": "markdown",
      "metadata": {},
      "source": [
        "[![Open All Collab](https://colab.research.google.com/assets/colab-badge.svg)](https://colab.research.google.com/github/Mearman/openalex-docs/blob/main/how-to-use-the-api/get-lists-of-entities/sample-entity-lists.ipynb)"
      ]
    },
    {
      "cell_type": "code",
      "metadata": {},
      "source": [
        "%pip install --upgrade \"git+https://github.com/Mearman/openalex-python.git\""
      ],
      "outputs": [],
      "execution_count": null
    },
    {
      "cell_type": "code",
      "metadata": {},
      "source": [
        "import json",
        "from openalex_api import Configuration, ApiClient,AuthorsApi, ConceptsApi, FundersApi, InstitutionsApi, PublishersApi, SourcesApi, WorksApi",
        "",
        "configuration = Configuration(host=\"https://api.openalex.org\")",
        "authors_api = AuthorsApi(ApiClient(configuration))",
        "concepts_api = ConceptsApi(ApiClient(configuration))",
        "funders_api = FundersApi(ApiClient(configuration))",
        "institutions_api = InstitutionsApi(ApiClient(configuration))",
        "publishers_api = PublishersApi(ApiClient(configuration))",
        "sources_api = SourcesApi(ApiClient(configuration))",
        "works_api = WorksApi(ApiClient(configuration))"
      ],
      "outputs": [],
      "execution_count": null
    },
    {
      "cell_type": "markdown",
      "metadata": {},
      "source": [
        "# Sample entity lists",
        "",
        "You can use `sample` to get a random list of up to 10,000 results.",
        "",
        "* Get 100 random works\\",
        "  [https://api.openalex.org/works?sample=100\\&per-page=100](https://api.openalex.org/works?sample=100\\&per-page=100)"
      ]
    },
    {
      "cell_type": "code",
      "metadata": {},
      "source": [
        "response = works_api.get_works(",
        "\tsample=\"100\",",
        "\tper_page=\"100\"",
        ")",
        "",
        "print(json.dumps(response.to_dict(), indent=2))"
      ],
      "outputs": [],
      "execution_count": null
    },
    {
      "cell_type": "markdown",
      "metadata": {},
      "source": [
        "* Get 50 random works that are open access and published in 2021\\",
        "  [https://api.openalex.org/works?filter=open\\_access.is\\_oa:true,publication\\_year:2021\\&sample=50\\&per-page=50](https://api.openalex.org/works?filter=open\\_access.is\\_oa:true,publication\\_year:2021\\&sample=50\\&per-page=50)"
      ]
    },
    {
      "cell_type": "code",
      "metadata": {},
      "source": [
        "response = works_api.get_works(",
        "\tfilter=\"open_access.is_oa:true,publication_year:2021\",",
        "\tsample=\"50\",",
        "\tper_page=\"50\"",
        ")",
        "",
        "print(json.dumps(response.to_dict(), indent=2))"
      ],
      "outputs": [],
      "execution_count": null
    },
    {
      "cell_type": "markdown",
      "metadata": {},
      "source": [
        "You can add a `seed` value in order to retrieve the same set of random records, in the same order, multiple times.",
        "",
        "* Get 20 random sources with a seed value\\",
        "  [https://api.openalex.org/sources?sample=20\\&seed=123](https://api.openalex.org/sources?sample=20\\&seed=123)"
      ]
    },
    {
      "cell_type": "code",
      "metadata": {},
      "source": [
        "response = sources_api.get_sources(",
        "\tsample=\"20\",",
        "\tseed=\"123\"",
        ")",
        "",
        "print(json.dumps(response.to_dict(), indent=2))"
      ],
      "outputs": [],
      "execution_count": null
    },
    {
      "cell_type": "markdown",
      "metadata": {},
      "source": [
        "{% hint style=\"info\" %}",
        "Depending on your query, random results with a seed value _may_ change over time due to new records coming into OpenAlex.&#x20;",
        "{% endhint %}",
        "",
        "## Limitations",
        "",
        "* The sample size is limited to 10,000 results.",
        "* You must provide a `seed` value when paging beyond the first page of results. Without a seed value, you might get duplicate records in your results.",
        "* &#x20;You must use [basic paging](./paging.md#basic-paging) when sampling. Cursor pagination is not supported."
      ]
    }
  ],
  "metadata": {
    "kernelspec": {
      "display_name": "Python 3",
      "language": "python",
      "name": "python3"
    },
    "language_info": {
      "codemirror_mode": {
        "name": "ipython",
        "version": 3
      },
      "file_extension": ".py",
      "mimetype": "text/x-python",
      "name": "python",
      "pygments_lexer": "ipython3",
      "version": "3.8.5"
    }
  },
  "nbformat": 4,
  "nbformat_minor": 4
}