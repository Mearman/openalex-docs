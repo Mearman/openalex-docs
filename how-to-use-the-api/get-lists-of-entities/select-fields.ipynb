{
  "cells": [
    {
      "cell_type": "markdown",
      "metadata": {},
      "source": [
        "[![Open All Collab](https://colab.research.google.com/assets/colab-badge.svg)](https://colab.research.google.com/github/Mearman/openalex-docs/blob/main/how-to-use-the-api/get-lists-of-entities/select-fields.ipynb)\n",
        "\n"
      ]
    },
    {
      "cell_type": "code",
      "metadata": {},
      "source": [
        "%pip install --upgrade \"git+https://github.com/Mearman/openalex-python.git\"\n",
        "\n"
      ],
      "outputs": [],
      "execution_count": null
    },
    {
      "cell_type": "code",
      "metadata": {},
      "source": [
        "import json\n",
        "from openalex_api import Configuration, ApiClient,AuthorsApi, ConceptsApi, FundersApi, InstitutionsApi, PublishersApi, SourcesApi, WorksApi\n",
        "\n",
        "configuration = Configuration(host=\"https://api.openalex.org\")\n",
        "authors_api = AuthorsApi(ApiClient(configuration))\n",
        "concepts_api = ConceptsApi(ApiClient(configuration))\n",
        "funders_api = FundersApi(ApiClient(configuration))\n",
        "institutions_api = InstitutionsApi(ApiClient(configuration))\n",
        "publishers_api = PublishersApi(ApiClient(configuration))\n",
        "sources_api = SourcesApi(ApiClient(configuration))\n",
        "works_api = WorksApi(ApiClient(configuration))\n",
        "\n"
      ],
      "outputs": [],
      "execution_count": null
    },
    {
      "cell_type": "markdown",
      "metadata": {},
      "source": [
        "\n",
        "# Select fields\n",
        "\n",
        "You can use `select` to limit the fields that are returned in results.\n",
        "\n",
        "* Display works with only the `id`, `doi`, and `display_name` returned in the results\\\n",
        "  [`https://api.openalex.org/works?select=id,doi,display\\_name`](https://api.openalex.org/works?select=id,doi,display\\_name)\n",
        "\n"
      ]
    },
    {
      "cell_type": "code",
      "metadata": {},
      "source": [
        "response = works_api.get_works(\n",
        "\tselect=\"id,doi,display_name\"\n",
        ")\n",
        "\n",
        "print(json.dumps(response.to_dict(), indent=2))\n",
        "\n"
      ],
      "outputs": [],
      "execution_count": null
    },
    {
      "cell_type": "markdown",
      "metadata": {},
      "source": [
        "\n",
        "\n",
        "```json\n",
        "\"results\": [\n",
        "  {\n",
        "    \"id\": \"https://openalex.org/W1775749144\",\n",
        "    \"doi\": \"https://doi.org/10.1016/s0021-9258(19)52451-6\",\n",
        "    \"display_name\": \"PROTEIN MEASUREMENT WITH THE FOLIN PHENOL REAGENT\"\n",
        "  },\n",
        "  {\n",
        "    \"id\": \"https://openalex.org/W2100837269\",\n",
        "    \"doi\": \"https://doi.org/10.1038/227680a0\",\n",
        "    \"display_name\": \"Cleavage of Structural Proteins during the Assembly of the Head of Bacteriophage T4\"\n",
        "  },\n",
        "  // more results removed for brevity\n",
        "]\n",
        "```\n",
        "\n",
        "## Limitations\n",
        "\n",
        "The fields you choose must exist within the entity (of course). You can only select root-level fields.\n",
        "\n",
        "So if we have a record like so:\n",
        "\n",
        "```\n",
        "\"id\": \"https://openalex.org/W2138270253\",\n",
        "\"open_access\": {\n",
        "  \"is_oa\": true,\n",
        "  \"oa_status\": \"bronze\",\n",
        "  \"oa_url\": \"http://www.pnas.org/content/74/12/5463.full.pdf\"\n",
        "}\n",
        "```\n",
        "\n",
        "You can choose to display `id` and `open_access`, but you will get an error if you try to choose `open_access.is_oa`.\n",
        "\n",
        "You can use select fields when getting lists of entities or a [single entity](./../get-single-entities/select-fields.md). It does not work with [group-by](./../get-groups-of-entities.md) or [autocomplete](./autocomplete-entities.md).&#x20;\n"
      ]
    }
  ],
  "metadata": {
    "kernelspec": {
      "display_name": "Python 3",
      "language": "python",
      "name": "python3"
    },
    "language_info": {
      "codemirror_mode": {
        "name": "ipython",
        "version": 3
      },
      "file_extension": ".py",
      "mimetype": "text/x-python",
      "name": "python",
      "pygments_lexer": "ipython3",
      "version": "3.8.5"
    }
  },
  "nbformat": 4,
  "nbformat_minor": 4
}