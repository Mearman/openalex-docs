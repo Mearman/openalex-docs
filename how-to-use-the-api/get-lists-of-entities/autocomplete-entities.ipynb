{
  "cells": [
    {
      "cell_type": "markdown",
      "metadata": {},
      "source": [
        "[![GitHub Repository](https://img.shields.io/badge/GitHub-Repository-181717?style=for-the-badge&logo=GitHub&link=https://github.com/Mearman/openalex-docs)](https://github.com/Mearman/openalex-docs)[![Open in GitHub](https://img.shields.io/badge/Open%20in-GitHub-181717?style=for-the-badge&logo=github&link=https://github.com/Mearman/openalex-docs/blob/main/how-to-use-the-api/get-lists-of-entities/autocomplete-entities.ipynb)](https://github.com/Mearman/openalex-docs/blob/main/how-to-use-the-api/get-lists-of-entities/autocomplete-entities.ipynb)[![Open in Colab](https://img.shields.io/badge/Open%20in-Colab-F9AB00?style=for-the-badge&logo=Google%20Colab&link=https://colab.research.google.com/github/Mearman/openalex-docs/blob/main/how-to-use-the-api/get-lists-of-entities/autocomplete-entities.ipynb)](https://colab.research.google.com/github/Mearman/openalex-docs/blob/main/how-to-use-the-api/get-lists-of-entities/autocomplete-entities.ipynb)"
      ]
    },
    {
      "cell_type": "code",
      "metadata": {},
      "source": [
        "%pip install --upgrade \"git+https://github.com/Mearman/openalex-python-pydantic-v1.git\"\n",
        "%pip install pandasai"
      ],
      "outputs": [],
      "execution_count": null
    },
    {
      "cell_type": "code",
      "metadata": {},
      "source": [
        "import json\n",
        "import pandas as pd\n",
        "import numpy as np\n",
        "from openalex_api import Configuration, ApiClient,AuthorsApi, ConceptsApi, FundersApi, InstitutionsApi, PublishersApi, SourcesApi, WorksApi\n",
        "\n",
        "configuration = Configuration(host=\"https://api.openalex.org\")\n",
        "authors_api = AuthorsApi(ApiClient(configuration))\n",
        "concepts_api = ConceptsApi(ApiClient(configuration))\n",
        "funders_api = FundersApi(ApiClient(configuration))\n",
        "institutions_api = InstitutionsApi(ApiClient(configuration))\n",
        "publishers_api = PublishersApi(ApiClient(configuration))\n",
        "sources_api = SourcesApi(ApiClient(configuration))\n",
        "works_api = WorksApi(ApiClient(configuration))"
      ],
      "outputs": [],
      "execution_count": null
    },
    {
      "cell_type": "code",
      "metadata": {},
      "source": [
        "from pandasai import SmartDataframe\n",
        "from pandasai.llm import OpenAI"
      ],
      "outputs": [],
      "execution_count": null
    },
    {
      "cell_type": "code",
      "metadata": {},
      "source": [
        "openapi_token = \"\" # @param {type:\"string\"}"
      ],
      "outputs": [],
      "execution_count": null
    },
    {
      "cell_type": "markdown",
      "metadata": {},
      "source": [
        "# Autocomplete entities\n",
        "\n",
        "The autocomplete endpoint lets you add autocomplete or typeahead components to your applications, without the overhead of hosting your own API endpoint.&#x20;\n",
        "\n",
        "Each endpoint takes a string, and (very quickly) returns a list of entities that Match that string.\n",
        "\n",
        "Here's an example of an autocomplete component that lets users quickly select an institution:\n",
        "\n",
        "![A user looking for information on the flagship of Florida's state university system.](https://i.imgur.com/f8yyWCd.png)\n",
        "\n",
        "This is the query behind that result: [`https://api.openalex.org/autocomplete/institutions?q=flori`](https://api.openalex.org/autocomplete/institutions?q=flori)"
      ]
    },
    {
      "cell_type": "code",
      "metadata": {},
      "source": [
        "response = autocomplete_api.get_autocomplet(\n",
        "\tq=\"flori\",\n",
        "\tid=\"institutions\"\n",
        ")\n",
        "\n",
        "display(pd.DataFrame(response.results))"
      ],
      "outputs": [],
      "execution_count": null
    },
    {
      "cell_type": "code",
      "metadata": {},
      "source": [
        "try:\n",
        "\tprint(openapi_token)\n",
        "except:\n",
        "\traise Exception(\"Please provide an openapi_token\")\n",
        "\n",
        "df = pd.DataFrame(response.results)\n",
        "numeric_df = df.select_dtypes(include=[np.number])\n",
        "display(numeric_df)\n",
        "\n",
        "llm = OpenAI(api_token=openapi_token)\n",
        "sdf = SmartDataframe(numeric_df, config={\"llm\": llm})\n",
        "sdf.chat(\"Plot a chart of this data\")"
      ],
      "outputs": [],
      "execution_count": null
    },
    {
      "cell_type": "markdown",
      "metadata": {},
      "source": [
        "The autocomplete endpoint is very fast; queries generally return in around 200ms. If you'd like to see it in action, we're using a slightly-modified version of this endpoint in the OpenAlex website here: [https://explore.openalex.org/](https://explore.openalex.org/)\n",
        "\n",
        "## Request format\n",
        "\n",
        "The format for requests is simple: `/autocomplete/<entity_type>?q=<query>`\n",
        "\n",
        "* `entity_type` (optional): the name of one of the OpenAlex entities: `works`, `authors`, `sources`, `institutions`, `concepts`, `publishers`, or `funders`.\n",
        "* `query`: the search string supplied by the user.\n",
        "\n",
        "You can optionally [filter autocomplete results](./autocomplete-entities.md#filter-autocomplete-results).\n",
        "\n",
        "## Response format\n",
        "\n",
        "Each request returns a response object with two properties:\n",
        "\n",
        "* `meta`: an object with information about the request, including timing and results count\n",
        "* `results`: a list of up to ten results for the query, sorted by citation count. Each result represents an entity that matched against the query.\n",
        "\n",
        "```json\n",
        "{\n",
        "    meta: {\n",
        "        count: 183,\n",
        "        db_response_time_ms: 5,\n",
        "        page: 1,\n",
        "        per_page: 10\n",
        "    },\n",
        "    results: [\n",
        "        {\n",
        "            id: \"https://openalex.org/I33213144\",\n",
        "            display_name: \"University of Florida\",\n",
        "            hint: \"Gainesville, USA\",\n",
        "            cited_by_count: 17190001,\n",
        "            entity_type: \"institution\",\n",
        "            external_id: \"https://ror.org/02y3ad647\"\n",
        "        },\n",
        "        // more results...\n",
        "    ]\n",
        "}\n",
        "```\n",
        "\n",
        "Each object in the `results` list includes these properties:\n",
        "\n",
        "* `id` (string): The [OpenAlex ID](./../get-single-entities/README.md#the-openalex-id) for this result entity.\n",
        "* `external_id` (string): The [Canonical External ID](./../get-single-entities/README.md#canonical-external-ids) for this result entity.\n",
        "* `display_name` (string): The entity's `display_name` property.\n",
        "* `entity_type` (string): The entity's type: `author`, `concept`, `institution`, `source`, `publisher`, `funder`, or `work`.\n",
        "* `cited_by_count` (integer): The entity's `cited_by_count` property. For works this is simply the number of incoming citations. For other entities, it's the _sum_ of incoming citations for all the works linked to that entity.&#x20;\n",
        "* `works_count` (integer): The number of works associated with the entity. For entity type `work` it's always null.\n",
        "* `hint`: Some extra information that can help identify the right item. Differs by entity type.\n",
        "\n",
        "### The `hint` property\n",
        "\n",
        "Result objects have a `hint` property. You can show this to users to help them identify which item they're selecting. This is particularly helpful when the `display_name` values of different results are the same, as often happens when autocompleting an author entity--a user who types in `John Smi` is going to see a lot of identical-looking results, even though each one is a different person.\n",
        "\n",
        "The content of the `hint` property varies depending on what kind of entity you're looking up:\n",
        "\n",
        "* `Work`: The work's authors' display names, concatenated. e.g. \"R. Alexander Pyron, John J. Wiens\"\n",
        "* `Author`: The author's [last known institution](./../../api-entities/authors/author-object.md#last\\_known\\_institution), e.g. \"University of North Carolina at Chapel Hill, USA\"\n",
        "* `Source`: The `host_organization`, e.g. \"Oxford University Press\"\n",
        "* `Institution`: The institution's location, e.g. \"Gainesville, USA\"\n",
        "* `Concept`: The Concept's [description](./../../api-entities/concepts/concept-object.md#description), e.g. \"the study of relation between plant species and genera\"\n",
        "\n",
        "## IDs in autocomplete\n",
        "\n",
        "[Canonical External IDs](./../get-single-entities/README.md#canonical-external-ids) and [OpenAlex IDs](./../get-single-entities/README.md#the-openalex-id) are detected within autocomplete queries and matched to the appropriate record if it exists. For example:\n",
        "\n",
        "* The query [`https://api.openalex.org/autocomplete?q=https://orcid.org/0000-0002-7436-3176`](https://api.openalex.org/autocomplete?q=https://orcid.org/0000-0002-7436-3176) will search for the author with ORCID ID `https://orcid.org/0000-0002-7436-3176` and return 0 records if it does not exist."
      ]
    },
    {
      "cell_type": "code",
      "metadata": {},
      "source": [
        "response = autocomplete_api.get_autocomplete(\n",
        "\tq=\"https://orcid.org/0000-0002-7436-3176\"\n",
        ")\n",
        "\n",
        "display(pd.DataFrame(response.results))"
      ],
      "outputs": [],
      "execution_count": null
    },
    {
      "cell_type": "code",
      "metadata": {},
      "source": [
        "try:\n",
        "\tprint(openapi_token)\n",
        "except:\n",
        "\traise Exception(\"Please provide an openapi_token\")\n",
        "\n",
        "df = pd.DataFrame(response.results)\n",
        "numeric_df = df.select_dtypes(include=[np.number])\n",
        "display(numeric_df)\n",
        "\n",
        "llm = OpenAI(api_token=openapi_token)\n",
        "sdf = SmartDataframe(numeric_df, config={\"llm\": llm})\n",
        "sdf.chat(\"Plot a chart of this data\")"
      ],
      "outputs": [],
      "execution_count": null
    },
    {
      "cell_type": "markdown",
      "metadata": {},
      "source": [
        "* The query [`https://api.openalex.org/autocomplete/sources?q=S49861241`](https://api.openalex.org/autocomplete/sources?q=S49861241) will search for the source with OpenAlex ID `https://openalex.org/S49861241` and return 0 records if it does not exist."
      ]
    },
    {
      "cell_type": "code",
      "metadata": {},
      "source": [
        "response = autocomplete_api.get_autocomplet(\n",
        "\tq=\"S49861241\",\n",
        "\tid=\"sources\"\n",
        ")\n",
        "\n",
        "display(pd.DataFrame(response.results))"
      ],
      "outputs": [],
      "execution_count": null
    },
    {
      "cell_type": "code",
      "metadata": {},
      "source": [
        "try:\n",
        "\tprint(openapi_token)\n",
        "except:\n",
        "\traise Exception(\"Please provide an openapi_token\")\n",
        "\n",
        "df = pd.DataFrame(response.results)\n",
        "numeric_df = df.select_dtypes(include=[np.number])\n",
        "display(numeric_df)\n",
        "\n",
        "llm = OpenAI(api_token=openapi_token)\n",
        "sdf = SmartDataframe(numeric_df, config={\"llm\": llm})\n",
        "sdf.chat(\"Plot a chart of this data\")"
      ],
      "outputs": [],
      "execution_count": null
    },
    {
      "cell_type": "markdown",
      "metadata": {},
      "source": [
        "## Filter autocomplete results\n",
        "\n",
        "All entity [filters](./filter-entity-lists.ipynb) and [search](./search-entities.ipynb) queries can be added to autocomplete and work as expected, like:\n",
        "\n",
        "[`https://api.openalex.org/autocomplete/works?filter=publication_year:2010&search=frogs&q=greenhou`](https://api.openalex.org/autocomplete/works?filter=publication\\_year:2010\\&search=frogs\\&q=greenhou)"
      ]
    },
    {
      "cell_type": "code",
      "metadata": {},
      "source": [
        "response = autocomplete_api.get_autocomplet(\n",
        "\tfilter=\"publication_year:2010\",\n",
        "\tsearch=\"frogs\",\n",
        "\tq=\"greenhou\",\n",
        "\tid=\"works\"\n",
        ")\n",
        "\n",
        "display(pd.DataFrame(response.results))"
      ],
      "outputs": [],
      "execution_count": null
    },
    {
      "cell_type": "code",
      "metadata": {},
      "source": [
        "try:\n",
        "\tprint(openapi_token)\n",
        "except:\n",
        "\traise Exception(\"Please provide an openapi_token\")\n",
        "\n",
        "df = pd.DataFrame(response.results)\n",
        "numeric_df = df.select_dtypes(include=[np.number])\n",
        "display(numeric_df)\n",
        "\n",
        "llm = OpenAI(api_token=openapi_token)\n",
        "sdf = SmartDataframe(numeric_df, config={\"llm\": llm})\n",
        "sdf.chat(\"Plot a chart of this data\")"
      ],
      "outputs": [],
      "execution_count": null
    }
  ],
  "metadata": {
    "kernelspec": {
      "display_name": "Python 3",
      "language": "python",
      "name": "python3"
    },
    "language_info": {
      "codemirror_mode": {
        "name": "ipython",
        "version": 3
      },
      "file_extension": ".py",
      "mimetype": "text/x-python",
      "name": "python",
      "pygments_lexer": "ipython3",
      "version": "3.8.5"
    }
  },
  "nbformat": 4,
  "nbformat_minor": 4
}