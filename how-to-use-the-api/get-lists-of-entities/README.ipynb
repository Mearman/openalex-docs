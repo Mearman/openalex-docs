{
  "cells": [
    {
      "cell_type": "markdown",
      "metadata": {},
      "source": [
        "[![GitHub Repository](https://img.shields.io/badge/GitHub-Repository-181717?style=for-the-badge&logo=GitHub&link=https://github.com/Mearman/openalex-docs)](https://github.com/Mearman/openalex-docs)[![Open in GitHub](https://img.shields.io/badge/Open%20in-GitHub-181717?style=for-the-badge&logo=github&link=https://github.com/Mearman/openalex-docs/blob/main/how-to-use-the-api/get-lists-of-entities/README.ipynb)](https://github.com/Mearman/openalex-docs/blob/main/how-to-use-the-api/get-lists-of-entities/README.ipynb)[![Open in Colab](https://img.shields.io/badge/Open%20in-Colab-F9AB00?style=for-the-badge&logo=Google%20Colab&link=https://colab.research.google.com/github/Mearman/openalex-docs/blob/main/how-to-use-the-api/get-lists-of-entities/README.ipynb)](https://colab.research.google.com/github/Mearman/openalex-docs/blob/main/how-to-use-the-api/get-lists-of-entities/README.ipynb)"
      ]
    },
    {
      "cell_type": "code",
      "metadata": {},
      "source": [
        "%pip install --upgrade \"git+https://github.com/Mearman/openalex-python-pydantic-v1.git\"\n",
        "%pip install pandasai"
      ],
      "outputs": [],
      "execution_count": null
    },
    {
      "cell_type": "code",
      "metadata": {},
      "source": [
        "import json\n",
        "import pandas as pd\n",
        "from openalex_api import Configuration, ApiClient,AuthorsApi, ConceptsApi, FundersApi, InstitutionsApi, PublishersApi, SourcesApi, WorksApi\n",
        "\n",
        "configuration = Configuration(host=\"https://api.openalex.org\")\n",
        "authors_api = AuthorsApi(ApiClient(configuration))\n",
        "concepts_api = ConceptsApi(ApiClient(configuration))\n",
        "funders_api = FundersApi(ApiClient(configuration))\n",
        "institutions_api = InstitutionsApi(ApiClient(configuration))\n",
        "publishers_api = PublishersApi(ApiClient(configuration))\n",
        "sources_api = SourcesApi(ApiClient(configuration))\n",
        "works_api = WorksApi(ApiClient(configuration))"
      ],
      "outputs": [],
      "execution_count": null
    },
    {
      "cell_type": "code",
      "metadata": {},
      "source": [
        "from pandasai import SmartDataframe\n",
        "from pandasai.llm import OpenAI"
      ],
      "outputs": [],
      "execution_count": null
    },
    {
      "cell_type": "code",
      "metadata": {},
      "source": [
        "openapi_token = \"\" # @param {type:\"string\"}"
      ],
      "outputs": [],
      "execution_count": null
    },
    {
      "cell_type": "markdown",
      "metadata": {},
      "source": [
        "# Get lists of entities\n",
        "\n",
        "It's easy to get a list of entity objects from from the API:`/<entity_name>.` Here's an example:\n",
        "\n",
        "* Get a list of _all_ the concepts in OpenAlex:\\\n",
        "  [`https://api.openalex.org/concepts`](https://api.openalex.org/concepts)"
      ]
    },
    {
      "cell_type": "code",
      "metadata": {},
      "source": [
        "response = concepts_api.get_concepts(\n",
        "\t\n",
        ")\n",
        "\n",
        "display(pd.DataFrame(response.results))"
      ],
      "outputs": [],
      "execution_count": null
    },
    {
      "cell_type": "code",
      "metadata": {},
      "source": [
        "try:\n",
        "\topenapi_token\n",
        "\tif openapi_token:\n",
        "\t\tllm = OpenAI(token=openapi_token)\n",
        "\tdf = pd.DataFrame(response.results)\n",
        "\tsdf = SmartDataframe(df, config={\"llm\": llm})\n",
        "\tsdf.chat(\"Plot a chart of this data\")\n",
        "except:\n",
        "\traise Exception(\"Please provide an openapi_token\")"
      ],
      "outputs": [],
      "execution_count": null
    },
    {
      "cell_type": "markdown",
      "metadata": {},
      "source": [
        "This query returns a `meta` object with details about the query, a `results` list of [`Concept`](./../../api-entities/concepts/concept-object.ipynb) objects, and an empty [`group_by`](./../get-groups-of-entities.ipynb) list:\n",
        "\n",
        "```json\n",
        "meta: {\n",
        "    count: 65073,\n",
        "    db_response_time_ms: 81,\n",
        "    page: 1,\n",
        "    per_page: 25\n",
        "    },\n",
        "results: [\n",
        "    // long list of Concept entities\n",
        " ],\n",
        "group_by: [] // empty\n",
        "```\n",
        "\n",
        "Listing entities is a lot more useful when you add parameters to [page](./paging.ipynb), [filter](./filter-entity-lists.ipynb), [search](./search-entities.ipynb), and [sort](./sort-entity-lists.ipynb) them. Keep reading to learn how to do that."
      ]
    }
  ],
  "metadata": {
    "kernelspec": {
      "display_name": "Python 3",
      "language": "python",
      "name": "python3"
    },
    "language_info": {
      "codemirror_mode": {
        "name": "ipython",
        "version": 3
      },
      "file_extension": ".py",
      "mimetype": "text/x-python",
      "name": "python",
      "pygments_lexer": "ipython3",
      "version": "3.8.5"
    }
  },
  "nbformat": 4,
  "nbformat_minor": 4
}