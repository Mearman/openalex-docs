{
  "cells": [
    {
      "cell_type": "markdown",
      "metadata": {},
      "source": [
        "[![Open All Collab](https://colab.research.google.com/assets/colab-badge.svg)](https://colab.research.google.com/github/Mearman/openalex-docs/blob/main/how-to-use-the-api/get-groups-of-entities.ipynb)\n",
        "\n"
      ]
    },
    {
      "cell_type": "code",
      "metadata": {},
      "source": [
        "%pip install --upgrade \"git+https://github.com/Mearman/openalex-python.git\"\n",
        "\n"
      ],
      "outputs": [],
      "execution_count": null
    },
    {
      "cell_type": "code",
      "metadata": {},
      "source": [
        "import json\n",
        "from openalex_api import Configuration, ApiClient,AuthorsApi, ConceptsApi, FundersApi, InstitutionsApi, PublishersApi, SourcesApi, WorksApi\n",
        "\n",
        "configuration = Configuration(host=\"https://api.openalex.org\")\n",
        "authors_api = AuthorsApi(ApiClient(configuration))\n",
        "concepts_api = ConceptsApi(ApiClient(configuration))\n",
        "funders_api = FundersApi(ApiClient(configuration))\n",
        "institutions_api = InstitutionsApi(ApiClient(configuration))\n",
        "publishers_api = PublishersApi(ApiClient(configuration))\n",
        "sources_api = SourcesApi(ApiClient(configuration))\n",
        "works_api = WorksApi(ApiClient(configuration))\n",
        "\n"
      ],
      "outputs": [],
      "execution_count": null
    },
    {
      "cell_type": "markdown",
      "metadata": {},
      "source": [
        "\n",
        "# Get groups of entities\n",
        "\n",
        "Sometimes instead of just listing entities, you want to _group them_ into facets, and count how many entities are in each group. For example, maybe you want to count the number of `Works` by [open access status](../api-entities/works/work-object/#open\\_access). To do that, you call the entity endpoint, adding the `group_by` parameter. Example:\n",
        "\n",
        "* Get counts of works by type:\\\n",
        "  [`https://api.openalex.org/works?group_by=type`](https://api.openalex.org/works?group_by=type)\n",
        "\n"
      ]
    },
    {
      "cell_type": "code",
      "metadata": {},
      "source": [
        "response = works_api.get_works(\n",
        "\tgroup_by=\"type\"\n",
        ")\n",
        "\n",
        "print(json.dumps(response.to_dict(), indent=2))\n",
        "\n"
      ],
      "outputs": [],
      "execution_count": null
    },
    {
      "cell_type": "markdown",
      "metadata": {},
      "source": [
        "\n",
        "\n",
        "This returns a `meta` object with details about the query, and a `group_by` object with the groups you've asked for:\n",
        "\n",
        "```json\n",
        "{\n",
        "    meta: {\n",
        "        count: 246136992,\n",
        "        db_response_time_ms: 271,\n",
        "        page: 1,\n",
        "        per_page: 200,\n",
        "        groups_count: 15\n",
        "    },\n",
        "    group_by: [\n",
        "        {\n",
        "            key: \"article\",\n",
        "            key_display_name: \"article\",\n",
        "            count: 202814957\n",
        "        },\n",
        "        {\n",
        "            key: \"book-chapter\",\n",
        "            key_display_name: \"book-chapter\",\n",
        "            count: 21250659\n",
        "        },\n",
        "        {\n",
        "            key: \"dissertation\",\n",
        "            key_display_name: \"dissertation\",\n",
        "            count: 6055973\n",
        "        },\n",
        "        {\n",
        "            key: \"book\",\n",
        "            key_display_name: \"book\",\n",
        "            count: 5400871\n",
        "        },\n",
        "        ...\n",
        "    ]\n",
        "}\n",
        "```\n",
        "\n",
        "So from this we can see that the majority of works (202,814,957 of them) are type `article`, with another 21,250,659 `book-chapter`, and so forth.\n",
        "\n",
        "You can group by most of the same properties that you can [filter](get-lists-of-entities/filter-entity-lists.md) by, and you can combine grouping with filtering.\n",
        "\n",
        "## Group properties\n",
        "\n",
        "Each group object in the `group_by` list contains three properties:\n",
        "\n",
        "#### `key`\n",
        "\n",
        "Value: a string; the [OpenAlex ID](get-single-entities/#the-openalex-id) or raw value of the `group_by` parameter for members of this group. See details on [`key` and `key_display_name`](get-groups-of-entities.md#key-and-key\\_display\\_name).\n",
        "\n",
        "#### `key_display_name`\n",
        "\n",
        "Value: a string; the `display_name` or raw value of the `group_by` parameter for members of this group. See details on [`key` and `key_display_name`](get-groups-of-entities.md#key-and-key\\_display\\_name).\n",
        "\n",
        "#### `count`\n",
        "\n",
        "Value: an integer; the number of entities in the group.&#x20;\n",
        "\n",
        "## \"Unknown\" groups\n",
        "\n",
        "The \"unknown\" group is hidden by default. If you want to include this group in the response, add `:include_unknown` after the group-by parameter.\n",
        "\n",
        "* Group works by [`authorships.countries`](../api-entities/works/work-object/authorship-object.md#countries) (unknown group hidden):\\\n",
        "  [`https://api.openalex.org/works?group_by=authorships.countries`](https://api.openalex.org/works?group_by=authorships.countries)\n",
        "* Group works by [`authorships.countries`](../api-entities/works/work-object/authorship-object.md#countries) (includes unknown group):\\\n",
        "  [`https://api.openalex.org/works?group_by=authorships.countries:include_unknown`](https://api.openalex.org/works?group_by=authorships.countries:include_unknown)\n",
        "\n",
        "## `key` and `key_display_name`\n",
        "\n",
        "If the value being grouped by is an OpenAlex `Entity`, the [`key`](get-groups-of-entities.md#key) and [`key_display_name`](get-groups-of-entities.md#key\\_display\\_name) properties will be that `Entity`'s `id` and `display_name`, respectively.\n",
        "\n",
        "\n"
      ]
    },
    {
      "cell_type": "code",
      "metadata": {},
      "source": [
        "response = works_api.get_works(\n",
        "\tgroup_by=\"authorships.countries\"\n",
        ")\n",
        "\n",
        "print(json.dumps(response.to_dict(), indent=2))\n",
        "\n"
      ],
      "outputs": [],
      "execution_count": null
    },
    {
      "cell_type": "markdown",
      "metadata": {},
      "source": [
        "\n",
        "* Group `Works` by `Institution`:\\\n",
        "  [`https://api.openalex.org/works?group_by=authorships.institutions.id`](https://api.openalex.org/works?group\\_by=authorships.institutions.id)\n",
        "\n"
      ]
    },
    {
      "cell_type": "code",
      "metadata": {},
      "source": [
        "response = works_api.get_works(\n",
        "\tgroup_by=\"authorships.countries:include_unknown\"\n",
        ")\n",
        "\n",
        "print(json.dumps(response.to_dict(), indent=2))\n",
        "\n"
      ],
      "outputs": [],
      "execution_count": null
    },
    {
      "cell_type": "markdown",
      "metadata": {},
      "source": [
        "\n",
        "* For one group, `key` is \"[https://openalex.org/I136199984](https://openalex.org/I136199984)\" and `key_display_name` is \"Harvard University\".\n",
        "\n",
        "Otherwise, `key` is the same as `key_display_name`; both are the raw value of the `group_by` parameter for this group.\n",
        "\n",
        "* Group `Concepts` by [`level`](../api-entities/concepts/concept-object.md#level):\\\n",
        "  [`https://api.openalex.org/concepts?group_by=level`](https://api.openalex.org/concepts?group\\_by=level)\n",
        "* For one group, both `key` and `key_display_name` are \"3\".\n",
        "\n",
        "## Group-by `meta` properties\n",
        "\n",
        "`meta.count` is the total number of works (this will be all works if no filter is applied). `meta.groups_count` is the count of groups (in the current page).\n",
        "\n",
        "If there are no groups in the response, `meta.groups_count` is `null`.\n",
        "\n",
        "\n"
      ]
    },
    {
      "cell_type": "code",
      "metadata": {},
      "source": [
        "response = works_api.get_works(\n",
        "\tgroup_by=\"authorships.institutions.id\"\n",
        ")\n",
        "\n",
        "print(json.dumps(response.to_dict(), indent=2))\n",
        "\n"
      ],
      "outputs": [],
      "execution_count": null
    },
    {
      "cell_type": "markdown",
      "metadata": {},
      "source": [
        "\n",
        "Due to a technical limitation, we can only report the number of groups *in the current page,* and not the total number of groups.\n",
        "\n",
        "## Paging\n",
        "\n",
        "The maximum number of groups returned is 200. If you want to get more than 200 groups, you can use cursor pagination. This works the same as it does when getting lists of entities, so [head over to the section on paging through lists of results](./get-lists-of-entities/paging.md#cursor-paging) to learn how.\n",
        "\n",
        "Due to technical constraints, when paging, results are sorted by key, rather than by count.\n"
      ]
    }
  ],
  "metadata": {
    "kernelspec": {
      "display_name": "Python 3",
      "language": "python",
      "name": "python3"
    },
    "language_info": {
      "codemirror_mode": {
        "name": "ipython",
        "version": 3
      },
      "file_extension": ".py",
      "mimetype": "text/x-python",
      "name": "python",
      "pygments_lexer": "ipython3",
      "version": "3.8.5"
    }
  },
  "nbformat": 4,
  "nbformat_minor": 4
}