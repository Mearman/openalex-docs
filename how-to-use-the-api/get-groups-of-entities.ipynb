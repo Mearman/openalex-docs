{
  "cells": [
    {
      "cell_type": "markdown",
      "metadata": {},
      "source": [
        "[![GitHub Repository](https://img.shields.io/badge/GitHub-Repository-181717?style=for-the-badge&logo=GitHub&link=https://github.com/Mearman/openalex-docs/tree/develop)](https://github.com/Mearman/openalex-docs/tree/develop)[![Open in GitHub](https://img.shields.io/badge/Open%20in-GitHub-181717?style=for-the-badge&logo=github&link=https://github.com/Mearman/openalex-docs/blob/develop/how-to-use-the-api/get-groups-of-entities.ipynb)](https://github.com/Mearman/openalex-docs/blob/develop/how-to-use-the-api/get-groups-of-entities.ipynb)[![Open in Colab](https://img.shields.io/badge/Open%20in-Colab-F9AB00?style=for-the-badge&logo=Google%20Colab&link=https://colab.research.google.com/github/Mearman/openalex-docs/blob/develop/how-to-use-the-api/get-groups-of-entities.ipynb)](https://colab.research.google.com/github/Mearman/openalex-docs/blob/develop/how-to-use-the-api/get-groups-of-entities.ipynb)"
      ]
    },
    {
      "cell_type": "code",
      "metadata": {},
      "source": [
        "%pip install --upgrade \"git+https://github.com/Mearman/openalex-python-pydantic-v1.git\"\n",
        "%pip install pandasai"
      ],
      "outputs": [],
      "execution_count": null
    },
    {
      "cell_type": "code",
      "metadata": {},
      "source": [
        "import json\n",
        "import pandas as pd\n",
        "import numpy as np\n",
        "from openalex_api import Configuration, ApiClient, AutocompleteApi, AuthorsApi, ConceptsApi, FundersApi, InstitutionsApi, PublishersApi, SourcesApi, WorksApi\n",
        "\n",
        "configuration = Configuration(host=\"https://api.openalex.org\")\n",
        "autocomplete_api = AutocompleteApi(ApiClient(configuration))\n",
        "authors_api = AuthorsApi(ApiClient(configuration))\n",
        "concepts_api = ConceptsApi(ApiClient(configuration))\n",
        "funders_api = FundersApi(ApiClient(configuration))\n",
        "institutions_api = InstitutionsApi(ApiClient(configuration))\n",
        "publishers_api = PublishersApi(ApiClient(configuration))\n",
        "sources_api = SourcesApi(ApiClient(configuration))\n",
        "works_api = WorksApi(ApiClient(configuration))\n",
        "\n",
        "from pandasai import SmartDataframe\n",
        "from pandasai.llm import OpenAI"
      ],
      "outputs": [],
      "execution_count": null
    },
    {
      "cell_type": "code",
      "metadata": {},
      "source": [
        "# @title  { run: \"auto\", display-mode: \"form\" }\n",
        "openapi_token = \"\" # @param {type:\"string\"}"
      ],
      "outputs": [],
      "execution_count": null
    },
    {
      "cell_type": "markdown",
      "metadata": {},
      "source": [
        "# Get groups of entities\n",
        "\n",
        "Sometimes instead of just listing entities, you want to _group them_ into facets, and count how many entities are in each group. For example, maybe you want to count the number of `Works` by [open access status](./../api-entities/works/work-object/README.md#open_access). To do that, you call the entity endpoint, adding the `group_by` parameter. Example:\n",
        "\n",
        "* Get counts of works by type:\n",
        "  [`https://api.openalex.org/works?group_by=type`](https://api.openalex.org/works?group_by=type)"
      ]
    },
    {
      "cell_type": "code",
      "metadata": {},
      "source": [
        "# @title { run: \"auto\", vertical-output: false }\n",
        "# https://api.openalex.org/works?group_by=type\n",
        "group_by=\"type\" # @param {type: \"string\"}\n",
        "\n",
        "response = works_api.get_works(\n",
        "\tgroup_by=group_by\n",
        ")\n",
        "\n",
        "df = pd.DataFrame(response.group_by)\n",
        "display(df)"
      ],
      "outputs": [],
      "execution_count": null
    },
    {
      "cell_type": "code",
      "metadata": {},
      "source": [
        "numeric_df = df.set_index('key')\n",
        "display(numeric_df)"
      ],
      "outputs": [],
      "execution_count": null
    },
    {
      "cell_type": "code",
      "metadata": {},
      "source": [
        "try:\n",
        "\tprompt = \"Visualize this data\" # @param {type:\"string\"}\n",
        "\tSmartDataframe(\n",
        "\t\tnumeric_df,\n",
        "\t\tconfig={\"llm\": (OpenAI(api_token=openapi_token))},\n",
        "\t).chat(prompt)\n",
        "except:\n",
        "\tif not openapi_token:\n",
        "\t\tprint(\"Error: openapi_token not set\")\n",
        "\telse:\n",
        "\t\tprint(\"Error when creating SmartDataframe\")"
      ],
      "outputs": [],
      "execution_count": null
    },
    {
      "cell_type": "markdown",
      "metadata": {},
      "source": [
        "This returns a `meta` object with details about the query, and a `group_by` object with the groups you've asked for:\n",
        "\n",
        "```json\n",
        "{\n",
        "    meta: {\n",
        "        count: 246136992,\n",
        "        db_response_time_ms: 271,\n",
        "        page: 1,\n",
        "        per_page: 200,\n",
        "        groups_count: 15\n",
        "    },\n",
        "    group_by: [\n",
        "        {\n",
        "            key: \"article\",\n",
        "            key_display_name: \"article\",\n",
        "            count: 202814957\n",
        "        },\n",
        "        {\n",
        "            key: \"book-chapter\",\n",
        "            key_display_name: \"book-chapter\",\n",
        "            count: 21250659\n",
        "        },\n",
        "        {\n",
        "            key: \"dissertation\",\n",
        "            key_display_name: \"dissertation\",\n",
        "            count: 6055973\n",
        "        },\n",
        "        {\n",
        "            key: \"book\",\n",
        "            key_display_name: \"book\",\n",
        "            count: 5400871\n",
        "        },\n",
        "        ...\n",
        "    ]\n",
        "}\n",
        "```\n",
        "\n",
        "So from this we can see that the majority of works (202,814,957 of them) are type `article`, with another 21,250,659 `book-chapter`, and so forth.\n",
        "\n",
        "You can group by most of the same properties that you can [filter](./get-lists-of-entities/filter-entity-lists.ipynb) by, and you can combine grouping with filtering.\n",
        "\n",
        "## Group properties\n",
        "\n",
        "Each group object in the `group_by` list contains three properties:\n",
        "\n",
        "#### `key`\n",
        "\n",
        "Value: a string; the [OpenAlex ID](./get-single-entities/README.md#the-openalex-id) or raw value of the `group_by` parameter for members of this group. See details on [`key` and `key_display_name`](./get-groups-of-entities.md#key-and-key_display_name).\n",
        "\n",
        "#### `key_display_name`\n",
        "\n",
        "Value: a string; the `display_name` or raw value of the `group_by` parameter for members of this group. See details on [`key` and `key_display_name`](./get-groups-of-entities.md#key-and-key_display_name).\n",
        "\n",
        "#### `count`\n",
        "\n",
        "Value: an integer; the number of entities in the group.&#x20;\n",
        "\n",
        "## \"Unknown\" groups\n",
        "\n",
        "The \"unknown\" group is hidden by default. If you want to include this group in the response, add `:include_unknown` after the group-by parameter.\n",
        "\n",
        "* Group works by [`authorships.countries`](./../api-entities/works/work-object/authorship-object.md#countries) (unknown group hidden):\n",
        "  [`https://api.openalex.org/works?group_by=authorships.countries`](https://api.openalex.org/works?group_by=authorships.countries)"
      ]
    },
    {
      "cell_type": "code",
      "metadata": {},
      "source": [
        "# @title { run: \"auto\", vertical-output: false }\n",
        "# https://api.openalex.org/works?group_by=authorships.countries\n",
        "group_by=\"authorships.countries\" # @param {type: \"string\"}\n",
        "\n",
        "response = works_api.get_works(\n",
        "\tgroup_by=group_by\n",
        ")\n",
        "\n",
        "df = pd.DataFrame(response.group_by)\n",
        "display(df)"
      ],
      "outputs": [],
      "execution_count": null
    },
    {
      "cell_type": "code",
      "metadata": {},
      "source": [
        "numeric_df = df.set_index('key')\n",
        "display(numeric_df)"
      ],
      "outputs": [],
      "execution_count": null
    },
    {
      "cell_type": "code",
      "metadata": {},
      "source": [
        "try:\n",
        "\tprompt = \"Visualize this data\" # @param {type:\"string\"}\n",
        "\tSmartDataframe(\n",
        "\t\tnumeric_df,\n",
        "\t\tconfig={\"llm\": (OpenAI(api_token=openapi_token))},\n",
        "\t).chat(prompt)\n",
        "except:\n",
        "\tif not openapi_token:\n",
        "\t\tprint(\"Error: openapi_token not set\")\n",
        "\telse:\n",
        "\t\tprint(\"Error when creating SmartDataframe\")"
      ],
      "outputs": [],
      "execution_count": null
    },
    {
      "cell_type": "markdown",
      "metadata": {},
      "source": [
        "* Group works by [`authorships.countries`](./../api-entities/works/work-object/authorship-object.md#countries) (includes unknown group):\n",
        "  [`https://api.openalex.org/works?group_by=authorships.countries:include_unknown`](https://api.openalex.org/works?group_by=authorships.countries:include_unknown)"
      ]
    },
    {
      "cell_type": "code",
      "metadata": {},
      "source": [
        "# @title { run: \"auto\", vertical-output: false }\n",
        "# https://api.openalex.org/works?group_by=authorships.countries:include_unknown\n",
        "group_by=\"authorships.countries:include_unknown\" # @param {type: \"string\"}\n",
        "\n",
        "response = works_api.get_works(\n",
        "\tgroup_by=group_by\n",
        ")\n",
        "\n",
        "df = pd.DataFrame(response.group_by)\n",
        "display(df)"
      ],
      "outputs": [],
      "execution_count": null
    },
    {
      "cell_type": "code",
      "metadata": {},
      "source": [
        "numeric_df = df.set_index('key')\n",
        "display(numeric_df)"
      ],
      "outputs": [],
      "execution_count": null
    },
    {
      "cell_type": "code",
      "metadata": {},
      "source": [
        "try:\n",
        "\tprompt = \"Visualize this data\" # @param {type:\"string\"}\n",
        "\tSmartDataframe(\n",
        "\t\tnumeric_df,\n",
        "\t\tconfig={\"llm\": (OpenAI(api_token=openapi_token))},\n",
        "\t).chat(prompt)\n",
        "except:\n",
        "\tif not openapi_token:\n",
        "\t\tprint(\"Error: openapi_token not set\")\n",
        "\telse:\n",
        "\t\tprint(\"Error when creating SmartDataframe\")"
      ],
      "outputs": [],
      "execution_count": null
    },
    {
      "cell_type": "markdown",
      "metadata": {},
      "source": [
        "## `key` and `key_display_name`\n",
        "\n",
        "If the value being grouped by is an OpenAlex `Entity`, the [`key`](./get-groups-of-entities.md#key) and [`key_display_name`](./get-groups-of-entities.md#key_display_name) properties will be that `Entity`'s `id` and `display_name`, respectively.\n",
        "\n",
        "* Group `Works` by `Institution`:\n",
        "  [`https://api.openalex.org/works?group_by=authorships.institutions.id`](https://api.openalex.org/works?group_by=authorships.institutions.id)"
      ]
    },
    {
      "cell_type": "code",
      "metadata": {},
      "source": [
        "# @title { run: \"auto\", vertical-output: false }\n",
        "# https://api.openalex.org/works?group_by=authorships.institutions.id\n",
        "group_by=\"authorships.institutions.id\" # @param {type: \"string\"}\n",
        "\n",
        "response = works_api.get_works(\n",
        "\tgroup_by=group_by\n",
        ")\n",
        "\n",
        "df = pd.DataFrame(response.group_by)\n",
        "display(df)"
      ],
      "outputs": [],
      "execution_count": null
    },
    {
      "cell_type": "code",
      "metadata": {},
      "source": [
        "numeric_df = df.set_index('key')\n",
        "display(numeric_df)"
      ],
      "outputs": [],
      "execution_count": null
    },
    {
      "cell_type": "code",
      "metadata": {},
      "source": [
        "try:\n",
        "\tprompt = \"Visualize this data\" # @param {type:\"string\"}\n",
        "\tSmartDataframe(\n",
        "\t\tnumeric_df,\n",
        "\t\tconfig={\"llm\": (OpenAI(api_token=openapi_token))},\n",
        "\t).chat(prompt)\n",
        "except:\n",
        "\tif not openapi_token:\n",
        "\t\tprint(\"Error: openapi_token not set\")\n",
        "\telse:\n",
        "\t\tprint(\"Error when creating SmartDataframe\")"
      ],
      "outputs": [],
      "execution_count": null
    },
    {
      "cell_type": "markdown",
      "metadata": {},
      "source": [
        "* For one group, `key` is \"[https://openalex.org/I136199984](https://openalex.org/I136199984)\" and `key_display_name` is \"Harvard University\".\n",
        "\n",
        "Otherwise, `key` is the same as `key_display_name`; both are the raw value of the `group_by` parameter for this group.\n",
        "\n",
        "* Group `Concepts` by [`level`](./../api-entities/concepts/concept-object.md#level):\n",
        "  [`https://api.openalex.org/concepts?group_by=level`](https://api.openalex.org/concepts?group_by=level)"
      ]
    },
    {
      "cell_type": "code",
      "metadata": {},
      "source": [
        "# @title { run: \"auto\", vertical-output: false }\n",
        "# https://api.openalex.org/concepts?group_by=level\n",
        "group_by=\"level\" # @param {type: \"string\"}\n",
        "\n",
        "response = concepts_api.get_concepts(\n",
        "\tgroup_by=group_by\n",
        ")\n",
        "\n",
        "df = pd.DataFrame(response.group_by)\n",
        "display(df)"
      ],
      "outputs": [],
      "execution_count": null
    },
    {
      "cell_type": "code",
      "metadata": {},
      "source": [
        "numeric_df = df.set_index('key')\n",
        "display(numeric_df)"
      ],
      "outputs": [],
      "execution_count": null
    },
    {
      "cell_type": "code",
      "metadata": {},
      "source": [
        "try:\n",
        "\tprompt = \"Visualize this data\" # @param {type:\"string\"}\n",
        "\tSmartDataframe(\n",
        "\t\tnumeric_df,\n",
        "\t\tconfig={\"llm\": (OpenAI(api_token=openapi_token))},\n",
        "\t).chat(prompt)\n",
        "except:\n",
        "\tif not openapi_token:\n",
        "\t\tprint(\"Error: openapi_token not set\")\n",
        "\telse:\n",
        "\t\tprint(\"Error when creating SmartDataframe\")"
      ],
      "outputs": [],
      "execution_count": null
    },
    {
      "cell_type": "markdown",
      "metadata": {},
      "source": [
        "* For one group, both `key` and `key_display_name` are \"3\".\n",
        "\n",
        "## Group-by `meta` properties\n",
        "\n",
        "`meta.count` is the total number of works (this will be all works if no filter is applied). `meta.groups_count` is the count of groups (in the current page).\n",
        "\n",
        "If there are no groups in the response, `meta.groups_count` is `null`.\n",
        "\n",
        "Due to a technical limitation, we can only report the number of groups *in the current page,* and not the total number of groups.\n",
        "\n",
        "## Paging\n",
        "\n",
        "The maximum number of groups returned is 200. If you want to get more than 200 groups, you can use cursor pagination. This works the same as it does when getting lists of entities, so [head over to the section on paging through lists of results](./get-lists-of-entities/paging.md#cursor-paging) to learn how.\n",
        "\n",
        "Due to technical constraints, when paging, results are sorted by key, rather than by count."
      ]
    }
  ],
  "metadata": {
    "kernelspec": {
      "display_name": "Python 3",
      "language": "python",
      "name": "python3"
    },
    "language_info": {
      "codemirror_mode": {
        "name": "ipython",
        "version": 3
      },
      "file_extension": ".py",
      "mimetype": "text/x-python",
      "name": "python",
      "pygments_lexer": "ipython3",
      "version": "3.8.5"
    }
  },
  "nbformat": 4,
  "nbformat_minor": 4
}