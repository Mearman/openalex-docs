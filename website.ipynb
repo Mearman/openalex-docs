{
  "cells": [
    {
      "cell_type": "markdown",
      "metadata": {},
      "source": [
        "[![Open All Collab](https://colab.research.google.com/assets/colab-badge.svg)](https://colab.research.google.com/github/Mearman/openalex-docs/blob/main/website.ipynb)"
      ]
    },
    {
      "cell_type": "code",
      "metadata": {},
      "source": [
        "%pip install --upgrade \"git+https://github.com/Mearman/openalex-python.git\""
      ],
      "outputs": [],
      "execution_count": null
    },
    {
      "cell_type": "code",
      "metadata": {},
      "source": [
        "import json",
        "from openalex_api import Configuration, ApiClient,AuthorsApi, ConceptsApi, FundersApi, InstitutionsApi, PublishersApi, SourcesApi, WorksApi",
        "",
        "configuration = Configuration(host=\"https://api.openalex.org\")",
        "authors_api = AuthorsApi(ApiClient(configuration))",
        "concepts_api = ConceptsApi(ApiClient(configuration))",
        "funders_api = FundersApi(ApiClient(configuration))",
        "institutions_api = InstitutionsApi(ApiClient(configuration))",
        "publishers_api = PublishersApi(ApiClient(configuration))",
        "sources_api = SourcesApi(ApiClient(configuration))",
        "works_api = WorksApi(ApiClient(configuration))"
      ],
      "outputs": [],
      "execution_count": null
    },
    {
      "cell_type": "markdown",
      "metadata": {},
      "source": [
        "# Website",
        "",
        "The easiest way to explore the OpenAlex dataset is via the web interface. It allows you to search, filter, facet, and export OpenAlex entities, just like [the API](./api/README.md) does (in fact, it's built on our API), but without needing any technical knowledge.",
        "",
        "There's only one downside to the website: it's not actually done yet :).&#x20;",
        "",
        "In the meantime, there is a very basic webpage for each OpenAlex entity that you can view by following any OpenAlex ID. So for example, pasting this ID in your browser:",
        "",
        "[https://openalex.org/W2741809807](https://openalex.org/W2741809807)",
        "",
        "will take you to a webpage with the basic info we know about the entity.",
        "",
        "If you'd like to be notified of when the full website launches, please [join our mailing list](http://eepurl.com/hA8PhL).&#x20;",
        "",
        "## Content negotiation",
        "",
        "When you request an [Entity](./about-the-data/README.md) from openalex.org using its [OpenAlex ID](./about-the-data/README.md#the-openalex-id), you can specify the format you want it to be returned in. Two formats are supported:",
        "",
        "### 1. A web page, easy for people to read ([`text/html`](https://www.iana.org/assignments/media-types/text/html))",
        "",
        "Entity information can be displayed on a web page, like [https://explore.openalex.org/works/W2741809807](https://explore.openalex.org/works/W2741809807).",
        "",
        "#### **How to get a web page**:&#x20;",
        "",
        "* In a web browser, click OpenAlex ID or paste it into your location bar. Try clicking [https://openalex.org/W2741809807](https://openalex.org/W2741809807), for example.",
        "* In any client - [cURL](https://curl.se/), [Requests](https://docs.python-requests.org/en/latest/), web browsers and so on - don't request JSON in any of the ways outlined below.",
        "",
        "### 2. A [JSON](https://json.org) object, easy for computers to read ([`application/json`](https://www.iana.org/assignments/media-types/application/json))",
        "",
        "Entity information can be returned in JSON format, as from [https://api.openalex.org/W2741809807](https://api.openalex.org/W2741809807)."
      ]
    },
    {
      "cell_type": "code",
      "metadata": {},
      "source": [
        "response = W2741809807_api.get_W2741809807(",
        "\t",
        ")",
        "",
        "print(json.dumps(response.to_dict(), indent=2))"
      ],
      "outputs": [],
      "execution_count": null
    },
    {
      "cell_type": "markdown",
      "metadata": {},
      "source": [
        "#### **How to get JSON:**",
        "",
        "* Ask for `application/json` in your request's [Accept header](https://www.w3.org/Protocols/rfc2616/rfc2616-sec14.html#sec14.1). For example, using [cURL](https://curl.se/):&#x20;",
        "  * &#x20;`curl -L -H 'Accept: application/json' 'https://openalex.org/W2741809807'`",
        "* Add `.json` to the OpenAlex ID of the Entity. For example, [https://openalex.org/W2741809807.json](https://openalex.org/W2741809807.json) will give you a JSON object for [`Work`](./about-the-data/work.md) W2741809807, without regard to the client you're using or any request headers you send.",
        "",
        "##"
      ]
    }
  ],
  "metadata": {
    "kernelspec": {
      "display_name": "Python 3",
      "language": "python",
      "name": "python3"
    },
    "language_info": {
      "codemirror_mode": {
        "name": "ipython",
        "version": 3
      },
      "file_extension": ".py",
      "mimetype": "text/x-python",
      "name": "python",
      "pygments_lexer": "ipython3",
      "version": "3.8.5"
    }
  },
  "nbformat": 4,
  "nbformat_minor": 4
}