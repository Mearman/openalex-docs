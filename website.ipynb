{
  "cells": [
    {
      "cell_type": "markdown",
      "metadata": {},
      "source": [
        "[![Open All Collab](https://colab.research.google.com/assets/colab-badge.svg)](https://colab.research.google.com/github/Mearman/openalex-docs/blob/main/website.ipynb)"
      ]
    },
    {
      "cell_type": "code",
      "metadata": {},
      "source": [
        "%pip install --upgrade \"git+https://github.com/Mearman/openalex-python.git\""
      ],
      "outputs": [],
      "execution_count": null
    },
    {
      "cell_type": "code",
      "metadata": {},
      "source": [
        "import json\n",
        "from openalex_api import Configuration, ApiClient,AuthorsApi, ConceptsApi, FundersApi, InstitutionsApi, PublishersApi, SourcesApi, WorksApi\n",
        "\n",
        "configuration = Configuration(host=\"https://api.openalex.org\")\n",
        "authors_api = AuthorsApi(ApiClient(configuration))\n",
        "concepts_api = ConceptsApi(ApiClient(configuration))\n",
        "funders_api = FundersApi(ApiClient(configuration))\n",
        "institutions_api = InstitutionsApi(ApiClient(configuration))\n",
        "publishers_api = PublishersApi(ApiClient(configuration))\n",
        "sources_api = SourcesApi(ApiClient(configuration))\n",
        "works_api = WorksApi(ApiClient(configuration))"
      ],
      "outputs": [],
      "execution_count": null
    },
    {
      "cell_type": "markdown",
      "metadata": {},
      "source": [
        "# Website\n",
        "\n",
        "The easiest way to explore the OpenAlex dataset is via the web interface. It allows you to search, filter, facet, and export OpenAlex entities, just like [the API](./api/README.md) does (in fact, it's built on our API), but without needing any technical knowledge.\n",
        "\n",
        "There's only one downside to the website: it's not actually done yet :).&#x20;\n",
        "\n",
        "In the meantime, there is a very basic webpage for each OpenAlex entity that you can view by following any OpenAlex ID. So for example, pasting this ID in your browser:\n",
        "\n",
        "[https://openalex.org/W2741809807](https://openalex.org/W2741809807)\n",
        "\n",
        "will take you to a webpage with the basic info we know about the entity.\n",
        "\n",
        "If you'd like to be notified of when the full website launches, please [join our mailing list](http://eepurl.com/hA8PhL).&#x20;\n",
        "\n",
        "## Content negotiation\n",
        "\n",
        "When you request an [Entity](./about-the-data/README.md) from openalex.org using its [OpenAlex ID](./about-the-data/README.md#the-openalex-id), you can specify the format you want it to be returned in. Two formats are supported:\n",
        "\n",
        "### 1. A web page, easy for people to read ([`text/html`](https://www.iana.org/assignments/media-types/text/html))\n",
        "\n",
        "Entity information can be displayed on a web page, like [https://explore.openalex.org/works/W2741809807](https://explore.openalex.org/works/W2741809807).\n",
        "\n",
        "#### **How to get a web page**:&#x20;\n",
        "\n",
        "* In a web browser, click OpenAlex ID or paste it into your location bar. Try clicking [https://openalex.org/W2741809807](https://openalex.org/W2741809807), for example.\n",
        "* In any client - [cURL](https://curl.se/), [Requests](https://docs.python-requests.org/en/latest/), web browsers and so on - don't request JSON in any of the ways outlined below.\n",
        "\n",
        "### 2. A [JSON](https://json.org) object, easy for computers to read ([`application/json`](https://www.iana.org/assignments/media-types/application/json))\n",
        "\n",
        "Entity information can be returned in JSON format, as from [https://api.openalex.org/W2741809807](https://api.openalex.org/W2741809807)."
      ]
    },
    {
      "cell_type": "code",
      "metadata": {},
      "source": [
        "response = W2741809807_api.get_W2741809807(\n",
        "\t\n",
        ")\n",
        "\n",
        "print(json.dumps(response.to_dict(), indent=2))"
      ],
      "outputs": [],
      "execution_count": null
    },
    {
      "cell_type": "markdown",
      "metadata": {},
      "source": [
        "#### **How to get JSON:**\n",
        "\n",
        "* Ask for `application/json` in your request's [Accept header](https://www.w3.org/Protocols/rfc2616/rfc2616-sec14.html#sec14.1). For example, using [cURL](https://curl.se/):&#x20;\n",
        "  * &#x20;`curl -L -H 'Accept: application/json' 'https://openalex.org/W2741809807'`\n",
        "* Add `.json` to the OpenAlex ID of the Entity. For example, [https://openalex.org/W2741809807.json](https://openalex.org/W2741809807.json) will give you a JSON object for [`Work`](./about-the-data/work.md) W2741809807, without regard to the client you're using or any request headers you send.\n",
        "\n",
        "##"
      ]
    }
  ],
  "metadata": {
    "kernelspec": {
      "display_name": "Python 3",
      "language": "python",
      "name": "python3"
    },
    "language_info": {
      "codemirror_mode": {
        "name": "ipython",
        "version": 3
      },
      "file_extension": ".py",
      "mimetype": "text/x-python",
      "name": "python",
      "pygments_lexer": "ipython3",
      "version": "3.8.5"
    }
  },
  "nbformat": 4,
  "nbformat_minor": 4
}